{
 "cells": [
  {
   "cell_type": "code",
   "execution_count": 2,
   "metadata": {
    "collapsed": true
   },
   "outputs": [],
   "source": [
    "import json\n",
    "import random\n",
    "from pprint import pprint"
   ]
  },
  {
   "cell_type": "code",
   "execution_count": 24,
   "metadata": {
    "collapsed": false
   },
   "outputs": [],
   "source": [
    "with open('dictionary_unparsed.json') as f:\n",
    "    chunks = json.load(f)"
   ]
  },
  {
   "cell_type": "code",
   "execution_count": 25,
   "metadata": {
    "collapsed": false
   },
   "outputs": [
    {
     "data": {
      "text/plain": [
       "{'lex': 'аатгыр',\n",
       " 'paradigms': ['N-obl', 'N-nom-0', 'N-pl-te'],\n",
       " 'stem': '.аатгыр.|.аатгыр.|аатгыр.|аатгыр.',\n",
       " 'trans_ru': '1) ручей в овраге; 2) овраг'}"
      ]
     },
     "execution_count": 25,
     "metadata": {},
     "output_type": "execute_result"
    }
   ],
   "source": [
    "chunks[0]"
   ]
  },
  {
   "cell_type": "code",
   "execution_count": 26,
   "metadata": {
    "collapsed": false
   },
   "outputs": [
    {
     "data": {
      "text/plain": [
       "{'lex': 'аё',\n",
       " 'paradigms': ['N-obl', 'N-nom-0', 'N-pl-t'],\n",
       " 'stem': '.айва.|.айва.|аё.|айва.',\n",
       " 'trans_ru': 'головной мозг'}"
      ]
     },
     "execution_count": 26,
     "metadata": {},
     "output_type": "execute_result"
    }
   ],
   "source": [
    "chunks[10]"
   ]
  },
  {
   "cell_type": "code",
   "execution_count": 27,
   "metadata": {
    "collapsed": false
   },
   "outputs": [],
   "source": [
    "for ch in chunks:\n",
    "    ch['stem'] = list(map(lambda x: x.strip('.,;*()[]:&?! '), ch['stem'].split('|')))\n",
    "    ch['lex'] = ch['lex'].strip('.,;*()[]:&?! ')"
   ]
  },
  {
   "cell_type": "code",
   "execution_count": 28,
   "metadata": {
    "collapsed": false,
    "scrolled": true
   },
   "outputs": [
    {
     "data": {
      "text/plain": [
       "{'lex': 'аатгыр',\n",
       " 'paradigms': ['N-obl', 'N-nom-0', 'N-pl-te'],\n",
       " 'stem': ['аатгыр', 'аатгыр', 'аатгыр', 'аатгыр'],\n",
       " 'trans_ru': '1) ручей в овраге; 2) овраг'}"
      ]
     },
     "execution_count": 28,
     "metadata": {},
     "output_type": "execute_result"
    }
   ],
   "source": [
    "chunks[0]"
   ]
  },
  {
   "cell_type": "markdown",
   "metadata": {},
   "source": [
    "## iteration 1"
   ]
  },
  {
   "cell_type": "code",
   "execution_count": 22,
   "metadata": {
    "collapsed": false
   },
   "outputs": [
    {
     "data": {
      "text/plain": [
       "{'lex': 'аатгыр',\n",
       " 'paradigms': ['N-obl', 'N-nom-0', 'N-pl-te'],\n",
       " 'stem': ['аатгыр', 'аатгыр', 'аатгыр', 'аатгыр'],\n",
       " 'trans_ru': '1) ручей в овраге; 2) овраг'}"
      ]
     },
     "execution_count": 22,
     "metadata": {},
     "output_type": "execute_result"
    }
   ],
   "source": [
    "undone = list(range(len(chunks)))\n",
    "chunks[undone[0]]"
   ]
  },
  {
   "cell_type": "code",
   "execution_count": 9,
   "metadata": {
    "collapsed": true
   },
   "outputs": [],
   "source": [
    "first_a_class = []\n",
    "for i in undone:\n",
    "    if chunks[i]['stem'][0]==chunks[i]['stem'][2]==chunks[i]['stem'][3]:\n",
    "        if 'N-nom-0' in chunks[i]['paradigms'] and chunks[i]['lex']==chunks[i]['stem'][0]:\n",
    "            first_a_class.append(i)"
   ]
  },
  {
   "cell_type": "code",
   "execution_count": 10,
   "metadata": {
    "collapsed": false
   },
   "outputs": [
    {
     "data": {
      "text/plain": [
       "610"
      ]
     },
     "execution_count": 10,
     "metadata": {},
     "output_type": "execute_result"
    }
   ],
   "source": [
    "len(first_a_class)"
   ]
  },
  {
   "cell_type": "code",
   "execution_count": 32,
   "metadata": {
    "collapsed": false
   },
   "outputs": [
    {
     "data": {
      "text/plain": [
       "1784"
      ]
     },
     "execution_count": 32,
     "metadata": {},
     "output_type": "execute_result"
    }
   ],
   "source": [
    "first_a_class[399]"
   ]
  },
  {
   "cell_type": "code",
   "execution_count": 57,
   "metadata": {
    "collapsed": false,
    "scrolled": true
   },
   "outputs": [
    {
     "data": {
      "text/plain": [
       "{'lex': 'ятъёлтыноп',\n",
       " 'paradigms': ['N-obl', 'N-nom-0', 'N-pl-yt'],\n",
       " 'stem': ['ятъёлтыноп', 'ятъёлтыноп', 'ятъёлтыноп', 'ятъёлтыноп'],\n",
       " 'trans_ru': '* чёрно-бурая лиса'}"
      ]
     },
     "execution_count": 57,
     "metadata": {},
     "output_type": "execute_result"
    }
   ],
   "source": [
    "chunks[first_a_class[609]]"
   ]
  },
  {
   "cell_type": "code",
   "execution_count": 412,
   "metadata": {
    "collapsed": false
   },
   "outputs": [
    {
     "data": {
      "text/plain": [
       "2722"
      ]
     },
     "execution_count": 412,
     "metadata": {},
     "output_type": "execute_result"
    }
   ],
   "source": [
    "len(chunks)"
   ]
  },
  {
   "cell_type": "markdown",
   "metadata": {},
   "source": [
    "## iteration 2"
   ]
  },
  {
   "cell_type": "code",
   "execution_count": 413,
   "metadata": {
    "collapsed": false
   },
   "outputs": [
    {
     "data": {
      "text/plain": [
       "{'lex': 'авынральын',\n",
       " 'paradigms': ['N-obl', 'N-nom-n', 'N-pl-t'],\n",
       " 'stem': ['авынраль', 'авынраль', 'авынраль', 'авынраль'],\n",
       " 'trans_ru': 'хозяин'}"
      ]
     },
     "execution_count": 413,
     "metadata": {},
     "output_type": "execute_result"
    }
   ],
   "source": [
    "undone = sorted(set(undone)-set(first_a_class))\n",
    "chunks[undone[0]]"
   ]
  },
  {
   "cell_type": "code",
   "execution_count": 414,
   "metadata": {
    "collapsed": true
   },
   "outputs": [],
   "source": [
    "third_class = []\n",
    "for i in undone:\n",
    "    if chunks[i]['stem'][0]==chunks[i]['stem'][2]==chunks[i]['stem'][3]:\n",
    "        if 'N-nom-n' in chunks[i]['paradigms']:\n",
    "            if chunks[i]['lex']==chunks[i]['stem'][2]+'н' or chunks[i]['lex']==chunks[i]['stem'][2]+'ын':\n",
    "                third_class.append(i)"
   ]
  },
  {
   "cell_type": "code",
   "execution_count": 415,
   "metadata": {
    "collapsed": false
   },
   "outputs": [
    {
     "data": {
      "text/plain": [
       "1008"
      ]
     },
     "execution_count": 415,
     "metadata": {},
     "output_type": "execute_result"
    }
   ],
   "source": [
    "len(third_class)"
   ]
  },
  {
   "cell_type": "code",
   "execution_count": 416,
   "metadata": {
    "collapsed": false
   },
   "outputs": [
    {
     "name": "stdout",
     "output_type": "stream",
     "text": [
      "{'lex': 'қэтыңңон',\n",
      " 'paradigms': ['N-obl', 'N-nom-n', 'N-pl'],\n",
      " 'stem': ['қэтыңңон', 'қэтыңңон', 'қэтыңңон', 'қэтыңңон'],\n",
      " 'trans_ru': 'осень'}\n",
      "{'lex': 'лыганэн',\n",
      " 'paradigms': ['N-obl', 'N-nom-n', 'N-pl'],\n",
      " 'stem': ['лыганэн', 'лыганэн', 'лыганэн', 'лыганэн'],\n",
      " 'trans_ru': 'ошибка;'}\n",
      "{'lex': 'ңыраққлеккэн',\n",
      " 'paradigms': ['N-obl', 'N-nom-n', 'N-pl'],\n",
      " 'stem': ['ңыраққлеккэн', 'ңыраққлеккэн', 'ңыраққлеккэн', 'ңыраққлеккэн'],\n",
      " 'trans_ru': 'восемьдесят'}\n",
      "{'lex': 'ңыроққлеккэн',\n",
      " 'paradigms': ['N-obl', 'N-nom-n', 'N-pl'],\n",
      " 'stem': ['ңыроққлеккэн', 'ңыроққлеккэн', 'ңыроққлеккэн', 'ңыроққлеккэн'],\n",
      " 'trans_ru': 'шестьдесят'}\n",
      "{'lex': 'ңэръамытлыңэн',\n",
      " 'paradigms': ['N-obl', 'N-nom-n', 'N-pl'],\n",
      " 'stem': ['ңэръамытлыңэн', 'ңэръамытлыңэн', 'ңэръамытлыңэн', 'ңэръамытлыңэн'],\n",
      " 'trans_ru': 'семь'}\n",
      "{'lex': 'пынлён',\n",
      " 'paradigms': ['N-obl', 'N-nom-n', 'N-pl'],\n",
      " 'stem': ['пынлён', 'пынлён', 'пынлён', 'пынлён'],\n",
      " 'trans_ru': 'вопрос'}\n",
      "{'lex': 'пэгляръон',\n",
      " 'paradigms': ['N-obl', 'N-nom-n', 'N-pl'],\n",
      " 'stem': ['пэгляръон', 'пэгляръон', 'пэгляръон', 'пэгляръон'],\n",
      " 'trans_ru': 'стрельба, грохот'}\n",
      "{'lex': 'пэгчаткон',\n",
      " 'paradigms': ['N-obl', 'N-nom-n', 'N-pl'],\n",
      " 'stem': ['пэгчаткон', 'пэгчаткон', 'пэгчаткон', 'пэгчаткон'],\n",
      " 'trans_ru': '1) стук; 2) катер*'}\n",
      "{'lex': 'пэңэглян',\n",
      " 'paradigms': ['N-obl', 'N-nom-n', 'N-pl'],\n",
      " 'stem': ['пэңэглян', 'пэңэглян', 'пэңэглян', 'пэңэглян'],\n",
      " 'trans_ru': 'искра'}\n",
      "{'lex': 'пэран',\n",
      " 'paradigms': ['N-obl', 'N-nom-n', 'N-pl'],\n",
      " 'stem': ['пэран', 'пэран', 'пэран', 'пэран'],\n",
      " 'trans_ru': 'вид, образ'}\n",
      "{'lex': 'раквачан',\n",
      " 'paradigms': ['N-obl', 'N-nom-n', 'N-pl'],\n",
      " 'stem': ['раквачан', 'раквачан', 'раквачан', 'раквачан'],\n",
      " 'trans_ru': '1) гибель; 2) увечье'}\n",
      "{'lex': 'ратгэмавңэн',\n",
      " 'paradigms': ['N-obl', 'N-nom-n', 'N-pl'],\n",
      " 'stem': ['ратгэмавңэн', 'ратгэмавңэн', 'ратгэмавңэн', 'ратгэмавңэн'],\n",
      " 'trans_ru': 'не быть осведомлённым'}\n",
      "{'lex': 'рыгынтаквыргын',\n",
      " 'paradigms': ['N-obl', 'N-nom-n', 'N-pl'],\n",
      " 'stem': ['рыгынтаквыргын',\n",
      "          'рыгынтаквыргын',\n",
      "          'рыгынтаквыргын',\n",
      "          'рыгынтаквыргын'],\n",
      " 'trans_ru': '1) испуг; 2) похищение'}\n",
      "{'lex': 'рынрыян',\n",
      " 'paradigms': ['N-obl', 'N-nom-n', 'N-pl'],\n",
      " 'stem': ['рынрыян', 'рынрыян', 'рынрыян', 'рынрыян'],\n",
      " 'trans_ru': 'ручка (напр. у двери)'}\n",
      "{'lex': 'рыпын',\n",
      " 'paradigms': ['N-obl', 'N-nom-n', 'N-pl-te'],\n",
      " 'stem': ['рыпын', 'рыпын', 'рыпын', 'рыпын'],\n",
      " 'trans_ru': '(2) мездра'}\n",
      "{'lex': 'рыровэн',\n",
      " 'paradigms': ['N-obl', 'N-nom-n', 'N-pl'],\n",
      " 'stem': ['рыровэн', 'рыровэн', 'рыровэн', 'рыровэн'],\n",
      " 'trans_ru': 'даль'}\n",
      "{'lex': 'рырымэткон',\n",
      " 'paradigms': ['N-obl', 'N-nom-n', 'N-pl'],\n",
      " 'stem': ['рырымэткон', 'рырымэткон', 'рырымэткон', 'рырымэткон'],\n",
      " 'trans_ru': '1) перемена; 2) перестановка'}\n",
      "{'lex': 'таңпалёмтэлгыргын',\n",
      " 'paradigms': ['N-obl', 'N-nom-n', 'N-pl'],\n",
      " 'stem': ['таңпалёмтэлгыргын',\n",
      "          'таңпалёмтэлгыргын',\n",
      "          'таңпалёмтэлгыргын',\n",
      "          'таңпалёмтэлгыргын'],\n",
      " 'trans_ru': 'внимание'}\n",
      "{'lex': 'торымгон',\n",
      " 'paradigms': ['N-obl', 'N-nom-n', 'N-pl'],\n",
      " 'stem': ['торымгон', 'торымгон', 'торымгон', 'торымгон'],\n",
      " 'trans_ru': 'начало'}\n",
      "{'lex': 'тывъян',\n",
      " 'paradigms': ['N-obl', 'N-nom-n', 'N-pl'],\n",
      " 'stem': ['тывъян', 'тывъян', 'тывъян', 'тывъян'],\n",
      " 'trans_ru': 'название'}\n"
     ]
    }
   ],
   "source": [
    "for i in sorted(trd_diff)[20:40]:\n",
    "    pprint(chunks[i])"
   ]
  },
  {
   "cell_type": "markdown",
   "metadata": {},
   "source": [
    "## iteration 3"
   ]
  },
  {
   "cell_type": "code",
   "execution_count": 417,
   "metadata": {
    "collapsed": false
   },
   "outputs": [
    {
     "data": {
      "text/plain": [
       "{'lex': 'авээн',\n",
       " 'paradigms': ['N-obl', 'N-nom-0', 'N-pl-yt'],\n",
       " 'stem': ['авээнв', 'авээнв', 'авээн', 'авээнв'],\n",
       " 'trans_ru': 'пастбище'}"
      ]
     },
     "execution_count": 417,
     "metadata": {},
     "output_type": "execute_result"
    }
   ],
   "source": [
    "undone = sorted(set(undone)-set(third_class))\n",
    "chunks[undone[0]]"
   ]
  },
  {
   "cell_type": "code",
   "execution_count": 418,
   "metadata": {
    "collapsed": false
   },
   "outputs": [
    {
     "data": {
      "text/plain": [
       "1104"
      ]
     },
     "execution_count": 418,
     "metadata": {},
     "output_type": "execute_result"
    }
   ],
   "source": [
    "len(undone)"
   ]
  },
  {
   "cell_type": "code",
   "execution_count": 419,
   "metadata": {
    "collapsed": false
   },
   "outputs": [],
   "source": [
    "five_v_class = []\n",
    "for i in undone:\n",
    "    if len(chunks[i]['stem'])==4:\n",
    "        if chunks[i]['stem'][0]==chunks[i]['stem'][3]:\n",
    "            if chunks[i]['lex']==chunks[i]['stem'][2]:\n",
    "                if chunks[i]['stem'][0]==chunks[i]['lex']+'в':\n",
    "                    five_v_class.append(i)"
   ]
  },
  {
   "cell_type": "code",
   "execution_count": 420,
   "metadata": {
    "collapsed": false
   },
   "outputs": [
    {
     "data": {
      "text/plain": [
       "13"
      ]
     },
     "execution_count": 420,
     "metadata": {},
     "output_type": "execute_result"
    }
   ],
   "source": [
    "len(five_v_class)"
   ]
  },
  {
   "cell_type": "code",
   "execution_count": 421,
   "metadata": {
    "collapsed": false
   },
   "outputs": [
    {
     "data": {
      "text/plain": [
       "{'lex': 'ывэнтыян',\n",
       " 'paradigms': ['N-obl', 'N-nom-n', 'N-pl-yt'],\n",
       " 'stem': ['ывэнтыянв', 'ывэнтыянв', 'ывэнтыян', 'ывэнтыянв'],\n",
       " 'trans_ru': 'топка (у печи)'}"
      ]
     },
     "execution_count": 421,
     "metadata": {},
     "output_type": "execute_result"
    }
   ],
   "source": [
    "chunks[five_v_class[12]]"
   ]
  },
  {
   "cell_type": "markdown",
   "metadata": {},
   "source": [
    "## iteration 4"
   ]
  },
  {
   "cell_type": "code",
   "execution_count": 422,
   "metadata": {
    "collapsed": false
   },
   "outputs": [
    {
     "data": {
      "text/plain": [
       "{'lex': 'агнотваны',\n",
       " 'paradigms': ['N-obl', 'N-nom-0', 'N-pl-yt'],\n",
       " 'stem': ['агнотванв', 'агнотванв', 'агнотваны', 'агнотванв'],\n",
       " 'trans_ru': 'лежбище моржей'}"
      ]
     },
     "execution_count": 422,
     "metadata": {},
     "output_type": "execute_result"
    }
   ],
   "source": [
    "undone = sorted(set(undone)-set(five_v_class))\n",
    "chunks[undone[0]]"
   ]
  },
  {
   "cell_type": "code",
   "execution_count": 423,
   "metadata": {
    "collapsed": false
   },
   "outputs": [],
   "source": [
    "five_v_reduced_class = []\n",
    "for i in undone:\n",
    "    if len(chunks[i]['stem'])==4:\n",
    "        if chunks[i]['stem'][0]==chunks[i]['stem'][3]:\n",
    "            if chunks[i]['lex']==chunks[i]['stem'][2]:\n",
    "                if chunks[i]['stem'][0]==chunks[i]['lex'][:-1]+'в':\n",
    "                    if chunks[i]['lex']==chunks[i]['stem'][0][:-1]+'ы':\n",
    "                        five_v_reduced_class.append(i)"
   ]
  },
  {
   "cell_type": "code",
   "execution_count": 424,
   "metadata": {
    "collapsed": false
   },
   "outputs": [
    {
     "data": {
      "text/plain": [
       "4"
      ]
     },
     "execution_count": 424,
     "metadata": {},
     "output_type": "execute_result"
    }
   ],
   "source": [
    "len(five_v_reduced_class)"
   ]
  },
  {
   "cell_type": "code",
   "execution_count": 425,
   "metadata": {
    "collapsed": false
   },
   "outputs": [
    {
     "name": "stdout",
     "output_type": "stream",
     "text": [
      "{'lex': 'агнотваны',\n",
      " 'paradigms': ['N-obl', 'N-nom-0', 'N-pl-yt'],\n",
      " 'stem': ['агнотванв', 'агнотванв', 'агнотваны', 'агнотванв'],\n",
      " 'trans_ru': 'лежбище моржей'}\n",
      "{'lex': 'ваны',\n",
      " 'paradigms': ['N-obl', 'N-nom-0', 'N-pl-yt'],\n",
      " 'stem': ['ванв', 'ванв', 'ваны', 'ванв'],\n",
      " 'trans_ru': 'место'}\n",
      "{'lex': 'вины',\n",
      " 'paradigms': ['N-obl', 'N-nom-0', 'N-pl-yt'],\n",
      " 'stem': ['винв', 'вэнв', 'вины', 'винв'],\n",
      " 'trans_ru': 'след'}\n",
      "{'lex': 'вэлыткованы',\n",
      " 'paradigms': ['N-obl', 'N-nom-0', 'N-pl-yt'],\n",
      " 'stem': ['вэлыткованв', 'вэлыткованв', 'вэлыткованы', 'вэлыткованв'],\n",
      " 'trans_ru': 'ярмарка'}\n"
     ]
    }
   ],
   "source": [
    "for i in five_v_reduced_class:\n",
    "    pprint(chunks[i])"
   ]
  },
  {
   "cell_type": "markdown",
   "metadata": {},
   "source": [
    "## iteration 5"
   ]
  },
  {
   "cell_type": "code",
   "execution_count": 426,
   "metadata": {
    "collapsed": false
   },
   "outputs": [
    {
     "name": "stdout",
     "output_type": "stream",
     "text": [
      "1087\n"
     ]
    },
    {
     "data": {
      "text/plain": [
       "{'lex': 'аё',\n",
       " 'paradigms': ['N-obl', 'N-nom-0', 'N-pl-t'],\n",
       " 'stem': ['айва', 'айва', 'аё', 'айва'],\n",
       " 'trans_ru': 'головной мозг'}"
      ]
     },
     "execution_count": 426,
     "metadata": {},
     "output_type": "execute_result"
    }
   ],
   "source": [
    "undone = sorted(set(undone)-set(five_v_reduced_class))\n",
    "print(len(undone))\n",
    "chunks[undone[0]]"
   ]
  },
  {
   "cell_type": "code",
   "execution_count": 427,
   "metadata": {
    "collapsed": false
   },
   "outputs": [
    {
     "data": {
      "text/plain": [
       "42"
      ]
     },
     "execution_count": 427,
     "metadata": {},
     "output_type": "execute_result"
    }
   ],
   "source": [
    "# но сейчас я займусь другим\n",
    "third_or_five_v_class = []\n",
    "for i in undone:\n",
    "    if len(chunks[i]['stem'])==4:\n",
    "        if chunks[i]['stem'][0]==chunks[i]['stem'][3]:\n",
    "            if chunks[i]['lex']==chunks[i]['stem'][2]+'н' or chunks[i]['lex']==chunks[i]['stem'][2]+'ын':\n",
    "                if chunks[i]['stem'][0]==chunks[i]['lex']+'в':\n",
    "                    third_or_five_v_class.append(i)\n",
    "\n",
    "len(third_or_five_v_class)"
   ]
  },
  {
   "cell_type": "markdown",
   "metadata": {},
   "source": [
    "## iteration 6"
   ]
  },
  {
   "cell_type": "code",
   "execution_count": 428,
   "metadata": {
    "collapsed": false
   },
   "outputs": [
    {
     "name": "stdout",
     "output_type": "stream",
     "text": [
      "1045\n"
     ]
    },
    {
     "data": {
      "text/plain": [
       "{'lex': 'аёпычьылгын',\n",
       " 'paradigms': ['N-obl', 'N-nom-lgyn', 'N-pl-yt'],\n",
       " 'stem': ['эюпычь', 'аёпычь', 'аёпычьы', 'эюпычь'],\n",
       " 'trans_ru': 'колючка'}"
      ]
     },
     "execution_count": 428,
     "metadata": {},
     "output_type": "execute_result"
    }
   ],
   "source": [
    "undone = sorted(set(undone)-set(third_or_five_v_class))\n",
    "print(len(undone))\n",
    "chunks[undone[1]]"
   ]
  },
  {
   "cell_type": "code",
   "execution_count": 429,
   "metadata": {
    "collapsed": false
   },
   "outputs": [
    {
     "data": {
      "text/plain": [
       "170"
      ]
     },
     "execution_count": 429,
     "metadata": {},
     "output_type": "execute_result"
    }
   ],
   "source": [
    "singulative_lgyn_class = []\n",
    "for i in undone:\n",
    "    if len(chunks[i]['stem'])==4:\n",
    "        if chunks[i]['stem'][0]==chunks[i]['stem'][3]:\n",
    "            if 'N-nom-lgyn' in chunks[i]['paradigms']:\n",
    "                if chunks[i]['lex']==chunks[i]['stem'][2]+'лгын':\n",
    "                    if chunks[i]['stem'][1]==chunks[i]['stem'][2] or chunks[i]['stem'][2]==chunks[i]['stem'][1]+'ы':\n",
    "                        singulative_lgyn_class.append(i)\n",
    "\n",
    "len(singulative_lgyn_class)"
   ]
  },
  {
   "cell_type": "markdown",
   "metadata": {},
   "source": [
    "## iteration 7"
   ]
  },
  {
   "cell_type": "code",
   "execution_count": 430,
   "metadata": {
    "collapsed": false
   },
   "outputs": [
    {
     "name": "stdout",
     "output_type": "stream",
     "text": [
      "875\n"
     ]
    },
    {
     "data": {
      "text/plain": [
       "{'lex': 'айван',\n",
       " 'paradigms': ['N-obl', 'N-nom-n', 'N-pl-yt'],\n",
       " 'stem': ['айваналь', 'айваналь', 'айва.//.айваналь', 'айваналь'],\n",
       " 'trans_ru': 'эскимос'}"
      ]
     },
     "execution_count": 430,
     "metadata": {},
     "output_type": "execute_result"
    }
   ],
   "source": [
    "undone = sorted(set(undone)-set(singulative_lgyn_class))\n",
    "print(len(undone))\n",
    "chunks[undone[1]]"
   ]
  },
  {
   "cell_type": "code",
   "execution_count": 431,
   "metadata": {
    "collapsed": false
   },
   "outputs": [
    {
     "name": "stdout",
     "output_type": "stream",
     "text": [
      "{'lex': 'аё',\n",
      " 'paradigms': ['N-obl', 'N-nom-0', 'N-pl-t'],\n",
      " 'stem': ['айва', 'айва', 'аё', 'айва'],\n",
      " 'trans_ru': 'головной мозг'}\n",
      "{'lex': 'айван',\n",
      " 'paradigms': ['N-obl', 'N-nom-n', 'N-pl-yt'],\n",
      " 'stem': ['айваналь', 'айваналь', 'айва.//.айваналь', 'айваналь'],\n",
      " 'trans_ru': 'эскимос'}\n",
      "{'lex': 'айватлён',\n",
      " 'paradigms': ['N-obl', 'N-nom-n', 'N-pl'],\n",
      " 'stem': ['айватлён//айватрон',\n",
      "          'айватлён//айватрон',\n",
      "          'айватлён//айватрон',\n",
      "          'айватлён//айватрон'],\n",
      " 'trans_ru': 'левая от входа сторона полога'}\n",
      "{'lex': 'айголяткэгыргын',\n",
      " 'paradigms': ['N-obl', 'N-nom-n', 'N-pl'],\n",
      " 'stem': ['айголяткэгыргын',\n",
      "          'айголяткэгыргын',\n",
      "          'айголяткэгыргын',\n",
      "          'айголяткэгыргын'],\n",
      " 'trans_ru': 'невежество'}\n",
      "{'lex': 'айкол',\n",
      " 'paradigms': ['N-obl', 'N-nom-0', 'N-pl-t'],\n",
      " 'stem': ['айколя', 'айколя', 'айкол', 'айколя'],\n",
      " 'trans_ru': 'подстилка '}\n"
     ]
    }
   ],
   "source": [
    "for i in undone[:5]:\n",
    "    pprint(chunks[i])"
   ]
  },
  {
   "cell_type": "code",
   "execution_count": 432,
   "metadata": {
    "collapsed": false
   },
   "outputs": [
    {
     "data": {
      "text/plain": [
       "151"
      ]
     },
     "execution_count": 432,
     "metadata": {},
     "output_type": "execute_result"
    }
   ],
   "source": [
    "first_n_ending_class = []\n",
    "for i in undone:\n",
    "    if len(chunks[i]['stem'])==4:\n",
    "        if chunks[i]['stem'][0]==chunks[i]['stem'][2]==chunks[i]['stem'][3]:\n",
    "            if 'N-nom-n' in chunks[i]['paradigms']:\n",
    "                if chunks[i]['lex']==chunks[i]['stem'][2]:\n",
    "                    first_n_ending_class.append(i)\n",
    "\n",
    "len(first_n_ending_class)"
   ]
  },
  {
   "cell_type": "code",
   "execution_count": 433,
   "metadata": {
    "collapsed": true
   },
   "outputs": [],
   "source": [
    "classes_list = ['first_a_class', 'first_n_ending_class', 'third_class', \n",
    "           'third_or_five_v_class', 'five_v_class', 'five_v_reduced_class', 'singulative_lgyn_class']"
   ]
  },
  {
   "cell_type": "code",
   "execution_count": 434,
   "metadata": {
    "collapsed": false
   },
   "outputs": [],
   "source": [
    "classes = {}\n",
    "for cl in classes_list:\n",
    "    classes[cl] = vars()[cl]"
   ]
  },
  {
   "cell_type": "markdown",
   "metadata": {},
   "source": [
    "## iteration 8"
   ]
  },
  {
   "cell_type": "code",
   "execution_count": 435,
   "metadata": {
    "collapsed": false
   },
   "outputs": [
    {
     "name": "stdout",
     "output_type": "stream",
     "text": [
      "724\n",
      "{'lex': 'аё',\n",
      " 'paradigms': ['N-obl', 'N-nom-0', 'N-pl-t'],\n",
      " 'stem': ['айва', 'айва', 'аё', 'айва'],\n",
      " 'trans_ru': 'головной мозг'}\n",
      "{'lex': 'айван',\n",
      " 'paradigms': ['N-obl', 'N-nom-n', 'N-pl-yt'],\n",
      " 'stem': ['айваналь', 'айваналь', 'айва.//.айваналь', 'айваналь'],\n",
      " 'trans_ru': 'эскимос'}\n",
      "{'lex': 'айватлён',\n",
      " 'paradigms': ['N-obl', 'N-nom-n', 'N-pl'],\n",
      " 'stem': ['айватлён//айватрон',\n",
      "          'айватлён//айватрон',\n",
      "          'айватлён//айватрон',\n",
      "          'айватлён//айватрон'],\n",
      " 'trans_ru': 'левая от входа сторона полога'}\n",
      "{'lex': 'айкол',\n",
      " 'paradigms': ['N-obl', 'N-nom-0', 'N-pl-t'],\n",
      " 'stem': ['айколя', 'айколя', 'айкол', 'айколя'],\n",
      " 'trans_ru': 'подстилка '}\n",
      "{'lex': 'айылгыгыргын',\n",
      " 'paradigms': [],\n",
      " 'stem': ['айылгыгырг', 'айылгыгырг', 'айылгыгырг', 'айылгыгырг'],\n",
      " 'trans_ru': '1. боязнь; 2. страшный'}\n"
     ]
    }
   ],
   "source": [
    "undone = sorted(set(undone)-set(first_n_ending_class))\n",
    "print(len(undone))\n",
    "for i in undone[:5]:\n",
    "    pprint(chunks[i])"
   ]
  },
  {
   "cell_type": "code",
   "execution_count": 436,
   "metadata": {
    "collapsed": false
   },
   "outputs": [
    {
     "data": {
      "text/plain": [
       "75"
      ]
     },
     "execution_count": 436,
     "metadata": {},
     "output_type": "execute_result"
    }
   ],
   "source": [
    "first_c_class = []\n",
    "for i in undone:\n",
    "    if len(chunks[i]['stem'])==4:\n",
    "        if chunks[i]['stem'][0]==chunks[i]['stem'][3]:\n",
    "            if chunks[i]['lex']==chunks[i]['stem'][2]:\n",
    "                if 'N-nom-0' in chunks[i]['paradigms']:\n",
    "                    if chunks[i]['lex']==chunks[i]['stem'][0][:-1]:\n",
    "                        if chunks[i]['stem'][0][-1] in 'аоуеэыяиюё':\n",
    "                            first_c_class.append(i)\n",
    "\n",
    "classes['first_c_class'] = first_c_class\n",
    "len(first_c_class)"
   ]
  },
  {
   "cell_type": "code",
   "execution_count": 437,
   "metadata": {
    "collapsed": false
   },
   "outputs": [
    {
     "name": "stdout",
     "output_type": "stream",
     "text": [
      "{'lex': 'ңавъельо',\n",
      " 'paradigms': ['N-obl', 'N-nom-0', 'N-pl-te'],\n",
      " 'stem': ['ңавъельон', 'ңавъельон', 'ңавъельо', 'ңавъельон'],\n",
      " 'trans_ru': 'двоюродная сестра'}\n"
     ]
    }
   ],
   "source": [
    "pprint(chunks[1374])"
   ]
  },
  {
   "cell_type": "markdown",
   "metadata": {},
   "source": [
    "## iteration 9"
   ]
  },
  {
   "cell_type": "code",
   "execution_count": 438,
   "metadata": {
    "collapsed": false
   },
   "outputs": [
    {
     "name": "stdout",
     "output_type": "stream",
     "text": [
      "649\n",
      "{'lex': 'анңатъытвъат',\n",
      " 'paradigms': ['N-obl', 'N-nom-0', 'N-pl-yt'],\n",
      " 'stem': ['анңатъытв', 'анңатъытв', 'анңатъытвъат', 'анңатъытв'],\n",
      " 'trans_ru': 'подводная лодка'}\n",
      "{'lex': 'аңатлыңын',\n",
      " 'paradigms': ['N-obl', 'N-nom-n', 'N-pl-ti'],\n",
      " 'stem': ['эңэр', 'аңар', 'аңат', 'эңэр'],\n",
      " 'trans_ru': 'звезда'}\n",
      "{'lex': 'аңқароқыр',\n",
      " 'paradigms': ['N-obl', 'N-nom-0', 'N-pl-t'],\n",
      " 'stem': ['аңқаръора', 'аңқаръора', 'аңқароқыр', 'аңқаръора'],\n",
      " 'trans_ru': 'морской ёж'}\n",
      "{'lex': 'аңқы',\n",
      " 'paradigms': ['N-obl', 'N-nom-0', 'N-pl-t'],\n",
      " 'stem': ['аңқа', 'аңқа', 'аңқы', 'аңқа'],\n",
      " 'trans_ru': 'море'}\n",
      "{'lex': 'апаапаглыңын',\n",
      " 'paradigms': ['N-obl', 'N-nom-n', 'N-pl-ti'],\n",
      " 'stem': ['эпээпэг', 'апаапаг', 'апаапаглың', 'эпээпэг'],\n",
      " 'trans_ru': 'паук'}\n",
      "{'lex': 'аркамак',\n",
      " 'paradigms': ['N-obl', 'N-nom-0', 'N-pl'],\n",
      " 'stem': ['аркама', 'аркама', 'аркама', 'аркама'],\n",
      " 'trans_ru': '1) выемка на нижнем конце мачты; 2) палка с вилкообразным '\n",
      "             'концом; 3) деревянное огниво'}\n",
      "{'lex': 'аройвычьат',\n",
      " 'paradigms': ['N-obl', 'N-nom-0', 'N-pl'],\n",
      " 'stem': ['аройвычьат.//.аройвычьатгырг',\n",
      "          'аройвычьат.//.аройвычьатгырг',\n",
      "          'аройвычьат.//.аройвычьатгырг',\n",
      "          'аройвычьат.//.аройвычьатгырг'],\n",
      " 'trans_ru': '1) здоровье; 2) мужество'}\n",
      "{'lex': 'аръапаңы',\n",
      " 'paradigms': ['N-obl', 'N-nom-0', 'N-pl-t'],\n",
      " 'stem': ['аръапа', 'аръапа', 'аръапа', 'аръапа'],\n",
      " 'trans_ru': 'бульон'}\n"
     ]
    }
   ],
   "source": [
    "undone = sorted(set(undone)-set(first_c_class))\n",
    "print(len(undone))\n",
    "for i in undone[7:15]:\n",
    "    pprint(chunks[i])"
   ]
  },
  {
   "cell_type": "code",
   "execution_count": 439,
   "metadata": {
    "collapsed": false
   },
   "outputs": [
    {
     "data": {
      "text/plain": [
       "9"
      ]
     },
     "execution_count": 439,
     "metadata": {},
     "output_type": "execute_result"
    }
   ],
   "source": [
    "fourth_class = []\n",
    "for i in undone:\n",
    "    if len(chunks[i]['stem'])==4:\n",
    "        if chunks[i]['stem'][0]==chunks[i]['stem'][2]==chunks[i]['stem'][3]:\n",
    "            if chunks[i]['lex']==chunks[i]['stem'][2]+'ңы':\n",
    "                if 'N-nom-0' in chunks[i]['paradigms']:\n",
    "                    fourth_class.append(i)\n",
    "\n",
    "classes['fourth_class'] = fourth_class\n",
    "len(fourth_class)"
   ]
  },
  {
   "cell_type": "markdown",
   "metadata": {},
   "source": [
    "## iteration 10"
   ]
  },
  {
   "cell_type": "code",
   "execution_count": 440,
   "metadata": {
    "collapsed": false
   },
   "outputs": [
    {
     "name": "stdout",
     "output_type": "stream",
     "text": [
      "640\n",
      "{'lex': 'анңатъытвъат',\n",
      " 'paradigms': ['N-obl', 'N-nom-0', 'N-pl-yt'],\n",
      " 'stem': ['анңатъытв', 'анңатъытв', 'анңатъытвъат', 'анңатъытв'],\n",
      " 'trans_ru': 'подводная лодка'}\n",
      "{'lex': 'аңатлыңын',\n",
      " 'paradigms': ['N-obl', 'N-nom-n', 'N-pl-ti'],\n",
      " 'stem': ['эңэр', 'аңар', 'аңат', 'эңэр'],\n",
      " 'trans_ru': 'звезда'}\n",
      "{'lex': 'аңқароқыр',\n",
      " 'paradigms': ['N-obl', 'N-nom-0', 'N-pl-t'],\n",
      " 'stem': ['аңқаръора', 'аңқаръора', 'аңқароқыр', 'аңқаръора'],\n",
      " 'trans_ru': 'морской ёж'}\n",
      "{'lex': 'аңқы',\n",
      " 'paradigms': ['N-obl', 'N-nom-0', 'N-pl-t'],\n",
      " 'stem': ['аңқа', 'аңқа', 'аңқы', 'аңқа'],\n",
      " 'trans_ru': 'море'}\n",
      "{'lex': 'апаапаглыңын',\n",
      " 'paradigms': ['N-obl', 'N-nom-n', 'N-pl-ti'],\n",
      " 'stem': ['эпээпэг', 'апаапаг', 'апаапаглың', 'эпээпэг'],\n",
      " 'trans_ru': 'паук'}\n",
      "{'lex': 'аркамак',\n",
      " 'paradigms': ['N-obl', 'N-nom-0', 'N-pl'],\n",
      " 'stem': ['аркама', 'аркама', 'аркама', 'аркама'],\n",
      " 'trans_ru': '1) выемка на нижнем конце мачты; 2) палка с вилкообразным '\n",
      "             'концом; 3) деревянное огниво'}\n",
      "{'lex': 'аройвычьат',\n",
      " 'paradigms': ['N-obl', 'N-nom-0', 'N-pl'],\n",
      " 'stem': ['аройвычьат.//.аройвычьатгырг',\n",
      "          'аройвычьат.//.аройвычьатгырг',\n",
      "          'аройвычьат.//.аройвычьатгырг',\n",
      "          'аройвычьат.//.аройвычьатгырг'],\n",
      " 'trans_ru': '1) здоровье; 2) мужество'}\n",
      "{'lex': 'арэқаңо',\n",
      " 'paradigms': ['N-obl', 'N-nom-0', 'N-pl-t'],\n",
      " 'stem': [\"а'рэқаңо\", \"а'рэқаңо\", 'арэқаңо', \"а'рэқаңо\"],\n",
      " 'trans_ru': 'олень с белой шерстью на брюхе'}\n"
     ]
    }
   ],
   "source": [
    "undone = sorted(set(undone)-set(fourth_class))\n",
    "print(len(undone))\n",
    "for i in undone[7:15]:\n",
    "    pprint(chunks[i])"
   ]
  },
  {
   "cell_type": "code",
   "execution_count": 441,
   "metadata": {
    "collapsed": false
   },
   "outputs": [
    {
     "data": {
      "text/plain": [
       "11"
      ]
     },
     "execution_count": 441,
     "metadata": {},
     "output_type": "execute_result"
    }
   ],
   "source": [
    "'лыңын'\n",
    "singulative_lyng_class = []\n",
    "for i in undone:\n",
    "    if len(chunks[i]['stem'])==4:\n",
    "        if chunks[i]['stem'][0]==chunks[i]['stem'][3]:\n",
    "            if (chunks[i]['stem'][1]==chunks[i]['stem'][2] and chunks[i]['lex']==chunks[i]['stem'][2]+'лыңын') or (chunks[i]['stem'][2]==chunks[i]['stem'][1]+'лың' and chunks[i]['lex']==chunks[i]['stem'][2]+'ын'):\n",
    "                    if 'N-nom-n' in chunks[i]['paradigms']:\n",
    "                        singulative_lyng_class.append(i)\n",
    "\n",
    "classes['singulative_lyng_class'] = singulative_lyng_class\n",
    "len(singulative_lyng_class)"
   ]
  },
  {
   "cell_type": "markdown",
   "metadata": {},
   "source": [
    "## iteration 11"
   ]
  },
  {
   "cell_type": "code",
   "execution_count": 442,
   "metadata": {
    "collapsed": false
   },
   "outputs": [
    {
     "name": "stdout",
     "output_type": "stream",
     "text": [
      "629\n",
      "{'lex': 'анңатъытвъат',\n",
      " 'paradigms': ['N-obl', 'N-nom-0', 'N-pl-yt'],\n",
      " 'stem': ['анңатъытв', 'анңатъытв', 'анңатъытвъат', 'анңатъытв'],\n",
      " 'trans_ru': 'подводная лодка'}\n",
      "{'lex': 'аңатлыңын',\n",
      " 'paradigms': ['N-obl', 'N-nom-n', 'N-pl-ti'],\n",
      " 'stem': ['эңэр', 'аңар', 'аңат', 'эңэр'],\n",
      " 'trans_ru': 'звезда'}\n",
      "{'lex': 'аңқароқыр',\n",
      " 'paradigms': ['N-obl', 'N-nom-0', 'N-pl-t'],\n",
      " 'stem': ['аңқаръора', 'аңқаръора', 'аңқароқыр', 'аңқаръора'],\n",
      " 'trans_ru': 'морской ёж'}\n",
      "{'lex': 'аңқы',\n",
      " 'paradigms': ['N-obl', 'N-nom-0', 'N-pl-t'],\n",
      " 'stem': ['аңқа', 'аңқа', 'аңқы', 'аңқа'],\n",
      " 'trans_ru': 'море'}\n",
      "{'lex': 'аркамак',\n",
      " 'paradigms': ['N-obl', 'N-nom-0', 'N-pl'],\n",
      " 'stem': ['аркама', 'аркама', 'аркама', 'аркама'],\n",
      " 'trans_ru': '1) выемка на нижнем конце мачты; 2) палка с вилкообразным '\n",
      "             'концом; 3) деревянное огниво'}\n",
      "{'lex': 'аройвычьат',\n",
      " 'paradigms': ['N-obl', 'N-nom-0', 'N-pl'],\n",
      " 'stem': ['аройвычьат.//.аройвычьатгырг',\n",
      "          'аройвычьат.//.аройвычьатгырг',\n",
      "          'аройвычьат.//.аройвычьатгырг',\n",
      "          'аройвычьат.//.аройвычьатгырг'],\n",
      " 'trans_ru': '1) здоровье; 2) мужество'}\n",
      "{'lex': 'арэқаңо',\n",
      " 'paradigms': ['N-obl', 'N-nom-0', 'N-pl-t'],\n",
      " 'stem': [\"а'рэқаңо\", \"а'рэқаңо\", 'арэқаңо', \"а'рэқаңо\"],\n",
      " 'trans_ru': 'олень с белой шерстью на брюхе'}\n",
      "{'lex': 'атанмыргын *',\n",
      " 'paradigms': ['N-obl', 'N-nom-0', 'N-pl'],\n",
      " 'stem': ['атанмырг', 'атанмырг', 'атанмырг', 'атанмырыгрыг'],\n",
      " 'trans_ru': 'грива (лошади)'}\n"
     ]
    }
   ],
   "source": [
    "undone = sorted(set(undone)-set(singulative_lyng_class))\n",
    "print(len(undone))\n",
    "for i in undone[7:15]:\n",
    "    pprint(chunks[i])"
   ]
  },
  {
   "cell_type": "code",
   "execution_count": 443,
   "metadata": {
    "collapsed": false
   },
   "outputs": [
    {
     "data": {
      "text/plain": [
       "22"
      ]
     },
     "execution_count": 443,
     "metadata": {},
     "output_type": "execute_result"
    }
   ],
   "source": [
    "first_b_class = []\n",
    "for i in undone:\n",
    "    if len(chunks[i]['stem'])==4:\n",
    "        if chunks[i]['stem'][0]==chunks[i]['stem'][3]:\n",
    "            if chunks[i]['lex']==chunks[i]['stem'][2]:\n",
    "                if 'N-nom-0' in chunks[i]['paradigms']:\n",
    "                    if chunks[i]['lex']==chunks[i]['stem'][0][:-1]+'ы':\n",
    "                        if chunks[i]['stem'][0][-1] in 'аоуеэыяиюё':\n",
    "                            first_b_class.append(i)\n",
    "\n",
    "classes['first_b_class'] = first_b_class\n",
    "len(first_b_class)"
   ]
  },
  {
   "cell_type": "markdown",
   "metadata": {},
   "source": [
    "## iteration 12"
   ]
  },
  {
   "cell_type": "code",
   "execution_count": 444,
   "metadata": {
    "collapsed": false
   },
   "outputs": [
    {
     "name": "stdout",
     "output_type": "stream",
     "text": [
      "607\n",
      "{'lex': 'анңатъытвъат',\n",
      " 'paradigms': ['N-obl', 'N-nom-0', 'N-pl-yt'],\n",
      " 'stem': ['анңатъытв', 'анңатъытв', 'анңатъытвъат', 'анңатъытв'],\n",
      " 'trans_ru': 'подводная лодка'}\n",
      "{'lex': 'аңатлыңын',\n",
      " 'paradigms': ['N-obl', 'N-nom-n', 'N-pl-ti'],\n",
      " 'stem': ['эңэр', 'аңар', 'аңат', 'эңэр'],\n",
      " 'trans_ru': 'звезда'}\n",
      "{'lex': 'аңқароқыр',\n",
      " 'paradigms': ['N-obl', 'N-nom-0', 'N-pl-t'],\n",
      " 'stem': ['аңқаръора', 'аңқаръора', 'аңқароқыр', 'аңқаръора'],\n",
      " 'trans_ru': 'морской ёж'}\n",
      "{'lex': 'аркамак',\n",
      " 'paradigms': ['N-obl', 'N-nom-0', 'N-pl'],\n",
      " 'stem': ['аркама', 'аркама', 'аркама', 'аркама'],\n",
      " 'trans_ru': '1) выемка на нижнем конце мачты; 2) палка с вилкообразным '\n",
      "             'концом; 3) деревянное огниво'}\n",
      "{'lex': 'аройвычьат',\n",
      " 'paradigms': ['N-obl', 'N-nom-0', 'N-pl'],\n",
      " 'stem': ['аройвычьат.//.аройвычьатгырг',\n",
      "          'аройвычьат.//.аройвычьатгырг',\n",
      "          'аройвычьат.//.аройвычьатгырг',\n",
      "          'аройвычьат.//.аройвычьатгырг'],\n",
      " 'trans_ru': '1) здоровье; 2) мужество'}\n",
      "{'lex': 'арэқаңо',\n",
      " 'paradigms': ['N-obl', 'N-nom-0', 'N-pl-t'],\n",
      " 'stem': [\"а'рэқаңо\", \"а'рэқаңо\", 'арэқаңо', \"а'рэқаңо\"],\n",
      " 'trans_ru': 'олень с белой шерстью на брюхе'}\n",
      "{'lex': 'атанмыргын *',\n",
      " 'paradigms': ['N-obl', 'N-nom-0', 'N-pl'],\n",
      " 'stem': ['атанмырг', 'атанмырг', 'атанмырг', 'атанмырыгрыг'],\n",
      " 'trans_ru': 'грива (лошади)'}\n",
      "{'lex': 'аттывэгыргын',\n",
      " 'paradigms': ['N-obl', 'N-nom-n', 'N-pl'],\n",
      " 'stem': ['аттывэгырг.//.артывэгырг',\n",
      "          'аттывэгырг.//.артывэгырг',\n",
      "          'аттывэгырг.//.артывэгырг',\n",
      "          'аттывэгырг.//.артывэгырг'],\n",
      " 'trans_ru': '1) узкое место реки, озера; 2) стремнина реки'}\n"
     ]
    }
   ],
   "source": [
    "undone = sorted(set(undone)-set(first_b_class))\n",
    "print(len(undone))\n",
    "for i in undone[7:15]:\n",
    "    pprint(chunks[i])"
   ]
  },
  {
   "cell_type": "code",
   "execution_count": 445,
   "metadata": {
    "collapsed": false
   },
   "outputs": [
    {
     "data": {
      "text/plain": [
       "6"
      ]
     },
     "execution_count": 445,
     "metadata": {},
     "output_type": "execute_result"
    }
   ],
   "source": [
    "aa_or_class = []\n",
    "for i in undone:\n",
    "    if len(chunks[i]['stem'])==4:\n",
    "        if chunks[i]['stem'][0]==chunks[i]['stem'][3]:\n",
    "            if chunks[i]['lex']==chunks[i]['stem'][2]:\n",
    "                if 'N-nom-0' in chunks[i]['paradigms']:\n",
    "                    if chunks[i]['lex'].endswith('ор'):\n",
    "                        if chunks[i]['stem'][1].endswith('аа'):\n",
    "                            aa_or_class.append(i)\n",
    "\n",
    "classes['aa_or_class'] = aa_or_class\n",
    "len(aa_or_class)"
   ]
  },
  {
   "cell_type": "markdown",
   "metadata": {},
   "source": [
    "## iteration 13"
   ]
  },
  {
   "cell_type": "code",
   "execution_count": 446,
   "metadata": {
    "collapsed": false
   },
   "outputs": [
    {
     "name": "stdout",
     "output_type": "stream",
     "text": [
      "601\n",
      "{'lex': 'ваарват *',\n",
      " 'paradigms': ['N-obl', 'N-nom-0', 'N-pl-te'],\n",
      " 'stem': ['ваарват', 'ваарват', 'ваарват', 'ваарват'],\n",
      " 'trans_ru': '1) тетива; 2) прямая линия, соединяющая концы кривой'}\n",
      "{'lex': 'ваарқэр',\n",
      " 'paradigms': ['N-obl', 'N-nom-0', 'N-pl'],\n",
      " 'stem': ['ваарқэр//вагырқэр',\n",
      "          'ваарқэр//вагырқэр',\n",
      "          'ваарқэр//вагырқэр',\n",
      "          'ваарқэр//вагырқэр'],\n",
      " 'trans_ru': 'расстояние между пальцами вытянутых рук (мера длины)'}\n",
      "{'lex': 'вагыткын',\n",
      " 'paradigms': ['N-obl', 'N-nom-n', 'N-pl-te'],\n",
      " 'stem': ['вагыткын', 'вагыткын', 'вагытк', 'вагыткын'],\n",
      " 'trans_ru': 'почка (у растения)'}\n",
      "{'lex': 'вагыткын',\n",
      " 'paradigms': ['N-obl', 'N-nom-n', 'N-pl-te'],\n",
      " 'stem': ['вагыткын', 'вагыткын', 'вагытк', 'вагыткын'],\n",
      " 'trans_ru': 'кончик ногтя, когтя'}\n"
     ]
    }
   ],
   "source": [
    "undone = sorted(set(undone)-set(aa_or_class))\n",
    "print(len(undone))\n",
    "for i in undone[23:27]:\n",
    "    pprint(chunks[i])"
   ]
  },
  {
   "cell_type": "code",
   "execution_count": 447,
   "metadata": {
    "collapsed": false
   },
   "outputs": [
    {
     "data": {
      "text/plain": [
       "1"
      ]
     },
     "execution_count": 447,
     "metadata": {},
     "output_type": "execute_result"
    }
   ],
   "source": [
    "fourth_or_class = []\n",
    "for i in undone:\n",
    "    if len(chunks[i]['stem'])==4:\n",
    "        if chunks[i]['stem'][0]==chunks[i]['stem'][3]:\n",
    "            if chunks[i]['lex']==chunks[i]['stem'][2]+'ңы':\n",
    "                if 'N-nom-0' in chunks[i]['paradigms']:\n",
    "                    fourth_or_class.append(i)\n",
    "\n",
    "classes['fourth_or_class'] = fourth_or_class\n",
    "len(fourth_or_class)"
   ]
  },
  {
   "cell_type": "code",
   "execution_count": 448,
   "metadata": {
    "collapsed": false
   },
   "outputs": [
    {
     "name": "stdout",
     "output_type": "stream",
     "text": [
      "{'lex': 'қораңы',\n",
      " 'paradigms': ['N-obl', 'N-nom-0', 'N-pl-t'],\n",
      " 'stem': ['қаа', 'қаа', 'қора', 'қаа'],\n",
      " 'trans_ru': 'олень'}\n"
     ]
    }
   ],
   "source": [
    "pprint(chunks[fourth_or_class[0]])"
   ]
  },
  {
   "cell_type": "code",
   "execution_count": 449,
   "metadata": {
    "collapsed": false
   },
   "outputs": [
    {
     "name": "stdout",
     "output_type": "stream",
     "text": [
      "89\n",
      "{'lex': 'атанмыргын *',\n",
      " 'paradigms': ['N-obl', 'N-nom-0', 'N-pl'],\n",
      " 'stem': ['атанмырг', 'атанмырг', 'атанмырг', 'атанмырыгрыг'],\n",
      " 'trans_ru': 'грива (лошади)'}\n",
      "104\n",
      "{'lex': 'ачвақаачгын *',\n",
      " 'paradigms': ['N-obl', 'N-nom-0', 'N-pl'],\n",
      " 'stem': ['ачвақаачг', 'ачвақаачг', 'ачвақаачг', 'ачвақаачг'],\n",
      " 'trans_ru': '1. посторонний, чужой; 2. чужак'}\n",
      "149\n",
      "{'lex': \"а'рэа'р*\",\n",
      " 'paradigms': ['N-obl', 'N-nom-0', 'N-pl-t'],\n",
      " 'stem': [\"а'рэ\", \"а'рэ\", \"а'рэа'р*\", \"а'рэ\"],\n",
      " 'trans_ru': 'торос, см. каалгын'}\n",
      "162\n",
      "{'lex': 'ваарват *',\n",
      " 'paradigms': ['N-obl', 'N-nom-0', 'N-pl-te'],\n",
      " 'stem': ['ваарват', 'ваарват', 'ваарват', 'ваарват'],\n",
      " 'trans_ru': '1) тетива; 2) прямая линия, соединяющая концы кривой'}\n",
      "250\n",
      "{'lex': 'вуул*',\n",
      " 'paradigms': ['N-obl', 'N-nom-0', 'N-pl-ti'],\n",
      " 'stem': ['вуул', 'воол', 'вуул*', 'вуул'],\n",
      " 'trans_ru': 'зубило'}\n",
      "766\n",
      "{'lex': 'комак*',\n",
      " 'paradigms': ['N-obl', 'N-nom-0', 'N-pl-t'],\n",
      " 'stem': ['комака', 'комака', 'комак*', 'комака'],\n",
      " 'trans_ru': '1) бумага; 2) деньги * см. кэлитъул'}\n",
      "794\n",
      "{'lex': 'къоколгын*',\n",
      " 'paradigms': ['N-obl', 'N-nom-0', 'N-pl-t'],\n",
      " 'stem': ['къуку', 'къоко', 'къоколгын*', 'къуку'],\n",
      " 'trans_ru': '1) бородавка; 2) нарост на дереве'}\n",
      "2226\n",
      "{'lex': 'уттуул*',\n",
      " 'paradigms': ['N-obl', 'N-nom-0', 'N-pl-ti'],\n",
      " 'stem': ['уттуул', 'оттоол', 'уттуул*', 'уттуул'],\n",
      " 'trans_ru': 'долото'}\n",
      "2604\n",
      "{'lex': 'этъычьылгын*',\n",
      " 'paradigms': ['N-obl', 'N-nom-0', 'N-pl-yt'],\n",
      " 'stem': ['итъычь', 'этъычь', 'этъычьылгын*', 'итъычь'],\n",
      " 'trans_ru': 'мелкий голец (рыба)'}\n"
     ]
    }
   ],
   "source": [
    "for i in undone:\n",
    "    if '*' in chunks[i]['lex']:\n",
    "        print(i)\n",
    "        pprint(chunks[i])"
   ]
  },
  {
   "cell_type": "code",
   "execution_count": 450,
   "metadata": {
    "collapsed": true
   },
   "outputs": [],
   "source": [
    "classes['strange_star_first_a_class'] = [162, 250, 2226]\n",
    "classes['strange_star_third_class'] = [89, 104]\n",
    "classes['strange_star_singulative_class'] = [2604]"
   ]
  },
  {
   "cell_type": "markdown",
   "metadata": {},
   "source": [
    "## iteration 14"
   ]
  },
  {
   "cell_type": "code",
   "execution_count": 451,
   "metadata": {
    "collapsed": false
   },
   "outputs": [
    {
     "name": "stdout",
     "output_type": "stream",
     "text": [
      "594\n",
      "{'lex': 'вагыткын',\n",
      " 'paradigms': ['N-obl', 'N-nom-n', 'N-pl-te'],\n",
      " 'stem': ['вагыткын', 'вагыткын', 'вагытк', 'вагыткын'],\n",
      " 'trans_ru': 'кончик ногтя, когтя'}\n",
      "{'lex': 'вайпывай',\n",
      " 'paradigms': ['N-obl', 'N-nom-0', 'N-pl-yt'],\n",
      " 'stem': ['вайп', 'вайп', 'вайпывай', 'вайп'],\n",
      " 'trans_ru': 'деревянная игла для вязки сетей'}\n",
      "{'lex': 'вакаңын',\n",
      " 'paradigms': ['N-obl', 'N-nom-n', 'N-pl-yt'],\n",
      " 'stem': ['вакаңынв', 'вакаңынв', 'вакаң.//.вакаңынв', 'вакаңынв'],\n",
      " 'trans_ru': 'место, место пребывания'}\n",
      "{'lex': 'вакъосқыёлгын',\n",
      " 'paradigms': ['N-obl', 'N-nom-lgyn', 'N-pl'],\n",
      " 'stem': ['вакъосқыёлгы', 'вакъосқыёлгы', 'вакъосқыёлгы', 'вакъосқыёлгы'],\n",
      " 'trans_ru': 'скамейка, стул'}\n"
     ]
    }
   ],
   "source": [
    "undone = sorted(set(undone)-set(qorangy_class)-set(classes['strange_star_first_a_class'])-\n",
    "                set(classes['strange_star_singulative_class'])-set(classes['strange_star_third_class']))\n",
    "print(len(undone))\n",
    "for i in undone[23:27]:\n",
    "    pprint(chunks[i])"
   ]
  },
  {
   "cell_type": "code",
   "execution_count": 452,
   "metadata": {
    "collapsed": false
   },
   "outputs": [
    {
     "data": {
      "text/plain": [
       "19"
      ]
     },
     "execution_count": 452,
     "metadata": {},
     "output_type": "execute_result"
    }
   ],
   "source": [
    "strange_yn_except_absolutive_class = []\n",
    "for i in undone:\n",
    "    if len(chunks[i]['stem'])==4:\n",
    "        if chunks[i]['stem'][0]==chunks[i]['stem'][3]:\n",
    "            if chunks[i]['lex']==chunks[i]['stem'][2]+'ын' or chunks[i]['lex']==chunks[i]['stem'][2]+'н':\n",
    "                if 'N-nom-n' in chunks[i]['paradigms']:\n",
    "                    if chunks[i]['stem'][0]==chunks[i]['stem'][2]+'ын' or chunks[i]['stem'][0]==chunks[i]['stem'][2]+'н':\n",
    "                        strange_yn_except_absolutive_class.append(i)\n",
    "\n",
    "classes['strange_yn_except_absolutive_class'] = strange_yn_except_absolutive_class\n",
    "len(strange_yn_except_absolutive_class)"
   ]
  },
  {
   "cell_type": "markdown",
   "metadata": {},
   "source": [
    "## iteration 15"
   ]
  },
  {
   "cell_type": "code",
   "execution_count": 453,
   "metadata": {
    "collapsed": false
   },
   "outputs": [
    {
     "name": "stdout",
     "output_type": "stream",
     "text": [
      "575\n",
      "{'lex': 'пэкыл',\n",
      " 'paradigms': ['N-obl', 'N-nom-0', 'N-pl-t'],\n",
      " 'stem': ['пэкылтэ//пэгля', 'пэкылтэ//пэгля', 'пэкыл', 'пэкылтэ//пэгля'],\n",
      " 'trans_ru': '(2) выстрел'}\n",
      "{'lex': 'нутэкэликэл',\n",
      " 'paradigms': ['N-obl', 'N-nom-0', 'N-pl-t'],\n",
      " 'stem': ['нутэкэли', 'нотакалэ', 'нутэкэликэл', 'нутэкэли'],\n",
      " 'trans_ru': 'карта (геогр.)'}\n",
      "{'lex': 'янръалявыл',\n",
      " 'paradigms': ['N-obl', 'N-nom-0', 'N-pl-te'],\n",
      " 'stem': ['янръалявылтэ, янрақлявыл',\n",
      "          'янръалявылтэ, янрақлявыл',\n",
      "          'янръалявыл.//.янрақлявыл',\n",
      "          'янръалявылтэ, янрақлявыл'],\n",
      " 'trans_ru': 'холостяк'}\n",
      "{'lex': 'чарыколгын',\n",
      " 'paradigms': ['N-obl', 'N-nom-lgyn', 'N-pl-t'],\n",
      " 'stem': ['черыку', 'чярыко', 'чарыко', 'черыку'],\n",
      " 'trans_ru': 'вальдшнеп'}\n",
      "{'lex': 'эрын',\n",
      " 'paradigms': ['N-obl', 'N-nom-n', 'N-pl-t'],\n",
      " 'stem': ['эръэ', 'аръа', 'эр', 'эръэ'],\n",
      " 'trans_ru': 'варёная еда'}\n",
      "{'lex': 'қувчикыльын',\n",
      " 'paradigms': ['N-obl', 'N-nom-n', 'N-pl'],\n",
      " 'stem': ['қувчикыль.//.қувчикычь',\n",
      "          'қовчэкыль.//.қовчэкычь',\n",
      "          'қувчикыль.//.қувчикычь',\n",
      "          'қувчикыль.//.қувчикычь'],\n",
      " 'trans_ru': 'одиночка (о животных)'}\n"
     ]
    }
   ],
   "source": [
    "undone = sorted(set(undone)-set(strange_yn_except_absolutive_class))\n",
    "print(len(undone))\n",
    "for i in random.sample(set(undone), 6):\n",
    "    pprint(chunks[i])"
   ]
  },
  {
   "cell_type": "code",
   "execution_count": 454,
   "metadata": {
    "collapsed": false
   },
   "outputs": [
    {
     "data": {
      "text/plain": [
       "24"
      ]
     },
     "execution_count": 454,
     "metadata": {},
     "output_type": "execute_result"
    }
   ],
   "source": [
    "first_a_g_j_class = []\n",
    "for i in undone:\n",
    "    if len(chunks[i]['stem'])==4:\n",
    "        if chunks[i]['stem'][0]==chunks[i]['stem'][3]:\n",
    "            if 'N-nom-0' in chunks[i]['paradigms']:\n",
    "                if chunks[i]['lex']==chunks[i]['stem'][2]:\n",
    "                    if chunks[i]['stem'][0]==chunks[i]['stem'][2][:-1]+'г':\n",
    "                        if chunks[i]['stem'][2].endswith('й'):\n",
    "                            first_a_g_j_class.append(i)\n",
    "\n",
    "classes['first_a_g_j_class'] = first_a_g_j_class\n",
    "len(first_a_g_j_class)"
   ]
  },
  {
   "cell_type": "markdown",
   "metadata": {},
   "source": [
    "## iteration 16"
   ]
  },
  {
   "cell_type": "code",
   "execution_count": 455,
   "metadata": {
    "collapsed": false
   },
   "outputs": [
    {
     "name": "stdout",
     "output_type": "stream",
     "text": [
      "551\n",
      "{'lex': 'йынрыйыр',\n",
      " 'paradigms': ['N-obl', 'N-nom-0', 'N-pl-yt'],\n",
      " 'stem': ['йынр', 'йынр', 'йынрыйыр.//.йынр', 'йынр'],\n",
      " 'trans_ru': '(2) высокий обрывистый берег'}\n",
      "{'lex': 'каңэгыргын',\n",
      " 'paradigms': ['N-obl', 'N-nom-n', 'N-pl-t'],\n",
      " 'stem': ['кэңи', 'каңэ', 'каңэгырг', 'кэңи'],\n",
      " 'trans_ru': 'извилина, изгиб'}\n",
      "{'lex': 'кэйикэй',\n",
      " 'paradigms': ['N-obl', 'N-nom-0', 'N-pl-t'],\n",
      " 'stem': ['кэйи', 'кайэ', 'кэйикэй', 'кэйи'],\n",
      " 'trans_ru': 'шкварка'}\n",
      "{'lex': 'пытвыпыт',\n",
      " 'paradigms': ['N-obl', 'N-nom-0', 'N-pl-yt'],\n",
      " 'stem': ['пытв', 'пытв', 'пытвыпыт', 'пытв'],\n",
      " 'trans_ru': '(2) 1) второй слой; 2) блюдце'}\n",
      "{'lex': 'нутэнут',\n",
      " 'paradigms': ['N-obl', 'N-nom-0', 'N-pl-t'],\n",
      " 'stem': ['нутэ', 'нота', 'нутэнут', 'нутэ'],\n",
      " 'trans_ru': '1) земля; 2) страна; 3) тундра'}\n",
      "{'lex': 'ылвъэйңэйъилгын',\n",
      " 'paradigms': ['N-obl', 'N-nom-lgyn', 'N-pl'],\n",
      " 'stem': ['ылвъэйңэйъи', 'ылвъайңайъэ', 'ылвъэйңэйъи', 'ылвъэйңэйъи'],\n",
      " 'trans_ru': 'название месяца (прибл. с начала сентября до начала октября)'}\n"
     ]
    }
   ],
   "source": [
    "undone = sorted(set(undone)-set(first_g_j_class))\n",
    "print(len(undone))\n",
    "for i in random.sample(set(undone), 6):\n",
    "    pprint(chunks[i])"
   ]
  },
  {
   "cell_type": "code",
   "execution_count": 456,
   "metadata": {
    "collapsed": false
   },
   "outputs": [
    {
     "data": {
      "text/plain": [
       "2"
      ]
     },
     "execution_count": 456,
     "metadata": {},
     "output_type": "execute_result"
    }
   ],
   "source": [
    "first_c_ng_to_n_class = []\n",
    "for i in undone:\n",
    "    if len(chunks[i]['stem'])==4:\n",
    "        if chunks[i]['stem'][0]==chunks[i]['stem'][3]:\n",
    "            if chunks[i]['lex']==chunks[i]['stem'][2]:\n",
    "                if 'N-nom-n' in chunks[i]['paradigms']:\n",
    "                    if chunks[i]['lex'][:-1]==chunks[i]['stem'][0][:-2]:\n",
    "                        if chunks[i]['stem'][0][-1] in 'аоуеэыяиюё':\n",
    "                            if chunks[i]['lex'].endswith('н') and chunks[i]['stem'][0][-2]=='ң':\n",
    "                                first_c_ng_to_n_class.append(i)\n",
    "\n",
    "classes['first_c_ng_to_n_class'] = first_c_ng_to_n_class\n",
    "len(first_c_ng_to_n_class)"
   ]
  },
  {
   "cell_type": "markdown",
   "metadata": {},
   "source": [
    "## iteration 17"
   ]
  },
  {
   "cell_type": "code",
   "execution_count": 457,
   "metadata": {
    "collapsed": false
   },
   "outputs": [
    {
     "name": "stdout",
     "output_type": "stream",
     "text": [
      "549\n",
      "{'lex': 'таляёлгын',\n",
      " 'paradigms': ['N-obl', 'N-nom-lgyn', 'N-pl'],\n",
      " 'stem': ['таляёлгы', 'таляёлгы', 'таляёлгы', 'таляёлгы'],\n",
      " 'trans_ru': 'наковальня'}\n",
      "{'lex': 'экык',\n",
      " 'paradigms': ['N-obl', 'N-nom-0', 'N-pl-t'],\n",
      " 'stem': ['эккэ', 'акка', 'экык', 'эккэ'],\n",
      " 'trans_ru': 'сын'}\n",
      "{'lex': 'йынычьылгын',\n",
      " 'paradigms': ['N-obl', 'N-nom-lgyn', 'N-pl-yt'],\n",
      " 'stem': ['йынычь', 'йынычь', 'йынычьы.//.йынычь', 'йынычь'],\n",
      " 'trans_ru': '(2) капсюль, пистон'}\n",
      "{'lex': 'талятал',\n",
      " 'paradigms': ['N-obl', 'N-nom-0', 'N-pl-t'],\n",
      " 'stem': ['таля', 'таля', 'талятал', 'таля'],\n",
      " 'trans_ru': '1) толчёное мясо, кости; 2) толчёные коренья'}\n",
      "{'lex': 'кылвыгыргын, кылвыкыл',\n",
      " 'paradigms': ['N-obl', 'N-nom-0', 'N-pl-yt'],\n",
      " 'stem': ['кылв', 'кылв', 'кылвыгырг.//.кылвыкыл', 'кылв'],\n",
      " 'trans_ru': '1) зарубка; 2) черта 3) метка'}\n",
      "{'lex': 'чеваро',\n",
      " 'paradigms': ['N-obl', 'N-nom-0', 'N-pl-t'],\n",
      " 'stem': ['чеваро', 'чеваро', 'чеваро.//.чеваро', 'чеваро'],\n",
      " 'trans_ru': '1. серый; 2. олень серой масти'}\n"
     ]
    }
   ],
   "source": [
    "undone = sorted(set(undone)-set(first_c_ng_to_n_class))\n",
    "print(len(undone))\n",
    "for i in random.sample(set(undone), 6):\n",
    "    pprint(chunks[i])"
   ]
  },
  {
   "cell_type": "code",
   "execution_count": 465,
   "metadata": {
    "collapsed": false
   },
   "outputs": [
    {
     "data": {
      "text/plain": [
       "13"
      ]
     },
     "execution_count": 465,
     "metadata": {},
     "output_type": "execute_result"
    }
   ],
   "source": [
    "second_a_full_redup_class = []\n",
    "for i in undone:\n",
    "    if len(chunks[i]['stem'])==4:\n",
    "        if chunks[i]['stem'][0]==chunks[i]['stem'][3]:\n",
    "            if chunks[i]['lex']==chunks[i]['stem'][2]:\n",
    "                if 'N-nom-0' in chunks[i]['paradigms']:\n",
    "                    if chunks[i]['lex']==chunks[i]['stem'][0]*2 or chunks[i]['lex']==chunks[i]['stem'][0]+'ы'+chunks[i]['stem'][0]:\n",
    "                        second_a_full_redup_class.append(i)\n",
    "\n",
    "classes['second_a_full_redup_class'] = second_a_full_redup_class\n",
    "len(second_a_full_redup_class)"
   ]
  },
  {
   "cell_type": "markdown",
   "metadata": {},
   "source": [
    "## iteration 18"
   ]
  },
  {
   "cell_type": "code",
   "execution_count": 466,
   "metadata": {
    "collapsed": false
   },
   "outputs": [
    {
     "name": "stdout",
     "output_type": "stream",
     "text": [
      "536\n",
      "{'lex': 'мынгылгын',\n",
      " 'paradigms': ['N-obl', 'N-nom-lgyn', 'N-pl-yt'],\n",
      " 'stem': ['мынг', 'мынг', 'мынгы.//.мынгытлың', 'мынг'],\n",
      " 'trans_ru': '(2) рука'}\n",
      "{'lex': 'чемыквылгын',\n",
      " 'paradigms': ['N-obl', 'N-nom-lgyn', 'N-pl-yt'],\n",
      " 'stem': ['чемыкв', 'чямыкв', 'чемыквы', 'чемыкв'],\n",
      " 'trans_ru': '(2) мелкий камешек'}\n",
      "{'lex': 'кыванналгын',\n",
      " 'paradigms': ['N-obl', 'N-nom-lgyn', 'N-pl'],\n",
      " 'stem': ['кыванналгын//кывэннэн',\n",
      "          'кыванналгын//кывэннэн',\n",
      "          'кыванналгын//кывэннэн',\n",
      "          'кыванналгын//кывэннэн'],\n",
      " 'trans_ru': 'позвонок'}\n",
      "{'lex': 'тупэтуп',\n",
      " 'paradigms': ['N-obl', 'N-nom-0', 'N-pl-t'],\n",
      " 'stem': ['тупэ', 'топа', 'тупэтуп', 'тупэ'],\n",
      " 'trans_ru': 'утепляющий дёрн '}\n",
      "{'lex': 'йиггин',\n",
      " 'paradigms': ['N-obl', 'N-nom-n', 'N-pl'],\n",
      " 'stem': ['йиггин//йигйин',\n",
      "          'йэггэн//йэгйэн',\n",
      "          'йиггин//йигйин',\n",
      "          'йиггин//йигйин'],\n",
      " 'trans_ru': 'тонкая кишка'}\n",
      "{'lex': 'қорэмтэё',\n",
      " 'paradigms': ['N-obl', 'N-nom-0', 'N-pl'],\n",
      " 'stem': ['қорэмтэё//қорэмтэқор',\n",
      "          'қорэмтэё//қорэмтэқор',\n",
      "          'қорэмтэё//қорэмтэқор',\n",
      "          'қорэмтэё//қорэмтэқор'],\n",
      " 'trans_ru': 'верховой олень'}\n"
     ]
    }
   ],
   "source": [
    "undone = sorted(set(undone)-set(second_a_full_redup_class))\n",
    "print(len(undone))\n",
    "for i in random.sample(set(undone), 6):\n",
    "    print(i)\n",
    "    pprint(chunks[i])"
   ]
  },
  {
   "cell_type": "code",
   "execution_count": 467,
   "metadata": {
    "collapsed": false
   },
   "outputs": [
    {
     "data": {
      "text/plain": [
       "47"
      ]
     },
     "execution_count": 467,
     "metadata": {},
     "output_type": "execute_result"
    }
   ],
   "source": [
    "second_b_redup_wo_last_letter_class = []\n",
    "for i in undone:\n",
    "    if len(chunks[i]['stem'])==4:\n",
    "        if chunks[i]['stem'][0]==chunks[i]['stem'][3]:\n",
    "            if chunks[i]['lex']==chunks[i]['stem'][2]:\n",
    "                if 'N-nom-0' in chunks[i]['paradigms']:\n",
    "                    if chunks[i]['lex']==chunks[i]['stem'][0]+chunks[i]['stem'][0][:-1] or chunks[i]['lex']==chunks[i]['stem'][0]+'ы'+chunks[i]['stem'][0][:-1]:\n",
    "                        second_b_redup_wo_last_letter_class.append(i)\n",
    "\n",
    "classes['second_b_redup_wo_last_letter_class'] = second_b_redup_wo_last_letter_class\n",
    "len(second_b_redup_wo_last_letter_class)"
   ]
  },
  {
   "cell_type": "markdown",
   "metadata": {},
   "source": [
    "## iteration 19"
   ]
  },
  {
   "cell_type": "code",
   "execution_count": 468,
   "metadata": {
    "collapsed": false
   },
   "outputs": [
    {
     "name": "stdout",
     "output_type": "stream",
     "text": [
      "489\n",
      "2556\n",
      "{'lex': 'энатват',\n",
      " 'paradigms': ['N-obl', 'N-nom-0', 'N-pl-te'],\n",
      " 'stem': ['энатват', 'энатват', 'энатват.//.энатвагырг', 'энатват'],\n",
      " 'trans_ru': 'обязательство, обещание'}\n",
      "2258\n",
      "{'lex': 'чакыгэт',\n",
      " 'paradigms': ['N-obl', 'N-nom-0', 'N-pl-yt'],\n",
      " 'stem': ['чакэтт', 'чакэтт', 'чакыгэт', 'чакэтт'],\n",
      " 'trans_ru': 'сестра'}\n",
      "346\n",
      "{'lex': 'вэтгавчывэпыт',\n",
      " 'paradigms': ['N-obl', 'N-nom-0', 'N-pl-yt'],\n",
      " 'stem': ['вэтгавчывэпт', 'вэтгавчывэпт', 'вэтгавчывэпыт', 'вэтгавчывэпт'],\n",
      " 'trans_ru': '1) часть слова, слог; 2) отрывок разговора'}\n",
      "1205\n",
      "{'lex': 'маёлгын',\n",
      " 'paradigms': ['N-obl', 'N-nom-lgyn', 'N-pl'],\n",
      " 'stem': ['маёлгы', 'маёлгы', 'маёлгы', 'маёлгы'],\n",
      " 'trans_ru': 'высокий холм'}\n",
      "235\n",
      "{'lex': 'витъывит',\n",
      " 'paradigms': ['N-obl', 'N-nom-0', 'N-pl-yt'],\n",
      " 'stem': ['витъ', 'вэтъ', 'витъывит.//.вить', 'витъ'],\n",
      " 'trans_ru': '1) белый болотный мох; 2) фитиль '}\n",
      "839\n",
      "{'lex': 'кырвир',\n",
      " 'paradigms': ['N-obl', 'N-nom-0', 'N-pl-ti'],\n",
      " 'stem': ['кырвирти, кырвит',\n",
      "          'кырвэртэ, кырвэт',\n",
      "          'кырвир.//.кырвэтлың',\n",
      "          'кырвирти, кырвит'],\n",
      " 'trans_ru': 'волос'}\n"
     ]
    }
   ],
   "source": [
    "undone = sorted(set(undone)-set(second_b_redup_wo_last_letter_class))\n",
    "print(len(undone))\n",
    "for i in random.sample(set(undone), 6):\n",
    "    print(i)\n",
    "    pprint(chunks[i])"
   ]
  },
  {
   "cell_type": "code",
   "execution_count": 474,
   "metadata": {
    "collapsed": false
   },
   "outputs": [
    {
     "name": "stdout",
     "output_type": "stream",
     "text": [
      "11\n"
     ]
    },
    {
     "data": {
      "text/plain": [
       "1"
      ]
     },
     "execution_count": 474,
     "metadata": {},
     "output_type": "execute_result"
    }
   ],
   "source": [
    "print(len(singulative_lyng_class))\n",
    "singulative_lyng_g_j_class = []\n",
    "for i in undone:\n",
    "    if len(chunks[i]['stem'])==4:\n",
    "        if chunks[i]['stem'][0]==chunks[i]['stem'][3]:\n",
    "            if chunks[i]['stem'][1].endswith('г') and chunks[i]['stem'][2].endswith('й'):\n",
    "                if len(chunks[i]['stem'][1])==len(chunks[i]['stem'][2]):\n",
    "                    if chunks[i]['lex'].endswith('лыңын'):\n",
    "                        if 'N-nom-n' in chunks[i]['paradigms']:\n",
    "                            singulative_lyng_g_j_class.append(i)\n",
    "\n",
    "classes['singulative_lyng_g_j_class'] = singulative_lyng_g_j_class\n",
    "len(singulative_lyng_g_j_class)"
   ]
  },
  {
   "cell_type": "markdown",
   "metadata": {},
   "source": [
    "## iteration 20"
   ]
  },
  {
   "cell_type": "code",
   "execution_count": 475,
   "metadata": {
    "collapsed": false
   },
   "outputs": [
    {
     "name": "stdout",
     "output_type": "stream",
     "text": [
      "488\n",
      "187\n",
      "{'lex': 'ванлягыргын',\n",
      " 'paradigms': ['N-obl', 'N-nom-n', 'N-pl'],\n",
      " 'stem': ['ванлягыргын//ванлян',\n",
      "          'ванлягыргын//ванлян',\n",
      "          'ванлягыргын//ванлян',\n",
      "          'ванлягыргын//ванлян'],\n",
      " 'trans_ru': '1) просьба; 2) желание есть'}\n",
      "849\n",
      "{'lex': 'кырымқулиқул',\n",
      " 'paradigms': ['N-obl', 'N-nom-0', 'N-pl-t'],\n",
      " 'stem': ['кырымқули', 'кырымқолэ', 'кырымқулиқул', 'кырымқули'],\n",
      " 'trans_ru': '1) хриплый голос; 2) бас'}\n",
      "1841\n",
      "{'lex': 'рыновыргын',\n",
      " 'paradigms': ['N-obl', 'N-nom-n', 'N-pl'],\n",
      " 'stem': ['рыновырг.//.рыногырг', '', 'рыновыргыт'],\n",
      " 'trans_ru': '* дымовое отверстие'}\n",
      "1900\n",
      "{'lex': 'рэқытвык',\n",
      " 'paradigms': ['N-obl', 'N-nom-0', 'N-pl'],\n",
      " 'stem': ['рэқытвы', 'рақытвы', 'рэқытвы', 'рэқытвы'],\n",
      " 'trans_ru': 'сдирать, очищать'}\n",
      "2518\n",
      "{'lex': 'эмңолгыргын',\n",
      " 'paradigms': ['N-obl', 'N-nom-n', 'N-pl'],\n",
      " 'stem': ['эмңолгыргын//эмңолычьат',\n",
      "          'эмңолгыргын//эмңолычьат',\n",
      "          'эмңолгыргын//эмңолычьат',\n",
      "          'эмңолгыргын//эмңолычьат'],\n",
      " 'trans_ru': 'скука'}\n",
      "174\n",
      "{'lex': 'вакаңын',\n",
      " 'paradigms': ['N-obl', 'N-nom-n', 'N-pl-yt'],\n",
      " 'stem': ['вакаңынв', 'вакаңынв', 'вакаң.//.вакаңынв', 'вакаңынв'],\n",
      " 'trans_ru': 'место, место пребывания'}\n"
     ]
    }
   ],
   "source": [
    "undone = sorted(set(undone)-set(singulative_lyng_g_j_class))\n",
    "print(len(undone))\n",
    "for i in random.sample(set(undone), 6):\n",
    "    print(i)\n",
    "    pprint(chunks[i])"
   ]
  },
  {
   "cell_type": "code",
   "execution_count": 476,
   "metadata": {
    "collapsed": false
   },
   "outputs": [
    {
     "data": {
      "text/plain": [
       "18"
      ]
     },
     "execution_count": 476,
     "metadata": {},
     "output_type": "execute_result"
    }
   ],
   "source": [
    "first_a_y_class = []\n",
    "cons = 'йцкнгшщзхъждлрпвфчсмтьбңқ'\n",
    "\n",
    "for i in undone:\n",
    "    if len(chunks[i]['stem'])==4:\n",
    "        if chunks[i]['stem'][0]==chunks[i]['stem'][3]:\n",
    "            if 'N-nom-0' in chunks[i]['paradigms']:\n",
    "                if chunks[i]['lex']==chunks[i]['stem'][2]:\n",
    "                    if len(chunks[i]['lex'])==len(chunks[i]['stem'][0])+1:\n",
    "                        if chunks[i]['lex'][-2]=='ы':\n",
    "                            if chunks[i]['stem'][0][-1] in cons and chunks[i]['stem'][0][-2] in cons:\n",
    "                                first_a_y_class.append(i)\n",
    "\n",
    "classes['first_a_y_class'] = first_a_y_class\n",
    "len(first_a_y_class)"
   ]
  },
  {
   "cell_type": "markdown",
   "metadata": {},
   "source": [
    "## iteration 21"
   ]
  },
  {
   "cell_type": "code",
   "execution_count": 477,
   "metadata": {
    "collapsed": false
   },
   "outputs": [
    {
     "name": "stdout",
     "output_type": "stream",
     "text": [
      "470\n",
      "1896\n",
      "{'lex': 'рэвымрэв',\n",
      " 'paradigms': ['N-obl', 'N-nom-0', 'N-pl-yt'],\n",
      " 'stem': ['рэвьшрэв', 'равьшрав', 'рэвымрэв', 'рэвьшрэв'],\n",
      " 'trans_ru': 'куропатка'}\n",
      "930\n",
      "{'lex': 'кэрварыквын',\n",
      " 'paradigms': ['N-obl', 'N-nom-n', 'N-pl-yt'],\n",
      " 'stem': ['кэрварыкв', 'кэрварыкв', 'кэрварыквы', 'кэрварыкв'],\n",
      " 'trans_ru': 'подлокотник из шкуры белого медведя'}\n",
      "1662\n",
      "{'lex': 'пэкыл',\n",
      " 'paradigms': ['N-obl', 'N-nom-0', 'N-pl-t'],\n",
      " 'stem': ['пэкылтэ//пэгля', 'пэкылтэ//пэгля', 'пэкыл', 'пэкылтэ//пэгля'],\n",
      " 'trans_ru': '(2) выстрел'}\n",
      "2085\n",
      "{'lex': 'тыленэңуттуут',\n",
      " 'paradigms': ['N-obl', 'N-nom-0', 'N-pl-yt'],\n",
      " 'stem': ['тыленэңутт', 'тылянаңотт', 'тыленэңуттуут', 'тыленэңутт'],\n",
      " 'trans_ru': 'мачта'}\n",
      "1054\n",
      "{'lex': 'қымэтвакаңын',\n",
      " 'paradigms': ['N-obl', 'N-nom-n', 'N-pl-yt'],\n",
      " 'stem': ['қымэтвакаңынв',\n",
      "          'қымэтвакаңынв',\n",
      "          'қымэтвакаң.//.қымэтван',\n",
      "          'қымэтвакаңынв'],\n",
      " 'trans_ru': '1) патронник (у ствола винтовки); 2) затвор (винтовки)'}\n",
      "396\n",
      "{'lex': 'гутилгын',\n",
      " 'paradigms': ['N-obl', 'N-nom-lgyn', 'N-pl'],\n",
      " 'stem': ['гути', 'готэ', 'гути', 'гути'],\n",
      " 'trans_ru': 'верёвка для привязи собак'}\n"
     ]
    }
   ],
   "source": [
    "undone = sorted(set(undone)-set(first_a_y_class))\n",
    "print(len(undone))\n",
    "for i in random.sample(set(undone), 6):\n",
    "    print(i)\n",
    "    pprint(chunks[i])"
   ]
  },
  {
   "cell_type": "code",
   "execution_count": 478,
   "metadata": {
    "collapsed": true
   },
   "outputs": [],
   "source": [
    "with open('dictionary.json', 'w') as f:\n",
    "    json.dump(chunks, f)"
   ]
  },
  {
   "cell_type": "code",
   "execution_count": 479,
   "metadata": {
    "collapsed": false
   },
   "outputs": [],
   "source": [
    "with open('classes_indices.json', 'w') as f:\n",
    "    json.dump(classes, f)"
   ]
  },
  {
   "cell_type": "code",
   "execution_count": 480,
   "metadata": {
    "collapsed": true
   },
   "outputs": [],
   "source": [
    "with open('undone.json', 'w') as f:\n",
    "    json.dump(undone, f)"
   ]
  },
  {
   "cell_type": "markdown",
   "metadata": {},
   "source": [
    "## general stranges"
   ]
  },
  {
   "cell_type": "code",
   "execution_count": 82,
   "metadata": {
    "collapsed": false
   },
   "outputs": [
    {
     "name": "stdout",
     "output_type": "stream",
     "text": [
      "{'stem': ['эюпычь', 'аёпычь', 'аёпычьы', 'эюпычь'], 'lex': 'аёпычьылгын', 'trans_ru': 'колючка', 'paradigms': ['N-obl', 'N-nom-lgyn', 'N-pl-yt']}\n",
      "{'stem': ['эмыпчек', 'амыпчяк', 'амыпчакы', 'эмыпчек'], 'lex': 'амыпчакылгын', 'trans_ru': 'короткий сапог (торбаз) из нерпичьей шкуры ', 'paradigms': ['N-obl', 'N-nom-lgyn', 'N-pl-yt']}\n",
      "{'stem': ['эңэр', 'аңар', 'аңат', 'эңэр'], 'lex': 'аңатлыңын', 'trans_ru': 'звезда', 'paradigms': ['N-obl', 'N-nom-n', 'N-pl-ti']}\n",
      "{'stem': ['эпээпэг', 'апаапаг', 'апаапаглың', 'эпээпэг'], 'lex': 'апаапаглыңын', 'trans_ru': 'паук', 'paradigms': ['N-obl', 'N-nom-n', 'N-pl-ti']}\n",
      "{'stem': [\"э'лючи\", \"а'лёчэ\", \"а'лёче\", \"э'лючи\"], 'lex': \"а'лёчелгын\", 'trans_ru': 'кукла', 'paradigms': ['N-obl', 'N-nom-lgyn', 'N-pl-t']}\n",
      "{'stem': [\"э'т\", \"а'т\", \"а'р\", \"э'т\"], 'lex': \"а'рытлыңын\", 'trans_ru': 'большой палец', 'paradigms': ['N-obl', 'N-nom-n', 'N-pl-ti']}\n",
      "{'stem': ['вэг', 'ваг', 'вагы', 'вэг'], 'lex': 'вагылгын', 'trans_ru': 'ноготь, коготь', 'paradigms': ['N-obl', 'N-nom-lgyn', 'N-pl-yt']}\n",
      "{'stem': ['вэлв', 'валв', 'валвыйң', 'вэлв'], 'lex': 'валвыйңын', 'trans_ru': 'ворон', 'paradigms': ['N-obl', 'N-nom-n', 'N-pl-yt']}\n",
      "{'stem': ['вэлқыл', 'валқыл', 'валқыт', 'вэлқыл'], 'lex': 'валқытлыңын', 'trans_ru': '* нижняя челюсть', 'paradigms': ['N-obl', 'N-nom-n', 'N-pl-ti']}\n",
      "{'stem': ['вэнуқ', 'ваноқ', 'ваноқы', 'вэнуқ'], 'lex': 'ваноқылгын', 'trans_ru': 'щека (с внутренней стороны)', 'paradigms': ['N-obl', 'N-nom-lgyn', 'N-pl-yt']}\n",
      "{'stem': ['виври', 'вэврэ', 'вивыр', 'виври'], 'lex': 'вивыр', 'trans_ru': '1) доска для выделки шкур; 2) доска для сидения в лодке, на нарте (собачьей упряжки)', 'paradigms': ['N-obl', 'N-nom-0', 'N-pl-t']}\n",
      "{'stem': ['вивт', 'вэвт', 'вивыт', 'вивт'], 'lex': 'вивыт', 'trans_ru': 'китовый ус', 'paradigms': ['N-obl', 'N-nom-0', 'N-pl-yt']}\n",
      "{'stem': ['виил', 'вээл', 'виилвиил', 'виил'], 'lex': 'виилвиил', 'trans_ru': 'тень', 'paradigms': ['N-obl', 'N-nom-0', 'N-pl-ti']}\n",
      "{'stem': ['виилгитэнэңэ', 'вээлгэтанаңа', 'виилгитэнэң', 'виилгитэнэңэ'], 'lex': 'виилгитэнэң', 'trans_ru': 'зеркало', 'paradigms': ['N-obl', 'N-nom-0', 'N-pl-t']}\n",
      "{'stem': ['вилыт//вил', 'вэлыт//вэл', 'вилвил', 'вилыт//вил'], 'lex': 'вилвил', 'trans_ru': '1) имущество; 2) товар; 3) цена; 4) плата', 'paradigms': ['N-obl', 'N-nom-0', 'N-pl-ti']}\n",
      "{'stem': ['винв', 'вэнв', 'вины', 'винв'], 'lex': 'вины', 'trans_ru': 'след', 'paradigms': ['N-obl', 'N-nom-0', 'N-pl-yt']}\n",
      "{'stem': ['винри', 'вэнрэ', 'виңыр', 'винри'], 'lex': 'виңыр', 'trans_ru': 'мотыга для выкапывания корней', 'paradigms': ['N-obl', 'N-nom-0', 'N-pl-t']}\n",
      "{'stem': ['вириңыткунэңэ', 'вэрэңытконаңа', 'вириңыткунэң', 'вириңыткунэңэ'], 'lex': 'вириңыткунэң', 'trans_ru': 'орудие защиты', 'paradigms': ['N-obl', 'N-nom-0', 'N-pl-t']}\n",
      "{'stem': ['виру', 'вэро', 'вирувир', 'виру'], 'lex': 'вирувир', 'trans_ru': 'рыба из породы лососёвых', 'paradigms': ['N-obl', 'N-nom-0', 'N-pl-t']}\n",
      "{'stem': ['витъ', 'вэтъ', 'витъывит.//.вить', 'витъ'], 'lex': 'витъывит', 'trans_ru': '1) белый болотный мох; 2) фитиль ', 'paradigms': ['N-obl', 'N-nom-0', 'N-pl-yt']}\n",
      "{'stem': ['вулвутт', 'волвотт', 'вулвуттуут', 'вулвутт'], 'lex': 'вулвуттуут', 'trans_ru': 'поперечная перекладина', 'paradigms': ['N-obl', 'N-nom-0', 'N-pl-yt']}\n",
      "{'stem': ['вуул', 'воол', 'вуул*', 'вуул'], 'lex': 'вуул*', 'trans_ru': 'зубило', 'paradigms': ['N-obl', 'N-nom-0', 'N-pl-ti']}\n",
      "{'stem': ['вэйылвинэң', 'вайылвэнаң', 'въэйылвинэң', 'вэйылвинэң'], 'lex': 'въэйылвинэң', 'trans_ru': '1) коса', 'paradigms': ['N-obl', 'N-nom-0', 'N-pl-yt']}\n",
      "{'stem': ['въэн', 'въан', 'въэнывэн', 'въэн'], 'lex': 'въэнывэн', 'trans_ru': '* навага', 'paradigms': ['N-obl', 'N-nom-n', 'N-pl-yt']}\n",
      "{'stem': ['выйил', 'выйэл', 'выйилвыйил', 'выйил'], 'lex': 'выйилвыйил', 'trans_ru': 'тень', 'paradigms': ['N-obl', 'N-nom-0', 'N-pl-ti']}\n",
      "{'stem': ['выльинтывинэңэ', 'выльэнтывэнаңа', 'выльинтывинэң.//.выльинтывэчг', 'выльинтывинэңэ'], 'lex': 'выльинтывинэң', 'trans_ru': 'носовой платок', 'paradigms': ['N-obl', 'N-nom-0', 'N-pl-t']}\n",
      "{'stem': ['въэн', 'въан', 'вэқ', 'въэн'], 'lex': 'вэқын', 'trans_ru': 'навага', 'paradigms': ['N-obl', 'N-nom-n', 'N-pl-yt']}\n",
      "{'stem': ['вэлвыегыт', 'валвыягыт', 'вэлвыегыт', 'вэлгыег, валвыягылгын'], 'lex': 'вэлвыегыт', 'trans_ru': 'канадские лыжи', 'paradigms': ['N-obl', 'N-nom-0', 'N-pl']}\n",
      "{'stem': ['вэли', 'валэ', 'вэливэл', 'вэли'], 'lex': 'вэливэл', 'trans_ru': 'застывший тюлений жир', 'paradigms': ['N-obl', 'N-nom-0', 'N-pl-t']}\n",
      "{'stem': ['вэл', 'вал', 'вэлывэл', 'вэл'], 'lex': 'вэлывэл', 'trans_ru': '(2) напёрсток', 'paradigms': ['N-obl', 'N-nom-0', 'N-pl-yt']}\n",
      "{'stem': ['вэни', 'ванэ', 'вэнивэ', 'вэни'], 'lex': 'вэнивэн', 'trans_ru': 'бубенчик', 'paradigms': ['N-obl', 'N-nom-n', 'N-pl-t']}\n",
      "{'stem': ['вэңынв', 'ваңынв', 'вэң', 'вэңынв'], 'lex': 'вэңын', 'trans_ru': '(2) дуга (на нартах)', 'paradigms': ['N-obl', 'N-nom-n', 'N-pl-yt']}\n",
      "{'stem': ['вэрэнв', 'варанв', 'вэрэн', 'вэрэнв'], 'lex': 'вэрэн', 'trans_ru': '(2) место спуска', 'paradigms': ['N-obl', 'N-nom-n', 'N-pl-yt']}\n",
      "{'stem': ['вэлв', 'валв', 'вэтлы', 'вэлв'], 'lex': 'вэтлы', 'trans_ru': 'ворон', 'paradigms': ['N-obl', 'N-nom-0', 'N-pl-yt']}\n",
      "{'stem': ['гиң', 'гэң', 'гиңынгиң', 'гиң'], 'lex': 'гиңынгиң', 'trans_ru': 'рыболовная сеть', 'paradigms': ['N-obl', 'N-nom-0', 'N-pl-yt']}\n",
      "{'stem': ['гитэнэңэ', 'гэтанаңа', 'гитэнэң', 'гитэнэңэ'], 'lex': 'гитэнэң', 'trans_ru': 'бинокль, подзорная труба', 'paradigms': ['N-obl', 'N-nom-0', 'N-pl-t']}\n",
      "{'stem': ['гытэв', 'гытав', 'гытэв.//.гытэвичг', 'гытэв'], 'lex': 'гытэв', 'trans_ru': '1) трава для вытирания 2) тряпка для вытирания', 'paradigms': ['N-obl', 'N-nom-0', 'N-pl-yt']}\n",
      "{'stem': ['гэкэнрэт', 'гаканрат', 'гэкэнрэт.//.гэкэң', 'гэкэнрэт'], 'lex': 'гэкэнрэт', 'trans_ru': 'пара упряжных оленей', 'paradigms': ['N-obl', 'N-nom-0', 'N-pl-ti']}\n",
      "{'stem': ['гээв', 'гаав', 'гээв.//.тгээв', 'гээв'], 'lex': 'гээв', 'trans_ru': 'лиственница', 'paradigms': ['N-obl', 'N-nom-0', 'N-pl-yt']}\n",
      "{'stem': ['йигйи', 'йэгйэ', 'егъе', 'йигйи'], 'lex': 'егъелгын', 'trans_ru': 'тонкая кишка', 'paradigms': ['N-obl', 'N-nom-lgyn', 'N-pl-t']}\n",
      "{'stem': ['еңқи', 'яңқэ', 'еңқиеқ', 'еңқи'], 'lex': 'еңқиеқ', 'trans_ru': 'петля (для застегивания)', 'paradigms': ['N-obl', 'N-nom-0', 'N-pl-t']}\n",
      "{'stem': ['ерг', 'ярг', 'ергыер.//.ерг', 'ерг'], 'lex': 'ергыер', 'trans_ru': 'ровное место', 'paradigms': ['N-obl', 'N-nom-0', 'N-pl-yt']}\n",
      "{'stem': ['ивтыл', 'эвтыл', 'ивтыли', 'ивтыл'], 'lex': 'ивтылин', 'trans_ru': '1) низ; 2) подножье ', 'paradigms': ['N-obl', 'N-nom-n', 'N-pl-ti']}\n",
      "{'stem': ['ии', 'ээ', 'иин//иитылқыл', 'ии'], 'lex': 'иин', 'trans_ru': 'оленья шкура для пошива одежды', 'paradigms': ['N-obl', 'N-nom-n', 'N-pl-t']}\n",
      "{'stem': ['ил', 'эл', 'илиил.//.илил', 'ил'], 'lex': 'илиил', 'trans_ru': 'дождь', 'paradigms': ['N-obl', 'N-nom-0', 'N-pl-yt']}\n",
      "{'stem': ['ил', 'эл', 'илыил', 'ил'], 'lex': 'илыил', 'trans_ru': 'дождь', 'paradigms': ['N-obl', 'N-nom-0', 'N-pl-yt']}\n",
      "{'stem': ['имтиқэг', 'эмтэқаг', 'имтиқэй', 'имтиқэг'], 'lex': 'имтиқэй', 'trans_ru': 'котомка', 'paradigms': ['N-obl', 'N-nom-0', 'N-pl-ti']}\n",
      "{'stem': ['имчуқэ', 'эмчоқа', 'имчуқ', 'имчуқэ'], 'lex': 'имчуқ', 'trans_ru': 'всплеск', 'paradigms': ['N-obl', 'N-nom-0', 'N-pl-t']}\n",
      "{'stem': ['имти', 'эмтэ', 'имыт', 'имти'], 'lex': 'имыт', 'trans_ru': 'ноша', 'paradigms': ['N-obl', 'N-nom-0', 'N-pl-t']}\n",
      "{'stem': ['имытлюқэг', 'эмытлёқаг', 'имытлюқэй', 'имытлюқэг'], 'lex': 'имытлюқэй', 'trans_ru': 'всплеск', 'paradigms': ['N-obl', 'N-nom-0', 'N-pl-ti']}\n",
      "{'stem': ['ину', 'эно', 'инуу', 'ину'], 'lex': 'инуун', 'trans_ru': 'часть оленьего окорока', 'paradigms': ['N-obl', 'N-nom-n', 'N-pl-t']}\n",
      "{'stem': ['инэнвучвэт', 'энанвочват', 'инэнвучвэт.//.инэнгучвэт', 'инэнвучвэт'], 'lex': 'инэнвучвэт', 'trans_ru': 'крючок, дверной запор', 'paradigms': ['N-obl', 'N-nom-0', 'N-pl-ti']}\n",
      "{'stem': ['инэңэ', 'энаңа', 'инэң', 'инэңэ'], 'lex': 'инэң', 'trans_ru': '1) груз; 2) грузовая нарта', 'paradigms': ['N-obl', 'N-nom-0', 'N-pl-t']}\n",
      "{'stem': ['ирв', 'эрв', 'ирвыир', 'ирв'], 'lex': 'ирвыир', 'trans_ru': '1) холодное оружие; 2) острый предмет', 'paradigms': ['N-obl', 'N-nom-0', 'N-pl-yt']}\n",
      "{'stem': ['ирвыпиңэ', 'эрвыпэңа', 'ирвыпиңэпи', 'ирвыпиңэ'], 'lex': 'ирвыпиңэпин', 'trans_ru': '1) колючий снег; 2) град', 'paradigms': ['N-obl', 'N-nom-n', 'N-pl-t']}\n",
      "{'stem': [\"и'мпыргу\", \"э'мпырго\", \"и'мпыргук\", \"и'мпыргу\"], 'lex': \"и'мпыргук\", 'trans_ru': 'свинья', 'paradigms': ['N-obl', 'N-nom-0', 'N-pl-t']}\n",
      "{'stem': [\"и'ңыпчиқэ\", \"э'ңыпчэқа\", \"и'ңыпчиқ\", \"и'ңыпчиқэ\"], 'lex': \"и'ңыпчиқ\", 'trans_ru': 'касатка ', 'paradigms': ['N-obl', 'N-nom-0', 'N-pl-t']}\n",
      "{'stem': [\"и'тъут, и'ту\", \"э'тъот, э'то\", \"и'тъуи'т.//.и'туи'т\", \"и'тъут, и'ту\"], 'lex': \"и'тъуи'т\", 'trans_ru': 'гусь', 'paradigms': ['N-obl', 'N-nom-0', 'N-pl-t']}\n",
      "{'stem': ['йилыт, йили', 'йэлыт, йэлэ', 'йилыйил.//.йилиил', 'йилыт, йили'], 'lex': 'йилыйил', 'trans_ru': '1) язык (орган); 2) лопасть (весла)', 'paradigms': ['N-obl', 'N-nom-0', 'N-pl-t']}\n",
      "{'stem': ['йильэ', 'йэльа', 'йильэйил', 'йильэ'], 'lex': 'йильэйил', 'trans_ru': 'евражка ', 'paradigms': ['N-obl', 'N-nom-0', 'N-pl-t']}\n",
      "{'stem': ['йиң', 'йэң', 'йиңынйиң', 'йиң'], 'lex': 'йиңынйиң', 'trans_ru': 'рыболовная сеть', 'paradigms': ['N-obl', 'N-nom-0', 'N-pl-yt']}\n",
      "{'stem': ['йитти, йитйит', 'йэттэ, йэтйэт', 'йитйит', 'йитти, йитйит'], 'lex': 'йитйит', 'trans_ru': 'капля', 'paradigms': ['N-obl', 'N-nom-0', 'N-pl-ti']}\n",
      "{'stem': ['йыңэ', 'йыңа', 'йыңэйың', 'йыңэ'], 'lex': 'йыңэйың', 'trans_ru': 'туман', 'paradigms': ['N-obl', 'N-nom-0', 'N-pl-t']}\n",
      "{'stem': ['кэгрил', 'кагрэл', 'кагрэт', 'кэгрил'], 'lex': 'кагрэтлыңын', 'trans_ru': 'ладонь', 'paradigms': ['N-obl', 'N-nom-n', 'N-pl-ti']}\n",
      "{'stem': ['кэгынм', 'кагынм', 'кагынмы', 'кэгынм'], 'lex': 'кагынмылгын', 'trans_ru': 'кулак', 'paradigms': ['N-obl', 'N-nom-lgyn', 'N-pl-yt']}\n",
      "{'stem': ['кэли', 'калэ', 'кале', 'кэли'], 'lex': 'калелгын', 'trans_ru': 'узор вышивки', 'paradigms': ['N-obl', 'N-nom-lgyn', 'N-pl-t']}\n",
      "{'stem': ['кэңи', 'каңэ', 'каңэгырг', 'кэңи'], 'lex': 'каңэгыргын', 'trans_ru': 'извилина, изгиб', 'paradigms': ['N-obl', 'N-nom-n', 'N-pl-t']}\n",
      "{'stem': ['килвэг', 'кэлваг', 'килвэй', 'килвэг'], 'lex': 'килвэй', 'trans_ru': 'праздник после отёла оленей (праздник рогов)', 'paradigms': ['N-obl', 'N-nom-0', 'N-pl-ti']}\n",
      "{'stem': ['ким', 'кэм', 'кимыким', 'ким'], 'lex': 'кимыким', 'trans_ru': '1) медлительность; 2) помеха', 'paradigms': ['N-obl', 'N-nom-0', 'N-pl-yt']}\n",
      "{'stem': ['кувлевт', 'ковлявт', 'кувлевыт', 'кувлевт'], 'lex': 'кувлевыт', 'trans_ru': 'чир ', 'paradigms': ['N-obl', 'N-nom-0', 'N-pl-yt']}\n",
      "{'stem': ['кукинэңэ', 'кокэнаңа', 'кукинэң', 'кукинэңэ'], 'lex': 'кукинэң', 'trans_ru': 'грузовая нарта для перевозки посуды', 'paradigms': ['N-obl', 'N-nom-0', 'N-pl-t']}\n",
      "{'stem': ['кувле', 'ковля', 'кукыл', 'кувле'], 'lex': 'кукыл', 'trans_ru': 'кривой, одноглазый', 'paradigms': ['N-obl', 'N-nom-0', 'N-pl-t']}\n",
      "{'stem': ['къуку', 'къоко', 'къоколгын*', 'къуку'], 'lex': 'къоколгын*', 'trans_ru': '1) бородавка; 2) нарост на дереве', 'paradigms': ['N-obl', 'N-nom-0', 'N-pl-t']}\n",
      "{'stem': ['кывэг', 'кываг', 'кывэй', 'кывэг'], 'lex': 'кывэй', 'trans_ru': 'гостинец, украшение', 'paradigms': ['N-obl', 'N-nom-0', 'N-pl-ti']}\n",
      "{'stem': ['кымли', 'кымлэ', 'кымле', 'кымли'], 'lex': 'кымлелгын', 'trans_ru': '1) вата; 2) слипшаяся шерсть (у собак)', 'paradigms': ['N-obl', 'N-nom-lgyn', 'N-pl-t']}\n",
      "{'stem': ['кымли', 'кымлэ', 'кымликым', 'кымли'], 'lex': 'кымликым', 'trans_ru': '1) одуванчик; 2) вата', 'paradigms': ['N-obl', 'N-nom-0', 'N-pl-t']}\n",
      "{'stem': ['кымчек', 'кымчяк', 'кымчек.//.кымчек', 'кымчек'], 'lex': 'кымчек', 'trans_ru': '(2) 1) съедобный корень; 2) картофель', 'paradigms': ['N-obl', 'N-nom-0', 'N-pl-yt']}\n",
      "{'stem': ['кырвирти, кырвит', 'кырвэртэ, кырвэт', 'кырвир.//.кырвэтлың', 'кырвирти, кырвит'], 'lex': 'кырвир', 'trans_ru': 'волос', 'paradigms': ['N-obl', 'N-nom-0', 'N-pl-ti']}\n",
      "{'stem': ['кыргэп', '', 'кыргэпыт//кыргыпчекыт'], 'lex': 'кыргэп', 'trans_ru': '(2) летний сапог (торбаз) из короткошёрстных шкур', 'paradigms': ['N-obl', 'N-nom-0', 'N-pl']}\n",
      "{'stem': ['кырымқули', 'кырымқолэ', 'кырымқулиқул', 'кырымқули'], 'lex': 'кырымқулиқул', 'trans_ru': '1) хриплый голос; 2) бас', 'paradigms': ['N-obl', 'N-nom-0', 'N-pl-t']}\n",
      "{'stem': ['кырымынтэ', 'кырымынта', 'кырымынты', 'кырымынтэ'], 'lex': 'кырымынты', 'trans_ru': 'трёхгодовалый олень (самец)', 'paradigms': ['N-obl', 'N-nom-0', 'N-pl-t']}\n",
      "{'stem': ['кытвэнтэ, кытвэнв', 'кытванта, кытванв', 'кытвэн', 'кытвэнтэ, кытвэнв'], 'lex': 'кытвэн', 'trans_ru': '(2) тропа', 'paradigms': ['N-obl', 'N-nom-n', 'N-pl-yt']}\n",
      "{'stem': ['кыче', 'кычя', 'кыча', 'кыче'], 'lex': 'кычалгын', 'trans_ru': '* шкура с оленьего лба', 'paradigms': ['N-obl', 'N-nom-lgyn', 'N-pl-t']}\n",
      "{'stem': ['кычимэ', 'кычэма', 'кычема', 'кычимэ'], 'lex': 'кычемалгын', 'trans_ru': 'почка (орган)', 'paradigms': ['N-obl', 'N-nom-lgyn', 'N-pl-t']}\n",
      "{'stem': ['кэвынв', 'кавынв', 'кэв', 'кэвынв'], 'lex': 'кэвын', 'trans_ru': '(2) 1) кочёвка; 2) ночлег', 'paradigms': ['N-obl', 'N-nom-n', 'N-pl-yt']}\n",
      "{'stem': ['кэвэқэг', 'кавақаг', 'кэвэқэй', 'кэвэқэг'], 'lex': 'кэвэқэй', 'trans_ru': '1) неровность; 2) холм', 'paradigms': ['N-obl', 'N-nom-0', 'N-pl-ti']}\n",
      "{'stem': ['кэвэткунэңэ', 'каватконаңа', 'кэвэткунэң', 'кэвэткунэңэ'], 'lex': 'кэвэткунэң', 'trans_ru': 'рубанок', 'paradigms': ['N-obl', 'N-nom-0', 'N-pl-t']}\n",
      "{'stem': ['кэйи', 'кайэ', 'кэйикэй', 'кэйи'], 'lex': 'кэйикэй', 'trans_ru': 'шкварка', 'paradigms': ['N-obl', 'N-nom-0', 'N-pl-t']}\n",
      "{'stem': ['кэли', 'калэ', 'кэликэл', 'кэли'], 'lex': 'кэликэл', 'trans_ru': '1) пестрина; 2) резьба; 3) черта; 4) рисунок; 5) письмо; 6) книга', 'paradigms': ['N-obl', 'N-nom-0', 'N-pl-t']}\n",
      "{'stem': ['кэлильыпчиқэ', 'калэльыпчэқа', 'кэлильыпчиқ', 'кэлильыпчиқэ'], 'lex': 'кэлильыпчиқ', 'trans_ru': 'пуночка', 'paradigms': ['N-obl', 'N-nom-0', 'N-pl-t']}\n",
      "{'stem': ['кэлинңивэт', 'калэнңэват', 'кэлинңив.//.кэлинңивэт', 'кэлинңивэт'], 'lex': 'кэлинңивын', 'trans_ru': '1) письмо; 2) записка', 'paradigms': ['N-obl', 'N-nom-n', 'N-pl-ti']}\n",
      "{'stem': ['кэлиткунэңэ', 'калэтконаңа', 'кэлиткунэң', 'кэлиткунэңэ'], 'lex': 'кэлиткунэң', 'trans_ru': 'карандаш', 'paradigms': ['N-obl', 'N-nom-0', 'N-pl-t']}\n",
      "{'stem': ['кэльэ', 'кальа', 'кэлы', 'кэльэ'], 'lex': 'кэлы', 'trans_ru': 'злой дух', 'paradigms': ['N-obl', 'N-nom-0', 'N-pl-t']}\n",
      "{'stem': ['кэмгэ', 'камга', 'кэмгэкэм', 'кэмгэ'], 'lex': 'кэмгэкэм', 'trans_ru': 'олень с белой шерстью на задних ногах', 'paradigms': ['N-obl', 'N-nom-0', 'N-pl-t']}\n",
      "{'stem': ['кэмки', 'камкэ', 'кэмкикэм', 'кэмки'], 'lex': 'кэмкикэм', 'trans_ru': 'нельма', 'paradigms': ['N-obl', 'N-nom-0', 'N-pl-t']}\n",
      "{'stem': ['кинм', 'кэнм', 'кэнмы', 'кинм'], 'lex': 'кэнмылгын', 'trans_ru': '(2) 1) корень (растения); 2) основа', 'paradigms': ['N-obl', 'N-nom-lgyn', 'N-pl-yt']}\n",
      "{'stem': ['кину', 'кэно', 'кэногырг.//.кэно', 'кину'], 'lex': 'кэногыргын', 'trans_ru': 'шрам', 'paradigms': ['N-obl', 'N-nom-n', 'N-pl-t']}\n",
      "{'stem': ['кэнти', 'кантэ', 'кэнтиқэй', 'кэнти'], 'lex': 'кэнтиқэй', 'trans_ru': 'конфета', 'paradigms': ['N-obl', 'N-nom-0', 'N-pl-t']}\n",
      "{'stem': ['кэңунэңэ', 'каңонаңа', 'кэңунэң', 'кэңунэңэ'], 'lex': 'кэңунэң', 'trans_ru': 'палка, посох', 'paradigms': ['N-obl', 'N-nom-0', 'N-pl-t']}\n",
      "{'stem': ['кирвэ', 'кэрва', 'кэрват', 'кирвэ'], 'lex': 'кэрватлыңын', 'trans_ru': 'локоть', 'paradigms': ['N-obl', 'N-nom-n', 'N-pl-t']}\n",
      "{'stem': ['кээтвинэңэ', 'каатвэнаңа', 'кээтвинэң', 'кээтвинэңэ'], 'lex': 'кээтвинэң', 'trans_ru': '* рубанок', 'paradigms': ['N-obl', 'N-nom-0', 'N-pl-t']}\n",
      "{'stem': ['қэңқыт//қэңқу', 'қаңқыт//қаңқо', 'қаңқо', 'қэңқыт//қэңқу'], 'lex': 'қаңқолгын', 'trans_ru': 'краб', 'paradigms': ['N-obl', 'N-nom-lgyn', 'N-pl-t']}\n",
      "{'stem': [', қит', ', қэт', 'қитықит', ', қит'], 'lex': 'қитықит', 'trans_ru': 'мёрзлое мясо, рыба', 'paradigms': ['N-obl', 'N-nom-0', 'N-pl-yt']}\n",
      "{'stem': ['қувынм', 'қовынм', 'қовынмы', 'қувынм'], 'lex': 'қовынмылгын', 'trans_ru': 'задняя часть языка вместе с горловиной и мускулами', 'paradigms': ['N-obl', 'N-nom-lgyn', 'N-pl-yt']}\n",
      "{'stem': ['қут', 'қот', 'қол', 'қут'], 'lex': 'қол', 'trans_ru': '1) другой; 2) один из...; қол итык однажды (употр. с неперех. глаг.); қол рытык однажды (употр. с перех. глаг.)', 'paradigms': ['N-obl', 'N-nom-0', 'N-pl-ti']}\n",
      "{'stem': ['қувлик', 'қовлэк', 'қувлик.//.қувликыль', 'қувлик'], 'lex': 'қувлик', 'trans_ru': '1) одиночка (о человеке); 2) вдовец, вдова', 'paradigms': ['N-obl', 'N-nom-0', 'N-pl-yt']}\n",
      "{'stem': ['қуйви', 'қойвэ', 'қуйвиқуй', 'қуйви'], 'lex': 'қуйвиқуй', 'trans_ru': '1) наледь; 2) ледник; 3) ледяное пространство', 'paradigms': ['N-obl', 'N-nom-0', 'N-pl-t']}\n",
      "{'stem': ['қуймэ', 'қойма', 'қуйым', 'қуймэ'], 'lex': 'қуйым', 'trans_ru': '1) задняя часть штанов; 2) залив, морская губа', 'paradigms': ['N-obl', 'N-nom-0', 'N-pl-t']}\n",
      "{'stem': ['қулг', 'қолг', 'қулгықул.//.қулгы', 'қулг'], 'lex': 'қулгықул', 'trans_ru': 'рыбья кожа', 'paradigms': ['N-obl', 'N-nom-0', 'N-pl-yt']}\n",
      "{'stem': ['қули', 'қолэ', 'қулиқул', 'қули'], 'lex': 'қулиқул', 'trans_ru': '1) голос; 2) возглас; 3) крик', 'paradigms': ['N-obl', 'N-nom-0', 'N-pl-t']}\n",
      "{'stem': ['қулиқытэ', 'қолэқыта', 'қулиқыт', 'қулиқытэ'], 'lex': 'қулиқыт', 'trans_ru': 'корыто', 'paradigms': ['N-obl', 'N-nom-0', 'N-pl-t']}\n",
      "{'stem': ['қулинутэ', 'қолэнота', 'қулинутэнут', 'қулинутэ'], 'lex': 'қулинутэнут', 'trans_ru': '* другая страна', 'paradigms': ['N-obl', 'N-nom-0', 'N-pl-t']}\n",
      "{'stem': ['қупыкэ', 'қопыка', 'қупыкы', 'қупыкэ'], 'lex': 'қупыкы', 'trans_ru': 'гага (птица)', 'paradigms': ['N-obl', 'N-nom-0', 'N-pl-t']}\n",
      "{'stem': ['қые', 'қыя', 'қыеқий', 'қые'], 'lex': 'қыеқий', 'trans_ru': '1) железное или роговое кольцо для аркана, узды; 2) блок', 'paradigms': ['N-obl', 'N-nom-0', 'N-pl-t']}\n",
      "{'stem': ['қынңэт', 'қынңат', 'қынңатгырг.//.қынңэт', 'қынңэт'], 'lex': 'қынңатгыргын', 'trans_ru': '1) стон; 2) кряхтение', 'paradigms': ['N-obl', 'N-nom-n', 'N-pl-ti']}\n",
      "{'stem': ['қэймилгэт', 'қаймэлгат', 'қэймилгэр', 'қэймилгэт'], 'lex': 'қэймилгэр', 'trans_ru': 'пистолет', 'paradigms': ['N-obl', 'N-nom-0', 'N-pl-ti']}\n",
      "{'stem': ['қэймрэқэг', 'қаймрақаг', 'қэймрэқэй', 'қэймрэқэг'], 'lex': 'қэймрэқэй', 'trans_ru': 'мошка', 'paradigms': ['N-obl', 'N-nom-0', 'N-pl-ti']}\n",
      "{'stem': ['қэйъигқэг', 'қайъэгқаг', 'қэйъигқэй', 'қэйъигқэг'], 'lex': 'қэйъигқэй', 'trans_ru': 'волчонок', 'paradigms': ['N-obl', 'N-nom-0', 'N-pl-ti']}\n",
      "{'stem': ['қэйъытв', 'қайъытв', 'қэйъытвъэт', 'қэйъытв'], 'lex': 'қэйъытвъэт', 'trans_ru': '1) байдарка; 2) вельбот', 'paradigms': ['N-obl', 'N-nom-0', 'N-pl-yt']}\n",
      "{'stem': ['қэйықэг', 'қайықаг', 'қэйықэй', 'қэйықэг'], 'lex': 'қэйықэй', 'trans_ru': '1) детёныш кита; 2) птенец', 'paradigms': ['N-obl', 'N-nom-0', 'N-pl-ti']}\n",
      "{'stem': ['қэқукыт//қэккук', 'қақокыт//қаккок', 'қэқук//қэккуқ// қэқучьын', 'қэқукыт//қэккук'], 'lex': 'қэқук', 'trans_ru': 'кукушка', 'paradigms': ['N-obl', 'N-nom-0', 'N-pl-yt']}\n",
      "{'stem': ['қэлги', 'қалгэ', 'қэлгиқэл', 'қэлги'], 'lex': 'қэлгиқэл', 'trans_ru': '1) сцепление; 2) комната ', 'paradigms': ['N-obl', 'N-nom-0', 'N-pl-t']}\n",
      "{'stem': ['қэли', 'қалэ', 'қэлиқэл', 'қэли'], 'lex': 'қэлиқэл', 'trans_ru': 'облако, окутывающее сопку', 'paradigms': ['N-obl', 'N-nom-0', 'N-pl-t']}\n",
      "{'stem': ['қэң', 'қаң', 'қэңықэң', 'қэң'], 'lex': 'қэңықэң', 'trans_ru': '*  небольшая костяная гребёнка (часть оленьей узды)', 'paradigms': ['N-obl', 'N-nom-0', 'N-pl-yt']}\n",
      "{'stem': ['қэпъурутт', 'қапъоротт', 'қэпъуруттуут', 'қэпъурутт'], 'lex': 'қэпъуруттуут', 'trans_ru': 'пень', 'paradigms': ['N-obl', 'N-nom-0', 'N-pl-yt']}\n",
      "{'stem': ['қэпл', 'қапл', 'қэпыл', 'қэпл'], 'lex': 'қэпыл', 'trans_ru': '2 мяч', 'paradigms': ['N-obl', 'N-nom-0', 'N-pl-yt']}\n",
      "{'stem': ['қэру', 'қаро', 'қэруқэр', 'қэру'], 'lex': 'қэруқэр', 'trans_ru': 'кайра', 'paradigms': ['N-obl', 'N-nom-0', 'N-pl-t']}\n",
      "{'stem': ['қэчықэ', 'қачықа', 'қэчықы', 'қэчықэ'], 'lex': 'қэчықы', 'trans_ru': 'моржонок', 'paradigms': ['N-obl', 'N-nom-0', 'N-pl-t']}\n",
      "{'stem': ['левт', 'лявт', 'левыт', 'левт'], 'lex': 'левыт', 'trans_ru': 'голова', 'paradigms': ['N-obl', 'N-nom-0', 'N-pl-yt']}\n",
      "{'stem': ['лейвинэңэ', 'ляйвэнаңа', 'лейвинэң', 'лейвинэңэ'], 'lex': 'лейвинэң', 'trans_ru': 'средство передвижения', 'paradigms': ['N-obl', 'N-nom-0', 'N-pl-t']}\n",
      "{'stem': ['лили', 'лэлэ', 'леле', 'лили'], 'lex': 'лелелгын', 'trans_ru': '(2) рукавица', 'paradigms': ['N-obl', 'N-nom-lgyn', 'N-pl-t']}\n",
      "{'stem': ['лельутв', 'ляльотв', 'лельутвъэт.//.лельутв', 'лельутв'], 'lex': 'лельутвъэт', 'trans_ru': 'корабль', 'paradigms': ['N-obl', 'N-nom-0', 'N-pl-yt']}\n",
      "{'stem': ['линл', 'лэнл', 'ленлы', 'линл'], 'lex': 'ленлылгын', 'trans_ru': 'голубика', 'paradigms': ['N-obl', 'N-nom-lgyn', 'N-pl-yt']}\n",
      "{'stem': ['линл', 'лэнл', 'лиңыл', 'линл'], 'lex': 'лиңыл', 'trans_ru': 'голубика', 'paradigms': ['N-obl', 'N-nom-0', 'N-pl-yt']}\n",
      "{'stem': ['лыгинн', 'лыгэнн', 'лыгиннээ', 'лыгинн'], 'lex': 'лыгиннээн', 'trans_ru': 'голец (рыба)', 'paradigms': ['N-obl', 'N-nom-n', 'N-pl-yt']}\n",
      "{'stem': ['лыгуунъ', 'лыгоонъ', 'лыгоонъы', 'лыгуунъ'], 'lex': 'лыгоонъылгын', 'trans_ru': 'шикша (ягода)', 'paradigms': ['N-obl', 'N-nom-lgyn', 'N-pl-yt']}\n",
      "{'stem': ['лыгутт', 'лыготт', 'лыгуттуут', 'лыгутт'], 'lex': 'лыгуттуут', 'trans_ru': 'полярная ива', 'paradigms': ['N-obl', 'N-nom-0', 'N-pl-yt']}\n",
      "{'stem': ['лылеилгычь', 'лыляэлгычь', 'лыляэлгычьы', 'лылеилгычь'], 'lex': 'лыляэлгычьылгын', 'trans_ru': 'белковая оболочка глаза', 'paradigms': ['N-obl', 'N-nom-lgyn', 'N-pl-yt']}\n",
      "{'stem': ['льуминэңэ', 'льомэнаңа', 'льуминэң', 'льуминэңэ'], 'lex': 'льуминэң', 'trans_ru': '1) узкое долото; 2) стамеска; 3) инструмент для резьбы по кости', 'paradigms': ['N-obl', 'N-nom-0', 'N-pl-t']}\n",
      "{'stem': ['лелг', 'лялг', 'лялгы', 'лелг'], 'lex': 'лялгылгын', 'trans_ru': 'икринка', 'paradigms': ['N-obl', 'N-nom-lgyn', 'N-pl-yt']}\n",
      "{'stem': ['мэнигли', 'манэглэ', 'манегле', 'мэнигли'], 'lex': 'манеглелелгын', 'trans_ru': 'матерчатая рукавица, перчатка', 'paradigms': ['N-obl', 'N-nom-lgyn', 'N-pl-t']}\n",
      "{'stem': ['мигчиринэңэ', 'мэгчэрэнаңа', 'мигчиринэң', 'мигчиринэңэ'], 'lex': 'мигчиринэң', 'trans_ru': 'орудие труда', 'paradigms': ['N-obl', 'N-nom-0', 'N-pl-t']}\n",
      "{'stem': ['милг', 'мэлг', 'милгымил', 'милг'], 'lex': 'милгымил', 'trans_ru': 'спичка', 'paradigms': ['N-obl', 'N-nom-0', 'N-pl-yt']}\n",
      "{'stem': ['милгэрти, милгэт', 'мэлгартэ, мэлгат', 'милгэр', 'милгэрти, милгэт'], 'lex': 'милгэр', 'trans_ru': 'ружьё', 'paradigms': ['N-obl', 'N-nom-0', 'N-pl-ti']}\n",
      "{'stem': ['милгэрмъэми', 'мэлгармъамэ', 'милгэрмэқым', 'милгэрмъэми'], 'lex': 'милгэрмэқым', 'trans_ru': '1) пуля; 2) патрон', 'paradigms': ['N-obl', 'N-nom-0', 'N-pl-t']}\n",
      "{'stem': ['милқ', 'мэлқ', 'милқымил', 'милқ'], 'lex': 'милқымил', 'trans_ru': 'постройка для развешивания рыбы', 'paradigms': ['N-obl', 'N-nom-0', 'N-pl-yt']}\n",
      "{'stem': ['мимл', 'мэмл', 'мимыл./.имыл', 'мимл'], 'lex': 'мимыл', 'trans_ru': 'вода', 'paradigms': ['N-obl', 'N-nom-0', 'N-pl-yt']}\n",
      "{'stem': ['мумкэ', 'момка', 'момкэ', 'мумкэ'], 'lex': 'момкэлгын', 'trans_ru': 'обезьяна', 'paradigms': ['N-obl', 'N-nom-lgyn', 'N-pl-t']}\n",
      "{'stem': ['муле', 'моля', 'мулемул', 'муле'], 'lex': 'мулемул', 'trans_ru': 'мыло', 'paradigms': ['N-obl', 'N-nom-0', 'N-pl-t']}\n",
      "{'stem': ['мумқ', 'момқ', 'мумқымул', 'мумқ'], 'lex': 'мумқымул', 'trans_ru': 'последний весенний снег по ложбинам', 'paradigms': ['N-obl', 'N-nom-0', 'N-pl-yt']}\n",
      "{'stem': ['мутл', 'мотл', 'мутлымул', 'мутл'], 'lex': 'мутлымул', 'trans_ru': 'кровь', 'paradigms': ['N-obl', 'N-nom-0', 'N-pl-yt']}\n",
      "{'stem': ['мырмырти, мырымыр', 'мырмыртэ, мырымыр', 'мырмыр.//.мырымыр', 'мырмырти, мырымыр'], 'lex': 'мырмыр', 'trans_ru': '1) что-л. неприятное; 2)* мусор', 'paradigms': ['N-obl', 'N-nom-0', 'N-pl-ti']}\n",
      "{'stem': ['мычу', 'мычо', 'мычумыч', 'мычу'], 'lex': 'мычумыч', 'trans_ru': 'сок', 'paradigms': ['N-obl', 'N-nom-0', 'N-pl-t']}\n",
      "{'stem': ['мычунэңэ', 'мычонаңа', 'мычунэң', 'мычунэңэ'], 'lex': 'мычунэң', 'trans_ru': 'расчёска', 'paradigms': ['N-obl', 'N-nom-0', 'N-pl-t']}\n",
      "{'stem': ['мъэми', 'мъамэ', 'мэқым', 'мъэми'], 'lex': 'мэқым', 'trans_ru': '1) стрела; 2) пуля', 'paradigms': ['N-obl', 'N-nom-0', 'N-pl-t']}\n",
      "{'stem': ['мэнэ', 'мана', 'мэнэмэ', 'мэнэ'], 'lex': 'мэнэмэн', 'trans_ru': 'нажива для рыболовного крючка', 'paradigms': ['N-obl', 'N-nom-n', 'N-pl-t']}\n",
      "{'stem': ['микын', 'мэкын', 'мэңин', 'микын'], 'lex': 'мэңин', 'trans_ru': 'кто; ~ вай кто-то (в пределах видимости); ~ рай кто-то (невидимый для говорящего)', 'paradigms': ['N-obl', 'N-nom-n', 'N-pl-ti']}\n",
      "{'stem': ['мэрэ', 'мара', 'мэрэмэр', 'мэрэ'], 'lex': 'мэрэмэр', 'trans_ru': '(2) слеза', 'paradigms': ['N-obl', 'N-nom-0', 'N-pl-t']}\n",
      "{'stem': ['нутэкэли', 'нотакалэ', 'нутэкэликэл', 'нутэкэли'], 'lex': 'нутэкэликэл', 'trans_ru': 'карта (геогр.)', 'paradigms': ['N-obl', 'N-nom-0', 'N-pl-t']}\n",
      "{'stem': ['нутэ', 'нота', 'нутэнут', 'нутэ'], 'lex': 'нутэнут', 'trans_ru': '1) земля; 2) страна; 3) тундра', 'paradigms': ['N-obl', 'N-nom-0', 'N-pl-t']}\n",
      "{'stem': ['нучу', 'ночо', 'нучунуч', 'нучу'], 'lex': 'нучунуч', 'trans_ru': 'сельдь', 'paradigms': ['N-obl', 'N-nom-0', 'N-pl-t']}\n",
      "{'stem': ['нывэлынв', 'нывалынв', 'нывэлын', 'нывэлынв'], 'lex': 'нывэлын', 'trans_ru': '(2) 1) остановка; 2) становище', 'paradigms': ['N-obl', 'N-nom-n', 'N-pl-yt']}\n",
      "{'stem': ['ныкит', 'ныкэт', 'ныкирит', 'ныкит'], 'lex': 'ныкирит', 'trans_ru': 'ночь', 'paradigms': ['N-obl', 'N-nom-0', 'N-pl-ti']}\n",
      "{'stem': ['ными', 'нымэ', 'ныминым', 'ными'], 'lex': 'ныминым', 'trans_ru': 'бульон (ещё не закипевший)', 'paradigms': ['N-obl', 'N-nom-0', 'N-pl-t']}\n",
      "{'stem': ['нымтэгн', 'нымтагн', 'ньмтэг', 'нымтэгн'], 'lex': 'ньмтэгын', 'trans_ru': 'околица', 'paradigms': ['N-obl', 'N-nom-n', 'N-pl-yt']}\n",
      "{'stem': ['нэнэнэ', 'нанана', 'нэнэны', 'нэнэнэ'], 'lex': 'нэнэны', 'trans_ru': 'ребёнок', 'paradigms': ['N-obl', 'N-nom-0', 'N-pl-t']}\n",
      "{'stem': ['ңэлп', 'ңалп', 'ңалпы', 'ңэлп'], 'lex': 'ңалпылгын', 'trans_ru': 'спусковой крючок ружья, самострела', 'paradigms': ['N-obl', 'N-nom-lgyn', 'N-pl-yt']}\n",
      "{'stem': ['ңилеқэ', 'ңэляқа', 'ңилеқ', 'ңилеқэ'], 'lex': 'ңилеқ', 'trans_ru': '1) палочка деревянного огнива; 2) спичка', 'paradigms': ['N-obl', 'N-nom-0', 'N-pl-t']}\n",
      "{'stem': ['ңинқэг', 'ңэнқаг', 'ңинқэй', 'ңинқэг'], 'lex': 'ңинқэй', 'trans_ru': 'мальчик', 'paradigms': ['N-obl', 'N-nom-0', 'N-pl-ti']}\n",
      "{'stem': ['ңуйңуг', 'ңойңог', 'ңойңой', 'ңуйңуг'], 'lex': 'ңойңойлыңын', 'trans_ru': 'шерстинка', 'paradigms': ['N-obl', 'N-nom-n', 'N-pl-ti']}\n",
      "{'stem': ['ңувтывинэңэ', 'ңовтывэнаңа', 'ңувтывинэң', 'ңувтывинэңэ'], 'lex': 'ңувтывинэң', 'trans_ru': 'платяная щётка', 'paradigms': ['N-obl', 'N-nom-0', 'N-pl-t']}\n",
      "{'stem': ['ңырэсқыплек', 'ңырасқыпляк', 'ңырасқыплякы', 'ңырэсқыплек'], 'lex': 'ңырасқыплякылгын', 'trans_ru': 'сапог (торбаз) выше колен, без шерсти', 'paradigms': ['N-obl', 'N-nom-lgyn', 'N-pl-yt']}\n",
      "{'stem': ['ңэвъиг', 'ңавъэг', 'ңэвъины', 'ңэвъиг'], 'lex': 'ңэвъины', 'trans_ru': 'волчица', 'paradigms': ['N-obl', 'N-nom-0', 'N-pl-yt']}\n",
      "{'stem': ['ңэвъэн', 'ңавъан', 'ңэвъэ', 'ңэвъэн'], 'lex': 'ңэвъэн', 'trans_ru': 'жена', 'paradigms': ['N-obl', 'N-nom-n', 'N-pl-ti']}\n",
      "{'stem': ['ңэлвыль', 'ңалвыль', 'ңэлвыл', 'ңэлвыль'], 'lex': 'ңэлвыл', 'trans_ru': 'табун', 'paradigms': ['N-obl', 'N-nom-0', 'N-pl-yt']}\n",
      "{'stem': ['ңээккэқэг', 'ңааккақаг', 'ңээккэқэй', 'ңээккэқэг'], 'lex': 'ңээккэқэй', 'trans_ru': 'девочка', 'paradigms': ['N-obl', 'N-nom-0', 'N-pl-ti']}\n",
      "{'stem': ['ңээккэ', 'ңаакка', 'ңээкык', 'ңээккэ'], 'lex': 'ңээкык', 'trans_ru': 'дочь', 'paradigms': ['N-obl', 'N-nom-0', 'N-pl-t']}\n",
      "{'stem': ['уунъ', 'оонъ', 'оонъы', 'уунъ'], 'lex': 'оонъылгын', 'trans_ru': 'ягода', 'paradigms': ['N-obl', 'N-nom-lgyn', 'N-pl-yt']}\n",
      "{'stem': ['утт', 'отт', 'отты', 'утт'], 'lex': 'оттылгын', 'trans_ru': '1) бревно; 2) полено', 'paradigms': ['N-obl', 'N-nom-lgyn', 'N-pl-yt']}\n",
      "{'stem': ['уттыег', 'оттыяг', 'оттыягы', 'уттыег'], 'lex': 'оттыягылгын', 'trans_ru': 'колодка (сапожная)', 'paradigms': ['N-obl', 'N-nom-lgyn', 'N-pl-yt']}\n",
      "{'stem': ['пиқутт', 'пэқотт', 'пиқуттуут', 'пиқутт'], 'lex': 'пиқуттуут', 'trans_ru': 'нижняя рея паруса', 'paradigms': ['N-obl', 'N-nom-0', 'N-pl-yt']}\n",
      "{'stem': ['пиқ', 'пэқ', 'пиқыпиқ', 'пиқ'], 'lex': 'пиқыпиқ', 'trans_ru': '* хвост (рыбы, птицы)', 'paradigms': ['N-obl', 'N-nom-0', 'N-pl-yt']}\n",
      "{'stem': ['пилгыкукэ', 'пэлгыкока', 'пилгыкук.//.пилгыкукэ', 'пилгыкукэ'], 'lex': 'пилгыкук', 'trans_ru': '1) чайник; 2) кувшин', 'paradigms': ['N-obl', 'N-nom-0', 'N-pl-t']}\n",
      "{'stem': ['пиңинэңэ', 'пэңэнаңа', 'пиңинэң', 'пиңинэңэ'], 'lex': 'пиңинэң', 'trans_ru': '1) лучина; 2) свеча', 'paradigms': ['N-obl', 'N-nom-0', 'N-pl-t']}\n",
      "{'stem': ['пиңэ', 'пэңа', 'пиңэпиң', 'пиңэ'], 'lex': 'пиңэпиң', 'trans_ru': 'снегопад', 'paradigms': ['N-obl', 'N-nom-0', 'N-pl-t']}\n",
      "{'stem': ['плыткутэгн', 'плыткотагн', 'плыткутэг', 'плыткутэгн'], 'lex': 'плыткутэгын', 'trans_ru': 'конец', 'paradigms': ['N-obl', 'N-nom-n', 'N-pl-yt']}\n",
      "{'stem': ['пуйъэ', 'пойъа', 'пуйъэпуй', 'пуйъэ'], 'lex': 'пуйъэпуй', 'trans_ru': 'сажа', 'paradigms': ['N-obl', 'N-nom-0', 'N-pl-t']}\n",
      "{'stem': ['пуурэқыт//пурэқ', 'поорақыт//порақ', 'пуурэқ.//.пурэқ', 'пуурэқыт//пурэқ'], 'lex': 'пуурэқ', 'trans_ru': 'белуха ', 'paradigms': ['N-obl', 'N-nom-0', 'N-pl-yt']}\n",
      "{'stem': ['пучьэқэг', 'почьақаг', 'пучьэқэй', 'пучьэқэг'], 'lex': 'пучьэқэй', 'trans_ru': '1) рукавчик; 2) узкая посуда цилиндрической формы с горлышком *', 'paradigms': ['N-obl', 'N-nom-0', 'N-pl-ti']}\n",
      "{'stem': ['пчиқэ', 'пчэқа', 'пчеқа', 'пчиқэ'], 'lex': 'пчеқалгын', 'trans_ru': 'птичка', 'paradigms': ['N-obl', 'N-nom-lgyn', 'N-pl-t']}\n",
      "{'stem': ['пъупуқ', 'пъопоқ', 'пъопэқы', 'пъупуқ'], 'lex': 'пъопэқылгын', 'trans_ru': 'съедобный корень', 'paradigms': ['N-obl', 'N-nom-lgyn', 'N-pl-yt']}\n",
      "{'stem': ['пылвытнтыръэт', 'пылвытнтыръат', 'пылвынтыръэт', 'пылвытнтыръэт'], 'lex': 'пылвынтыръэт', 'trans_ru': '(2) железная дорога', 'paradigms': ['N-obl', 'N-nom-0', 'N-pl-te']}\n",
      "{'stem': ['пытқычвипт', 'пытқычвэпт', 'пытқычвипыт', 'пытқычвипт'], 'lex': 'пытқычвипыт', 'trans_ru': 'четверть', 'paradigms': ['N-obl', 'N-nom-0', 'N-pl-yt']}\n",
      "{'stem': ['пытруқэг', 'пытроқаг', 'пытруқэй', 'пытруқэг'], 'lex': 'пытруқэй', 'trans_ru': 'маленький морской петушок', 'paradigms': ['N-obl', 'N-nom-0', 'N-pl-ti']}\n",
      "{'stem': ['пэкычь', 'пакычь', 'пэкычьы', 'пэкычь'], 'lex': 'пэкычьылгын', 'trans_ru': '(2) морской кулик («плавунчик»)', 'paradigms': ['N-obl', 'N-nom-lgyn', 'N-pl-yt']}\n",
      "{'stem': ['пипик', 'пэпэк', 'пэпэкы', 'пипик'], 'lex': 'пэпэкылгын', 'trans_ru': '(2) лодыжка', 'paradigms': ['N-obl', 'N-nom-lgyn', 'N-pl-yt']}\n",
      "{'stem': ['рис', 'рэс', 'раис', 'рис'], 'lex': 'раис', 'trans_ru': 'рис', 'paradigms': ['N-obl', 'N-nom-0', 'N-pl-ti']}\n",
      "{'stem': ['рэтэмлит//рэтэмлили', 'ратамлэт//ратамлэлэ', 'ратамле', 'рэтэмлит//рэтэмлили'], 'lex': 'ратамлелелгын', 'trans_ru': 'рукавица из ровдуги', 'paradigms': ['N-obl', 'N-nom-lgyn', 'N-pl-t']}\n",
      "{'stem': ['рэтэмъег', 'ратамъяг', 'ратамъягы', 'рэтэмъег'], 'lex': 'ратамъягылгын', 'trans_ru': 'непромокаемые сапоги (торбаза) из ровдуги', 'paradigms': ['N-obl', 'N-nom-lgyn', 'N-pl-yt']}\n",
      "{'stem': ['рилқунэңэ', 'рэлқонаңа', 'рилқунэң', 'рилқунэңэ'], 'lex': 'рилқунэң', 'trans_ru': 'ложка', 'paradigms': ['N-obl', 'N-nom-0', 'N-pl-t']}\n",
      "{'stem': ['рилқ', 'рэлқ', 'рилқырил', 'рилқ'], 'lex': 'рилқырил', 'trans_ru': '1) «маняло» (блюдо из содержимого оленьего желудка); 2) каша', 'paradigms': ['N-obl', 'N-nom-0', 'N-pl-yt']}\n",
      "{'stem': ['рил', 'рэл', 'рилрил', 'рил'], 'lex': 'рилрил', 'trans_ru': 'крыло', 'paradigms': ['N-obl', 'N-nom-0', 'N-pl-ti']}\n",
      "{'stem': ['риңэнэңэ', 'рэңанаңа', 'риңэнэң', 'риңэнэңэ'], 'lex': 'риңэнэң', 'trans_ru': 'самолёт', 'paradigms': ['N-obl', 'N-nom-0', 'N-pl-t']}\n",
      "{'stem': ['рытлит', 'рытлэт', 'ритлит', 'рытлит'], 'lex': 'ритлит', 'trans_ru': '1) груз на верёвке; 2) весовая единица, вес', 'paradigms': ['N-obl', 'N-nom-0', 'N-pl-ti']}\n",
      "{'stem': ['рунм', 'ронм', 'ронмы', 'рунм'], 'lex': 'ронмылгын', 'trans_ru': 'предплечье', 'paradigms': ['N-obl', 'N-nom-lgyn', 'N-pl-yt']}\n",
      "{'stem': ['рубыль', 'робыль', 'рубль', 'рубыль'], 'lex': 'рубль', 'trans_ru': 'рубль', 'paradigms': ['N-obl', 'N-nom-0', 'N-pl-ti']}\n",
      "{'stem': ['ривинэңэ', 'рэвэнаңа', 'рывинэң', 'ривинэңэ'], 'lex': 'рывинэң', 'trans_ru': 'один из опорных шестов яранги', 'paradigms': ['N-obl', 'N-nom-0', 'N-pl-t']}\n",
      "{'stem': ['рықи', 'рықэ', 'рықирық', 'рықи'], 'lex': 'рықирық', 'trans_ru': 'гной', 'paradigms': ['N-obl', 'N-nom-0', 'N-pl-t']}\n",
      "{'stem': ['рылгыли', 'рылгылэ', 'рылгылеле', 'рылгыли'], 'lex': 'рылгылелелгын', 'trans_ru': '* перчатка', 'paradigms': ['N-obl', 'N-nom-lgyn', 'N-pl-t']}\n",
      "{'stem': ['рынгыпченаң', '', 'рынгыпченаңат'], 'lex': 'рынгыпченаң', 'trans_ru': 'зубочистка', 'paradigms': []}\n",
      "{'stem': ['рынны', '', 'рынныт'], 'lex': 'рыннылгын ', 'trans_ru': '1) зуб; 2) рог', 'paradigms': ['N-obl', 'N-nom-lgyn', 'N-pl']}\n",
      "{'stem': ['рынным', '', 'рыннымыт'], 'lex': 'рынным', 'trans_ru': 'десна', 'paradigms': ['N-obl', 'N-nom-0', 'N-pl']}\n",
      "{'stem': ['рыннымай', '', 'рыннымагтэ'], 'lex': 'рыннымай ', 'trans_ru': 'куча рогов в тундре', 'paradigms': ['N-obl', 'N-nom-0', 'N-pl']}\n",
      "{'stem': ['рыновырг.//.рыногырг', '', 'рыновыргыт'], 'lex': 'рыновыргын', 'trans_ru': '* дымовое отверстие', 'paradigms': ['N-obl', 'N-nom-n', 'N-pl']}\n",
      "{'stem': ['рыпутт', 'рыпотт', 'рыпуттуут', 'рыпутт'], 'lex': 'рыпуттуут', 'trans_ru': 'столб, кол', 'paradigms': ['N-obl', 'N-nom-0', 'N-pl-yt']}\n",
      "{'stem': ['рычитинэңэ', 'рычэтэнаңа', 'рычитинэң', 'рычитинэңэ'], 'lex': 'рычитинэң', 'trans_ru': 'карман из кожи, висящий на ремне', 'paradigms': ['N-obl', 'N-nom-0', 'N-pl-t']}\n",
      "{'stem': ['рэвъинн', 'равъэнн', 'рэывъит', 'рэвъинн'], 'lex': 'рэывъитын', 'trans_ru': 'олень белой масти с чёрными пятнами на голове, шее', 'paradigms': ['N-obl', 'N-nom-n', 'N-pl-yt']}\n",
      "{'stem': ['рэвьшрэв', 'равьшрав', 'рэвымрэв', 'рэвьшрэв'], 'lex': 'рэвымрэв', 'trans_ru': 'куропатка', 'paradigms': ['N-obl', 'N-nom-0', 'N-pl-yt']}\n",
      "{'stem': ['ръэқ', 'ръақ', 'рэқыр', 'ръэқ'], 'lex': 'рэқыр', 'trans_ru': 'нос судна', 'paradigms': ['N-obl', 'N-nom-0', 'N-pl-yt']}\n",
      "{'stem': ['рэқэ', 'рақа', 'рэқэрэқ', 'рэқэ'], 'lex': 'рэқэрэқ', 'trans_ru': 'грань', 'paradigms': ['N-obl', 'N-nom-0', 'N-pl-t']}\n",
      "{'stem': ['рилв', 'рэлв', 'рэлвы', 'рилв'], 'lex': 'рэлвытлыңын', 'trans_ru': 'бровь', 'paradigms': ['N-obl', 'N-nom-n', 'N-pl-yt']}\n",
      "{'stem': ['рэлқиинэңэ', 'ралқээнаңа', 'рэлқиинэң', 'рэлқиинэңэ'], 'lex': 'рэлқиинэң', 'trans_ru': 'маленькие сани для перевозки жердей и стоек яранги ', 'paradigms': ['N-obl', 'N-nom-0', 'N-pl-t']}\n",
      "{'stem': ['рэлпыквыт//рилп', 'ралпыквыт//рэлп', 'рэлпыквы.//.рилпы', 'рэлпыквыт//рилп'], 'lex': 'рэлпыквын', 'trans_ru': 'погон, наплечник', 'paradigms': ['N-obl', 'N-nom-n', 'N-pl-yt']}\n",
      "{'stem': ['рилп', 'рэлп', 'рэлпы', 'рилп'], 'lex': 'рэлпытлыңын', 'trans_ru': '(2) плечо', 'paradigms': ['N-obl', 'N-nom-n', 'N-pl-yt']}\n",
      "{'stem': ['рэңрэңыт, рэң', 'раңраңыт, раң', 'рэңрэң', 'рэңрэңыт, рэң'], 'lex': 'рэңрэң', 'trans_ru': 'корм', 'paradigms': ['N-obl', 'N-nom-0', 'N-pl-yt']}\n",
      "{'stem': ['рэсқ', 'расқ', 'рэсқ.//.рэсқырэ', 'рэсқ'], 'lex': 'рэсқын', 'trans_ru': '1) крыша; 2) потолок', 'paradigms': ['N-obl', 'N-nom-n', 'N-pl-yt']}\n",
      "{'stem': ['рэт', 'рат', 'рэтырэт', 'рэт'], 'lex': 'рэтырэт', 'trans_ru': '(2) 1) сон (состояние); 2) новидение; 3) бред', 'paradigms': ['N-obl', 'N-nom-0', 'N-pl-yt']}\n",
      "{'stem': ['рэченныкв', 'рачянныкв', 'рэченныкват', 'рэченныкв'], 'lex': 'рэченныкват', 'trans_ru': 'пряжка', 'paradigms': ['N-obl', 'N-nom-0', 'N-pl-yt']}\n",
      "{'stem': ['тилвъэг', 'тэлвъаг', 'тилвъэй', 'тилвъэг'], 'lex': 'тилвъэй', 'trans_ru': 'камыш', 'paradigms': ['N-obl', 'N-nom-0', 'N-pl-ti']}\n",
      "{'stem': ['тилмықэг', 'тэлмықаг', 'тилмықэй', 'тилмықэг'], 'lex': 'тилмықэй', 'trans_ru': 'орлёнок', 'paradigms': ['N-obl', 'N-nom-0', 'N-pl-ti']}\n",
      "{'stem': ['тилм', 'тэлм', 'тилмытил', 'тилм'], 'lex': 'тилмытил', 'trans_ru': 'орлан, орёл', 'paradigms': ['N-obl', 'N-nom-0', 'N-pl-yt']}\n",
      "{'stem': ['тими', 'тэмэ', 'тимитим', 'тими'], 'lex': 'тимитим', 'trans_ru': '* 1) плот; 2) караван лодок', 'paradigms': ['N-obl', 'N-nom-0', 'N-pl-t']}\n",
      "{'stem': ['тингыркинэңэ', 'тэнгыркэнаңа', 'тингыркинэң', 'тингыркинэңэ'], 'lex': 'тингыркинэң', 'trans_ru': 'лом', 'paradigms': ['N-obl', 'N-nom-0', 'N-pl-t']}\n",
      "{'stem': ['тинпиңэ', 'тэнпэңа', 'тинпиңэпиң', 'тинпиңэ'], 'lex': 'тинпиңэпиң', 'trans_ru': '* град', 'paradigms': ['N-obl', 'N-nom-0', 'N-pl-t']}\n",
      "{'stem': ['тинтин', 'тэнтэн', 'тинти', 'тинтин'], 'lex': 'тинтин', 'trans_ru': 'лёд', 'paradigms': ['N-obl', 'N-nom-n', 'N-pl-ti']}\n",
      "{'stem': ['тив', 'тэв', 'тины', 'тив'], 'lex': 'тины', 'trans_ru': 'хорей ', 'paradigms': ['N-obl', 'N-nom-0', 'N-pl-yt']}\n",
      "{'stem': ['тирк', 'тэрк', 'тиркытир', 'тирк'], 'lex': 'тиркытир', 'trans_ru': 'солнце', 'paradigms': ['N-obl', 'N-nom-0', 'N-pl-yt']}\n",
      "{'stem': ['тиркэрмэ', 'тэркарма', 'тиркэрым', 'тиркэрмэ'], 'lex': 'тиркэрым', 'trans_ru': 'царь', 'paradigms': ['N-obl', 'N-nom-0', 'N-pl-t']}\n",
      "{'stem': ['туйкэ', 'тойка', 'туйкэтуй', 'туйкэ'], 'lex': 'туйкэтуй', 'trans_ru': '* щука', 'paradigms': ['N-obl', 'N-nom-0', 'N-pl-t']}\n",
      "{'stem': ['тумг', 'томг', 'тумгытум', 'тумг'], 'lex': 'тумгытум', 'trans_ru': 'товарищ', 'paradigms': ['N-obl', 'N-nom-0', 'N-pl-yt']}\n",
      "{'stem': ['тупэ', 'топа', 'тупэтуп', 'тупэ'], 'lex': 'тупэтуп', 'trans_ru': 'утепляющий дёрн ', 'paradigms': ['N-obl', 'N-nom-0', 'N-pl-t']}\n",
      "{'stem': ['тэкэ', 'така', 'тыкэ', 'тэкэ'], 'lex': 'тыкэн', 'trans_ru': '(2) запах', 'paradigms': ['N-obl', 'N-nom-n', 'N-pl-t']}\n",
      "{'stem': ['тыленэңэ', 'тылянаңа', 'тыленэң', 'тыленэңэ'], 'lex': 'тыленэң', 'trans_ru': 'парус', 'paradigms': ['N-obl', 'N-nom-0', 'N-pl-t']}\n",
      "{'stem': ['тыленэңутт', 'тылянаңотт', 'тыленэңуттуут', 'тыленэңутт'], 'lex': 'тыленэңуттуут', 'trans_ru': 'мачта', 'paradigms': ['N-obl', 'N-nom-0', 'N-pl-yt']}\n",
      "{'stem': ['тымқэвыт, тымқэтйив', 'тымқавыт, тымқатйэв', 'тымкэв.//.тымкэтйив', 'тымқэвыт, тымқэтйив'], 'lex': 'тымкэв', 'trans_ru': '1) пучок; 2) клубок', 'paradigms': ['N-obl', 'N-nom-0', 'N-pl-yt']}\n",
      "{'stem': ['тыңэчь', 'тыңачь', 'тыңачьы.//.тыңэчь', 'тыңэчь'], 'lex': 'тыңачьылгын', 'trans_ru': '1) растение; 2) цветок', 'paradigms': ['N-obl', 'N-nom-lgyn', 'N-pl-yt']}\n",
      "{'stem': ['тыпэ', 'тыпа', 'тыпэтып', 'тыпэ'], 'lex': 'тыпэтып', 'trans_ru': 'оспа', 'paradigms': ['N-obl', 'N-nom-0', 'N-pl-t']}\n",
      "{'stem': ['тэври', 'таврэ', 'тэвыр', 'тэври'], 'lex': 'тэвыр', 'trans_ru': 'один из трёх основных столбов яранги', 'paradigms': ['N-obl', 'N-nom-0', 'N-pl-t']}\n",
      "{'stem': ['тиг', 'тэг', 'тэгы', 'тиг'], 'lex': 'тэгылгын', 'trans_ru': '(2) лыжа', 'paradigms': ['N-obl', 'N-nom-lgyn', 'N-pl-yt']}\n",
      "{'stem': ['тэйкыткунэңэ', 'тайкытконаңа', 'тэйкыткунэң', 'тэйкыткунэңэ'], 'lex': 'тэйкыткунэң', 'trans_ru': 'фотоаппарат', 'paradigms': ['N-obl', 'N-nom-0', 'N-pl-t']}\n",
      "{'stem': ['тэлгэри', 'талгарэ', 'тэлгэри.//.тэлңэри', 'тэлгэри'], 'lex': 'тэлгэрин', 'trans_ru': 'графит', 'paradigms': ['N-obl', 'N-nom-n', 'N-pl-t']}\n",
      "{'stem': ['тэминңинэңэ', 'тамэнңэнаңа', 'тэминңинэң', 'тэминңинэңэ'], 'lex': 'тэминңинэң', 'trans_ru': 'инструмент, орудие', 'paradigms': ['N-obl', 'N-nom-0', 'N-pl-t']}\n",
      "{'stem': ['тэнынң', 'танынң', 'тэнынның', 'тэнынң'], 'lex': 'тэнынның', 'trans_ru': 'подпись', 'paradigms': ['N-obl', 'N-nom-0', 'N-pl-yt']}\n",
      "{'stem': ['увики', 'овэкэ', 'увик', 'увики'], 'lex': 'увик', 'trans_ru': 'тело', 'paradigms': ['N-obl', 'N-nom-0', 'N-pl-t']}\n",
      "{'stem': ['увикукэ', 'овэкока', 'увикук.//.увикукэ', 'увикукэ'], 'lex': 'увикук', 'trans_ru': 'посуда для варки мяса', 'paradigms': ['N-obl', 'N-nom-0', 'N-pl-t']}\n",
      "{'stem': ['увичвинэңэ', 'овэчвэнаңа', 'увичвинэң', 'увичвинэңэ'], 'lex': 'увичвинэң', 'trans_ru': 'игрушка', 'paradigms': ['N-obl', 'N-nom-0', 'N-pl-t']}\n",
      "{'stem': ['уврэ', 'овра', 'увры', 'уврэ'], 'lex': 'увры', 'trans_ru': 'олень чёрной масти', 'paradigms': ['N-obl', 'N-nom-0', 'N-pl-t']}\n",
      "{'stem': ['уққэтэн', 'оққатан', 'уққэтэ', 'уққэтэн'], 'lex': 'уққэтэн', 'trans_ru': 'крыльцо', 'paradigms': ['N-obl', 'N-nom-n', 'N-pl-yt']}\n",
      "{'stem': ['уққэмэ', 'оққама', 'уққэм', 'уққэмэ'], 'lex': 'уққэм', 'trans_ru': 'глубокая посуда', 'paradigms': ['N-obl', 'N-nom-0', 'N-pl-t']}\n",
      "{'stem': ['умк', 'омк', 'умкуум', 'умк'], 'lex': 'умкуум', 'trans_ru': 'лес', 'paradigms': ['N-obl', 'N-nom-0', 'N-pl-yt']}\n",
      "{'stem': ['умқэ', 'омқа', 'умқы', 'умқэ'], 'lex': 'умқы', 'trans_ru': 'белый медведь', 'paradigms': ['N-obl', 'N-nom-0', 'N-pl-t']}\n",
      "{'stem': ['умэкэ', 'омака', 'умэк', 'умэкэ'], 'lex': 'умэк', 'trans_ru': 'кружок, группа', 'paradigms': ['N-obl', 'N-nom-0', 'N-pl-t']}\n",
      "{'stem': ['уткунэңэ', 'отконаңа', 'уткунэң', 'уткунэңэ'], 'lex': 'уткунэң', 'trans_ru': '1) то, чем бьют; 2) прут', 'paradigms': ['N-obl', 'N-nom-0', 'N-pl-t']}\n",
      "{'stem': ['уттуул', 'оттоол', 'уттуул*', 'уттуул'], 'lex': 'уттуул*', 'trans_ru': 'долото', 'paradigms': ['N-obl', 'N-nom-0', 'N-pl-ti']}\n",
      "{'stem': ['утт', 'отт', 'уттуут', 'утт'], 'lex': 'уттуут', 'trans_ru': 'дерево', 'paradigms': ['N-obl', 'N-nom-0', 'N-pl-yt']}\n",
      "{'stem': ['уттылвинэңэ', 'оттылвэнаңа', 'уттылвинэң', 'уттылвинэңэ'], 'lex': 'уттылвинэң', 'trans_ru': 'пила (по дереву)', 'paradigms': ['N-obl', 'N-nom-0', 'N-pl-t']}\n",
      "{'stem': ['уттынилю', 'оттынэлё', 'уттынидю', 'уттынилю'], 'lex': 'уттынидю', 'trans_ru': 'мелкокалиберное ружьё типа монте-кристо', 'paradigms': ['N-obl', 'N-nom-0', 'N-pl-t']}\n",
      "{'stem': ['уттыпиңинэңэ', 'оттыпэңэнаңа', 'уттыпиңинэң', 'уттыпиңинэңэ'], 'lex': 'уттыпиңинэң', 'trans_ru': 'лучина', 'paradigms': ['N-obl', 'N-nom-0', 'N-pl-t']}\n",
      "{'stem': ['уттэмыгэ', 'оттамыга', 'уттэмыг', 'уттэмыгэ'], 'lex': 'уттэмыг', 'trans_ru': 'бочка', 'paradigms': ['N-obl', 'N-nom-0', 'N-pl-t']}\n",
      "{'stem': ['челқэ', 'чялқа', 'чалқа', 'челқэ'], 'lex': 'чалқалгын', 'trans_ru': 'краб малого размера', 'paradigms': ['N-obl', 'N-nom-lgyn', 'N-pl-t']}\n",
      "{'stem': ['черыку', 'чярыко', 'чарыко', 'черыку'], 'lex': 'чарыколгын', 'trans_ru': 'вальдшнеп', 'paradigms': ['N-obl', 'N-nom-lgyn', 'N-pl-t']}\n",
      "{'stem': ['чекв', 'чякв', 'чеквылгын//чеквычев', 'чекв'], 'lex': 'чеквылгын', 'trans_ru': 'оранжевый красильный камень', 'paradigms': ['N-obl', 'N-nom-lgyn', 'N-pl-yt']}\n",
      "{'stem': ['чеквырг', 'чяквырг', 'чеквыргы', 'чеквырг'], 'lex': 'чеквыргылгын', 'trans_ru': '(2) жабра', 'paradigms': ['N-obl', 'N-nom-lgyn', 'N-pl-yt']}\n",
      "{'stem': ['чилкэ', 'чэлка', 'челка', 'чилкэ'], 'lex': 'челкалгын', 'trans_ru': 'бронх ', 'paradigms': ['N-obl', 'N-nom-lgyn', 'N-pl-t']}\n",
      "{'stem': ['чилкэ', 'чэлка', 'челка', 'чилкэ'], 'lex': 'челкаомыткын', 'trans_ru': 'доля лёгкого (в организме)', 'paradigms': ['N-obl', 'N-nom-n', 'N-pl-t']}\n",
      "{'stem': ['чемыкв', 'чямыкв', 'чемыквы', 'чемыкв'], 'lex': 'чемыквылгын', 'trans_ru': '(2) мелкий камешек', 'paradigms': ['N-obl', 'N-nom-lgyn', 'N-pl-yt']}\n",
      "{'stem': ['чемынг', 'чямынг', 'чемынгы', 'чемынг'], 'lex': 'чемынгылгын', 'trans_ru': '(2) перчатка', 'paradigms': ['N-obl', 'N-nom-lgyn', 'N-pl-yt']}\n",
      "{'stem': ['ченле', 'чянля', 'чеңыл', 'ченле'], 'lex': 'чеңыл', 'trans_ru': 'ящик', 'paradigms': ['N-obl', 'N-nom-0', 'N-pl-t']}\n",
      "{'stem': ['чериқэг', 'чярэқаг', 'чериқэй', 'чериқэг'], 'lex': 'чериқэй', 'trans_ru': 'соринка', 'paradigms': ['N-obl', 'N-nom-0', 'N-pl-ti']}\n",
      "{'stem': ['черунэңэ', 'чяронаңа', 'черунэң', 'черунэңэ'], 'lex': 'черунэң', 'trans_ru': 'крюк (для рыбы)', 'paradigms': ['N-obl', 'N-nom-0', 'N-pl-t']}\n",
      "{'stem': ['чивлет//чигле', 'чэвлят//чэгля', 'чикыл', 'чивлет//чигле'], 'lex': 'чикыл', 'trans_ru': 'палка для дрессировки оленей', 'paradigms': ['N-obl', 'N-nom-0', 'N-pl-t']}\n",
      "{'stem': ['чилимуқэ', 'чэлэмоқа', 'чилимуқ', 'чилимуқэ'], 'lex': 'чилимуқ', 'trans_ru': '1) стрихнин; 2) отрава', 'paradigms': ['N-obl', 'N-nom-0', 'N-pl-t']}\n",
      "{'stem': ['чиңкэ', 'чэңка', 'чиңкэчиң.//.чеңка', 'чиңкэ'], 'lex': 'чиңкэчиң', 'trans_ru': 'слюна', 'paradigms': ['N-obl', 'N-nom-0', 'N-pl-t']}\n",
      "{'stem': ['чиңқэ', 'чэңқа', 'чиңқэчиң', 'чиңқэ'], 'lex': 'чиңқэчиң', 'trans_ru': 'струя воды', 'paradigms': ['N-obl', 'N-nom-0', 'N-pl-t']}\n",
      "{'stem': ['чичгиң', 'чэчгэң', 'чичгиң//чечгэң', 'чичгиң'], 'lex': 'чичгиң', 'trans_ru': 'подмышка', 'paradigms': ['N-obl', 'N-nom-0', 'N-pl-yt']}\n",
      "{'stem': ['чыгэймъэми', 'чыгаймъамэ', 'чыгэймэқым', 'чыгэймъэми'], 'lex': 'чыгэймэқым', 'trans_ru': 'дробинка ', 'paradigms': ['N-obl', 'N-nom-0', 'N-pl-t']}\n",
      "{'stem': ['ылвэт//ылвылю', 'ылват//ылвылё', 'ылвылю', 'ылвэт//ылвылю'], 'lex': 'ылвылю', 'trans_ru': 'дикий олень ', 'paradigms': ['N-obl', 'N-nom-0', 'N-pl-t']}\n",
      "{'stem': ['ынпычьэккэ', 'ынпычьакка', 'ынпычьэкык', 'ынпычьэккэ'], 'lex': 'ынпычьэкык', 'trans_ru': 'старший сын', 'paradigms': ['N-obl', 'N-nom-0', 'N-pl-t']}\n",
      "{'stem': ['ынтуулпырти, ынтуулпырэ', 'ынтоолпыртэ, ынтоолпыра', 'ынтуулпыр', 'ынтуулпырти, ынтуулпырэ'], 'lex': 'ынтуулпыр', 'trans_ru': 'зять', 'paradigms': ['N-obl', 'N-nom-0', 'N-pl-t']}\n",
      "{'stem': ['ыплыле', 'ыплыля', 'ыплылы', 'ыплыле'], 'lex': 'ыплылы', 'trans_ru': 'олень гнедой масти (серый с желтизной)', 'paradigms': ['N-obl', 'N-nom-0', 'N-pl-t']}\n",
      "{'stem': ['ытленъю', 'ытлянъё', 'ытлеңи', 'ытленъю'], 'lex': 'ытлеңи', 'trans_ru': 'младший брат', 'paradigms': ['N-obl', 'N-nom-0', 'N-pl-t']}\n",
      "{'stem': [\"ы'вэқучи\", \"ы'вақочэ\", \"ы'вэқуч\", \"ы'вэқучи\"], 'lex': \"ы'вэқуч\", 'trans_ru': 'муж', 'paradigms': ['N-obl', 'N-nom-0', 'N-pl-t']}\n",
      "{'stem': [\"ы'ттъыютльэ\", \"ы'ттъыётльа\", \"ы'ттъыютль\", \"ы'ттъыютльэ\"], 'lex': \"ы'ттъыютльын\", 'trans_ru': 'предки', 'paradigms': ['N-obl', 'N-nom-n', 'N-pl-t']}\n",
      "{'stem': ['эвичу', 'авэчо', 'эвич', 'эвичу'], 'lex': 'эвич', 'trans_ru': 'сумка для сбора растений', 'paradigms': ['N-obl', 'N-nom-0', 'N-pl-t']}\n",
      "{'stem': ['эйвэг', 'айваг', 'эйвэй', 'эйвэг'], 'lex': 'эйвэй', 'trans_ru': '* деревянная вилка, привязываемая оленю на шею вместо пут', 'paradigms': ['N-obl', 'N-nom-0', 'N-pl-ti']}\n",
      "{'stem': ['эйпыткунэңэ', 'айпытконаңа', 'эйпыткунэң', 'эйпыткунэңэ'], 'lex': 'эйпыткунэң', 'trans_ru': 'покрышка, крышка', 'paradigms': ['N-obl', 'N-nom-0', 'N-pl-t']}\n",
      "{'stem': ['эккэ', 'акка', 'экык', 'эккэ'], 'lex': 'экык', 'trans_ru': 'сын', 'paradigms': ['N-obl', 'N-nom-0', 'N-pl-t']}\n",
      "{'stem': ['иқыче', 'эқычя', 'эқыча', 'иқыче'], 'lex': 'эқычалгын', 'trans_ru': 'розовая чайка', 'paradigms': ['N-obl', 'N-nom-lgyn', 'N-pl-t']}\n",
      "{'stem': ['элейвири', 'аляйвэрэ', 'элейвир', 'элейвири'], 'lex': 'элейвир', 'trans_ru': '1) щепка; 2) стружка', 'paradigms': ['N-obl', 'N-nom-0', 'N-pl-t']}\n",
      "{'stem': ['эмңэ', 'амңа', 'эмңээм', 'эмңэ'], 'lex': 'эмңээм', 'trans_ru': '(2) 1) турпан (утка); 2) гага (птица)', 'paradigms': ['N-obl', 'N-nom-0', 'N-pl-t']}\n",
      "{'stem': ['эму', 'амо', 'эмээм', 'эму'], 'lex': 'эмээм', 'trans_ru': '(2) 1) сухостой; 2) корка (болячки)', 'paradigms': ['N-obl', 'N-nom-0', 'N-pl-t']}\n",
      "{'stem': ['инэныгйивэтрылг', 'энаныгйэватрылг', 'энаныгъеватрылг', 'инэныгйивэтрылг'], 'lex': 'энаныгъеватрылгытлыңын', 'trans_ru': 'указательный палец', 'paradigms': ['N-obl', 'N-nom-n', 'N-pl-yt']}\n",
      "{'stem': ['энм', 'анм', 'энмээм', 'энм'], 'lex': 'энмээм', 'trans_ru': '(2) 1) скала, утёс; 2) обрыв', 'paradigms': ['N-obl', 'N-nom-0', 'N-pl-yt']}\n",
      "{'stem': ['эпиқувтэ', 'апэқовта', 'эпиқувыт', 'эпиқувтэ'], 'lex': 'эпиқувыт', 'trans_ru': 'подстилка на нарте', 'paradigms': ['N-obl', 'N-nom-0', 'N-pl-t']}\n",
      "{'stem': ['эпээпэг', 'апаапаг', 'эпээпэй./.эпээпэг', 'эпээпэг'], 'lex': 'эпээпэй', 'trans_ru': 'паук', 'paradigms': ['N-obl', 'N-nom-0', 'N-pl-ti']}\n",
      "{'stem': ['эпээпэгкупрэт//эпээпэгиң', 'апаапагкопрат//апаапагэң', 'эпээпэгкупрэн//эпээпэгиңынгиң', 'эпээпэгкупрэт//эпээпэгиң'], 'lex': 'эпээпэгкупрэн', 'trans_ru': 'паутина', 'paradigms': ['N-obl', 'N-nom-n', 'N-pl-yt']}\n",
      "{'stem': ['эрмэ', 'арма', 'эрым', 'эрмэ'], 'lex': 'эрым', 'trans_ru': 'начальник, староста', 'paradigms': ['N-obl', 'N-nom-0', 'N-pl-t']}\n",
      "{'stem': ['эръэ', 'аръа', 'эр', 'эръэ'], 'lex': 'эрын', 'trans_ru': 'варёная еда', 'paradigms': ['N-obl', 'N-nom-n', 'N-pl-t']}\n",
      "{'stem': ['итрут//ирру', 'этрот//эрро', 'этро.//.эрро', 'итрут//ирру'], 'lex': 'этролгын', 'trans_ru': 'подстилка из хвои или ветвей тальника', 'paradigms': ['N-obl', 'N-nom-lgyn', 'N-pl-t']}\n",
      "{'stem': ['этчыткунэңэ', 'атчытконаңа', 'этчыткунэң', 'этчыткунэңэ'], 'lex': 'этчыткунэң', 'trans_ru': 'скребок', 'paradigms': ['N-obl', 'N-nom-0', 'N-pl-t']}\n",
      "{'stem': ['итъычь', 'этъычь', 'этъычьылгын*', 'итъычь'], 'lex': 'этъычьылгын*', 'trans_ru': 'мелкий голец (рыба)', 'paradigms': ['N-obl', 'N-nom-0', 'N-pl-yt']}\n",
      "{'stem': ['этынв', 'атынв', 'эт', 'этынв'], 'lex': 'этын', 'trans_ru': '(2) хозяин', 'paradigms': ['N-obl', 'N-nom-n', 'N-pl-yt']}\n",
      "{'stem': ['ээкэ', 'аака', 'ээк', 'ээкэ'], 'lex': 'ээк', 'trans_ru': '2 лампа-жирник', 'paradigms': ['N-obl', 'N-nom-0', 'N-pl-t']}\n",
      "{'stem': ['иик', 'ээк', 'ээкэ', 'иик'], 'lex': 'ээкэлгын', 'trans_ru': 'съедобный корень', 'paradigms': ['N-obl', 'N-nom-lgyn', 'N-pl-yt']}\n",
      "{'stem': [\"э'йңэвыткунэңэ\", \"а'йңавытконаңа\", \"э'йңэвыткунэн\", \"э'йңэвыткунэңэ\"], 'lex': \"э'йңэвыткунэн\", 'trans_ru': '* рожок; труба (музыкальный инструмент)', 'paradigms': ['N-obl', 'N-nom-n', 'N-pl-t']}\n",
      "{'stem': ['эйңэнэңэ', 'айңанаңа', \"э'йңэнэң\", 'эйңэнэңэ'], 'lex': \"э'йңэнэң\", 'trans_ru': 'музыкальный инструмент', 'paradigms': ['N-obl', 'N-nom-0', 'N-pl-t']}\n",
      "{'stem': [\"э'йңэткунэңэ\", \"а'йңатконаңа\", \"э'йңэткунэн\", \"э'йңэткунэңэ\"], 'lex': \"э'йңэткунэн\", 'trans_ru': '* гудок (звук)', 'paradigms': ['N-obl', 'N-nom-n', 'N-pl-t']}\n",
      "{'stem': [\"э'қимл\", \"а'қэмл\", \"э'қимыл\", \"э'қимл\"], 'lex': \"э'қимыл\", 'trans_ru': 'спирт, водка', 'paradigms': ['N-obl', 'N-nom-0', 'N-pl-yt']}\n",
      "{'stem': [\"э'лыткунэңэ\", \"а'лытконаңа\", \"э'лыткунэң\", \"э'лыткунэңэ\"], 'lex': \"э'лыткунэң\", 'trans_ru': 'мотыга', 'paradigms': ['N-obl', 'N-nom-0', 'N-pl-t']}\n",
      "{'stem': [\"э'ннырг\", \"а'ннырг\", \"э'нныргы\", \"э'ннырг\"], 'lex': \"э'нныргылгын\", 'trans_ru': '* грива', 'paradigms': ['N-obl', 'N-nom-lgyn', 'N-pl-yt']}\n",
      "{'stem': [\"э'ңгырг\", \"а'ңгырг\", \"э'ңгыргы\", \"э'ңгырг\"], 'lex': \"э'ңгыргылгын\", 'trans_ru': 'передняя лопасть оленьих рогов ', 'paradigms': ['N-obl', 'N-nom-lgyn', 'N-pl-yt']}\n",
      "{'stem': [\"э'рынв\", \"а'рынв\", \"э'ръя.//.э'р\", \"э'рынв\"], 'lex': \"э'ръян\", 'trans_ru': '(2) 1) место переправы, 2) брод', 'paradigms': ['N-obl', 'N-nom-n', 'N-pl-yt']}\n",
      "{'stem': ['юуткунн', 'ёотконн', 'юуткуннээ', 'юуткунн'], 'lex': 'юуткуннээн', 'trans_ru': 'щука', 'paradigms': ['N-obl', 'N-nom-n', 'N-pl-yt']}\n",
      "{'stem': ['ег', 'яг', 'ягы', 'ег'], 'lex': 'ягылгын', 'trans_ru': 'лапа (животного)', 'paradigms': ['N-obl', 'N-nom-lgyn', 'N-pl-yt']}\n",
      "{'stem': ['ейп', 'яйп', 'яйпы', 'ейп'], 'lex': 'яйпылгын', 'trans_ru': 'копыто', 'paradigms': ['N-obl', 'N-nom-lgyn', 'N-pl-yt']}\n",
      "{'stem': ['екгутэ', 'якгота', 'якготъё', 'екгутэ'], 'lex': 'якготъёлгын', 'trans_ru': 'уключина', 'paradigms': ['N-obl', 'N-nom-lgyn', 'N-pl-t']}\n"
     ]
    }
   ],
   "source": [
    "for i in undone:\n",
    "    if len(set(chunks[i]['stem']))==3:\n",
    "        print(chunks[i])"
   ]
  },
  {
   "cell_type": "code",
   "execution_count": 105,
   "metadata": {
    "collapsed": false
   },
   "outputs": [
    {
     "data": {
      "text/plain": [
       "[{'lex': 'аатгыр',\n",
       "  'paradigms': ['N-obl', 'N-nom-0', 'N-pl-te'],\n",
       "  'stem': ['аатгыр', 'аатгыр', 'аатгыр', 'аатгыр'],\n",
       "  'trans_ru': '1) ручей в овраге; 2) овраг'},\n",
       " {'lex': 'август',\n",
       "  'paradigms': ['N-obl', 'N-nom-0', 'N-pl-yt'],\n",
       "  'stem': ['август', 'август', 'август', 'август'],\n",
       "  'trans_ru': 'август'},\n",
       " {'lex': 'авынральын',\n",
       "  'paradigms': ['N-obl', 'N-nom-n', 'N-pl-t'],\n",
       "  'stem': ['авынраль', 'авынраль', 'авынраль', 'авынраль'],\n",
       "  'trans_ru': 'хозяин'},\n",
       " {'lex': 'авээн',\n",
       "  'paradigms': ['N-obl', 'N-nom-0', 'N-pl-yt'],\n",
       "  'stem': ['авээнв', 'авээнв', 'авээн', 'авээнв'],\n",
       "  'trans_ru': 'пастбище'},\n",
       " {'lex': 'агнотваны',\n",
       "  'paradigms': ['N-obl', 'N-nom-0', 'N-pl-yt'],\n",
       "  'stem': ['агнотванв', 'агнотванв', 'агнотваны', 'агнотванв'],\n",
       "  'trans_ru': 'лежбище моржей'},\n",
       " {'lex': 'агротъым',\n",
       "  'paradigms': ['N-obl', 'N-nom-0', 'N-pl-yt'],\n",
       "  'stem': ['агротъым', 'агротъым', 'агротъым', 'агротъым'],\n",
       "  'trans_ru': '1) основная перекладина полога; 2) балка (строительная)'},\n",
       " {'lex': 'агтатван',\n",
       "  'paradigms': ['N-obl', 'N-nom-n', 'N-pl-yt'],\n",
       "  'stem': ['агтатванв', 'агтатванв', 'агтатван', 'агтатванв'],\n",
       "  'trans_ru': '1) огороженное место; 2) двор'},\n",
       " {'lex': 'агтатгыргын',\n",
       "  'paradigms': ['N-obl', 'N-nom-n', 'N-pl'],\n",
       "  'stem': ['агтатгырг', 'агтатгырг', 'агтатгырг', 'агтатгырг'],\n",
       "  'trans_ru': 'отгон, перегон (напр. стада)'},\n",
       " {'lex': 'агтачгын',\n",
       "  'paradigms': ['N-obl', 'N-nom-n', 'N-pl'],\n",
       "  'stem': ['агтачг', 'агтачг', 'агтачг', 'агтачг'],\n",
       "  'trans_ru': '1) загородка; 2) завеса; 3) щит'},\n",
       " {'lex': 'агъёляткэгыргын',\n",
       "  'paradigms': ['N-obl', 'N-nom-n', 'N-pl'],\n",
       "  'stem': ['агъёляткэгырг', 'агъёляткэгырг', 'агъёляткэгырг', 'агъёляткэгырг'],\n",
       "  'trans_ru': '1) невежество'},\n",
       " {'lex': 'аё',\n",
       "  'paradigms': ['N-obl', 'N-nom-0', 'N-pl-t'],\n",
       "  'stem': ['айва', 'айва', 'аё', 'айва'],\n",
       "  'trans_ru': 'головной мозг'},\n",
       " {'lex': 'аёпгыргын',\n",
       "  'paradigms': ['N-obl', 'N-nom-n', 'N-pl'],\n",
       "  'stem': ['аёпгырг', 'аёпгырг', 'аёпгырг', 'аёпгырг'],\n",
       "  'trans_ru': 'прокол'},\n",
       " {'lex': 'аёпычьылгын',\n",
       "  'paradigms': ['N-obl', 'N-nom-lgyn', 'N-pl-yt'],\n",
       "  'stem': ['эюпычь', 'аёпычь', 'аёпычьы', 'эюпычь'],\n",
       "  'trans_ru': 'колючка'},\n",
       " {'lex': 'айвал',\n",
       "  'paradigms': ['N-obl', 'N-nom-0', 'N-pl-te'],\n",
       "  'stem': ['айвал', 'айвал', 'айвал', 'айвал'],\n",
       "  'trans_ru': 'место, защищенное от ветра'},\n",
       " {'lex': 'айвалқыл',\n",
       "  'paradigms': ['N-obl', 'N-nom-0', 'N-pl-te'],\n",
       "  'stem': ['айвалқыл', 'айвалқыл', 'айвалқыл', 'айвалқыл'],\n",
       "  'trans_ru': 'теменная кость вместе с рогами'}]"
      ]
     },
     "execution_count": 105,
     "metadata": {},
     "output_type": "execute_result"
    }
   ],
   "source": [
    "chunks[:15]"
   ]
  },
  {
   "cell_type": "code",
   "execution_count": null,
   "metadata": {
    "collapsed": true
   },
   "outputs": [],
   "source": []
  }
 ],
 "metadata": {
  "anaconda-cloud": {},
  "kernelspec": {
   "display_name": "Python [conda root]",
   "language": "python",
   "name": "conda-root-py"
  },
  "language_info": {
   "codemirror_mode": {
    "name": "ipython",
    "version": 3
   },
   "file_extension": ".py",
   "mimetype": "text/x-python",
   "name": "python",
   "nbconvert_exporter": "python",
   "pygments_lexer": "ipython3",
   "version": "3.5.2"
  }
 },
 "nbformat": 4,
 "nbformat_minor": 1
}
