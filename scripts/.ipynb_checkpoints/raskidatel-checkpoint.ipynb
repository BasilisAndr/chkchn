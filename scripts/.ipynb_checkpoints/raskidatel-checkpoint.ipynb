{
 "cells": [
  {
   "cell_type": "code",
   "execution_count": 1,
   "metadata": {
    "collapsed": true
   },
   "outputs": [],
   "source": [
    "import json\n",
    "import random\n",
    "from pprint import pprint"
   ]
  },
  {
   "cell_type": "code",
   "execution_count": 2,
   "metadata": {
    "collapsed": false
   },
   "outputs": [],
   "source": [
    "with open('dictionary_unparsed.json') as f:\n",
    "    chunks = json.load(f)"
   ]
  },
  {
   "cell_type": "code",
   "execution_count": 3,
   "metadata": {
    "collapsed": false
   },
   "outputs": [
    {
     "data": {
      "text/plain": [
       "{'lex': 'аатгыр',\n",
       " 'paradigms': ['N-obl', 'N-nom-0', 'N-pl-te'],\n",
       " 'stem': '.аатгыр.|.аатгыр.|аатгыр.|аатгыр.',\n",
       " 'trans_ru': '1) ручей в овраге; 2) овраг'}"
      ]
     },
     "execution_count": 3,
     "metadata": {},
     "output_type": "execute_result"
    }
   ],
   "source": [
    "chunks[0]"
   ]
  },
  {
   "cell_type": "code",
   "execution_count": 4,
   "metadata": {
    "collapsed": false
   },
   "outputs": [
    {
     "data": {
      "text/plain": [
       "{'lex': 'аё',\n",
       " 'paradigms': ['N-obl', 'N-nom-0', 'N-pl-t'],\n",
       " 'stem': '.айва.|.айва.|аё.|айва.',\n",
       " 'trans_ru': 'головной мозг'}"
      ]
     },
     "execution_count": 4,
     "metadata": {},
     "output_type": "execute_result"
    }
   ],
   "source": [
    "chunks[10]"
   ]
  },
  {
   "cell_type": "code",
   "execution_count": 5,
   "metadata": {
    "collapsed": false
   },
   "outputs": [],
   "source": [
    "for ch in chunks:\n",
    "    ch['stem'] = list(map(lambda x: x.strip('.,;*()[]:&?! '), ch['stem'].split('|')))\n",
    "    ch['lex'] = ch['lex'].strip('.,;*()[]:&?! ')"
   ]
  },
  {
   "cell_type": "code",
   "execution_count": 6,
   "metadata": {
    "collapsed": false,
    "scrolled": true
   },
   "outputs": [
    {
     "data": {
      "text/plain": [
       "{'lex': 'аатгыр',\n",
       " 'paradigms': ['N-obl', 'N-nom-0', 'N-pl-te'],\n",
       " 'stem': ['аатгыр', 'аатгыр', 'аатгыр', 'аатгыр'],\n",
       " 'trans_ru': '1) ручей в овраге; 2) овраг'}"
      ]
     },
     "execution_count": 6,
     "metadata": {},
     "output_type": "execute_result"
    }
   ],
   "source": [
    "chunks[0]"
   ]
  },
  {
   "cell_type": "markdown",
   "metadata": {},
   "source": [
    "## iteration 1"
   ]
  },
  {
   "cell_type": "code",
   "execution_count": 7,
   "metadata": {
    "collapsed": false
   },
   "outputs": [
    {
     "data": {
      "text/plain": [
       "{'lex': 'аатгыр',\n",
       " 'paradigms': ['N-obl', 'N-nom-0', 'N-pl-te'],\n",
       " 'stem': ['аатгыр', 'аатгыр', 'аатгыр', 'аатгыр'],\n",
       " 'trans_ru': '1) ручей в овраге; 2) овраг'}"
      ]
     },
     "execution_count": 7,
     "metadata": {},
     "output_type": "execute_result"
    }
   ],
   "source": [
    "undone = list(range(len(chunks)))\n",
    "chunks[undone[0]]"
   ]
  },
  {
   "cell_type": "code",
   "execution_count": 8,
   "metadata": {
    "collapsed": true
   },
   "outputs": [],
   "source": [
    "first_a_class = []\n",
    "for i in undone:\n",
    "    if chunks[i]['stem'][0]==chunks[i]['stem'][2]==chunks[i]['stem'][3]:\n",
    "        if 'N-nom-0' in chunks[i]['paradigms'] and chunks[i]['lex']==chunks[i]['stem'][0]:\n",
    "            first_a_class.append(i)"
   ]
  },
  {
   "cell_type": "code",
   "execution_count": 9,
   "metadata": {
    "collapsed": false
   },
   "outputs": [
    {
     "data": {
      "text/plain": [
       "613"
      ]
     },
     "execution_count": 9,
     "metadata": {},
     "output_type": "execute_result"
    }
   ],
   "source": [
    "len(first_a_class)"
   ]
  },
  {
   "cell_type": "code",
   "execution_count": 10,
   "metadata": {
    "collapsed": false
   },
   "outputs": [
    {
     "data": {
      "text/plain": [
       "1775"
      ]
     },
     "execution_count": 10,
     "metadata": {},
     "output_type": "execute_result"
    }
   ],
   "source": [
    "first_a_class[399]"
   ]
  },
  {
   "cell_type": "code",
   "execution_count": 11,
   "metadata": {
    "collapsed": false,
    "scrolled": true
   },
   "outputs": [
    {
     "data": {
      "text/plain": [
       "{'lex': 'яравытгыр',\n",
       " 'paradigms': ['N-obl', 'N-nom-0', 'N-pl-te'],\n",
       " 'stem': ['яравытгыр', 'яравытгыр', 'яравытгыр', 'яравытгыр'],\n",
       " 'trans_ru': 'улица'}"
      ]
     },
     "execution_count": 11,
     "metadata": {},
     "output_type": "execute_result"
    }
   ],
   "source": [
    "chunks[first_a_class[609]]"
   ]
  },
  {
   "cell_type": "code",
   "execution_count": 12,
   "metadata": {
    "collapsed": false
   },
   "outputs": [
    {
     "data": {
      "text/plain": [
       "2722"
      ]
     },
     "execution_count": 12,
     "metadata": {},
     "output_type": "execute_result"
    }
   ],
   "source": [
    "len(chunks)"
   ]
  },
  {
   "cell_type": "markdown",
   "metadata": {},
   "source": [
    "## iteration 2"
   ]
  },
  {
   "cell_type": "code",
   "execution_count": 13,
   "metadata": {
    "collapsed": false
   },
   "outputs": [
    {
     "data": {
      "text/plain": [
       "{'lex': 'авынральын',\n",
       " 'paradigms': ['N-obl', 'N-nom-n', 'N-pl-t'],\n",
       " 'stem': ['авынраль', 'авынраль', 'авынраль', 'авынраль'],\n",
       " 'trans_ru': 'хозяин'}"
      ]
     },
     "execution_count": 13,
     "metadata": {},
     "output_type": "execute_result"
    }
   ],
   "source": [
    "undone = sorted(set(undone)-set(first_a_class))\n",
    "chunks[undone[0]]"
   ]
  },
  {
   "cell_type": "code",
   "execution_count": 14,
   "metadata": {
    "collapsed": true
   },
   "outputs": [],
   "source": [
    "third_class = []\n",
    "for i in undone:\n",
    "    if chunks[i]['stem'][0]==chunks[i]['stem'][2]==chunks[i]['stem'][3]:\n",
    "        if 'N-nom-n' in chunks[i]['paradigms']:\n",
    "            if chunks[i]['lex']==chunks[i]['stem'][2]+'н' or chunks[i]['lex']==chunks[i]['stem'][2]+'ын':\n",
    "                third_class.append(i)"
   ]
  },
  {
   "cell_type": "code",
   "execution_count": 15,
   "metadata": {
    "collapsed": false
   },
   "outputs": [
    {
     "data": {
      "text/plain": [
       "1008"
      ]
     },
     "execution_count": 15,
     "metadata": {},
     "output_type": "execute_result"
    }
   ],
   "source": [
    "len(third_class)"
   ]
  },
  {
   "cell_type": "markdown",
   "metadata": {},
   "source": [
    "## iteration 3"
   ]
  },
  {
   "cell_type": "code",
   "execution_count": 16,
   "metadata": {
    "collapsed": false
   },
   "outputs": [
    {
     "data": {
      "text/plain": [
       "{'lex': 'авээн',\n",
       " 'paradigms': ['N-obl', 'N-nom-0', 'N-pl-yt'],\n",
       " 'stem': ['авээнв', 'авээнв', 'авээн', 'авээнв'],\n",
       " 'trans_ru': 'пастбище'}"
      ]
     },
     "execution_count": 16,
     "metadata": {},
     "output_type": "execute_result"
    }
   ],
   "source": [
    "undone = sorted(set(undone)-set(third_class))\n",
    "chunks[undone[0]]"
   ]
  },
  {
   "cell_type": "code",
   "execution_count": 17,
   "metadata": {
    "collapsed": false
   },
   "outputs": [
    {
     "data": {
      "text/plain": [
       "1101"
      ]
     },
     "execution_count": 17,
     "metadata": {},
     "output_type": "execute_result"
    }
   ],
   "source": [
    "len(undone)"
   ]
  },
  {
   "cell_type": "code",
   "execution_count": 18,
   "metadata": {
    "collapsed": false
   },
   "outputs": [],
   "source": [
    "five_v_class = []\n",
    "for i in undone:\n",
    "    if len(chunks[i]['stem'])==4:\n",
    "        if chunks[i]['stem'][0]==chunks[i]['stem'][3]:\n",
    "            if chunks[i]['lex']==chunks[i]['stem'][2]:\n",
    "                if chunks[i]['stem'][0]==chunks[i]['lex']+'в':\n",
    "                    five_v_class.append(i)"
   ]
  },
  {
   "cell_type": "code",
   "execution_count": 19,
   "metadata": {
    "collapsed": false
   },
   "outputs": [
    {
     "data": {
      "text/plain": [
       "13"
      ]
     },
     "execution_count": 19,
     "metadata": {},
     "output_type": "execute_result"
    }
   ],
   "source": [
    "len(five_v_class)"
   ]
  },
  {
   "cell_type": "code",
   "execution_count": 20,
   "metadata": {
    "collapsed": false
   },
   "outputs": [
    {
     "data": {
      "text/plain": [
       "{'lex': 'ывэнтыян',\n",
       " 'paradigms': ['N-obl', 'N-nom-n', 'N-pl-yt'],\n",
       " 'stem': ['ывэнтыянв', 'ывэнтыянв', 'ывэнтыян', 'ывэнтыянв'],\n",
       " 'trans_ru': 'топка (у печи)'}"
      ]
     },
     "execution_count": 20,
     "metadata": {},
     "output_type": "execute_result"
    }
   ],
   "source": [
    "chunks[five_v_class[12]]"
   ]
  },
  {
   "cell_type": "markdown",
   "metadata": {},
   "source": [
    "## iteration 4"
   ]
  },
  {
   "cell_type": "code",
   "execution_count": 21,
   "metadata": {
    "collapsed": false
   },
   "outputs": [
    {
     "data": {
      "text/plain": [
       "{'lex': 'агнотваны',\n",
       " 'paradigms': ['N-obl', 'N-nom-0', 'N-pl-yt'],\n",
       " 'stem': ['агнотванв', 'агнотванв', 'агнотваны', 'агнотванв'],\n",
       " 'trans_ru': 'лежбище моржей'}"
      ]
     },
     "execution_count": 21,
     "metadata": {},
     "output_type": "execute_result"
    }
   ],
   "source": [
    "undone = sorted(set(undone)-set(five_v_class))\n",
    "chunks[undone[0]]"
   ]
  },
  {
   "cell_type": "code",
   "execution_count": 22,
   "metadata": {
    "collapsed": false
   },
   "outputs": [],
   "source": [
    "five_v_reduced_class = []\n",
    "for i in undone:\n",
    "    if len(chunks[i]['stem'])==4:\n",
    "        if chunks[i]['stem'][0]==chunks[i]['stem'][3]:\n",
    "            if chunks[i]['lex']==chunks[i]['stem'][2]:\n",
    "                if chunks[i]['stem'][0]==chunks[i]['lex'][:-1]+'в':\n",
    "                    if chunks[i]['lex']==chunks[i]['stem'][0][:-1]+'ы':\n",
    "                        five_v_reduced_class.append(i)"
   ]
  },
  {
   "cell_type": "code",
   "execution_count": 23,
   "metadata": {
    "collapsed": false
   },
   "outputs": [
    {
     "data": {
      "text/plain": [
       "4"
      ]
     },
     "execution_count": 23,
     "metadata": {},
     "output_type": "execute_result"
    }
   ],
   "source": [
    "len(five_v_reduced_class)"
   ]
  },
  {
   "cell_type": "code",
   "execution_count": 24,
   "metadata": {
    "collapsed": false
   },
   "outputs": [
    {
     "name": "stdout",
     "output_type": "stream",
     "text": [
      "{'lex': 'агнотваны',\n",
      " 'paradigms': ['N-obl', 'N-nom-0', 'N-pl-yt'],\n",
      " 'stem': ['агнотванв', 'агнотванв', 'агнотваны', 'агнотванв'],\n",
      " 'trans_ru': 'лежбище моржей'}\n",
      "{'lex': 'ваны',\n",
      " 'paradigms': ['N-obl', 'N-nom-0', 'N-pl-yt'],\n",
      " 'stem': ['ванв', 'ванв', 'ваны', 'ванв'],\n",
      " 'trans_ru': 'место'}\n",
      "{'lex': 'вины',\n",
      " 'paradigms': ['N-obl', 'N-nom-0', 'N-pl-yt'],\n",
      " 'stem': ['винв', 'вэнв', 'вины', 'винв'],\n",
      " 'trans_ru': 'след'}\n",
      "{'lex': 'вэлыткованы',\n",
      " 'paradigms': ['N-obl', 'N-nom-0', 'N-pl-yt'],\n",
      " 'stem': ['вэлыткованв', 'вэлыткованв', 'вэлыткованы', 'вэлыткованв'],\n",
      " 'trans_ru': 'ярмарка'}\n"
     ]
    }
   ],
   "source": [
    "for i in five_v_reduced_class:\n",
    "    pprint(chunks[i])"
   ]
  },
  {
   "cell_type": "markdown",
   "metadata": {},
   "source": [
    "## iteration 5"
   ]
  },
  {
   "cell_type": "code",
   "execution_count": 25,
   "metadata": {
    "collapsed": false
   },
   "outputs": [
    {
     "name": "stdout",
     "output_type": "stream",
     "text": [
      "1084\n"
     ]
    },
    {
     "data": {
      "text/plain": [
       "{'lex': 'аё',\n",
       " 'paradigms': ['N-obl', 'N-nom-0', 'N-pl-t'],\n",
       " 'stem': ['айва', 'айва', 'аё', 'айва'],\n",
       " 'trans_ru': 'головной мозг'}"
      ]
     },
     "execution_count": 25,
     "metadata": {},
     "output_type": "execute_result"
    }
   ],
   "source": [
    "undone = sorted(set(undone)-set(five_v_reduced_class))\n",
    "print(len(undone))\n",
    "chunks[undone[0]]"
   ]
  },
  {
   "cell_type": "code",
   "execution_count": 26,
   "metadata": {
    "collapsed": false
   },
   "outputs": [
    {
     "data": {
      "text/plain": [
       "42"
      ]
     },
     "execution_count": 26,
     "metadata": {},
     "output_type": "execute_result"
    }
   ],
   "source": [
    "# но сейчас я займусь другим\n",
    "third_or_five_v_class = []\n",
    "for i in undone:\n",
    "    if len(chunks[i]['stem'])==4:\n",
    "        if chunks[i]['stem'][0]==chunks[i]['stem'][3]:\n",
    "            if chunks[i]['lex']==chunks[i]['stem'][2]+'н' or chunks[i]['lex']==chunks[i]['stem'][2]+'ын':\n",
    "                if chunks[i]['stem'][0]==chunks[i]['lex']+'в':\n",
    "                    third_or_five_v_class.append(i)\n",
    "\n",
    "len(third_or_five_v_class)"
   ]
  },
  {
   "cell_type": "markdown",
   "metadata": {},
   "source": [
    "## iteration 6"
   ]
  },
  {
   "cell_type": "code",
   "execution_count": 27,
   "metadata": {
    "collapsed": false
   },
   "outputs": [
    {
     "name": "stdout",
     "output_type": "stream",
     "text": [
      "1042\n"
     ]
    },
    {
     "data": {
      "text/plain": [
       "{'lex': 'аёпычьылгын',\n",
       " 'paradigms': ['N-obl', 'N-nom-lgyn', 'N-pl-yt'],\n",
       " 'stem': ['эюпычь', 'аёпычь', 'аёпычьы', 'эюпычь'],\n",
       " 'trans_ru': 'колючка'}"
      ]
     },
     "execution_count": 27,
     "metadata": {},
     "output_type": "execute_result"
    }
   ],
   "source": [
    "undone = sorted(set(undone)-set(third_or_five_v_class))\n",
    "print(len(undone))\n",
    "chunks[undone[1]]"
   ]
  },
  {
   "cell_type": "code",
   "execution_count": 28,
   "metadata": {
    "collapsed": false
   },
   "outputs": [
    {
     "data": {
      "text/plain": [
       "170"
      ]
     },
     "execution_count": 28,
     "metadata": {},
     "output_type": "execute_result"
    }
   ],
   "source": [
    "recessive = set('уюи')\n",
    "singulative_lgyn_class = []\n",
    "for i in undone:\n",
    "    if len(chunks[i]['stem'])==4:\n",
    "        if chunks[i]['stem'][0]==chunks[i]['stem'][3]:\n",
    "            if 'N-nom-lgyn' in chunks[i]['paradigms']:\n",
    "                if chunks[i]['lex']==chunks[i]['stem'][2]+'лгын':\n",
    "                    if chunks[i]['stem'][1]==chunks[i]['stem'][2] or chunks[i]['stem'][2]==chunks[i]['stem'][1]+'ы':\n",
    "                        singulative_lgyn_class.append(i)\n",
    "\n",
    "len(singulative_lgyn_class)"
   ]
  },
  {
   "cell_type": "markdown",
   "metadata": {},
   "source": [
    "## iteration 7"
   ]
  },
  {
   "cell_type": "code",
   "execution_count": 29,
   "metadata": {
    "collapsed": false
   },
   "outputs": [
    {
     "name": "stdout",
     "output_type": "stream",
     "text": [
      "872\n"
     ]
    },
    {
     "data": {
      "text/plain": [
       "{'lex': 'айван',\n",
       " 'paradigms': ['N-obl', 'N-nom-n', 'N-pl-yt'],\n",
       " 'stem': ['айваналь', 'айваналь', 'айва.//.айваналь', 'айваналь'],\n",
       " 'trans_ru': 'эскимос'}"
      ]
     },
     "execution_count": 29,
     "metadata": {},
     "output_type": "execute_result"
    }
   ],
   "source": [
    "undone = sorted(set(undone)-set(singulative_lgyn_class))\n",
    "print(len(undone))\n",
    "chunks[undone[1]]"
   ]
  },
  {
   "cell_type": "code",
   "execution_count": 30,
   "metadata": {
    "collapsed": false
   },
   "outputs": [
    {
     "name": "stdout",
     "output_type": "stream",
     "text": [
      "{'lex': 'аё',\n",
      " 'paradigms': ['N-obl', 'N-nom-0', 'N-pl-t'],\n",
      " 'stem': ['айва', 'айва', 'аё', 'айва'],\n",
      " 'trans_ru': 'головной мозг'}\n",
      "{'lex': 'айван',\n",
      " 'paradigms': ['N-obl', 'N-nom-n', 'N-pl-yt'],\n",
      " 'stem': ['айваналь', 'айваналь', 'айва.//.айваналь', 'айваналь'],\n",
      " 'trans_ru': 'эскимос'}\n",
      "{'lex': 'айватлён',\n",
      " 'paradigms': ['N-obl', 'N-nom-n', 'N-pl'],\n",
      " 'stem': ['айватлён//айватрон',\n",
      "          'айватлён//айватрон',\n",
      "          'айватлён//айватрон',\n",
      "          'айватлён//айватрон'],\n",
      " 'trans_ru': 'левая от входа сторона полога'}\n",
      "{'lex': 'айголяткэгыргын',\n",
      " 'paradigms': ['N-obl', 'N-nom-n', 'N-pl'],\n",
      " 'stem': ['айголяткэгыргын',\n",
      "          'айголяткэгыргын',\n",
      "          'айголяткэгыргын',\n",
      "          'айголяткэгыргын'],\n",
      " 'trans_ru': 'невежество'}\n",
      "{'lex': 'айкол',\n",
      " 'paradigms': ['N-obl', 'N-nom-0', 'N-pl-t'],\n",
      " 'stem': ['айколя', 'айколя', 'айкол', 'айколя'],\n",
      " 'trans_ru': 'подстилка '}\n"
     ]
    }
   ],
   "source": [
    "for i in undone[:5]:\n",
    "    pprint(chunks[i])"
   ]
  },
  {
   "cell_type": "code",
   "execution_count": 31,
   "metadata": {
    "collapsed": false
   },
   "outputs": [
    {
     "data": {
      "text/plain": [
       "151"
      ]
     },
     "execution_count": 31,
     "metadata": {},
     "output_type": "execute_result"
    }
   ],
   "source": [
    "first_n_ending_class = []\n",
    "for i in undone:\n",
    "    if len(chunks[i]['stem'])==4:\n",
    "        if chunks[i]['stem'][0]==chunks[i]['stem'][2]==chunks[i]['stem'][3]:\n",
    "            if 'N-nom-n' in chunks[i]['paradigms']:\n",
    "                if chunks[i]['lex']==chunks[i]['stem'][2]:\n",
    "                    first_n_ending_class.append(i)\n",
    "\n",
    "len(first_n_ending_class)"
   ]
  },
  {
   "cell_type": "code",
   "execution_count": 32,
   "metadata": {
    "collapsed": true
   },
   "outputs": [],
   "source": [
    "classes_list = ['first_a_class', 'first_n_ending_class', 'third_class', \n",
    "           'third_or_five_v_class', 'five_v_class', 'five_v_reduced_class', 'singulative_lgyn_class']"
   ]
  },
  {
   "cell_type": "code",
   "execution_count": 33,
   "metadata": {
    "collapsed": false
   },
   "outputs": [],
   "source": [
    "classes = {}\n",
    "for cl in classes_list:\n",
    "    classes[cl] = vars()[cl]"
   ]
  },
  {
   "cell_type": "markdown",
   "metadata": {},
   "source": [
    "## iteration 8"
   ]
  },
  {
   "cell_type": "code",
   "execution_count": 34,
   "metadata": {
    "collapsed": false
   },
   "outputs": [
    {
     "name": "stdout",
     "output_type": "stream",
     "text": [
      "721\n",
      "{'lex': 'аё',\n",
      " 'paradigms': ['N-obl', 'N-nom-0', 'N-pl-t'],\n",
      " 'stem': ['айва', 'айва', 'аё', 'айва'],\n",
      " 'trans_ru': 'головной мозг'}\n",
      "{'lex': 'айван',\n",
      " 'paradigms': ['N-obl', 'N-nom-n', 'N-pl-yt'],\n",
      " 'stem': ['айваналь', 'айваналь', 'айва.//.айваналь', 'айваналь'],\n",
      " 'trans_ru': 'эскимос'}\n",
      "{'lex': 'айватлён',\n",
      " 'paradigms': ['N-obl', 'N-nom-n', 'N-pl'],\n",
      " 'stem': ['айватлён//айватрон',\n",
      "          'айватлён//айватрон',\n",
      "          'айватлён//айватрон',\n",
      "          'айватлён//айватрон'],\n",
      " 'trans_ru': 'левая от входа сторона полога'}\n",
      "{'lex': 'айкол',\n",
      " 'paradigms': ['N-obl', 'N-nom-0', 'N-pl-t'],\n",
      " 'stem': ['айколя', 'айколя', 'айкол', 'айколя'],\n",
      " 'trans_ru': 'подстилка '}\n",
      "{'lex': 'айылгыгыргын',\n",
      " 'paradigms': [],\n",
      " 'stem': ['айылгыгырг', 'айылгыгырг', 'айылгыгырг', 'айылгыгырг'],\n",
      " 'trans_ru': '1. боязнь; 2. страшный'}\n"
     ]
    }
   ],
   "source": [
    "undone = sorted(set(undone)-set(first_n_ending_class))\n",
    "print(len(undone))\n",
    "for i in undone[:5]:\n",
    "    pprint(chunks[i])"
   ]
  },
  {
   "cell_type": "code",
   "execution_count": 35,
   "metadata": {
    "collapsed": false
   },
   "outputs": [
    {
     "data": {
      "text/plain": [
       "76"
      ]
     },
     "execution_count": 35,
     "metadata": {},
     "output_type": "execute_result"
    }
   ],
   "source": [
    "first_c_class = []\n",
    "for i in undone:\n",
    "    if len(chunks[i]['stem'])==4:\n",
    "        if chunks[i]['stem'][0]==chunks[i]['stem'][3]:\n",
    "            if chunks[i]['lex']==chunks[i]['stem'][2]:\n",
    "                if 'N-nom-0' in chunks[i]['paradigms']:\n",
    "                    if chunks[i]['lex']==chunks[i]['stem'][0][:-1]:\n",
    "                        if chunks[i]['stem'][0][-1] in 'аоуеэыяиюё':\n",
    "                            first_c_class.append(i)\n",
    "\n",
    "classes['first_c_class'] = first_c_class\n",
    "len(first_c_class)"
   ]
  },
  {
   "cell_type": "code",
   "execution_count": 36,
   "metadata": {
    "collapsed": false
   },
   "outputs": [
    {
     "name": "stdout",
     "output_type": "stream",
     "text": [
      "{'lex': 'ңавъельо',\n",
      " 'paradigms': ['N-obl', 'N-nom-0', 'N-pl-te'],\n",
      " 'stem': ['ңавъельон', 'ңавъельон', 'ңавъельо', 'ңавъельон'],\n",
      " 'trans_ru': 'двоюродная сестра'}\n"
     ]
    }
   ],
   "source": [
    "pprint(chunks[1374])"
   ]
  },
  {
   "cell_type": "markdown",
   "metadata": {},
   "source": [
    "## iteration 9"
   ]
  },
  {
   "cell_type": "code",
   "execution_count": 37,
   "metadata": {
    "collapsed": false
   },
   "outputs": [
    {
     "name": "stdout",
     "output_type": "stream",
     "text": [
      "645\n",
      "{'lex': 'анңатъытвъат',\n",
      " 'paradigms': ['N-obl', 'N-nom-0', 'N-pl-yt'],\n",
      " 'stem': ['анңатъытв', 'анңатъытв', 'анңатъытвъат', 'анңатъытв'],\n",
      " 'trans_ru': 'подводная лодка'}\n",
      "{'lex': 'аңатлыңын',\n",
      " 'paradigms': ['N-obl', 'N-nom-n', 'N-pl-ti'],\n",
      " 'stem': ['эңэр', 'аңар', 'аңат', 'эңэр'],\n",
      " 'trans_ru': 'звезда'}\n",
      "{'lex': 'аңқароқыр',\n",
      " 'paradigms': ['N-obl', 'N-nom-0', 'N-pl-t'],\n",
      " 'stem': ['аңқаръора', 'аңқаръора', 'аңқароқыр', 'аңқаръора'],\n",
      " 'trans_ru': 'морской ёж'}\n",
      "{'lex': 'аңқы',\n",
      " 'paradigms': ['N-obl', 'N-nom-0', 'N-pl-t'],\n",
      " 'stem': ['аңқа', 'аңқа', 'аңқы', 'аңқа'],\n",
      " 'trans_ru': 'море'}\n",
      "{'lex': 'апаапаглыңын',\n",
      " 'paradigms': ['N-obl', 'N-nom-n', 'N-pl-ti'],\n",
      " 'stem': ['эпээпэг', 'апаапаг', 'апаапаглың', 'эпээпэг'],\n",
      " 'trans_ru': 'паук'}\n",
      "{'lex': 'аркамак',\n",
      " 'paradigms': ['N-obl', 'N-nom-0', 'N-pl'],\n",
      " 'stem': ['аркама', 'аркама', 'аркама', 'аркама'],\n",
      " 'trans_ru': '1) выемка на нижнем конце мачты; 2) палка с вилкообразным '\n",
      "             'концом; 3) деревянное огниво'}\n",
      "{'lex': 'аройвычьат',\n",
      " 'paradigms': ['N-obl', 'N-nom-0', 'N-pl'],\n",
      " 'stem': ['аройвычьат.//.аройвычьатгырг',\n",
      "          'аройвычьат.//.аройвычьатгырг',\n",
      "          'аройвычьат.//.аройвычьатгырг',\n",
      "          'аройвычьат.//.аройвычьатгырг'],\n",
      " 'trans_ru': '1) здоровье; 2) мужество'}\n",
      "{'lex': 'аръапаңы',\n",
      " 'paradigms': ['N-obl', 'N-nom-0', 'N-pl-t'],\n",
      " 'stem': ['аръапа', 'аръапа', 'аръапа', 'аръапа'],\n",
      " 'trans_ru': 'бульон'}\n"
     ]
    }
   ],
   "source": [
    "undone = sorted(set(undone)-set(first_c_class))\n",
    "print(len(undone))\n",
    "for i in undone[7:15]:\n",
    "    pprint(chunks[i])"
   ]
  },
  {
   "cell_type": "code",
   "execution_count": 38,
   "metadata": {
    "collapsed": false
   },
   "outputs": [
    {
     "data": {
      "text/plain": [
       "9"
      ]
     },
     "execution_count": 38,
     "metadata": {},
     "output_type": "execute_result"
    }
   ],
   "source": [
    "fourth_class = []\n",
    "for i in undone:\n",
    "    if len(chunks[i]['stem'])==4:\n",
    "        if chunks[i]['stem'][0]==chunks[i]['stem'][2]==chunks[i]['stem'][3]:\n",
    "            if chunks[i]['lex']==chunks[i]['stem'][2]+'ңы':\n",
    "                if 'N-nom-0' in chunks[i]['paradigms']:\n",
    "                    fourth_class.append(i)\n",
    "\n",
    "classes['fourth_class'] = fourth_class\n",
    "len(fourth_class)"
   ]
  },
  {
   "cell_type": "markdown",
   "metadata": {},
   "source": [
    "## iteration 10"
   ]
  },
  {
   "cell_type": "code",
   "execution_count": 39,
   "metadata": {
    "collapsed": false
   },
   "outputs": [
    {
     "name": "stdout",
     "output_type": "stream",
     "text": [
      "636\n",
      "{'lex': 'анңатъытвъат',\n",
      " 'paradigms': ['N-obl', 'N-nom-0', 'N-pl-yt'],\n",
      " 'stem': ['анңатъытв', 'анңатъытв', 'анңатъытвъат', 'анңатъытв'],\n",
      " 'trans_ru': 'подводная лодка'}\n",
      "{'lex': 'аңатлыңын',\n",
      " 'paradigms': ['N-obl', 'N-nom-n', 'N-pl-ti'],\n",
      " 'stem': ['эңэр', 'аңар', 'аңат', 'эңэр'],\n",
      " 'trans_ru': 'звезда'}\n",
      "{'lex': 'аңқароқыр',\n",
      " 'paradigms': ['N-obl', 'N-nom-0', 'N-pl-t'],\n",
      " 'stem': ['аңқаръора', 'аңқаръора', 'аңқароқыр', 'аңқаръора'],\n",
      " 'trans_ru': 'морской ёж'}\n",
      "{'lex': 'аңқы',\n",
      " 'paradigms': ['N-obl', 'N-nom-0', 'N-pl-t'],\n",
      " 'stem': ['аңқа', 'аңқа', 'аңқы', 'аңқа'],\n",
      " 'trans_ru': 'море'}\n",
      "{'lex': 'апаапаглыңын',\n",
      " 'paradigms': ['N-obl', 'N-nom-n', 'N-pl-ti'],\n",
      " 'stem': ['эпээпэг', 'апаапаг', 'апаапаглың', 'эпээпэг'],\n",
      " 'trans_ru': 'паук'}\n",
      "{'lex': 'аркамак',\n",
      " 'paradigms': ['N-obl', 'N-nom-0', 'N-pl'],\n",
      " 'stem': ['аркама', 'аркама', 'аркама', 'аркама'],\n",
      " 'trans_ru': '1) выемка на нижнем конце мачты; 2) палка с вилкообразным '\n",
      "             'концом; 3) деревянное огниво'}\n",
      "{'lex': 'аройвычьат',\n",
      " 'paradigms': ['N-obl', 'N-nom-0', 'N-pl'],\n",
      " 'stem': ['аройвычьат.//.аройвычьатгырг',\n",
      "          'аройвычьат.//.аройвычьатгырг',\n",
      "          'аройвычьат.//.аройвычьатгырг',\n",
      "          'аройвычьат.//.аройвычьатгырг'],\n",
      " 'trans_ru': '1) здоровье; 2) мужество'}\n",
      "{'lex': 'арэқаңо',\n",
      " 'paradigms': ['N-obl', 'N-nom-0', 'N-pl-t'],\n",
      " 'stem': [\"а'рэқаңо\", \"а'рэқаңо\", 'арэқаңо', \"а'рэқаңо\"],\n",
      " 'trans_ru': 'олень с белой шерстью на брюхе'}\n"
     ]
    }
   ],
   "source": [
    "undone = sorted(set(undone)-set(fourth_class))\n",
    "print(len(undone))\n",
    "for i in undone[7:15]:\n",
    "    pprint(chunks[i])"
   ]
  },
  {
   "cell_type": "code",
   "execution_count": 40,
   "metadata": {
    "collapsed": false
   },
   "outputs": [
    {
     "data": {
      "text/plain": [
       "11"
      ]
     },
     "execution_count": 40,
     "metadata": {},
     "output_type": "execute_result"
    }
   ],
   "source": [
    "'лыңын'\n",
    "singulative_lyng_class = []\n",
    "for i in undone:\n",
    "    if len(chunks[i]['stem'])==4:\n",
    "        if chunks[i]['stem'][0]==chunks[i]['stem'][3]:\n",
    "            if (chunks[i]['stem'][1]==chunks[i]['stem'][2] and chunks[i]['lex']==chunks[i]['stem'][2]+'лыңын') or (chunks[i]['stem'][2]==chunks[i]['stem'][1]+'лың' and chunks[i]['lex']==chunks[i]['stem'][2]+'ын'):\n",
    "                    if 'N-nom-n' in chunks[i]['paradigms']:\n",
    "                        singulative_lyng_class.append(i)\n",
    "\n",
    "classes['singulative_lyng_class'] = singulative_lyng_class\n",
    "len(singulative_lyng_class)"
   ]
  },
  {
   "cell_type": "markdown",
   "metadata": {},
   "source": [
    "## iteration 11"
   ]
  },
  {
   "cell_type": "code",
   "execution_count": 41,
   "metadata": {
    "collapsed": false
   },
   "outputs": [
    {
     "name": "stdout",
     "output_type": "stream",
     "text": [
      "625\n",
      "{'lex': 'анңатъытвъат',\n",
      " 'paradigms': ['N-obl', 'N-nom-0', 'N-pl-yt'],\n",
      " 'stem': ['анңатъытв', 'анңатъытв', 'анңатъытвъат', 'анңатъытв'],\n",
      " 'trans_ru': 'подводная лодка'}\n",
      "{'lex': 'аңатлыңын',\n",
      " 'paradigms': ['N-obl', 'N-nom-n', 'N-pl-ti'],\n",
      " 'stem': ['эңэр', 'аңар', 'аңат', 'эңэр'],\n",
      " 'trans_ru': 'звезда'}\n",
      "{'lex': 'аңқароқыр',\n",
      " 'paradigms': ['N-obl', 'N-nom-0', 'N-pl-t'],\n",
      " 'stem': ['аңқаръора', 'аңқаръора', 'аңқароқыр', 'аңқаръора'],\n",
      " 'trans_ru': 'морской ёж'}\n",
      "{'lex': 'аңқы',\n",
      " 'paradigms': ['N-obl', 'N-nom-0', 'N-pl-t'],\n",
      " 'stem': ['аңқа', 'аңқа', 'аңқы', 'аңқа'],\n",
      " 'trans_ru': 'море'}\n",
      "{'lex': 'аркамак',\n",
      " 'paradigms': ['N-obl', 'N-nom-0', 'N-pl'],\n",
      " 'stem': ['аркама', 'аркама', 'аркама', 'аркама'],\n",
      " 'trans_ru': '1) выемка на нижнем конце мачты; 2) палка с вилкообразным '\n",
      "             'концом; 3) деревянное огниво'}\n",
      "{'lex': 'аройвычьат',\n",
      " 'paradigms': ['N-obl', 'N-nom-0', 'N-pl'],\n",
      " 'stem': ['аройвычьат.//.аройвычьатгырг',\n",
      "          'аройвычьат.//.аройвычьатгырг',\n",
      "          'аройвычьат.//.аройвычьатгырг',\n",
      "          'аройвычьат.//.аройвычьатгырг'],\n",
      " 'trans_ru': '1) здоровье; 2) мужество'}\n",
      "{'lex': 'арэқаңо',\n",
      " 'paradigms': ['N-obl', 'N-nom-0', 'N-pl-t'],\n",
      " 'stem': [\"а'рэқаңо\", \"а'рэқаңо\", 'арэқаңо', \"а'рэқаңо\"],\n",
      " 'trans_ru': 'олень с белой шерстью на брюхе'}\n",
      "{'lex': 'атанмыргын',\n",
      " 'paradigms': ['N-obl', 'N-nom-0', 'N-pl'],\n",
      " 'stem': ['атанмырг', 'атанмырг', 'атанмырг', 'атанмырыгрыг'],\n",
      " 'trans_ru': 'грива (лошади)'}\n"
     ]
    }
   ],
   "source": [
    "undone = sorted(set(undone)-set(singulative_lyng_class))\n",
    "print(len(undone))\n",
    "for i in undone[7:15]:\n",
    "    pprint(chunks[i])"
   ]
  },
  {
   "cell_type": "code",
   "execution_count": 42,
   "metadata": {
    "collapsed": false
   },
   "outputs": [
    {
     "data": {
      "text/plain": [
       "22"
      ]
     },
     "execution_count": 42,
     "metadata": {},
     "output_type": "execute_result"
    }
   ],
   "source": [
    "first_b_class = []\n",
    "for i in undone:\n",
    "    if len(chunks[i]['stem'])==4:\n",
    "        if chunks[i]['stem'][0]==chunks[i]['stem'][3]:\n",
    "            if chunks[i]['lex']==chunks[i]['stem'][2]:\n",
    "                if 'N-nom-0' in chunks[i]['paradigms']:\n",
    "                    if chunks[i]['lex']==chunks[i]['stem'][0][:-1]+'ы':\n",
    "                        if chunks[i]['stem'][0][-1] in 'аоуеэыяиюё':\n",
    "                            first_b_class.append(i)\n",
    "\n",
    "classes['first_b_class'] = first_b_class\n",
    "len(first_b_class)"
   ]
  },
  {
   "cell_type": "markdown",
   "metadata": {},
   "source": [
    "## iteration 12"
   ]
  },
  {
   "cell_type": "code",
   "execution_count": 43,
   "metadata": {
    "collapsed": false
   },
   "outputs": [
    {
     "name": "stdout",
     "output_type": "stream",
     "text": [
      "603\n",
      "{'lex': 'анңатъытвъат',\n",
      " 'paradigms': ['N-obl', 'N-nom-0', 'N-pl-yt'],\n",
      " 'stem': ['анңатъытв', 'анңатъытв', 'анңатъытвъат', 'анңатъытв'],\n",
      " 'trans_ru': 'подводная лодка'}\n",
      "{'lex': 'аңатлыңын',\n",
      " 'paradigms': ['N-obl', 'N-nom-n', 'N-pl-ti'],\n",
      " 'stem': ['эңэр', 'аңар', 'аңат', 'эңэр'],\n",
      " 'trans_ru': 'звезда'}\n",
      "{'lex': 'аңқароқыр',\n",
      " 'paradigms': ['N-obl', 'N-nom-0', 'N-pl-t'],\n",
      " 'stem': ['аңқаръора', 'аңқаръора', 'аңқароқыр', 'аңқаръора'],\n",
      " 'trans_ru': 'морской ёж'}\n",
      "{'lex': 'аркамак',\n",
      " 'paradigms': ['N-obl', 'N-nom-0', 'N-pl'],\n",
      " 'stem': ['аркама', 'аркама', 'аркама', 'аркама'],\n",
      " 'trans_ru': '1) выемка на нижнем конце мачты; 2) палка с вилкообразным '\n",
      "             'концом; 3) деревянное огниво'}\n",
      "{'lex': 'аройвычьат',\n",
      " 'paradigms': ['N-obl', 'N-nom-0', 'N-pl'],\n",
      " 'stem': ['аройвычьат.//.аройвычьатгырг',\n",
      "          'аройвычьат.//.аройвычьатгырг',\n",
      "          'аройвычьат.//.аройвычьатгырг',\n",
      "          'аройвычьат.//.аройвычьатгырг'],\n",
      " 'trans_ru': '1) здоровье; 2) мужество'}\n",
      "{'lex': 'арэқаңо',\n",
      " 'paradigms': ['N-obl', 'N-nom-0', 'N-pl-t'],\n",
      " 'stem': [\"а'рэқаңо\", \"а'рэқаңо\", 'арэқаңо', \"а'рэқаңо\"],\n",
      " 'trans_ru': 'олень с белой шерстью на брюхе'}\n",
      "{'lex': 'атанмыргын',\n",
      " 'paradigms': ['N-obl', 'N-nom-0', 'N-pl'],\n",
      " 'stem': ['атанмырг', 'атанмырг', 'атанмырг', 'атанмырыгрыг'],\n",
      " 'trans_ru': 'грива (лошади)'}\n",
      "{'lex': 'аттывэгыргын',\n",
      " 'paradigms': ['N-obl', 'N-nom-n', 'N-pl'],\n",
      " 'stem': ['аттывэгырг.//.артывэгырг',\n",
      "          'аттывэгырг.//.артывэгырг',\n",
      "          'аттывэгырг.//.артывэгырг',\n",
      "          'аттывэгырг.//.артывэгырг'],\n",
      " 'trans_ru': '1) узкое место реки, озера; 2) стремнина реки'}\n"
     ]
    }
   ],
   "source": [
    "undone = sorted(set(undone)-set(first_b_class))\n",
    "print(len(undone))\n",
    "for i in undone[7:15]:\n",
    "    pprint(chunks[i])"
   ]
  },
  {
   "cell_type": "code",
   "execution_count": 44,
   "metadata": {
    "collapsed": false
   },
   "outputs": [
    {
     "data": {
      "text/plain": [
       "6"
      ]
     },
     "execution_count": 44,
     "metadata": {},
     "output_type": "execute_result"
    }
   ],
   "source": [
    "aa_or_class = []\n",
    "for i in undone:\n",
    "    if len(chunks[i]['stem'])==4:\n",
    "        if chunks[i]['stem'][0]==chunks[i]['stem'][3]:\n",
    "            if chunks[i]['lex']==chunks[i]['stem'][2]:\n",
    "                if 'N-nom-0' in chunks[i]['paradigms']:\n",
    "                    if chunks[i]['lex'].endswith('ор'):\n",
    "                        if chunks[i]['stem'][1].endswith('аа'):\n",
    "                            aa_or_class.append(i)\n",
    "\n",
    "classes['aa_or_class'] = aa_or_class\n",
    "len(aa_or_class)"
   ]
  },
  {
   "cell_type": "markdown",
   "metadata": {},
   "source": [
    "## iteration 13"
   ]
  },
  {
   "cell_type": "code",
   "execution_count": 45,
   "metadata": {
    "collapsed": false
   },
   "outputs": [
    {
     "name": "stdout",
     "output_type": "stream",
     "text": [
      "597\n",
      "{'lex': 'ваарқэр',\n",
      " 'paradigms': ['N-obl', 'N-nom-0', 'N-pl'],\n",
      " 'stem': ['ваарқэр//вагырқэр',\n",
      "          'ваарқэр//вагырқэр',\n",
      "          'ваарқэр//вагырқэр',\n",
      "          'ваарқэр//вагырқэр'],\n",
      " 'trans_ru': 'расстояние между пальцами вытянутых рук (мера длины)'}\n",
      "{'lex': 'вагыткын',\n",
      " 'paradigms': ['N-obl', 'N-nom-n', 'N-pl-te'],\n",
      " 'stem': ['вагыткын', 'вагыткын', 'вагытк', 'вагыткын'],\n",
      " 'trans_ru': 'почка (у растения)'}\n",
      "{'lex': 'вагыткын',\n",
      " 'paradigms': ['N-obl', 'N-nom-n', 'N-pl-te'],\n",
      " 'stem': ['вагыткын', 'вагыткын', 'вагытк', 'вагыткын'],\n",
      " 'trans_ru': 'кончик ногтя, когтя'}\n",
      "{'lex': 'вайпывай',\n",
      " 'paradigms': ['N-obl', 'N-nom-0', 'N-pl-yt'],\n",
      " 'stem': ['вайп', 'вайп', 'вайпывай', 'вайп'],\n",
      " 'trans_ru': 'деревянная игла для вязки сетей'}\n"
     ]
    }
   ],
   "source": [
    "undone = sorted(set(undone)-set(aa_or_class))\n",
    "print(len(undone))\n",
    "for i in undone[23:27]:\n",
    "    pprint(chunks[i])"
   ]
  },
  {
   "cell_type": "code",
   "execution_count": 46,
   "metadata": {
    "collapsed": false
   },
   "outputs": [
    {
     "data": {
      "text/plain": [
       "1"
      ]
     },
     "execution_count": 46,
     "metadata": {},
     "output_type": "execute_result"
    }
   ],
   "source": [
    "fourth_or_class = []\n",
    "for i in undone:\n",
    "    if len(chunks[i]['stem'])==4:\n",
    "        if chunks[i]['stem'][0]==chunks[i]['stem'][3]:\n",
    "            if chunks[i]['lex']==chunks[i]['stem'][2]+'ңы':\n",
    "                if 'N-nom-0' in chunks[i]['paradigms']:\n",
    "                    fourth_or_class.append(i)\n",
    "\n",
    "classes['fourth_or_class'] = fourth_or_class\n",
    "len(fourth_or_class)"
   ]
  },
  {
   "cell_type": "code",
   "execution_count": 47,
   "metadata": {
    "collapsed": false
   },
   "outputs": [
    {
     "name": "stdout",
     "output_type": "stream",
     "text": [
      "{'lex': 'қораңы',\n",
      " 'paradigms': ['N-obl', 'N-nom-0', 'N-pl-t'],\n",
      " 'stem': ['қаа', 'қаа', 'қора', 'қаа'],\n",
      " 'trans_ru': 'олень'}\n"
     ]
    }
   ],
   "source": [
    "pprint(chunks[fourth_or_class[0]])"
   ]
  },
  {
   "cell_type": "code",
   "execution_count": 48,
   "metadata": {
    "collapsed": false
   },
   "outputs": [],
   "source": [
    "for i in undone:\n",
    "    if '*' in chunks[i]['lex']:\n",
    "        print(i)\n",
    "        pprint(chunks[i])"
   ]
  },
  {
   "cell_type": "code",
   "execution_count": 49,
   "metadata": {
    "collapsed": true
   },
   "outputs": [],
   "source": [
    "classes['strange_star_first_a_class'] = [162, 250, 2226]\n",
    "classes['strange_star_third_class'] = [89, 104]\n",
    "classes['strange_star_singulative_class'] = [2604]"
   ]
  },
  {
   "cell_type": "markdown",
   "metadata": {},
   "source": [
    "## iteration 14"
   ]
  },
  {
   "cell_type": "code",
   "execution_count": 50,
   "metadata": {
    "collapsed": false
   },
   "outputs": [
    {
     "name": "stdout",
     "output_type": "stream",
     "text": [
      "596\n",
      "{'lex': 'ваарқэр',\n",
      " 'paradigms': ['N-obl', 'N-nom-0', 'N-pl'],\n",
      " 'stem': ['ваарқэр//вагырқэр',\n",
      "          'ваарқэр//вагырқэр',\n",
      "          'ваарқэр//вагырқэр',\n",
      "          'ваарқэр//вагырқэр'],\n",
      " 'trans_ru': 'расстояние между пальцами вытянутых рук (мера длины)'}\n",
      "{'lex': 'вагыткын',\n",
      " 'paradigms': ['N-obl', 'N-nom-n', 'N-pl-te'],\n",
      " 'stem': ['вагыткын', 'вагыткын', 'вагытк', 'вагыткын'],\n",
      " 'trans_ru': 'почка (у растения)'}\n",
      "{'lex': 'вагыткын',\n",
      " 'paradigms': ['N-obl', 'N-nom-n', 'N-pl-te'],\n",
      " 'stem': ['вагыткын', 'вагыткын', 'вагытк', 'вагыткын'],\n",
      " 'trans_ru': 'кончик ногтя, когтя'}\n",
      "{'lex': 'вайпывай',\n",
      " 'paradigms': ['N-obl', 'N-nom-0', 'N-pl-yt'],\n",
      " 'stem': ['вайп', 'вайп', 'вайпывай', 'вайп'],\n",
      " 'trans_ru': 'деревянная игла для вязки сетей'}\n"
     ]
    }
   ],
   "source": [
    "undone = sorted(set(undone)-set(fourth_or_class))\n",
    "print(len(undone))\n",
    "for i in undone[23:27]:\n",
    "    pprint(chunks[i])"
   ]
  },
  {
   "cell_type": "code",
   "execution_count": 51,
   "metadata": {
    "collapsed": false
   },
   "outputs": [
    {
     "data": {
      "text/plain": [
       "19"
      ]
     },
     "execution_count": 51,
     "metadata": {},
     "output_type": "execute_result"
    }
   ],
   "source": [
    "strange_yn_except_absolutive_class = []\n",
    "for i in undone:\n",
    "    if len(chunks[i]['stem'])==4:\n",
    "        if chunks[i]['stem'][0]==chunks[i]['stem'][3]:\n",
    "            if chunks[i]['lex']==chunks[i]['stem'][2]+'ын' or chunks[i]['lex']==chunks[i]['stem'][2]+'н':\n",
    "                if 'N-nom-n' in chunks[i]['paradigms']:\n",
    "                    if chunks[i]['stem'][0]==chunks[i]['stem'][2]+'ын' or chunks[i]['stem'][0]==chunks[i]['stem'][2]+'н':\n",
    "                        strange_yn_except_absolutive_class.append(i)\n",
    "\n",
    "classes['strange_yn_except_absolutive_class'] = strange_yn_except_absolutive_class\n",
    "len(strange_yn_except_absolutive_class)"
   ]
  },
  {
   "cell_type": "markdown",
   "metadata": {},
   "source": [
    "## iteration 15"
   ]
  },
  {
   "cell_type": "code",
   "execution_count": 52,
   "metadata": {
    "collapsed": false
   },
   "outputs": [
    {
     "name": "stdout",
     "output_type": "stream",
     "text": [
      "577\n",
      "{'lex': 'ңэлвыл',\n",
      " 'paradigms': ['N-obl', 'N-nom-0', 'N-pl-yt'],\n",
      " 'stem': ['ңэлвыль', 'ңалвыль', 'ңэлвыл', 'ңэлвыль'],\n",
      " 'trans_ru': 'табун'}\n",
      "{'lex': 'витъывит',\n",
      " 'paradigms': ['N-obl', 'N-nom-0', 'N-pl-yt'],\n",
      " 'stem': ['витъ', 'вэтъ', 'витъывит.//.вить', 'витъ'],\n",
      " 'trans_ru': '1) белый болотный мох; 2) фитиль '}\n",
      "{'lex': \"а'лыгаттэ\",\n",
      " 'paradigms': ['N-obl', 'N-nom-0', 'N-pl-t'],\n",
      " 'stem': [\"а'лыгатга\", \"а'лыгатга\", \"а'лыгаттэ\", \"а'лыгатга\"],\n",
      " 'trans_ru': 'топор'}\n",
      "{'lex': 'кагрэтлыңын',\n",
      " 'paradigms': ['N-obl', 'N-nom-n', 'N-pl-ti'],\n",
      " 'stem': ['кэгрил', 'кагрэл', 'кагрэт', 'кэгрил'],\n",
      " 'trans_ru': 'ладонь'}\n",
      "{'lex': 'тупэтуп',\n",
      " 'paradigms': ['N-obl', 'N-nom-0', 'N-pl-t'],\n",
      " 'stem': ['тупэ', 'топа', 'тупэтуп', 'тупэ'],\n",
      " 'trans_ru': 'утепляющий дёрн '}\n",
      "{'lex': 'рэвымрэв',\n",
      " 'paradigms': ['N-obl', 'N-nom-0', 'N-pl-yt'],\n",
      " 'stem': ['рэвьшрэв', 'равьшрав', 'рэвымрэв', 'рэвьшрэв'],\n",
      " 'trans_ru': 'куропатка'}\n"
     ]
    }
   ],
   "source": [
    "undone = sorted(set(undone)-set(strange_yn_except_absolutive_class))\n",
    "print(len(undone))\n",
    "for i in random.sample(set(undone), 6):\n",
    "    pprint(chunks[i])"
   ]
  },
  {
   "cell_type": "code",
   "execution_count": 53,
   "metadata": {
    "collapsed": false
   },
   "outputs": [
    {
     "data": {
      "text/plain": [
       "24"
      ]
     },
     "execution_count": 53,
     "metadata": {},
     "output_type": "execute_result"
    }
   ],
   "source": [
    "first_a_g_j_class = []\n",
    "for i in undone:\n",
    "    if len(chunks[i]['stem'])==4:\n",
    "        if chunks[i]['stem'][0]==chunks[i]['stem'][3]:\n",
    "            if 'N-nom-0' in chunks[i]['paradigms']:\n",
    "                if chunks[i]['lex']==chunks[i]['stem'][2]:\n",
    "                    if chunks[i]['stem'][0]==chunks[i]['stem'][2][:-1]+'г':\n",
    "                        if chunks[i]['stem'][2].endswith('й'):\n",
    "                            first_a_g_j_class.append(i)\n",
    "\n",
    "classes['first_a_g_j_class'] = first_a_g_j_class\n",
    "len(first_a_g_j_class)"
   ]
  },
  {
   "cell_type": "markdown",
   "metadata": {},
   "source": [
    "## iteration 16"
   ]
  },
  {
   "cell_type": "code",
   "execution_count": 54,
   "metadata": {
    "collapsed": false
   },
   "outputs": [
    {
     "name": "stdout",
     "output_type": "stream",
     "text": [
      "553\n",
      "{'lex': 'гакаңоргоор',\n",
      " 'paradigms': ['N-obl', 'N-nom-0', 'N-pl-yt'],\n",
      " 'stem': ['гакаңорв', 'гакаңорв', 'гакаңоргоор', 'гакаңорв'],\n",
      " 'trans_ru': 'лёгкая беговая нарта'}\n",
      "{'lex': 'лылегылгын',\n",
      " 'paradigms': ['N-obl', 'N-nom-lgyn', 'N-pl'],\n",
      " 'stem': ['лылегы.//', 'лылягы.//', 'лылегы.//', 'лылегы.//'],\n",
      " 'trans_ru': '(2) веко'}\n",
      "{'lex': 'этролгын',\n",
      " 'paradigms': ['N-obl', 'N-nom-lgyn', 'N-pl-t'],\n",
      " 'stem': ['итрут//ирру', 'этрот//эрро', 'этро.//.эрро', 'итрут//ирру'],\n",
      " 'trans_ru': 'подстилка из хвои или ветвей тальника'}\n",
      "{'lex': 'қымэтвакаңын',\n",
      " 'paradigms': ['N-obl', 'N-nom-n', 'N-pl-yt'],\n",
      " 'stem': ['қымэтвакаңынв',\n",
      "          'қымэтвакаңынв',\n",
      "          'қымэтвакаң.//.қымэтван',\n",
      "          'қымэтвакаңынв'],\n",
      " 'trans_ru': '1) патронник (у ствола винтовки); 2) затвор (винтовки)'}\n",
      "{'lex': 'вирувир',\n",
      " 'paradigms': ['N-obl', 'N-nom-0', 'N-pl-t'],\n",
      " 'stem': ['виру', 'вэро', 'вирувир', 'виру'],\n",
      " 'trans_ru': 'рыба из породы лососёвых'}\n",
      "{'lex': 'тэнмилгын',\n",
      " 'paradigms': ['N-obl', 'N-nom-lgyn', 'N-pl'],\n",
      " 'stem': ['тэнми', 'танмэ', 'тэнми', 'тэнми'],\n",
      " 'trans_ru': 'ремень для закрепления покрышки яранги'}\n"
     ]
    }
   ],
   "source": [
    "undone = sorted(set(undone)-set(first_a_g_j_class))\n",
    "print(len(undone))\n",
    "for i in random.sample(set(undone), 6):\n",
    "    pprint(chunks[i])"
   ]
  },
  {
   "cell_type": "code",
   "execution_count": 55,
   "metadata": {
    "collapsed": false
   },
   "outputs": [
    {
     "data": {
      "text/plain": [
       "2"
      ]
     },
     "execution_count": 55,
     "metadata": {},
     "output_type": "execute_result"
    }
   ],
   "source": [
    "first_c_ng_to_n_class = []\n",
    "for i in undone:\n",
    "    if len(chunks[i]['stem'])==4:\n",
    "        if chunks[i]['stem'][0]==chunks[i]['stem'][3]:\n",
    "            if chunks[i]['lex']==chunks[i]['stem'][2]:\n",
    "                if 'N-nom-n' in chunks[i]['paradigms']:\n",
    "                    if chunks[i]['lex'][:-1]==chunks[i]['stem'][0][:-2]:\n",
    "                        if chunks[i]['stem'][0][-1] in 'аоуеэыяиюё':\n",
    "                            if chunks[i]['lex'].endswith('н') and chunks[i]['stem'][0][-2]=='ң':\n",
    "                                first_c_ng_to_n_class.append(i)\n",
    "\n",
    "classes['first_c_ng_to_n_class'] = first_c_ng_to_n_class\n",
    "len(first_c_ng_to_n_class)"
   ]
  },
  {
   "cell_type": "markdown",
   "metadata": {},
   "source": [
    "## iteration 17"
   ]
  },
  {
   "cell_type": "code",
   "execution_count": 56,
   "metadata": {
    "collapsed": false
   },
   "outputs": [
    {
     "name": "stdout",
     "output_type": "stream",
     "text": [
      "551\n",
      "{'lex': 'вирувир',\n",
      " 'paradigms': ['N-obl', 'N-nom-0', 'N-pl-t'],\n",
      " 'stem': ['виру', 'вэро', 'вирувир', 'виру'],\n",
      " 'trans_ru': 'рыба из породы лососёвых'}\n",
      "{'lex': 'тамэнңысқыёлгын',\n",
      " 'paradigms': ['N-obl', 'N-nom-lgyn', 'N-pl'],\n",
      " 'stem': ['тамэнңысқыёлгы',\n",
      "          'тамэнңысқыёлгы',\n",
      "          'тамэнңысқыёлгы',\n",
      "          'тамэнңысқыёлгы'],\n",
      " 'trans_ru': 'верстак'}\n",
      "{'lex': 'тупэтуп',\n",
      " 'paradigms': ['N-obl', 'N-nom-0', 'N-pl-t'],\n",
      " 'stem': ['тупэ', 'топа', 'тупэтуп', 'тупэ'],\n",
      " 'trans_ru': 'утепляющий дёрн '}\n",
      "{'lex': 'мылек',\n",
      " 'paradigms': ['N-obl', 'N-nom-0', 'N-pl'],\n",
      " 'stem': ['мылель', 'мыляль', 'мылель', 'мылель'],\n",
      " 'trans_ru': 'ломать'}\n",
      "{'lex': 'мимыл',\n",
      " 'paradigms': ['N-obl', 'N-nom-0', 'N-pl-yt'],\n",
      " 'stem': ['мимл', 'мэмл', 'мимыл./.имыл', 'мимл'],\n",
      " 'trans_ru': 'вода'}\n",
      "{'lex': 'талятал',\n",
      " 'paradigms': ['N-obl', 'N-nom-0', 'N-pl-t'],\n",
      " 'stem': ['таля', 'таля', 'талятал', 'таля'],\n",
      " 'trans_ru': '1) толчёное мясо, кости; 2) толчёные коренья'}\n"
     ]
    }
   ],
   "source": [
    "undone = sorted(set(undone)-set(first_c_ng_to_n_class))\n",
    "print(len(undone))\n",
    "for i in random.sample(set(undone), 6):\n",
    "    pprint(chunks[i])"
   ]
  },
  {
   "cell_type": "code",
   "execution_count": 57,
   "metadata": {
    "collapsed": false
   },
   "outputs": [
    {
     "data": {
      "text/plain": [
       "13"
      ]
     },
     "execution_count": 57,
     "metadata": {},
     "output_type": "execute_result"
    }
   ],
   "source": [
    "second_a_full_redup_class = []\n",
    "for i in undone:\n",
    "    if len(chunks[i]['stem'])==4:\n",
    "        if chunks[i]['stem'][0]==chunks[i]['stem'][3]:\n",
    "            if chunks[i]['lex']==chunks[i]['stem'][2]:\n",
    "                if 'N-nom-0' in chunks[i]['paradigms']:\n",
    "                    if chunks[i]['lex']==chunks[i]['stem'][0]*2 or chunks[i]['lex']==chunks[i]['stem'][0]+'ы'+chunks[i]['stem'][0]:\n",
    "                        second_a_full_redup_class.append(i)\n",
    "\n",
    "classes['second_a_full_redup_class'] = second_a_full_redup_class\n",
    "len(second_a_full_redup_class)"
   ]
  },
  {
   "cell_type": "markdown",
   "metadata": {},
   "source": [
    "## iteration 18"
   ]
  },
  {
   "cell_type": "code",
   "execution_count": 58,
   "metadata": {
    "collapsed": false
   },
   "outputs": [
    {
     "name": "stdout",
     "output_type": "stream",
     "text": [
      "538\n",
      "592\n",
      "{'lex': 'итгилгын',\n",
      " 'paradigms': ['N-obl', 'N-nom-lgyn', 'N-pl'],\n",
      " 'stem': ['итги', 'этгэ', 'итги', 'итги'],\n",
      " 'trans_ru': 'слой сала с кожей (у белухи и кита)'}\n",
      "174\n",
      "{'lex': 'вакаңын',\n",
      " 'paradigms': ['N-obl', 'N-nom-n', 'N-pl-yt'],\n",
      " 'stem': ['вакаңынв', 'вакаңынв', 'вакаң.//.вакаңынв', 'вакаңынв'],\n",
      " 'trans_ru': 'место, место пребывания'}\n",
      "1572\n",
      "{'lex': 'пипиқылгын',\n",
      " 'paradigms': ['N-obl', 'N-nom-lgyn', 'N-pl'],\n",
      " 'stem': ['пипиқы', 'пэпэқы', 'пипиқы', 'пипиқы'],\n",
      " 'trans_ru': 'мышь'}\n",
      "2277\n",
      "{'lex': 'чекочен',\n",
      " 'paradigms': ['N-obl', 'N-nom-n', 'N-pl-t'],\n",
      " 'stem': ['чеко', 'чеко', 'чекоче.//.чеко', 'чеко'],\n",
      " 'trans_ru': 'наконечник стрелы'}\n",
      "149\n",
      "{'lex': \"а'рэа'р\",\n",
      " 'paradigms': ['N-obl', 'N-nom-0', 'N-pl-t'],\n",
      " 'stem': [\"а'рэ\", \"а'рэ\", \"а'рэа'р\", \"а'рэ\"],\n",
      " 'trans_ru': 'торос, см. каалгын'}\n",
      "846\n",
      "{'lex': 'кыргэп',\n",
      " 'paradigms': ['N-obl', 'N-nom-0', 'N-pl'],\n",
      " 'stem': ['кыргэп', '', 'кыргэпыт//кыргыпчекыт'],\n",
      " 'trans_ru': '(2) летний сапог (торбаз) из короткошёрстных шкур'}\n"
     ]
    }
   ],
   "source": [
    "undone = sorted(set(undone)-set(second_a_full_redup_class))\n",
    "print(len(undone))\n",
    "for i in random.sample(set(undone), 6):\n",
    "    print(i)\n",
    "    pprint(chunks[i])"
   ]
  },
  {
   "cell_type": "code",
   "execution_count": 59,
   "metadata": {
    "collapsed": false
   },
   "outputs": [
    {
     "data": {
      "text/plain": [
       "48"
      ]
     },
     "execution_count": 59,
     "metadata": {},
     "output_type": "execute_result"
    }
   ],
   "source": [
    "second_b_redup_wo_last_letter_class = []\n",
    "for i in undone:\n",
    "    if len(chunks[i]['stem'])==4:\n",
    "        if chunks[i]['stem'][0]==chunks[i]['stem'][3]:\n",
    "            if chunks[i]['lex']==chunks[i]['stem'][2]:\n",
    "                if 'N-nom-0' in chunks[i]['paradigms']:\n",
    "                    if chunks[i]['lex']==chunks[i]['stem'][0]+chunks[i]['stem'][0][:-1] or chunks[i]['lex']==chunks[i]['stem'][0]+'ы'+chunks[i]['stem'][0][:-1]:\n",
    "                        second_b_redup_wo_last_letter_class.append(i)\n",
    "\n",
    "classes['second_b_redup_wo_last_letter_class'] = second_b_redup_wo_last_letter_class\n",
    "len(second_b_redup_wo_last_letter_class)"
   ]
  },
  {
   "cell_type": "markdown",
   "metadata": {},
   "source": [
    "## iteration 19"
   ]
  },
  {
   "cell_type": "code",
   "execution_count": 60,
   "metadata": {
    "collapsed": false
   },
   "outputs": [
    {
     "name": "stdout",
     "output_type": "stream",
     "text": [
      "490\n",
      "2586\n",
      "{'lex': 'эпээпэгкупрэн',\n",
      " 'paradigms': ['N-obl', 'N-nom-n', 'N-pl-yt'],\n",
      " 'stem': ['эпээпэгкупрэт//эпээпэгиң',\n",
      "          'апаапагкопрат//апаапагэң',\n",
      "          'эпээпэгкупрэн//эпээпэгиңынгиң',\n",
      "          'эпээпэгкупрэт//эпээпэгиң'],\n",
      " 'trans_ru': 'паутина'}\n",
      "2287\n",
      "{'lex': 'чемыквылгын',\n",
      " 'paradigms': ['N-obl', 'N-nom-lgyn', 'N-pl-yt'],\n",
      " 'stem': ['чемыкв', 'чямыкв', 'чемыквы', 'чемыкв'],\n",
      " 'trans_ru': '(2) мелкий камешек'}\n",
      "472\n",
      "{'lex': 'егилгын',\n",
      " 'paradigms': ['N-obl', 'N-nom-lgyn', 'N-pl'],\n",
      " 'stem': ['еги', 'ягэ', 'еги', 'еги'],\n",
      " 'trans_ru': 'сухожилие ноги оленя, лося'}\n",
      "114\n",
      "{'lex': \"а'атчевматальын\",\n",
      " 'paradigms': ['N-obl', 'N-nom-n', 'N-pl'],\n",
      " 'stem': [\"а'атчевматаль.//.а'атчегматаль\",\n",
      "          \"а'атчевматаль.//.а'атчегматаль\",\n",
      "          \"а'атчевматаль.//.а'атчегматаль\",\n",
      "          \"а'атчевматаль.//.а'атчегматаль\"],\n",
      " 'trans_ru': '1) шурин; 2) деверь; 3) зять (муж сестры или дочери)'}\n",
      "930\n",
      "{'lex': 'кэрварыквын',\n",
      " 'paradigms': ['N-obl', 'N-nom-n', 'N-pl-yt'],\n",
      " 'stem': ['кэрварыкв', 'кэрварыкв', 'кэрварыквы', 'кэрварыкв'],\n",
      " 'trans_ru': 'подлокотник из шкуры белого медведя'}\n",
      "1137\n",
      "{'lex': 'лельутвъэт',\n",
      " 'paradigms': ['N-obl', 'N-nom-0', 'N-pl-yt'],\n",
      " 'stem': ['лельутв', 'ляльотв', 'лельутвъэт.//.лельутв', 'лельутв'],\n",
      " 'trans_ru': 'корабль'}\n"
     ]
    }
   ],
   "source": [
    "undone = sorted(set(undone)-set(second_b_redup_wo_last_letter_class))\n",
    "print(len(undone))\n",
    "for i in random.sample(set(undone), 6):\n",
    "    print(i)\n",
    "    pprint(chunks[i])"
   ]
  },
  {
   "cell_type": "code",
   "execution_count": 61,
   "metadata": {
    "collapsed": false
   },
   "outputs": [
    {
     "name": "stdout",
     "output_type": "stream",
     "text": [
      "11\n"
     ]
    },
    {
     "data": {
      "text/plain": [
       "1"
      ]
     },
     "execution_count": 61,
     "metadata": {},
     "output_type": "execute_result"
    }
   ],
   "source": [
    "print(len(singulative_lyng_class))\n",
    "singulative_lyng_g_j_class = []\n",
    "for i in undone:\n",
    "    if len(chunks[i]['stem'])==4:\n",
    "        if chunks[i]['stem'][0]==chunks[i]['stem'][3]:\n",
    "            if chunks[i]['stem'][1].endswith('г') and chunks[i]['stem'][2].endswith('й'):\n",
    "                if len(chunks[i]['stem'][1])==len(chunks[i]['stem'][2]):\n",
    "                    if chunks[i]['lex'].endswith('лыңын'):\n",
    "                        if 'N-nom-n' in chunks[i]['paradigms']:\n",
    "                            singulative_lyng_g_j_class.append(i)\n",
    "\n",
    "classes['singulative_lyng_g_j_class'] = singulative_lyng_g_j_class\n",
    "len(singulative_lyng_g_j_class)"
   ]
  },
  {
   "cell_type": "markdown",
   "metadata": {},
   "source": [
    "## iteration 20"
   ]
  },
  {
   "cell_type": "code",
   "execution_count": 62,
   "metadata": {
    "collapsed": false
   },
   "outputs": [
    {
     "name": "stdout",
     "output_type": "stream",
     "text": [
      "489\n",
      "300\n",
      "{'lex': 'вырэлгын',\n",
      " 'paradigms': ['N-obl', 'N-nom-lgyn', 'N-pl'],\n",
      " 'stem': ['вырэ', 'выра', 'вырэ', 'вырэ'],\n",
      " 'trans_ru': 'хворост'}\n",
      "2594\n",
      "{'lex': 'эрым',\n",
      " 'paradigms': ['N-obl', 'N-nom-0', 'N-pl-t'],\n",
      " 'stem': ['эрмэ', 'арма', 'эрым', 'эрмэ'],\n",
      " 'trans_ru': 'начальник, староста'}\n",
      "1043\n",
      "{'lex': 'қыеқий',\n",
      " 'paradigms': ['N-obl', 'N-nom-0', 'N-pl-t'],\n",
      " 'stem': ['қые', 'қыя', 'қыеқий', 'қые'],\n",
      " 'trans_ru': '1) железное или роговое кольцо для аркана, узды; 2) блок'}\n",
      "516\n",
      "{'lex': 'иилгын',\n",
      " 'paradigms': ['N-obl', 'N-nom-lgyn', 'N-pl'],\n",
      " 'stem': ['ии.//.иичг', 'ээ.//.ээчг', 'ии.//.иичг', 'ии.//.иичг'],\n",
      " 'trans_ru': 'даль'}\n",
      "925\n",
      "{'lex': 'кэңкэчивымкын',\n",
      " 'paradigms': ['N-obl', 'N-nom-n', 'N-pl'],\n",
      " 'stem': ['кэңкэчивымк.//.кэңкэчигымк',\n",
      "          'каңкачэвымк.//.каңкачэгымк',\n",
      "          'кэңкэчивымк.//.кэңкэчигымк',\n",
      "          'кэңкэчивымк.//.кэңкэчигымк'],\n",
      " 'trans_ru': '1) вихрь; 2) позёмка'}\n",
      "2138\n",
      "{'lex': 'тэгрилгын',\n",
      " 'paradigms': ['N-obl', 'N-nom-lgyn', 'N-pl'],\n",
      " 'stem': ['тэгри', 'тагрэ', 'тэгри', 'тэгри'],\n",
      " 'trans_ru': '1) ремень гарпуна; 2) цепь для подвешивания над очагом посуды; '\n",
      "             '3) трос'}\n"
     ]
    }
   ],
   "source": [
    "undone = sorted(set(undone)-set(singulative_lyng_g_j_class))\n",
    "print(len(undone))\n",
    "for i in random.sample(set(undone), 6):\n",
    "    print(i)\n",
    "    pprint(chunks[i])"
   ]
  },
  {
   "cell_type": "code",
   "execution_count": 63,
   "metadata": {
    "collapsed": false
   },
   "outputs": [
    {
     "data": {
      "text/plain": [
       "10"
      ]
     },
     "execution_count": 63,
     "metadata": {},
     "output_type": "execute_result"
    }
   ],
   "source": [
    "first_a_y_class = []\n",
    "cons = 'йцкнгшщзхъждлрпвфчсмтьбңқ'\n",
    "\n",
    "for i in undone:\n",
    "    if len(chunks[i]['stem'])==4:\n",
    "        if chunks[i]['stem'][0]==chunks[i]['stem'][3]:\n",
    "            if 'N-nom-0' in chunks[i]['paradigms']:\n",
    "                if chunks[i]['lex']==chunks[i]['stem'][2]:\n",
    "                    if chunks[i]['lex']==chunks[i]['stem'][0][:-1]+'ы'+chunks[i]['stem'][0][-1]:\n",
    "                        if chunks[i]['stem'][0][-1] in cons and chunks[i]['stem'][0][-2] in cons:\n",
    "                            first_a_y_class.append(i)\n",
    "\n",
    "classes['first_a_y_class'] = first_a_y_class\n",
    "len(first_a_y_class)"
   ]
  },
  {
   "cell_type": "code",
   "execution_count": 64,
   "metadata": {
    "collapsed": false
   },
   "outputs": [
    {
     "name": "stdout",
     "output_type": "stream",
     "text": [
      "{'lex': 'вивыт',\n",
      " 'paradigms': ['N-obl', 'N-nom-0', 'N-pl-yt'],\n",
      " 'stem': ['вивт', 'вэвт', 'вивыт', 'вивт'],\n",
      " 'trans_ru': 'китовый ус'}\n",
      "{'lex': 'вэтгавчывэпыт',\n",
      " 'paradigms': ['N-obl', 'N-nom-0', 'N-pl-yt'],\n",
      " 'stem': ['вэтгавчывэпт', 'вэтгавчывэпт', 'вэтгавчывэпыт', 'вэтгавчывэпт'],\n",
      " 'trans_ru': '1) часть слова, слог; 2) отрывок разговора'}\n",
      "{'lex': 'ёмыр',\n",
      " 'paradigms': ['N-obl', 'N-nom-0', 'N-pl-yt'],\n",
      " 'stem': ['ёмр', 'ёмр', 'ёмыр', 'ёмр'],\n",
      " 'trans_ru': 'кора с корня тальника или тополя'}\n",
      "{'lex': 'кувлевыт',\n",
      " 'paradigms': ['N-obl', 'N-nom-0', 'N-pl-yt'],\n",
      " 'stem': ['кувлевт', 'ковлявт', 'кувлевыт', 'кувлевт'],\n",
      " 'trans_ru': 'чир '}\n",
      "{'lex': 'қэпыл',\n",
      " 'paradigms': ['N-obl', 'N-nom-0', 'N-pl-yt'],\n",
      " 'stem': ['қэпл', 'қапл', 'қэпыл', 'қэпл'],\n",
      " 'trans_ru': '2 мяч'}\n",
      "{'lex': 'левыт',\n",
      " 'paradigms': ['N-obl', 'N-nom-0', 'N-pl-yt'],\n",
      " 'stem': ['левт', 'лявт', 'левыт', 'левт'],\n",
      " 'trans_ru': 'голова'}\n",
      "{'lex': 'пытқычвипыт',\n",
      " 'paradigms': ['N-obl', 'N-nom-0', 'N-pl-yt'],\n",
      " 'stem': ['пытқычвипт', 'пытқычвэпт', 'пытқычвипыт', 'пытқычвипт'],\n",
      " 'trans_ru': 'четверть'}\n",
      "{'lex': 'тытыл',\n",
      " 'paradigms': ['N-obl', 'N-nom-0', 'N-pl-yt'],\n",
      " 'stem': ['тытл', 'тытл', 'тытыл', 'тытл'],\n",
      " 'trans_ru': '1) дверь; 2) вход'}\n",
      "{'lex': 'чыңапыт',\n",
      " 'paradigms': ['N-obl', 'N-nom-0', 'N-pl-yt'],\n",
      " 'stem': ['чыңапт', 'чыңапт', 'чыңапыт', 'чыңапт'],\n",
      " 'trans_ru': 'осколок'}\n",
      "{'lex': \"э'қимыл\",\n",
      " 'paradigms': ['N-obl', 'N-nom-0', 'N-pl-yt'],\n",
      " 'stem': [\"э'қимл\", \"а'қэмл\", \"э'қимыл\", \"э'қимл\"],\n",
      " 'trans_ru': 'спирт, водка'}\n"
     ]
    }
   ],
   "source": [
    "for i in first_a_y_class:\n",
    "    pprint(chunks[i])"
   ]
  },
  {
   "cell_type": "code",
   "execution_count": 65,
   "metadata": {
    "collapsed": false
   },
   "outputs": [
    {
     "data": {
      "text/plain": [
       "2"
      ]
     },
     "execution_count": 65,
     "metadata": {},
     "output_type": "execute_result"
    }
   ],
   "source": [
    "first_a_y_n_to_ng_class = []\n",
    "cons = 'йцкнгшщзхъждлрпвфчсмтьбңқ'\n",
    "\n",
    "for i in undone:\n",
    "    if len(chunks[i]['stem'])==4:\n",
    "        if chunks[i]['stem'][0]==chunks[i]['stem'][3]:\n",
    "            if 'N-nom-0' in chunks[i]['paradigms']:\n",
    "                if chunks[i]['lex']==chunks[i]['stem'][2]:\n",
    "                    if chunks[i]['lex']==chunks[i]['stem'][0][:-2]+'ңы'+chunks[i]['stem'][0][-1]:\n",
    "                        if chunks[i]['stem'][0][-1] in cons and chunks[i]['stem'][0][-2] in cons:\n",
    "                            first_a_y_n_to_ng_class.append(i)\n",
    "\n",
    "classes['first_a_y_n_to_ng_class'] = first_a_y_n_to_ng_class\n",
    "len(first_a_y_n_to_ng_class)"
   ]
  },
  {
   "cell_type": "markdown",
   "metadata": {},
   "source": [
    "## iteration 21"
   ]
  },
  {
   "cell_type": "code",
   "execution_count": 66,
   "metadata": {
    "collapsed": false
   },
   "outputs": [
    {
     "name": "stdout",
     "output_type": "stream",
     "text": [
      "477\n",
      "1572\n",
      "{'lex': 'пипиқылгын',\n",
      " 'paradigms': ['N-obl', 'N-nom-lgyn', 'N-pl'],\n",
      " 'stem': ['пипиқы', 'пэпэқы', 'пипиқы', 'пипиқы'],\n",
      " 'trans_ru': 'мышь'}\n",
      "1674\n",
      "{'lex': 'пэнчолгын',\n",
      " 'paradigms': ['N-obl', 'N-nom-lgyn', 'N-pl-yt'],\n",
      " 'stem': ['пэнчолг', 'пэнчолг', 'пэнчолгы', 'пэнчолг'],\n",
      " 'trans_ru': 'горох, горошина'}\n",
      "518\n",
      "{'lex': 'ииннэлгын',\n",
      " 'paradigms': ['N-obl', 'N-nom-lgyn', 'N-pl'],\n",
      " 'stem': ['ииннэ', 'ээнна', 'ииннэ', 'ииннэ'],\n",
      " 'trans_ru': '1) тонкошёрстная летняя шкура оленя; 2) неблюй'}\n",
      "598\n",
      "{'lex': 'ичвуйгын',\n",
      " 'paradigms': ['N-obl', 'N-nom-n', 'N-pl'],\n",
      " 'stem': ['ичвуйг.//.ичгуйг',\n",
      "          'эчвойг.//.эчгойг',\n",
      "          'ичвуйг.//.ичгуйг',\n",
      "          'ичвуйг.//.ичгуйг'],\n",
      " 'trans_ru': '1) горный хребет; 2) плоскогорье'}\n",
      "641\n",
      "{'lex': 'йитйит',\n",
      " 'paradigms': ['N-obl', 'N-nom-0', 'N-pl-ti'],\n",
      " 'stem': ['йитти, йитйит', 'йэттэ, йэтйэт', 'йитйит', 'йитти, йитйит'],\n",
      " 'trans_ru': 'капля'}\n",
      "320\n",
      "{'lex': 'вэлвыегыт',\n",
      " 'paradigms': ['N-obl', 'N-nom-0', 'N-pl'],\n",
      " 'stem': ['вэлвыегыт', 'валвыягыт', 'вэлвыегыт', 'вэлгыег, валвыягылгын'],\n",
      " 'trans_ru': 'канадские лыжи'}\n"
     ]
    }
   ],
   "source": [
    "undone = sorted(set(undone)-set(first_a_y_class)-set(first_a_y_n_to_ng_class))\n",
    "print(len(undone))\n",
    "for i in random.sample(set(undone), 6):\n",
    "    print(i)\n",
    "    pprint(chunks[i])"
   ]
  },
  {
   "cell_type": "markdown",
   "metadata": {},
   "source": [
    "# iteration 22"
   ]
  },
  {
   "cell_type": "code",
   "execution_count": 67,
   "metadata": {
    "collapsed": false
   },
   "outputs": [
    {
     "name": "stdout",
     "output_type": "stream",
     "text": [
      "10\n",
      "{'lex': 'аё',\n",
      " 'paradigms': ['N-obl', 'N-nom-0', 'N-pl-t'],\n",
      " 'stem': ['айва', 'айва', 'аё', 'айва'],\n",
      " 'trans_ru': 'головной мозг'}\n",
      "32\n",
      "{'lex': 'айылгыгыргын',\n",
      " 'paradigms': [],\n",
      " 'stem': ['айылгыгырг', 'айылгыгырг', 'айылгыгырг', 'айылгыгырг'],\n",
      " 'trans_ru': '1. боязнь; 2. страшный'}\n",
      "38\n",
      "{'lex': 'ақын',\n",
      " 'paradigms': ['N-obl', 'N-nom-n', 'N-pl-yt'],\n",
      " 'stem': [\"а'н\", \"а'н\", 'ақ', \"а'н\"],\n",
      " 'trans_ru': '1) удочка, леска, рыболовный крючок; 2) «закидушка» '\n",
      "             '(приспособление для поимки убитых нерп)'}\n",
      "48\n",
      "{'lex': 'амыпчакылгын',\n",
      " 'paradigms': ['N-obl', 'N-nom-lgyn', 'N-pl-yt'],\n",
      " 'stem': ['эмыпчек', 'амыпчяк', 'амыпчакы', 'эмыпчек'],\n",
      " 'trans_ru': 'короткий сапог (торбаз) из нерпичьей шкуры '}\n",
      "50\n",
      "{'lex': 'анңатъытвъат',\n",
      " 'paradigms': ['N-obl', 'N-nom-0', 'N-pl-yt'],\n",
      " 'stem': ['анңатъытв', 'анңатъытв', 'анңатъытвъат', 'анңатъытв'],\n",
      " 'trans_ru': 'подводная лодка'}\n",
      "59\n",
      "{'lex': 'аңатлыңын',\n",
      " 'paradigms': ['N-obl', 'N-nom-n', 'N-pl-ti'],\n",
      " 'stem': ['эңэр', 'аңар', 'аңат', 'эңэр'],\n",
      " 'trans_ru': 'звезда'}\n",
      "62\n",
      "{'lex': 'аңқароқыр',\n",
      " 'paradigms': ['N-obl', 'N-nom-0', 'N-pl-t'],\n",
      " 'stem': ['аңқаръора', 'аңқаръора', 'аңқароқыр', 'аңқаръора'],\n",
      " 'trans_ru': 'морской ёж'}\n",
      "76\n",
      "{'lex': 'аркамак',\n",
      " 'paradigms': ['N-obl', 'N-nom-0', 'N-pl'],\n",
      " 'stem': ['аркама', 'аркама', 'аркама', 'аркама'],\n",
      " 'trans_ru': '1) выемка на нижнем конце мачты; 2) палка с вилкообразным '\n",
      "             'концом; 3) деревянное огниво'}\n",
      "87\n",
      "{'lex': 'арэқаңо',\n",
      " 'paradigms': ['N-obl', 'N-nom-0', 'N-pl-t'],\n",
      " 'stem': [\"а'рэқаңо\", \"а'рэқаңо\", 'арэқаңо', \"а'рэқаңо\"],\n",
      " 'trans_ru': 'олень с белой шерстью на брюхе'}\n",
      "102\n",
      "{'lex': 'атэ',\n",
      " 'paradigms': ['N-obl', 'N-nom-0', 'N-pl-te'],\n",
      " 'stem': ['атэн', 'атэн', 'атэ', 'атэн'],\n",
      " 'trans_ru': 'папа'}\n",
      "104\n",
      "{'lex': 'ачвақаачгын',\n",
      " 'paradigms': ['N-obl', 'N-nom-0', 'N-pl'],\n",
      " 'stem': ['ачвақаачг', 'ачвақаачг', 'ачвақаачг', 'ачвақаачг'],\n",
      " 'trans_ru': '1. посторонний, чужой; 2. чужак'}\n",
      "131\n",
      "{'lex': \"а'лёчелгын\",\n",
      " 'paradigms': ['N-obl', 'N-nom-lgyn', 'N-pl-t'],\n",
      " 'stem': [\"э'лючи\", \"а'лёчэ\", \"а'лёче\", \"э'лючи\"],\n",
      " 'trans_ru': 'кукла'}\n",
      "132\n",
      "{'lex': \"а'лыгаттэ\",\n",
      " 'paradigms': ['N-obl', 'N-nom-0', 'N-pl-t'],\n",
      " 'stem': [\"а'лыгатга\", \"а'лыгатга\", \"а'лыгаттэ\", \"а'лыгатга\"],\n",
      " 'trans_ru': 'топор'}\n",
      "148\n",
      "{'lex': \"а'рытлыңын\",\n",
      " 'paradigms': ['N-obl', 'N-nom-n', 'N-pl-ti'],\n",
      " 'stem': [\"э'т\", \"а'т\", \"а'р\", \"э'т\"],\n",
      " 'trans_ru': 'большой палец'}\n",
      "176\n",
      "{'lex': 'вакъосқыёлгын',\n",
      " 'paradigms': ['N-obl', 'N-nom-lgyn', 'N-pl'],\n",
      " 'stem': ['вакъосқыёлгы', 'вакъосқыёлгы', 'вакъосқыёлгы', 'вакъосқыёлгы'],\n",
      " 'trans_ru': 'скамейка, стул'}\n",
      "177\n",
      "{'lex': 'валвыйңын',\n",
      " 'paradigms': ['N-obl', 'N-nom-n', 'N-pl-yt'],\n",
      " 'stem': ['вэлв', 'валв', 'валвыйң', 'вэлв'],\n",
      " 'trans_ru': 'ворон'}\n",
      "182\n",
      "{'lex': 'валқытлыңын',\n",
      " 'paradigms': ['N-obl', 'N-nom-n', 'N-pl-ti'],\n",
      " 'stem': ['вэлқыл', 'валқыл', 'валқыт', 'вэлқыл'],\n",
      " 'trans_ru': '* нижняя челюсть'}\n",
      "201\n",
      "{'lex': 'ваңқытъёкваё',\n",
      " 'paradigms': ['N-obl', 'N-nom-0', 'N-pl-t'],\n",
      " 'stem': ['ваңқытъёква', 'ваңқытъёква', 'ваңқытъёкваё', 'ваңқытъёква'],\n",
      " 'trans_ru': 'большая гагара с белой полоской на клюве'}\n",
      "219\n",
      "{'lex': 'вивыр',\n",
      " 'paradigms': ['N-obl', 'N-nom-0', 'N-pl-t'],\n",
      " 'stem': ['виври', 'вэврэ', 'вивыр', 'виври'],\n",
      " 'trans_ru': '1) доска для выделки шкур; 2) доска для сидения в лодке, на '\n",
      "             'нарте (собачьей упряжки)'}\n",
      "229\n",
      "{'lex': 'виңыр',\n",
      " 'paradigms': ['N-obl', 'N-nom-0', 'N-pl-t'],\n",
      " 'stem': ['винри', 'вэнрэ', 'виңыр', 'винри'],\n",
      " 'trans_ru': 'мотыга для выкапывания корней'}\n",
      "237\n",
      "{'lex': 'вонны',\n",
      " 'paradigms': ['N-obl', 'N-nom-0', 'N-pl-yt'],\n",
      " 'stem': ['ворв', 'ворв', 'вон', 'ворв'],\n",
      " 'trans_ru': '* ложка'}\n",
      "244\n",
      "{'lex': 'вулвуттуут',\n",
      " 'paradigms': ['N-obl', 'N-nom-0', 'N-pl-yt'],\n",
      " 'stem': ['вулвутт', 'волвотт', 'вулвуттуут', 'вулвутт'],\n",
      " 'trans_ru': 'поперечная перекладина'}\n",
      "249\n",
      "{'lex': 'вутилгын',\n",
      " 'paradigms': ['N-obl', 'N-nom-lgyn', 'N-pl'],\n",
      " 'stem': ['вути', 'вотэ', 'вути', 'вути'],\n",
      " 'trans_ru': 'верёвка для привязи собак'}\n",
      "256\n",
      "{'lex': 'въаймагны',\n",
      " 'paradigms': ['N-obl', 'N-nom-0', 'N-pl-te'],\n",
      " 'stem': ['въаймаг', 'въаймаг', 'въаймаг', 'въаймаг'],\n",
      " 'trans_ru': 'стог (сена)'}\n",
      "258\n",
      "{'lex': 'въарэвар',\n",
      " 'paradigms': ['N-obl', 'N-nom-0', 'N-pl-t'],\n",
      " 'stem': ['въарэ', 'въарэ', 'въарэвар', 'въарэ'],\n",
      " 'trans_ru': '1) развилина; 2) вилкообразная палка; 3) рукав реки'}\n",
      "262\n",
      "{'lex': 'въэйылвинэң',\n",
      " 'paradigms': ['N-obl', 'N-nom-0', 'N-pl-yt'],\n",
      " 'stem': ['вэйылвинэң', 'вайылвэнаң', 'въэйылвинэң', 'вэйылвинэң'],\n",
      " 'trans_ru': '1) коса'}\n",
      "265\n",
      "{'lex': 'въэнывэн',\n",
      " 'paradigms': ['N-obl', 'N-nom-n', 'N-pl-yt'],\n",
      " 'stem': ['въэн', 'въан', 'въэнывэн', 'въэн'],\n",
      " 'trans_ru': '* навага'}\n",
      "266\n",
      "{'lex': 'въэюнэлгын',\n",
      " 'paradigms': ['N-obl', 'N-nom-lgyn', 'N-pl'],\n",
      " 'stem': ['въэюнэ', 'въаёна', 'въэюнэ', 'въэюнэ'],\n",
      " 'trans_ru': 'летняя шкура оленя'}\n",
      "274\n",
      "{'lex': 'выёвэ',\n",
      " 'paradigms': ['N-obl', 'N-nom-0', 'N-pl-t'],\n",
      " 'stem': ['выё', 'выё', 'выёвэ', 'выё'],\n",
      " 'trans_ru': '* праща'}\n",
      "299\n",
      "{'lex': 'вырэлгын',\n",
      " 'paradigms': ['N-obl', 'N-nom-lgyn', 'N-pl-t'],\n",
      " 'stem': ['вырэ', 'выра', 'вырэ', 'вырэ'],\n",
      " 'trans_ru': '1) верхняя бичева сети; 2) крайний шов торбазов'}\n",
      "300\n",
      "{'lex': 'вырэлгын',\n",
      " 'paradigms': ['N-obl', 'N-nom-lgyn', 'N-pl'],\n",
      " 'stem': ['вырэ', 'выра', 'вырэ', 'вырэ'],\n",
      " 'trans_ru': 'хворост'}\n",
      "306\n",
      "{'lex': 'вытэлгын',\n",
      " 'paradigms': ['N-obl', 'N-nom-lgyn', 'N-pl'],\n",
      " 'stem': ['вытэ', 'выта', 'вытэ', 'вытэ'],\n",
      " 'trans_ru': '(2) серая собака'}\n",
      "308\n",
      "{'lex': 'вычготтоот',\n",
      " 'paradigms': ['N-obl', 'N-nom-0', 'N-pl-yt'],\n",
      " 'stem': ['вычготт', 'вычготт', 'вычготтоот', 'вычготт'],\n",
      " 'trans_ru': 'доска'}\n",
      "317\n",
      "{'lex': 'вэқын',\n",
      " 'paradigms': ['N-obl', 'N-nom-n', 'N-pl-yt'],\n",
      " 'stem': ['въэн', 'въан', 'вэқ', 'въэн'],\n",
      " 'trans_ru': 'навага'}\n",
      "335\n",
      "{'lex': 'вэнивэн',\n",
      " 'paradigms': ['N-obl', 'N-nom-n', 'N-pl-t'],\n",
      " 'stem': ['вэни', 'ванэ', 'вэнивэ', 'вэни'],\n",
      " 'trans_ru': 'бубенчик'}\n",
      "342\n",
      "{'lex': 'вэрқавэр',\n",
      " 'paradigms': ['N-obl', 'N-nom-0', 'N-pl-t'],\n",
      " 'stem': ['вэрқа', 'вэрқа', 'вэрқавэр', 'вэрқа'],\n",
      " 'trans_ru': '1) снежный заструг; 2) торчащие острые камни'}\n",
      "347\n",
      "{'lex': 'вэтгавъёлгын',\n",
      " 'paradigms': ['N-obl', 'N-nom-lgyn', 'N-pl'],\n",
      " 'stem': ['вэтгавъёлгы', 'вэтгавъёлгы', 'вэтгавъёлгы', 'вэтгавъёлгы'],\n",
      " 'trans_ru': '1) радиостанция; 2) громкоговоритель; 3) телефон; 4) телеграф'}\n",
      "351\n",
      "{'lex': 'вэтлы',\n",
      " 'paradigms': ['N-obl', 'N-nom-0', 'N-pl-yt'],\n",
      " 'stem': ['вэлв', 'валв', 'вэтлы', 'вэлв'],\n",
      " 'trans_ru': 'ворон'}\n",
      "365\n",
      "{'lex': 'гакаңоргоор',\n",
      " 'paradigms': ['N-obl', 'N-nom-0', 'N-pl-yt'],\n",
      " 'stem': ['гакаңорв', 'гакаңорв', 'гакаңоргоор', 'гакаңорв'],\n",
      " 'trans_ru': 'лёгкая беговая нарта'}\n",
      "374\n",
      "{'lex': 'гатле',\n",
      " 'paradigms': ['N-obl', 'N-nom-0', 'N-pl-t'],\n",
      " 'stem': ['галга', 'галга', 'гатле', 'галга'],\n",
      " 'trans_ru': '1) утка; 2) птица'}\n",
      "375\n",
      "{'lex': 'гаттэ',\n",
      " 'paradigms': ['N-obl', 'N-nom-0', 'N-pl-t'],\n",
      " 'stem': ['гатга', 'гатга', 'гаттэ', 'гатга'],\n",
      " 'trans_ru': 'тесло '}\n",
      "386\n",
      "{'lex': 'гиңынгиң',\n",
      " 'paradigms': ['N-obl', 'N-nom-0', 'N-pl-yt'],\n",
      " 'stem': ['гиң', 'гэң', 'гиңынгиң', 'гиң'],\n",
      " 'trans_ru': 'рыболовная сеть'}\n",
      "396\n",
      "{'lex': 'гутилгын',\n",
      " 'paradigms': ['N-obl', 'N-nom-lgyn', 'N-pl'],\n",
      " 'stem': ['гути', 'готэ', 'гути', 'гути'],\n",
      " 'trans_ru': 'верёвка для привязи собак'}\n",
      "472\n",
      "{'lex': 'егилгын',\n",
      " 'paradigms': ['N-obl', 'N-nom-lgyn', 'N-pl'],\n",
      " 'stem': ['еги', 'ягэ', 'еги', 'еги'],\n",
      " 'trans_ru': 'сухожилие ноги оленя, лося'}\n",
      "477\n",
      "{'lex': 'егъелгын',\n",
      " 'paradigms': ['N-obl', 'N-nom-lgyn', 'N-pl-t'],\n",
      " 'stem': ['йигйи', 'йэгйэ', 'егъе', 'йигйи'],\n",
      " 'trans_ru': 'тонкая кишка'}\n",
      "480\n",
      "{'lex': 'еқагатле',\n",
      " 'paradigms': ['N-obl', 'N-nom-0', 'N-pl-t'],\n",
      " 'stem': ['еқагалга', 'еқагалга', 'еқагатле', 'еқагалга'],\n",
      " 'trans_ru': 'гага-гребенушка (птица)'}\n",
      "489\n",
      "{'lex': 'еңқиеқ',\n",
      " 'paradigms': ['N-obl', 'N-nom-0', 'N-pl-t'],\n",
      " 'stem': ['еңқи', 'яңқэ', 'еңқиеқ', 'еңқи'],\n",
      " 'trans_ru': 'петля (для застегивания)'}\n",
      "493\n",
      "{'lex': 'ёкваё',\n",
      " 'paradigms': ['N-obl', 'N-nom-0', 'N-pl-t'],\n",
      " 'stem': ['ёква', 'ёква', 'ёкваё', 'ёква'],\n",
      " 'trans_ru': 'гагара'}\n",
      "510\n",
      "{'lex': 'ивмылтэтык',\n",
      " 'paradigms': ['N-obl', 'N-nom-0', 'N-pl'],\n",
      " 'stem': ['ивмылтэтыль', 'эвмылтатыль', 'ивмылтэтыль', 'ивмылтэтыль'],\n",
      " 'trans_ru': 'не доставать, быть коротким'}\n",
      "513\n",
      "{'lex': 'ивтылин',\n",
      " 'paradigms': ['N-obl', 'N-nom-n', 'N-pl-ti'],\n",
      " 'stem': ['ивтыл', 'эвтыл', 'ивтыли', 'ивтыл'],\n",
      " 'trans_ru': '1) низ; 2) подножье '}\n",
      "518\n",
      "{'lex': 'ииннэлгын',\n",
      " 'paradigms': ['N-obl', 'N-nom-lgyn', 'N-pl'],\n",
      " 'stem': ['ииннэ', 'ээнна', 'ииннэ', 'ииннэ'],\n",
      " 'trans_ru': '1) тонкошёрстная летняя шкура оленя; 2) неблюй'}\n",
      "533\n",
      "{'lex': 'имтилгын',\n",
      " 'paradigms': ['N-obl', 'N-nom-lgyn', 'N-pl'],\n",
      " 'stem': ['имти', 'эмтэ', 'имти', 'имти'],\n",
      " 'trans_ru': 'ремёнь для ношения на спине'}\n",
      "536\n",
      "{'lex': 'имыт',\n",
      " 'paradigms': ['N-obl', 'N-nom-0', 'N-pl-t'],\n",
      " 'stem': ['имти', 'эмтэ', 'имыт', 'имти'],\n",
      " 'trans_ru': 'ноша'}\n",
      "539\n",
      "{'lex': 'инуун',\n",
      " 'paradigms': ['N-obl', 'N-nom-n', 'N-pl-t'],\n",
      " 'stem': ['ину', 'эно', 'инуу', 'ину'],\n",
      " 'trans_ru': 'часть оленьего окорока'}\n",
      "572\n",
      "{'lex': 'инэныгйивэтрылгын',\n",
      " 'paradigms': ['N-obl', 'N-nom-lgyn', 'N-pl'],\n",
      " 'stem': ['инэныгйивэтры', 'энаныгйэватры', 'инэныгйивэтры', 'инэныгйивэтры'],\n",
      " 'trans_ru': 'указательныйmпалец'}\n",
      "590\n",
      "{'lex': 'ирвыпиңэпин',\n",
      " 'paradigms': ['N-obl', 'N-nom-n', 'N-pl-t'],\n",
      " 'stem': ['ирвыпиңэ', 'эрвыпэңа', 'ирвыпиңэпи', 'ирвыпиңэ'],\n",
      " 'trans_ru': '1) колючий снег; 2) град'}\n",
      "592\n",
      "{'lex': 'итгилгын',\n",
      " 'paradigms': ['N-obl', 'N-nom-lgyn', 'N-pl'],\n",
      " 'stem': ['итги', 'этгэ', 'итги', 'итги'],\n",
      " 'trans_ru': 'слой сала с кожей (у белухи и кита)'}\n",
      "594\n",
      "{'lex': 'итқилгын',\n",
      " 'paradigms': ['N-obl', 'N-nom-lgyn', 'N-pl'],\n",
      " 'stem': ['итқи', 'этқэ', 'итқи', 'итқи'],\n",
      " 'trans_ru': '1) древесная кора; 2) кожа с подкожным жиром (у кита, белухи); '\n",
      "             '3) защитный покров *'}\n",
      "609\n",
      "{'lex': \"и'лгын\",\n",
      " 'paradigms': ['N-obl', 'N-nom-lgyn', 'N-pl'],\n",
      " 'stem': [\"и'\", \"э'\", \"и'\", \"и'\"],\n",
      " 'trans_ru': 'правая постромка оленьей пряжи (потяг)'}\n",
      "610\n",
      "{'lex': \"и'мпыргук\",\n",
      " 'paradigms': ['N-obl', 'N-nom-0', 'N-pl-t'],\n",
      " 'stem': [\"и'мпыргу\", \"э'мпырго\", \"и'мпыргук\", \"и'мпыргу\"],\n",
      " 'trans_ru': 'свинья'}\n",
      "631\n",
      "{'lex': 'йигылгын',\n",
      " 'paradigms': ['N-obl', 'N-nom-lgyn', 'N-pl'],\n",
      " 'stem': ['йигы', 'йэгы', 'йигы', 'йигы'],\n",
      " 'trans_ru': 'олень белой масти'}\n",
      "637\n",
      "{'lex': 'йильэйил',\n",
      " 'paradigms': ['N-obl', 'N-nom-0', 'N-pl-t'],\n",
      " 'stem': ['йильэ', 'йэльа', 'йильэйил', 'йильэ'],\n",
      " 'trans_ru': 'евражка '}\n",
      "639\n",
      "{'lex': 'йиңынйиң',\n",
      " 'paradigms': ['N-obl', 'N-nom-0', 'N-pl-yt'],\n",
      " 'stem': ['йиң', 'йэң', 'йиңынйиң', 'йиң'],\n",
      " 'trans_ru': 'рыболовная сеть'}\n",
      "641\n",
      "{'lex': 'йитйит',\n",
      " 'paradigms': ['N-obl', 'N-nom-0', 'N-pl-ti'],\n",
      " 'stem': ['йитти, йитйит', 'йэттэ, йэтйэт', 'йитйит', 'йитти, йитйит'],\n",
      " 'trans_ru': 'капля'}\n",
      "648\n",
      "{'lex': 'йъилгын',\n",
      " 'paradigms': ['N-obl', 'N-nom-lgyn', 'N-pl'],\n",
      " 'stem': ['йъилг', 'йъэлг', 'йъилг', 'йъилг'],\n",
      " 'trans_ru': 'месяц'}\n",
      "663\n",
      "{'lex': 'йылқыёлгын',\n",
      " 'paradigms': ['N-obl', 'N-nom-lgyn', 'N-pl'],\n",
      " 'stem': ['йылқыёлгы', 'йылқыёлгы', 'йылқыёлгы', 'йылқыёлгы'],\n",
      " 'trans_ru': '1) место для спанья; 2) кровать'}\n",
      "665\n",
      "{'lex': 'йынйын',\n",
      " 'paradigms': ['N-obl', 'N-nom-n', 'N-pl-te'],\n",
      " 'stem': ['йыныт, йынйын', 'йыныт, йынйын', 'йынй', 'йыныт, йынйын'],\n",
      " 'trans_ru': '(2) огонь'}\n",
      "680\n",
      "{'lex': 'йыркывакъосқыёлгын',\n",
      " 'paradigms': ['N-obl', 'N-nom-lgyn', 'N-pl'],\n",
      " 'stem': ['йыркывакъосқыёлгы',\n",
      "          'йыркывакъосқыёлгы',\n",
      "          'йыркывакъосқыёлгы',\n",
      "          'йыркывакъосқыёлгы'],\n",
      " 'trans_ru': 'диван, мягкое кресло'}\n",
      "695\n",
      "{'lex': 'кагрэтлыңын',\n",
      " 'paradigms': ['N-obl', 'N-nom-n', 'N-pl-ti'],\n",
      " 'stem': ['кэгрил', 'кагрэл', 'кагрэт', 'кэгрил'],\n",
      " 'trans_ru': 'ладонь'}\n",
      "710\n",
      "{'lex': 'калелгын',\n",
      " 'paradigms': ['N-obl', 'N-nom-lgyn', 'N-pl-t'],\n",
      " 'stem': ['кэли', 'калэ', 'кале', 'кэли'],\n",
      " 'trans_ru': 'узор вышивки'}\n",
      "734\n",
      "{'lex': 'каңэгыргын',\n",
      " 'paradigms': ['N-obl', 'N-nom-n', 'N-pl-t'],\n",
      " 'stem': ['кэңи', 'каңэ', 'каңэгырг', 'кэңи'],\n",
      " 'trans_ru': 'извилина, изгиб'}\n",
      "769\n",
      "{'lex': 'конэкон',\n",
      " 'paradigms': ['N-obl', 'N-nom-n', 'N-pl-t'],\n",
      " 'stem': ['конэ', 'конэ', 'конэко', 'конэ'],\n",
      " 'trans_ru': 'лошадь'}\n",
      "785\n",
      "{'lex': 'кукыл',\n",
      " 'paradigms': ['N-obl', 'N-nom-0', 'N-pl-t'],\n",
      " 'stem': ['кувле', 'ковля', 'кукыл', 'кувле'],\n",
      " 'trans_ru': 'кривой, одноглазый'}\n",
      "794\n",
      "{'lex': 'къоколгын',\n",
      " 'paradigms': ['N-obl', 'N-nom-0', 'N-pl-t'],\n",
      " 'stem': ['къуку', 'къоко', 'къоколгын', 'къуку'],\n",
      " 'trans_ru': '1) бородавка; 2) нарост на дереве'}\n",
      "796\n",
      "{'lex': 'къэлилгын',\n",
      " 'paradigms': ['N-obl', 'N-nom-lgyn', 'N-pl'],\n",
      " 'stem': ['къэли', 'къалэ', 'къэли', 'къэли'],\n",
      " 'trans_ru': 'тесёмка шапки'}\n",
      "799\n",
      "{'lex': 'кывынмылгын',\n",
      " 'paradigms': ['N-obl', 'N-nom-lgyn', 'N-pl-yt'],\n",
      " 'stem': ['кывынм', 'кывынм', 'кывынмылг', 'кывынм'],\n",
      " 'trans_ru': 'верхний шейный позвонок'}\n",
      "804\n",
      "{'lex': 'кыквэтвун',\n",
      " 'paradigms': ['N-obl', 'N-nom-n', 'N-pl'],\n",
      " 'stem': ['ыквэтвун', 'ыкватвон', 'ыквэтвун', 'ыквэтвун'],\n",
      " 'trans_ru': '1) выхухоль; 2) водяная крыса'}\n",
      "810\n",
      "{'lex': 'кылкак',\n",
      " 'paradigms': [],\n",
      " 'stem': ['кылкак', 'кылкак', 'кылкак', 'кылкак'],\n",
      " 'trans_ru': 'беззубка (морское животное)'}\n",
      "811\n",
      "{'lex': 'кылкакыт',\n",
      " 'paradigms': ['N-obl', 'N-nom-0', 'N-pl-t'],\n",
      " 'stem': ['кылка', 'кылка', 'кылкакыт', 'кылка'],\n",
      " 'trans_ru': 'раковина'}\n",
      "822\n",
      "{'lex': 'кымлелгын',\n",
      " 'paradigms': ['N-obl', 'N-nom-lgyn', 'N-pl-t'],\n",
      " 'stem': ['кымли', 'кымлэ', 'кымле', 'кымли'],\n",
      " 'trans_ru': '1) вата; 2) слипшаяся шерсть (у собак)'}\n",
      "823\n",
      "{'lex': 'кымликым',\n",
      " 'paradigms': ['N-obl', 'N-nom-0', 'N-pl-t'],\n",
      " 'stem': ['кымли', 'кымлэ', 'кымликым', 'кымли'],\n",
      " 'trans_ru': '1) одуванчик; 2) вата'}\n",
      "849\n",
      "{'lex': 'кырымқулиқул',\n",
      " 'paradigms': ['N-obl', 'N-nom-0', 'N-pl-t'],\n",
      " 'stem': ['кырымқули', 'кырымқолэ', 'кырымқулиқул', 'кырымқули'],\n",
      " 'trans_ru': '1) хриплый голос; 2) бас'}\n",
      "853\n",
      "{'lex': 'кытвэн',\n",
      " 'paradigms': ['N-obl', 'N-nom-n', 'N-pl-yt'],\n",
      " 'stem': ['кытвэнтэ, кытвэнв',\n",
      "          'кытванта, кытванв',\n",
      "          'кытвэн',\n",
      "          'кытвэнтэ, кытвэнв'],\n",
      " 'trans_ru': '(2) тропа'}\n",
      "859\n",
      "{'lex': 'кытоттоот',\n",
      " 'paradigms': ['N-obl', 'N-nom-0', 'N-pl-yt'],\n",
      " 'stem': ['кытотт', 'кытотт', 'кытоттоот', 'кытотт'],\n",
      " 'trans_ru': 'дуб'}\n",
      "871\n",
      "{'lex': 'кытычгыпэңапэн',\n",
      " 'paradigms': ['N-obl', 'N-nom-n', 'N-pl-t'],\n",
      " 'stem': ['кытычгыпэңа', 'кытычгыпэңа', 'кытычгыпэңапэ', 'кытычгыпэңа'],\n",
      " 'trans_ru': 'град'}\n",
      "876\n",
      "{'lex': 'кычалгын',\n",
      " 'paradigms': ['N-obl', 'N-nom-lgyn', 'N-pl-t'],\n",
      " 'stem': ['кыче', 'кычя', 'кыча', 'кыче'],\n",
      " 'trans_ru': '* шкура с оленьего лба'}\n",
      "877\n",
      "{'lex': 'кычемалгын',\n",
      " 'paradigms': ['N-obl', 'N-nom-lgyn', 'N-pl-t'],\n",
      " 'stem': ['кычимэ', 'кычэма', 'кычема', 'кычимэ'],\n",
      " 'trans_ru': 'почка (орган)'}\n",
      "906\n",
      "{'lex': 'кэлы',\n",
      " 'paradigms': ['N-obl', 'N-nom-0', 'N-pl-t'],\n",
      " 'stem': ['кэльэ', 'кальа', 'кэлы', 'кэльэ'],\n",
      " 'trans_ru': 'злой дух'}\n",
      "908\n",
      "{'lex': 'кэмгэкэм',\n",
      " 'paradigms': ['N-obl', 'N-nom-0', 'N-pl-t'],\n",
      " 'stem': ['кэмгэ', 'камга', 'кэмгэкэм', 'кэмгэ'],\n",
      " 'trans_ru': 'олень с белой шерстью на задних ногах'}\n",
      "909\n",
      "{'lex': 'кэмкикэм',\n",
      " 'paradigms': ['N-obl', 'N-nom-0', 'N-pl-t'],\n",
      " 'stem': ['кэмки', 'камкэ', 'кэмкикэм', 'кэмки'],\n",
      " 'trans_ru': 'нельма'}\n",
      "919\n",
      "{'lex': 'кэнтиқэй',\n",
      " 'paradigms': ['N-obl', 'N-nom-0', 'N-pl-t'],\n",
      " 'stem': ['кэнти', 'кантэ', 'кэнтиқэй', 'кэнти'],\n",
      " 'trans_ru': 'конфета'}\n",
      "930\n",
      "{'lex': 'кэрварыквын',\n",
      " 'paradigms': ['N-obl', 'N-nom-n', 'N-pl-yt'],\n",
      " 'stem': ['кэрварыкв', 'кэрварыкв', 'кэрварыквы', 'кэрварыкв'],\n",
      " 'trans_ru': 'подлокотник из шкуры белого медведя'}\n",
      "931\n",
      "{'lex': 'кэрватлыңын',\n",
      " 'paradigms': ['N-obl', 'N-nom-n', 'N-pl-t'],\n",
      " 'stem': ['кирвэ', 'кэрва', 'кэрват', 'кирвэ'],\n",
      " 'trans_ru': 'локоть'}\n",
      "962\n",
      "{'lex': 'қалгэкэр',\n",
      " 'paradigms': ['N-obl', 'N-nom-0', 'N-pl-te'],\n",
      " 'stem': ['қалгэкэт', 'қалгэкэт', 'қалгэкэр', 'қалгэкэт'],\n",
      " 'trans_ru': '1) детская одежда (типа комбинезона); 2) комбинезон'}\n",
      "971\n",
      "{'lex': 'қаплёвэчватгыргын',\n",
      " 'paradigms': ['N-obl', 'N-nom-n', 'N-pl'],\n",
      " 'stem': ['қаплевэчватгырг',\n",
      "          'қаплевэчватгырг',\n",
      "          'қаплевэчватгырг',\n",
      "          'қаплевэчватгырг'],\n",
      " 'trans_ru': 'игра в мяч'}\n",
      "972\n",
      "{'lex': 'қапогатле',\n",
      " 'paradigms': ['N-obl', 'N-nom-0', 'N-pl-t'],\n",
      " 'stem': ['қапогалга', 'қапогалга', 'қапогатле', 'қапогалга'],\n",
      " 'trans_ru': '* род маленькой чайки'}\n",
      "981\n",
      "{'lex': 'қинэлгын',\n",
      " 'paradigms': ['N-obl', 'N-nom-lgyn', 'N-pl'],\n",
      " 'stem': ['қинэ', 'қэна', 'қинэ', 'қинэ'],\n",
      " 'trans_ru': 'мохнатая,толстая шкура'}\n",
      "991\n",
      "{'lex': 'қлегтанңыгатле',\n",
      " 'paradigms': ['N-obl', 'N-nom-0', 'N-pl-t'],\n",
      " 'stem': ['қлегттанңыгалга',\n",
      "          'қлегттанңыгалга',\n",
      "          'қлегтанңыгатле',\n",
      "          'қлегттанңыгалга'],\n",
      " 'trans_ru': 'петух'}\n",
      "1001\n",
      "{'lex': 'қол',\n",
      " 'paradigms': ['N-obl', 'N-nom-0', 'N-pl-ti'],\n",
      " 'stem': ['қут', 'қот', 'қол', 'қут'],\n",
      " 'trans_ru': '1) другой; 2) один из...; қол итык однажды (употр. с неперех. '\n",
      "             'глаг.); қол рытык однажды (употр. с перех. глаг.)'}\n",
      "1024\n",
      "{'lex': 'қуйвиқуй',\n",
      " 'paradigms': ['N-obl', 'N-nom-0', 'N-pl-t'],\n",
      " 'stem': ['қуйви', 'қойвэ', 'қуйвиқуй', 'қуйви'],\n",
      " 'trans_ru': '1) наледь; 2) ледник; 3) ледяное пространство'}\n",
      "1025\n",
      "{'lex': 'қуйым',\n",
      " 'paradigms': ['N-obl', 'N-nom-0', 'N-pl-t'],\n",
      " 'stem': ['қуймэ', 'қойма', 'қуйым', 'қуймэ'],\n",
      " 'trans_ru': '1) задняя часть штанов; 2) залив, морская губа'}\n",
      "1029\n",
      "{'lex': 'қулинутэнут',\n",
      " 'paradigms': ['N-obl', 'N-nom-0', 'N-pl-t'],\n",
      " 'stem': ['қулинутэ', 'қолэнота', 'қулинутэнут', 'қулинутэ'],\n",
      " 'trans_ru': '* другая страна'}\n",
      "1036\n",
      "{'lex': 'қуулетйъилгын',\n",
      " 'paradigms': ['N-obl', 'N-nom-lgyn', 'N-pl'],\n",
      " 'stem': ['қуулетйъи', 'қоолятйъэ', 'қуулетйъи', 'қуулетйъи'],\n",
      " 'trans_ru': 'название месяца (с начала декабря до начала января)'}\n",
      "1038\n",
      "{'lex': 'қъоляқол',\n",
      " 'paradigms': ['N-obl', 'N-nom-0', 'N-pl-t'],\n",
      " 'stem': ['қъоля', 'қъоля', 'қъоляқол', 'қъоля'],\n",
      " 'trans_ru': 'вой'}\n",
      "1043\n",
      "{'lex': 'қыеқий',\n",
      " 'paradigms': ['N-obl', 'N-nom-0', 'N-pl-t'],\n",
      " 'stem': ['қые', 'қыя', 'қыеқий', 'қые'],\n",
      " 'trans_ru': '1) железное или роговое кольцо для аркана, узды; 2) блок'}\n",
      "1052\n",
      "{'lex': 'қымыл',\n",
      " 'paradigms': ['N-obl', 'N-nom-0', 'N-pl-t'],\n",
      " 'stem': ['қымля', 'қымля', 'қымыл', 'қымля'],\n",
      " 'trans_ru': '(2) костный мозг'}\n",
      "1059\n",
      "{'lex': 'қыргоқыр',\n",
      " 'paradigms': ['N-obl', 'N-nom-0', 'N-pl-t'],\n",
      " 'stem': ['қырго', 'қырго', 'қыргоқыр', 'қырго'],\n",
      " 'trans_ru': 'кедровый стланик'}\n",
      "1083\n",
      "{'lex': 'қэймилгэр',\n",
      " 'paradigms': ['N-obl', 'N-nom-0', 'N-pl-ti'],\n",
      " 'stem': ['қэймилгэт', 'қаймэлгат', 'қэймилгэр', 'қэймилгэт'],\n",
      " 'trans_ru': 'пистолет'}\n",
      "1087\n",
      "{'lex': 'қэйъытвъэт',\n",
      " 'paradigms': ['N-obl', 'N-nom-0', 'N-pl-yt'],\n",
      " 'stem': ['қэйъытв', 'қайъытв', 'қэйъытвъэт', 'қэйъытв'],\n",
      " 'trans_ru': '1) байдарка; 2) вельбот'}\n",
      "1094\n",
      "{'lex': 'қэлгиқэл',\n",
      " 'paradigms': ['N-obl', 'N-nom-0', 'N-pl-t'],\n",
      " 'stem': ['қэлги', 'қалгэ', 'қэлгиқэл', 'қэлги'],\n",
      " 'trans_ru': '1) сцепление; 2) комната '}\n",
      "1110\n",
      "{'lex': 'қэпъуруттуут',\n",
      " 'paradigms': ['N-obl', 'N-nom-0', 'N-pl-yt'],\n",
      " 'stem': ['қэпъурутт', 'қапъоротт', 'қэпъуруттуут', 'қэпъурутт'],\n",
      " 'trans_ru': 'пень'}\n",
      "1128\n",
      "{'lex': 'қэюунэлгын',\n",
      " 'paradigms': ['N-obl', 'N-nom-lgyn', 'N-pl'],\n",
      " 'stem': ['қэюунэ', 'қаёона', 'қэюунэ', 'қэюунэ'],\n",
      " 'trans_ru': '1) шкура оленёнка; 2) пыжик'}\n",
      "1136\n",
      "{'lex': 'лелелгын',\n",
      " 'paradigms': ['N-obl', 'N-nom-lgyn', 'N-pl-t'],\n",
      " 'stem': ['лили', 'лэлэ', 'леле', 'лили'],\n",
      " 'trans_ru': '(2) рукавица'}\n",
      "1139\n",
      "{'lex': 'ленлылгын',\n",
      " 'paradigms': ['N-obl', 'N-nom-lgyn', 'N-pl-yt'],\n",
      " 'stem': ['линл', 'лэнл', 'ленлы', 'линл'],\n",
      " 'trans_ru': 'голубика'}\n",
      "1141\n",
      "{'lex': 'лёвырытын',\n",
      " 'paradigms': ['N-obl', 'N-nom-n', 'N-pl-yt'],\n",
      " 'stem': ['лёврынн', 'лёврынн', 'лёвырыт', 'лёврынн'],\n",
      " 'trans_ru': 'молочный зуб'}\n",
      "1143\n",
      "{'lex': 'лёңыл',\n",
      " 'paradigms': ['N-obl', 'N-nom-0', 'N-pl-t'],\n",
      " 'stem': ['лёнля', 'лёнля', 'лёңыл', 'лёнля'],\n",
      " 'trans_ru': 'моржовый жир'}\n",
      "1155\n",
      "{'lex': 'лыгиннээн',\n",
      " 'paradigms': ['N-obl', 'N-nom-n', 'N-pl-yt'],\n",
      " 'stem': ['лыгинн', 'лыгэнн', 'лыгиннээ', 'лыгинн'],\n",
      " 'trans_ru': 'голец (рыба)'}\n",
      "1157\n",
      "{'lex': 'лыгуттуут',\n",
      " 'paradigms': ['N-obl', 'N-nom-0', 'N-pl-yt'],\n",
      " 'stem': ['лыгутт', 'лыготт', 'лыгуттуут', 'лыгутт'],\n",
      " 'trans_ru': 'полярная ива'}\n",
      "1158\n",
      "{'lex': 'лыгъытвъэт',\n",
      " 'paradigms': ['N-obl', 'N-nom-0', 'N-pl-yt'],\n",
      " 'stem': ['лыгъытв', 'лыгъытв', 'лыгъытвъэт', 'лыгъытв'],\n",
      " 'trans_ru': 'байдара'}\n",
      "1163\n",
      "{'lex': 'лылетъылык',\n",
      " 'paradigms': [],\n",
      " 'stem': ['лылетъылы', 'лылятъылы', 'лылетъылы', 'лылетъылы'],\n",
      " 'trans_ru': 'болеть (о глазах)'}\n",
      "1164\n",
      "{'lex': 'лылечурмын',\n",
      " 'paradigms': ['N-obl', 'N-nom-n', 'N-pl'],\n",
      " 'stem': ['лылегычурмы', 'лылягычормы', 'лылегычурмы', 'лылегычурмы'],\n",
      " 'trans_ru': 'веко'}\n",
      "1168\n",
      "{'lex': 'лылямырқалгын',\n",
      " 'paradigms': ['N-obl', 'N-nom-lgyn', 'N-pl-t'],\n",
      " 'stem': ['лылямырқэ', 'лылямырқэ', 'лылямырқа', 'лылямырқэ'],\n",
      " 'trans_ru': 'жир, облекающий с внутренней стороны глазное яблоко'}\n",
      "1177\n",
      "{'lex': 'льмңыл',\n",
      " 'paradigms': ['N-obl', 'N-nom-0', 'N-pl-te'],\n",
      " 'stem': ['лымңыл', 'лымңыл', 'льмңыл', 'лымңыл'],\n",
      " 'trans_ru': '(2) сказка'}\n",
      "1179\n",
      "{'lex': 'лыңкылын',\n",
      " 'paradigms': ['N-obl', 'N-nom-n', 'N-pl-yt'],\n",
      " 'stem': ['лыңк', 'лыңк', 'лыңкылын', 'лыңк'],\n",
      " 'trans_ru': '* снежный сугроб на склонах гор'}\n",
      "1182\n",
      "{'lex': 'лыилып',\n",
      " 'paradigms': ['N-obl', 'N-nom-0', 'N-pl-yt'],\n",
      " 'stem': ['лыплып', 'лыплып', 'лыилып', 'лыплып'],\n",
      " 'trans_ru': '(2) 1) перевал; 2) шея'}\n",
      "1204\n",
      "{'lex': 'магны',\n",
      " 'paradigms': ['N-obl', 'N-nom-0', 'N-pl-te'],\n",
      " 'stem': ['маг', 'маг', 'маг', 'маг'],\n",
      " 'trans_ru': '1) то, что оставлено (чтобы взять в другое время); 2) склад'}\n",
      "1205\n",
      "{'lex': 'маёлгын',\n",
      " 'paradigms': ['N-obl', 'N-nom-lgyn', 'N-pl'],\n",
      " 'stem': ['маёлгы', 'маёлгы', 'маёлгы', 'маёлгы'],\n",
      " 'trans_ru': 'высокий холм'}\n",
      "1213\n",
      "{'lex': 'малеёлгын',\n",
      " 'paradigms': ['N-obl', 'N-nom-lgyn', 'N-pl'],\n",
      " 'stem': ['малеёлгы', 'малеёлгы', 'малеёлгы', 'малеёлгы'],\n",
      " 'trans_ru': 'посуда для мытья'}\n",
      "1216\n",
      "{'lex': 'манеглелелгын',\n",
      " 'paradigms': ['N-obl', 'N-nom-lgyn', 'N-pl-t'],\n",
      " 'stem': ['мэнигли', 'манэглэ', 'манегле', 'мэнигли'],\n",
      " 'trans_ru': 'матерчатая рукавица, перчатка'}\n",
      "1222\n",
      "{'lex': 'манэман',\n",
      " 'paradigms': ['N-obl', 'N-nom-n', 'N-pl-t'],\n",
      " 'stem': ['манэ', 'манэ', 'манэма', 'манэ'],\n",
      " 'trans_ru': '1) деньги; 2) монета; 3) рубль'}\n",
      "1223\n",
      "{'lex': 'манэчаңыл',\n",
      " 'paradigms': ['N-obl', 'N-nom-0', 'N-pl-t'],\n",
      " 'stem': ['манэчанля', 'манэчанля', 'манэчаңыл', 'манэчанля'],\n",
      " 'trans_ru': '1) касса; 2) железный денежный ящик'}\n",
      "1227\n",
      "{'lex': 'мараврыгъёлгын',\n",
      " 'paradigms': ['N-obl', 'N-nom-lgyn', 'N-pl'],\n",
      " 'stem': ['мараврыгъёлгы', 'мараврыгъёлгы', 'мараврыгъёлгы', 'мараврыгъёлгы'],\n",
      " 'trans_ru': 'окоп'}\n",
      "1232\n",
      "{'lex': 'мачо',\n",
      " 'paradigms': ['N-obl', 'N-nom-0', 'N-pl-t'],\n",
      " 'stem': ['мачвэ', 'мачвэ', 'мачо', 'мачвэ'],\n",
      " 'trans_ru': 'грудь'}\n",
      "1238\n",
      "{'lex': 'милгын',\n",
      " 'paradigms': ['N-obl', 'N-nom-lgyn', 'N-pl'],\n",
      " 'stem': ['милгы', 'мэлгы', 'милгы', 'милгы'],\n",
      " 'trans_ru': '* огонь'}\n",
      "1239\n",
      "{'lex': 'милгэр',\n",
      " 'paradigms': ['N-obl', 'N-nom-0', 'N-pl-ti'],\n",
      " 'stem': ['милгэрти, милгэт', 'мэлгартэ, мэлгат', 'милгэр', 'милгэрти, милгэт'],\n",
      " 'trans_ru': 'ружьё'}\n",
      "1240\n",
      "{'lex': 'милгэрмэқым',\n",
      " 'paradigms': ['N-obl', 'N-nom-0', 'N-pl-t'],\n",
      " 'stem': ['милгэрмъэми', 'мэлгармъамэ', 'милгэрмэқым', 'милгэрмъэми'],\n",
      " 'trans_ru': '1) пуля; 2) патрон'}\n",
      "1245\n",
      "{'lex': 'мимыл',\n",
      " 'paradigms': ['N-obl', 'N-nom-0', 'N-pl-yt'],\n",
      " 'stem': ['мимл', 'мэмл', 'мимыл./.имыл', 'мимл'],\n",
      " 'trans_ru': 'вода'}\n",
      "1249\n",
      "{'lex': 'момкэлгын',\n",
      " 'paradigms': ['N-obl', 'N-nom-lgyn', 'N-pl-t'],\n",
      " 'stem': ['мумкэ', 'момка', 'момкэ', 'мумкэ'],\n",
      " 'trans_ru': 'обезьяна'}\n",
      "1258\n",
      "{'lex': 'мраң',\n",
      " 'paradigms': ['N-obl', 'N-nom-0', 'N-pl'],\n",
      " 'stem': ['мра', 'мра', 'мра', 'мра'],\n",
      " 'trans_ru': 'правая сторона'}\n",
      "1261\n",
      "{'lex': 'мумқымул',\n",
      " 'paradigms': ['N-obl', 'N-nom-0', 'N-pl-yt'],\n",
      " 'stem': ['мумқ', 'момқ', 'мумқымул', 'мумқ'],\n",
      " 'trans_ru': 'последний весенний снег по ложбинам'}\n",
      "1262\n",
      "{'lex': 'мутлымул',\n",
      " 'paradigms': ['N-obl', 'N-nom-0', 'N-pl-yt'],\n",
      " 'stem': ['мутл', 'мотл', 'мутлымул', 'мутл'],\n",
      " 'trans_ru': 'кровь'}\n",
      "1263\n",
      "{'lex': 'мутлытэгйиң',\n",
      " 'paradigms': ['N-obl', 'N-nom-0', 'N-pl'],\n",
      " 'stem': ['мутлытэгйи', 'мотлытагйэ', 'мутлытэгйи', 'мутлытэгйи'],\n",
      " 'trans_ru': '1) кашель с кровью; 2) туберкулёз'}\n",
      "1266\n",
      "{'lex': 'мъысқымыч',\n",
      " 'paradigms': ['N-obl', 'N-nom-0', 'N-pl-yt'],\n",
      " 'stem': ['мъысқ', 'мъысқ', 'мъысқымыч', 'мъысқ'],\n",
      " 'trans_ru': '* холм'}\n",
      "1274\n",
      "{'lex': 'мылек',\n",
      " 'paradigms': ['N-obl', 'N-nom-0', 'N-pl'],\n",
      " 'stem': ['мылель', 'мыляль', 'мылель', 'мылель'],\n",
      " 'trans_ru': 'ломать'}\n",
      "1310\n",
      "{'lex': 'мэқым',\n",
      " 'paradigms': ['N-obl', 'N-nom-0', 'N-pl-t'],\n",
      " 'stem': ['мъэми', 'мъамэ', 'мэқым', 'мъэми'],\n",
      " 'trans_ru': '1) стрела; 2) пуля'}\n",
      "1317\n",
      "{'lex': 'мэлгоплякылгын',\n",
      " 'paradigms': ['N-obl', 'N-nom-lgyn', 'N-pl-yt'],\n",
      " 'stem': ['милгуплек', 'мэлгопляк', 'мэлгопляк', 'милгуплек'],\n",
      " 'trans_ru': 'непромокаемый сапог (торбаз) из ровдуги'}\n",
      "1322\n",
      "{'lex': 'мэнэмэн',\n",
      " 'paradigms': ['N-obl', 'N-nom-n', 'N-pl-t'],\n",
      " 'stem': ['мэнэ', 'мана', 'мэнэмэ', 'мэнэ'],\n",
      " 'trans_ru': 'нажива для рыболовного крючка'}\n",
      "1323\n",
      "{'lex': 'мэңин',\n",
      " 'paradigms': ['N-obl', 'N-nom-n', 'N-pl-ti'],\n",
      " 'stem': ['микын', 'мэкын', 'мэңин', 'микын'],\n",
      " 'trans_ru': 'кто; ~ вай кто-то (в пределах видимости); ~ рай кто-то '\n",
      "             '(невидимый для говорящего)'}\n",
      "1331\n",
      "{'lex': 'намнанам',\n",
      " 'paradigms': ['N-obl', 'N-nom-0', 'N-pl-t'],\n",
      " 'stem': ['намна', 'намна', 'намнанам', 'намна'],\n",
      " 'trans_ru': '1) особый вид тальника; 2) верба'}\n",
      "1340\n",
      "{'lex': 'нутэкэликэл',\n",
      " 'paradigms': ['N-obl', 'N-nom-0', 'N-pl-t'],\n",
      " 'stem': ['нутэкэли', 'нотакалэ', 'нутэкэликэл', 'нутэкэли'],\n",
      " 'trans_ru': 'карта (геогр.)'}\n",
      "1352\n",
      "{'lex': 'ныкирит',\n",
      " 'paradigms': ['N-obl', 'N-nom-0', 'N-pl-ti'],\n",
      " 'stem': ['ныкит', 'ныкэт', 'ныкирит', 'ныкит'],\n",
      " 'trans_ru': 'ночь'}\n",
      "1356\n",
      "{'lex': 'ньмтэгын',\n",
      " 'paradigms': ['N-obl', 'N-nom-n', 'N-pl-yt'],\n",
      " 'stem': ['нымтэгн', 'нымтагн', 'ньмтэг', 'нымтэгн'],\n",
      " 'trans_ru': 'околица'}\n",
      "1360\n",
      "{'lex': 'нынны',\n",
      " 'paradigms': ['N-obl', 'N-nom-0', 'N-pl-yt'],\n",
      " 'stem': ['нынн', 'нынн', 'нынны', 'нынн'],\n",
      " 'trans_ru': '1) имя; 2) название'}\n",
      "1362\n",
      "{'lex': 'нэлгын',\n",
      " 'paradigms': ['N-obl', 'N-nom-lgyn', 'N-pl'],\n",
      " 'stem': ['нэлгы', 'налгы', 'нэлгы', 'нэлгы'],\n",
      " 'trans_ru': 'шкура'}\n",
      "1370\n",
      "{'lex': 'ңавконэкон',\n",
      " 'paradigms': ['N-obl', 'N-nom-n', 'N-pl-t'],\n",
      " 'stem': ['ңавконэ', 'ңавконэ', 'ңавконэко', 'ңавконэ'],\n",
      " 'trans_ru': 'кобыла'}\n",
      "1374\n",
      "{'lex': 'ңавъельо',\n",
      " 'paradigms': ['N-obl', 'N-nom-0', 'N-pl-te'],\n",
      " 'stem': ['ңавъельон', 'ңавъельон', 'ңавъельо', 'ңавъельон'],\n",
      " 'trans_ru': 'двоюродная сестра'}\n",
      "1377\n",
      "{'lex': 'ңавытлывэ',\n",
      " 'paradigms': ['N-obl', 'N-nom-0', 'N-pl-t'],\n",
      " 'stem': ['ңавытлывъё', 'ңавытлывъё', 'ңавытлывэ', 'ңавытлывъё'],\n",
      " 'trans_ru': '1) племянница; 2) внучка'}\n",
      "1385\n",
      "{'lex': 'ңаргынэн',\n",
      " 'paradigms': ['N-obl', 'N-nom-n', 'N-pl-te'],\n",
      " 'stem': ['ңаргынэнат, ңаргын',\n",
      "          'ңаргынэнат, ңаргын',\n",
      "          'ңаргынэ',\n",
      "          'ңаргынэнат, ңаргын'],\n",
      " 'trans_ru': '1) вселенная; 2) наружное пространство; 3) погода'}\n",
      "1386\n",
      "{'lex': 'ңатваёлгын',\n",
      " 'paradigms': ['N-obl', 'N-nom-lgyn', 'N-pl'],\n",
      " 'stem': ['ңатваёлгы', 'ңатваёлгы', 'ңатваёлгы', 'ңатваёлгы'],\n",
      " 'trans_ru': 'седло (для езды на олене)'}\n",
      "1388\n",
      "{'lex': 'ңилгын',\n",
      " 'paradigms': ['N-obl', 'N-nom-lgyn', 'N-pl'],\n",
      " 'stem': ['ңи', 'ңэ', 'ңи', 'ңи'],\n",
      " 'trans_ru': '1) ремень; 2) верёвка'}\n",
      "1411\n",
      "{'lex': 'ңъочьыян',\n",
      " 'paradigms': ['N-obl', 'N-nom-n', 'N-pl-yt'],\n",
      " 'stem': ['ңъочьянв', 'ңъочьянв', 'ңъочьыя', 'ңъочьянв'],\n",
      " 'trans_ru': 'беднота'}\n",
      "1419\n",
      "{'lex': 'ңыраквын',\n",
      " 'paradigms': ['N-obl', 'N-nom-n', 'N-pl-yt'],\n",
      " 'stem': ['ңыракв', 'ңыракв', 'ңыраквы', 'ңыракв'],\n",
      " 'trans_ru': 'наколенник'}\n",
      "1450\n",
      "{'lex': 'ңэвъины',\n",
      " 'paradigms': ['N-obl', 'N-nom-0', 'N-pl-yt'],\n",
      " 'stem': ['ңэвъиг', 'ңавъэг', 'ңэвъины', 'ңэвъиг'],\n",
      " 'trans_ru': 'волчица'}\n",
      "1457\n",
      "{'lex': 'ңэгны',\n",
      " 'paradigms': ['N-obl', 'N-nom-0', 'N-pl-ti'],\n",
      " 'stem': ['ңэг', 'ңаг', 'ңэг', 'ңэг'],\n",
      " 'trans_ru': 'сопка'}\n",
      "1459\n",
      "{'lex': 'ңэлвыл',\n",
      " 'paradigms': ['N-obl', 'N-nom-0', 'N-pl-yt'],\n",
      " 'stem': ['ңэлвыль', 'ңалвыль', 'ңэлвыл', 'ңэлвыль'],\n",
      " 'trans_ru': 'табун'}\n",
      "1469\n",
      "{'lex': 'ңээкык',\n",
      " 'paradigms': ['N-obl', 'N-nom-0', 'N-pl-t'],\n",
      " 'stem': ['ңээккэ', 'ңаакка', 'ңээкык', 'ңээккэ'],\n",
      " 'trans_ru': 'дочь'}\n",
      "1480\n",
      "{'lex': 'олёвъёлгын',\n",
      " 'paradigms': ['N-obl', 'N-nom-lgyn', 'N-pl'],\n",
      " 'stem': ['олёвъёлгы', 'олёвъёлгы', 'олёвъёлгы', 'олёвъёлгы'],\n",
      " 'trans_ru': '1) яма для хранения моржового мяса; 2) погреб'}\n",
      "1508\n",
      "{'lex': \"о'птыңалвыл\",\n",
      " 'paradigms': ['N-obl', 'N-nom-0', 'N-pl-yt'],\n",
      " 'stem': [\"о'птыңалвыль\", \"о'птыңалвыль\", \"о'птыңалвыл\", \"о'птыңалвыль\"],\n",
      " 'trans_ru': 'большое стадо '}\n",
      "1520\n",
      "{'lex': 'пагъёпай',\n",
      " 'paradigms': ['N-obl', 'N-nom-0', 'N-pl-t'],\n",
      " 'stem': ['пагъё', 'пагъё', 'пагъёпай', 'пагъё'],\n",
      " 'trans_ru': 'мозоль'}\n",
      "1524\n",
      "{'lex': 'пайгопай',\n",
      " 'paradigms': ['N-obl', 'N-nom-0', 'N-pl-t'],\n",
      " 'stem': ['пайго', 'пайго', 'пайгопай', 'пайго'],\n",
      " 'trans_ru': 'мозоль'}\n",
      "1539\n",
      "{'lex': 'панралелелгын',\n",
      " 'paradigms': ['N-obl', 'N-nom-lgyn', 'N-pl-t'],\n",
      " 'stem': ['панрале', 'панрале', 'панралеле', 'панрале'],\n",
      " 'trans_ru': 'рукавицы из камусов'}\n",
      "1551\n",
      "{'lex': 'парытлыңын',\n",
      " 'paradigms': ['N-obl', 'N-nom-n', 'N-pl-te'],\n",
      " 'stem': ['пар', 'пар', 'пар', 'пар'],\n",
      " 'trans_ru': 'лопатка (кость)'}\n",
      "1556\n",
      "{'lex': 'пиқуттуут',\n",
      " 'paradigms': ['N-obl', 'N-nom-0', 'N-pl-yt'],\n",
      " 'stem': ['пиқутт', 'пэқотт', 'пиқуттуут', 'пиқутт'],\n",
      " 'trans_ru': 'нижняя рея паруса'}\n",
      "1561\n",
      "{'lex': 'пилгын',\n",
      " 'paradigms': ['N-obl', 'N-nom-lgyn', 'N-pl'],\n",
      " 'stem': ['пи', 'пэ', 'пи', 'пи'],\n",
      " 'trans_ru': '1) горло; 2) пищевод; 3) устье реки; 4) протока, соединяющая '\n",
      "             'лагуну с морем'}\n",
      "1572\n",
      "{'lex': 'пипиқылгын',\n",
      " 'paradigms': ['N-obl', 'N-nom-lgyn', 'N-pl'],\n",
      " 'stem': ['пипиқы', 'пэпэқы', 'пипиқы', 'пипиқы'],\n",
      " 'trans_ru': 'мышь'}\n",
      "1589\n",
      "{'lex': 'пуйъэпуй',\n",
      " 'paradigms': ['N-obl', 'N-nom-0', 'N-pl-t'],\n",
      " 'stem': ['пуйъэ', 'пойъа', 'пуйъэпуй', 'пуйъэ'],\n",
      " 'trans_ru': 'сажа'}\n",
      "1594\n",
      "{'lex': 'пчеқалгын',\n",
      " 'paradigms': ['N-obl', 'N-nom-lgyn', 'N-pl-t'],\n",
      " 'stem': ['пчиқэ', 'пчэқа', 'пчеқа', 'пчиқэ'],\n",
      " 'trans_ru': 'птичка'}\n",
      "1601\n",
      "{'lex': 'пъопэқылгын',\n",
      " 'paradigms': ['N-obl', 'N-nom-lgyn', 'N-pl-yt'],\n",
      " 'stem': ['пъупуқ', 'пъопоқ', 'пъопэқы', 'пъупуқ'],\n",
      " 'trans_ru': 'съедобный корень'}\n",
      "1610\n",
      "{'lex': 'пылвынтыңэлгын',\n",
      " 'paradigms': ['N-obl', 'N-nom-lgyn', 'N-pl'],\n",
      " 'stem': ['пылвынтыңэ', 'пылвынтыңа', 'пылвынтыңэ', 'пылвынтыңэ'],\n",
      " 'trans_ru': '(2) проволока, провод'}\n",
      "1611\n",
      "{'lex': 'пылвынтыръэт',\n",
      " 'paradigms': ['N-obl', 'N-nom-0', 'N-pl-te'],\n",
      " 'stem': ['пылвытнтыръэт', 'пылвытнтыръат', 'пылвынтыръэт', 'пылвытнтыръэт'],\n",
      " 'trans_ru': '(2) железная дорога'}\n",
      "1635\n",
      "{'lex': 'пырқапыр',\n",
      " 'paradigms': ['N-obl', 'N-nom-0', 'N-pl-t'],\n",
      " 'stem': ['пырқа', 'пырқа', 'пырқапыр', 'пырқа'],\n",
      " 'trans_ru': 'каменный столб, образовавшийся в результате выветривания'}\n",
      "1636\n",
      "{'lex': 'пырқарэл',\n",
      " 'paradigms': ['N-obl', 'N-nom-0', 'N-pl-te'],\n",
      " 'stem': ['пыркарэл', 'пыркарэл', 'пырқарэл', 'пыркарэл'],\n",
      " 'trans_ru': '1) цепь каменных столбов; 2) ружейный замок (охотничьего ружья)'}\n",
      "1663\n",
      "{'lex': 'пэкычьылгын',\n",
      " 'paradigms': ['N-obl', 'N-nom-lgyn', 'N-pl-yt'],\n",
      " 'stem': ['пэкычь', 'пакычь', 'пэкычьы', 'пэкычь'],\n",
      " 'trans_ru': '(2) морской кулик («плавунчик»)'}\n",
      "1674\n",
      "{'lex': 'пэнчолгын',\n",
      " 'paradigms': ['N-obl', 'N-nom-lgyn', 'N-pl-yt'],\n",
      " 'stem': ['пэнчолг', 'пэнчолг', 'пэнчолгы', 'пэнчолг'],\n",
      " 'trans_ru': 'горох, горошина'}\n",
      "1676\n",
      "{'lex': 'пэнъёлгын',\n",
      " 'paradigms': ['N-obl', 'N-nom-lgyn', 'N-pl'],\n",
      " 'stem': ['пэнъёлгы', 'пэнъёлгы', 'пэнъёлгы', 'пэнъёлгы'],\n",
      " 'trans_ru': '1) печь; 2) костёр'}\n",
      "1689\n",
      "{'lex': 'пэтыгэлгэл',\n",
      " 'paradigms': ['N-obl', 'N-nom-0', 'N-pl-te'],\n",
      " 'stem': ['пэтыгэл', 'патыгал', 'пэтыгэл', 'пэтыгэл'],\n",
      " 'trans_ru': '(2) 1) торос; 2) старый лёд'}\n",
      "1701\n",
      "{'lex': 'раис',\n",
      " 'paradigms': ['N-obl', 'N-nom-0', 'N-pl-ti'],\n",
      " 'stem': ['рис', 'рэс', 'раис', 'рис'],\n",
      " 'trans_ru': 'рис'}\n",
      "1721\n",
      "{'lex': 'рапытвыпыт',\n",
      " 'paradigms': ['N-obl', 'N-nom-0', 'N-pl-yt'],\n",
      " 'stem': ['рапытв', 'рапытв', 'рапытвыпыт', 'рапытв'],\n",
      " 'trans_ru': 'этаж'}\n",
      "1730\n",
      "{'lex': 'рачымчыльын',\n",
      " 'paradigms': ['N-obl', 'N-nom-n', 'N-pl-yt'],\n",
      " 'stem': ['рачымч', 'рачымч', 'рачымчыль', 'рачымч'],\n",
      " 'trans_ru': 'сосед'}\n",
      "1739\n",
      "{'lex': 'ритлит',\n",
      " 'paradigms': ['N-obl', 'N-nom-0', 'N-pl-ti'],\n",
      " 'stem': ['рытлит', 'рытлэт', 'ритлит', 'рытлит'],\n",
      " 'trans_ru': '1) груз на верёвке; 2) весовая единица, вес'}\n",
      "1744\n",
      "{'lex': 'роқыр',\n",
      " 'paradigms': ['N-obl', 'N-nom-0', 'N-pl-t'],\n",
      " 'stem': ['ръора', 'ръора', 'роқыр', 'ръора'],\n",
      " 'trans_ru': '1) овод; 2) пчела; 3) шмель'}\n",
      "1757\n",
      "{'lex': 'рубль',\n",
      " 'paradigms': ['N-obl', 'N-nom-0', 'N-pl-ti'],\n",
      " 'stem': ['рубыль', 'робыль', 'рубль', 'рубыль'],\n",
      " 'trans_ru': 'рубль'}\n",
      "1768\n",
      "{'lex': 'ръорамытқымыт',\n",
      " 'paradigms': ['N-obl', 'N-nom-0', 'N-pl-yt'],\n",
      " 'stem': ['ръорамытқ', 'ръорамытқ', 'ръорамытқымыт', 'ръорамытқ'],\n",
      " 'trans_ru': 'мёд'}\n",
      "1779\n",
      "{'lex': 'рывинэң',\n",
      " 'paradigms': ['N-obl', 'N-nom-0', 'N-pl-t'],\n",
      " 'stem': ['ривинэңэ', 'рэвэнаңа', 'рывинэң', 'ривинэңэ'],\n",
      " 'trans_ru': 'один из опорных шестов яранги'}\n",
      "1781\n",
      "{'lex': 'рыглелелгын',\n",
      " 'paradigms': ['N-obl', 'N-nom-lgyn', 'N-pl-t'],\n",
      " 'stem': ['рыглеле', 'рыгляля', 'рыглеле', 'рыглеле'],\n",
      " 'trans_ru': 'меховая рукавица с длинной шерстью'}\n",
      "1798\n",
      "{'lex': 'рыкавраторавэнаң',\n",
      " 'paradigms': ['N-obl', 'N-nom-0', 'N-pl-t'],\n",
      " 'stem': [\"рыкавраторавэнаы'а\",\n",
      "          \"рыкавраторавэнаы'а\",\n",
      "          'рыкавраторавэнаң',\n",
      "          \"рыкавраторавэнаы'а\"],\n",
      " 'trans_ru': '1) отвёртка; 2) ключ (гаечный)'}\n",
      "1813\n",
      "{'lex': 'рылгылелелгын',\n",
      " 'paradigms': ['N-obl', 'N-nom-lgyn', 'N-pl-t'],\n",
      " 'stem': ['рылгыли', 'рылгылэ', 'рылгылеле', 'рылгыли'],\n",
      " 'trans_ru': '* перчатка'}\n",
      "1829\n",
      "{'lex': 'рымычвынав',\n",
      " 'paradigms': ['N-obl', 'N-nom-0', 'N-pl-t'],\n",
      " 'stem': ['рымычвынавъё', 'рымычвынавъё', 'рымычвынав', 'рымычвынавъё'],\n",
      " 'trans_ru': 'надежда, посул'}\n",
      "1831\n",
      "{'lex': 'рынгииввылгын',\n",
      " 'paradigms': ['N-obl', 'N-nom-lgyn', 'N-pl'],\n",
      " 'stem': ['рынгииввылгы', 'рынгээввылгы', 'рынгииввылгы', 'рынгииввылгы'],\n",
      " 'trans_ru': 'встреча'}\n",
      "1840\n",
      "{'lex': 'рынңыян',\n",
      " 'paradigms': ['N-obl', 'N-nom-n', 'N-pl-yt'],\n",
      " 'stem': [\"рыны'ыянв\", \"рыны'ыянв\", 'рынңыян', \"рыны'ыянв\"],\n",
      " 'trans_ru': 'место, которое затёсано; затёска'}\n",
      "1842\n",
      "{'lex': 'рынрилгын',\n",
      " 'paradigms': ['N-obl', 'N-nom-lgyn', 'N-pl'],\n",
      " 'stem': ['рынри', 'рынрэ', 'рынри', 'рынри'],\n",
      " 'trans_ru': 'ручка посуды '}\n",
      "1844\n",
      "{'lex': 'рынрыёлгын',\n",
      " 'paradigms': ['N-obl', 'N-nom-lgyn', 'N-pl'],\n",
      " 'stem': ['рынрыёлг', 'рынрыёлг', 'рынрыёлг', 'рынрыёлг'],\n",
      " 'trans_ru': '1) рукоять; 2) носилки'}\n",
      "1846\n",
      "{'lex': 'рынрычеңыл',\n",
      " 'paradigms': ['N-obl', 'N-nom-0', 'N-pl-t'],\n",
      " 'stem': ['рынрычеңля', 'рынрычеңля', 'рынрычеңыл', 'рынрычеңля'],\n",
      " 'trans_ru': 'чемодан'}\n",
      "1850\n",
      "{'lex': 'рыпуттуут',\n",
      " 'paradigms': ['N-obl', 'N-nom-0', 'N-pl-yt'],\n",
      " 'stem': ['рыпутт', 'рыпотт', 'рыпуттуут', 'рыпутт'],\n",
      " 'trans_ru': 'столб, кол'}\n",
      "1894\n",
      "{'lex': 'рэывъитын',\n",
      " 'paradigms': ['N-obl', 'N-nom-n', 'N-pl-yt'],\n",
      " 'stem': ['рэвъинн', 'равъэнн', 'рэывъит', 'рэвъинн'],\n",
      " 'trans_ru': 'олень белой масти с чёрными пятнами на голове, шее'}\n",
      "1896\n",
      "{'lex': 'рэвымрэв',\n",
      " 'paradigms': ['N-obl', 'N-nom-0', 'N-pl-yt'],\n",
      " 'stem': ['рэвьшрэв', 'равьшрав', 'рэвымрэв', 'рэвьшрэв'],\n",
      " 'trans_ru': 'куропатка'}\n",
      "1899\n",
      "{'lex': 'рэқыр',\n",
      " 'paradigms': ['N-obl', 'N-nom-0', 'N-pl-yt'],\n",
      " 'stem': ['ръэқ', 'ръақ', 'рэқыр', 'ръэқ'],\n",
      " 'trans_ru': 'нос судна'}\n",
      "1900\n",
      "{'lex': 'рэқытвык',\n",
      " 'paradigms': ['N-obl', 'N-nom-0', 'N-pl'],\n",
      " 'stem': ['рэқытвы', 'рақытвы', 'рэқытвы', 'рэқытвы'],\n",
      " 'trans_ru': 'сдирать, очищать'}\n",
      "1903\n",
      "{'lex': 'рэлвытлыңын',\n",
      " 'paradigms': ['N-obl', 'N-nom-n', 'N-pl-yt'],\n",
      " 'stem': ['рилв', 'рэлв', 'рэлвы', 'рилв'],\n",
      " 'trans_ru': 'бровь'}\n",
      "1905\n",
      "{'lex': 'рэлкалегатле',\n",
      " 'paradigms': ['N-obl', 'N-nom-0', 'N-pl-t'],\n",
      " 'stem': ['рэлкалегалга', 'рэлкалегалга', 'рэлкалегатле', 'рэлкалегалга'],\n",
      " 'trans_ru': 'птица с пёстрыми крыльями'}\n",
      "1910\n",
      "{'lex': 'рэлпытлыңын',\n",
      " 'paradigms': ['N-obl', 'N-nom-n', 'N-pl-yt'],\n",
      " 'stem': ['рилп', 'рэлп', 'рэлпы', 'рилп'],\n",
      " 'trans_ru': '(2) плечо'}\n",
      "1911\n",
      "{'lex': 'рэлытлыңын',\n",
      " 'paradigms': ['N-obl', 'N-nom-n', 'N-pl'],\n",
      " 'stem': ['рэлыт', 'ралыт', 'рэлыт', 'рэлыт'],\n",
      " 'trans_ru': 'крыло'}\n",
      "1921\n",
      "{'lex': 'рэңрэң',\n",
      " 'paradigms': ['N-obl', 'N-nom-0', 'N-pl-yt'],\n",
      " 'stem': ['рэңрэңыт, рэң', 'раңраңыт, раң', 'рэңрэң', 'рэңрэңыт, рэң'],\n",
      " 'trans_ru': 'корм'}\n",
      "1929\n",
      "{'lex': 'рэченныкват',\n",
      " 'paradigms': ['N-obl', 'N-nom-0', 'N-pl-yt'],\n",
      " 'stem': ['рэченныкв', 'рачянныкв', 'рэченныкват', 'рэченныкв'],\n",
      " 'trans_ru': 'пряжка'}\n",
      "1931\n",
      "{'lex': 'таак',\n",
      " 'paradigms': ['N-obl', 'N-nom-0', 'N-pl-t'],\n",
      " 'stem': ['таақа', 'таақа', 'таак', 'таақа'],\n",
      " 'trans_ru': 'табак'}\n",
      "1950\n",
      "{'lex': 'такалгын',\n",
      " 'paradigms': ['N-obl', 'N-nom-lgyn', 'N-pl'],\n",
      " 'stem': ['такалг', 'такалг', 'такалг', 'такалг'],\n",
      " 'trans_ru': '1) парный олень; 2) свояк (мужья двух родных сестёр); 3) пара; '\n",
      "             '4) один из пары'}\n",
      "1958\n",
      "{'lex': 'таляёлгын',\n",
      " 'paradigms': ['N-obl', 'N-nom-lgyn', 'N-pl'],\n",
      " 'stem': ['таляёлгы', 'таляёлгы', 'таляёлгы', 'таляёлгы'],\n",
      " 'trans_ru': 'наковальня'}\n",
      "1967\n",
      "{'lex': 'тамэнңысқыёлгын',\n",
      " 'paradigms': ['N-obl', 'N-nom-lgyn', 'N-pl'],\n",
      " 'stem': ['тамэнңысқыёлгы',\n",
      "          'тамэнңысқыёлгы',\n",
      "          'тамэнңысқыёлгы',\n",
      "          'тамэнңысқыёлгы'],\n",
      " 'trans_ru': 'верстак'}\n",
      "1975\n",
      "{'lex': 'танңыплякылгын',\n",
      " 'paradigms': ['N-obl', 'N-nom-lgyn', 'N-pl-yt'],\n",
      " 'stem': ['танңыпляк', 'танңыпляк', 'танңыпляк', 'танңыпляк'],\n",
      " 'trans_ru': 'сапоги (русские)'}\n",
      "1976\n",
      "{'lex': 'танңытан',\n",
      " 'paradigms': ['N-obl', 'N-nom-n', 'N-pl-yt'],\n",
      " 'stem': ['танң', 'танң', 'танңыта', 'танң'],\n",
      " 'trans_ru': '1) чужак; 2) коряк; 3) европеец'}\n",
      "2011\n",
      "{'lex': 'тинпиңэпиң',\n",
      " 'paradigms': ['N-obl', 'N-nom-0', 'N-pl-t'],\n",
      " 'stem': ['тинпиңэ', 'тэнпэңа', 'тинпиңэпиң', 'тинпиңэ'],\n",
      " 'trans_ru': '* град'}\n",
      "2014\n",
      "{'lex': 'тины',\n",
      " 'paradigms': ['N-obl', 'N-nom-0', 'N-pl-yt'],\n",
      " 'stem': ['тив', 'тэв', 'тины', 'тив'],\n",
      " 'trans_ru': 'хорей '}\n",
      "2022\n",
      "{'lex': 'тиркэрым',\n",
      " 'paradigms': ['N-obl', 'N-nom-0', 'N-pl-t'],\n",
      " 'stem': ['тиркэрмэ', 'тэркарма', 'тиркэрым', 'тиркэрмэ'],\n",
      " 'trans_ru': 'царь'}\n",
      "2032\n",
      "{'lex': 'туйкэтуй',\n",
      " 'paradigms': ['N-obl', 'N-nom-0', 'N-pl-t'],\n",
      " 'stem': ['туйкэ', 'тойка', 'туйкэтуй', 'туйкэ'],\n",
      " 'trans_ru': '* щука'}\n",
      "2038\n",
      "{'lex': 'туптэлгын',\n",
      " 'paradigms': ['N-obl', 'N-nom-lgyn', 'N-pl-t'],\n",
      " 'stem': ['туптэ', 'топта', 'туптэ', 'туптэ'],\n",
      " 'trans_ru': '* пробка'}\n",
      "2066\n",
      "{'lex': 'тыкэн',\n",
      " 'paradigms': ['N-obl', 'N-nom-n', 'N-pl-t'],\n",
      " 'stem': ['тэкэ', 'така', 'тыкэ', 'тэкэ'],\n",
      " 'trans_ru': '(2) запах'}\n",
      "2079\n",
      "{'lex': 'тылгьшнаан',\n",
      " 'paradigms': ['N-obl', 'N-nom-n', 'N-pl-yt'],\n",
      " 'stem': ['тылгынны', 'тылгынны', 'тылгьшнаа', 'тылгынны'],\n",
      " 'trans_ru': 'сиг'}\n",
      "2085\n",
      "{'lex': 'тыленэңуттуут',\n",
      " 'paradigms': ['N-obl', 'N-nom-0', 'N-pl-yt'],\n",
      " 'stem': ['тыленэңутт', 'тылянаңотт', 'тыленэңуттуут', 'тыленэңутт'],\n",
      " 'trans_ru': 'мачта'}\n",
      "2129\n",
      "{'lex': 'тытылоттоот',\n",
      " 'paradigms': ['N-obl', 'N-nom-0', 'N-pl-yt'],\n",
      " 'stem': ['тытылотт', 'тытылотт', 'тытылоттоот', 'тытылотт'],\n",
      " 'trans_ru': 'косяк (двери)'}\n",
      "2134\n",
      "{'lex': 'тэвыр',\n",
      " 'paradigms': ['N-obl', 'N-nom-0', 'N-pl-t'],\n",
      " 'stem': ['тэври', 'таврэ', 'тэвыр', 'тэври'],\n",
      " 'trans_ru': 'один из трёх основных столбов яранги'}\n",
      "2138\n",
      "{'lex': 'тэгрилгын',\n",
      " 'paradigms': ['N-obl', 'N-nom-lgyn', 'N-pl'],\n",
      " 'stem': ['тэгри', 'тагрэ', 'тэгри', 'тэгри'],\n",
      " 'trans_ru': '1) ремень гарпуна; 2) цепь для подвешивания над очагом посуды; '\n",
      "             '3) трос'}\n",
      "2160\n",
      "{'lex': 'тэнмилгын',\n",
      " 'paradigms': ['N-obl', 'N-nom-lgyn', 'N-pl'],\n",
      " 'stem': ['тэнми', 'танмэ', 'тэнми', 'тэнми'],\n",
      " 'trans_ru': 'ремень для закрепления покрышки яранги'}\n",
      "2169\n",
      "{'lex': 'тэнынның',\n",
      " 'paradigms': ['N-obl', 'N-nom-0', 'N-pl-yt'],\n",
      " 'stem': ['тэнынң', 'танынң', 'тэнынның', 'тэнынң'],\n",
      " 'trans_ru': 'подпись'}\n",
      "2170\n",
      "{'lex': 'тэңылгын',\n",
      " 'paradigms': ['N-obl', 'N-nom-lgyn', 'N-pl'],\n",
      " 'stem': ['тэңы./тиңыт', 'таңы./тэңыт', 'тэңы./тиңыт', 'тэңы./тиңыт'],\n",
      " 'trans_ru': '(2) маховое перо'}\n",
      "2205\n",
      "{'lex': 'умкуум',\n",
      " 'paradigms': ['N-obl', 'N-nom-0', 'N-pl-yt'],\n",
      " 'stem': ['умк', 'омк', 'умкуум', 'умк'],\n",
      " 'trans_ru': 'лес'}\n",
      "2219\n",
      "{'lex': 'упражнение',\n",
      " 'paradigms': ['N-obl', 'N-nom-0', 'N-pl-t'],\n",
      " 'stem': ['упражнения', 'упражнения', 'упражнение', 'упражнения'],\n",
      " 'trans_ru': 'упражнение'}\n",
      "2227\n",
      "{'lex': 'уттуут',\n",
      " 'paradigms': ['N-obl', 'N-nom-0', 'N-pl-yt'],\n",
      " 'stem': ['утт', 'отт', 'уттуут', 'утт'],\n",
      " 'trans_ru': 'дерево'}\n",
      "2231\n",
      "{'lex': 'уттынидю',\n",
      " 'paradigms': ['N-obl', 'N-nom-0', 'N-pl-t'],\n",
      " 'stem': ['уттынилю', 'оттынэлё', 'уттынидю', 'уттынилю'],\n",
      " 'trans_ru': 'мелкокалиберное ружьё типа монте-кристо'}\n",
      "2239\n",
      "{'lex': 'уучылгын',\n",
      " 'paradigms': ['N-obl', 'N-nom-lgyn', 'N-pl'],\n",
      " 'stem': ['уучы', 'оочы', 'уучы', 'уучы'],\n",
      " 'trans_ru': 'радужная оболочка '}\n",
      "2258\n",
      "{'lex': 'чакыгэт',\n",
      " 'paradigms': ['N-obl', 'N-nom-0', 'N-pl-yt'],\n",
      " 'stem': ['чакэтт', 'чакэтт', 'чакыгэт', 'чакэтт'],\n",
      " 'trans_ru': 'сестра'}\n",
      "2262\n",
      "{'lex': 'чалқалгын',\n",
      " 'paradigms': ['N-obl', 'N-nom-lgyn', 'N-pl-t'],\n",
      " 'stem': ['челқэ', 'чялқа', 'чалқа', 'челқэ'],\n",
      " 'trans_ru': 'краб малого размера'}\n",
      "2266\n",
      "{'lex': 'чарыколгын',\n",
      " 'paradigms': ['N-obl', 'N-nom-lgyn', 'N-pl-t'],\n",
      " 'stem': ['черыку', 'чярыко', 'чарыко', 'черыку'],\n",
      " 'trans_ru': 'вальдшнеп'}\n",
      "2275\n",
      "{'lex': 'чеквыргылгын',\n",
      " 'paradigms': ['N-obl', 'N-nom-lgyn', 'N-pl-yt'],\n",
      " 'stem': ['чеквырг', 'чяквырг', 'чеквыргы', 'чеквырг'],\n",
      " 'trans_ru': '(2) жабра'}\n",
      "2282\n",
      "{'lex': 'челкалгын',\n",
      " 'paradigms': ['N-obl', 'N-nom-lgyn', 'N-pl-t'],\n",
      " 'stem': ['чилкэ', 'чэлка', 'челка', 'чилкэ'],\n",
      " 'trans_ru': 'бронх '}\n",
      "2283\n",
      "{'lex': 'челкаомыткын',\n",
      " 'paradigms': ['N-obl', 'N-nom-n', 'N-pl-t'],\n",
      " 'stem': ['чилкэ', 'чэлка', 'челка', 'чилкэ'],\n",
      " 'trans_ru': 'доля лёгкого (в организме)'}\n",
      "2287\n",
      "{'lex': 'чемыквылгын',\n",
      " 'paradigms': ['N-obl', 'N-nom-lgyn', 'N-pl-yt'],\n",
      " 'stem': ['чемыкв', 'чямыкв', 'чемыквы', 'чемыкв'],\n",
      " 'trans_ru': '(2) мелкий камешек'}\n",
      "2288\n",
      "{'lex': 'чемынгылгын',\n",
      " 'paradigms': ['N-obl', 'N-nom-lgyn', 'N-pl-yt'],\n",
      " 'stem': ['чемынг', 'чямынг', 'чемынгы', 'чемынг'],\n",
      " 'trans_ru': '(2) перчатка'}\n",
      "2294\n",
      "{'lex': 'чеңыл',\n",
      " 'paradigms': ['N-obl', 'N-nom-0', 'N-pl-t'],\n",
      " 'stem': ['ченле', 'чянля', 'чеңыл', 'ченле'],\n",
      " 'trans_ru': 'ящик'}\n",
      "2304\n",
      "{'lex': 'четлёчел',\n",
      " 'paradigms': ['N-obl', 'N-nom-0', 'N-pl-t'],\n",
      " 'stem': ['четлё', 'четлё', 'четлёчел', 'четлё'],\n",
      " 'trans_ru': 'медь'}\n",
      "2328\n",
      "{'lex': 'чиңқэчиң',\n",
      " 'paradigms': ['N-obl', 'N-nom-0', 'N-pl-t'],\n",
      " 'stem': ['чиңқэ', 'чэңқа', 'чиңқэчиң', 'чиңқэ'],\n",
      " 'trans_ru': 'струя воды'}\n",
      "2344\n",
      "{'lex': 'чыгэймэқым',\n",
      " 'paradigms': ['N-obl', 'N-nom-0', 'N-pl-t'],\n",
      " 'stem': ['чыгэймъэми', 'чыгаймъамэ', 'чыгэймэқым', 'чыгэймъэми'],\n",
      " 'trans_ru': 'дробинка '}\n",
      "2349\n",
      "{'lex': 'чьгақатвал',\n",
      " 'paradigms': ['N-obl', 'N-nom-0', 'N-pl-t'],\n",
      " 'stem': ['чымқатваля', 'чымқатваля', 'чьгақатвал', 'чымқатваля'],\n",
      " 'trans_ru': '1) складной нож; 2) перочинный нож'}\n",
      "2352\n",
      "{'lex': 'чымңы',\n",
      " 'paradigms': ['N-obl', 'N-nom-0', 'N-pl-t'],\n",
      " 'stem': ['чымңа', 'чымңа', 'чымң', 'чымңа'],\n",
      " 'trans_ru': 'старый бык, олёнь-самёц'}\n",
      "2370\n",
      "{'lex': 'ылвъэйңэйъилгын',\n",
      " 'paradigms': ['N-obl', 'N-nom-lgyn', 'N-pl'],\n",
      " 'stem': ['ылвъэйңэйъи', 'ылвъайңайъэ', 'ылвъэйңэйъи', 'ылвъэйңэйъи'],\n",
      " 'trans_ru': 'название месяца (прибл. с начала сентября до начала октября)'}\n",
      "2396\n",
      "{'lex': 'ыннээн',\n",
      " 'paradigms': ['N-obl', 'N-nom-n', 'N-pl-yt'],\n",
      " 'stem': ['ынн', 'ынн', 'ыннээ', 'ынн'],\n",
      " 'trans_ru': 'рыба'}\n",
      "2398\n",
      "{'lex': 'ынпылювлейъилгын',\n",
      " 'paradigms': ['N-obl', 'N-nom-lgyn', 'N-pl'],\n",
      " 'stem': ['ынпылювлейъи', 'ынпылёвляйъэ', 'ынпылювлейъи', 'ынпылювлейъи'],\n",
      " 'trans_ru': 'название месяца (прибл. с начала декабря до начала января)'}\n",
      "2402\n",
      "{'lex': 'ынпычьычакыгэт',\n",
      " 'paradigms': ['N-obl', 'N-nom-0', 'N-pl-yt'],\n",
      " 'stem': ['ынпычьычакэтт', 'ынпычьычакэтт', 'ынпычьычакыгэт', 'ынпычьычакэтт'],\n",
      " 'trans_ru': 'старшая сестра'}\n",
      "2403\n",
      "{'lex': 'ынпычьэкык',\n",
      " 'paradigms': ['N-obl', 'N-nom-0', 'N-pl-t'],\n",
      " 'stem': ['ынпычьэккэ', 'ынпычьакка', 'ынпычьэкык', 'ынпычьэккэ'],\n",
      " 'trans_ru': 'старший сын'}\n",
      "2404\n",
      "{'lex': 'ынтуулпыр',\n",
      " 'paradigms': ['N-obl', 'N-nom-0', 'N-pl-t'],\n",
      " 'stem': ['ынтуулпырти, ынтуулпырэ',\n",
      "          'ынтоолпыртэ, ынтоолпыра',\n",
      "          'ынтуулпыр',\n",
      "          'ынтуулпырти, ынтуулпырэ'],\n",
      " 'trans_ru': 'зять'}\n",
      "2411\n",
      "{'lex': 'ыпытвак',\n",
      " 'paradigms': [],\n",
      " 'stem': ['ыпытва', 'ыпытва', 'ыпытва', 'ыпытва'],\n",
      " 'trans_ru': '1) принадлежать; 2) примыкать'}\n",
      "2420\n",
      "{'lex': 'ытлеңи',\n",
      " 'paradigms': ['N-obl', 'N-nom-0', 'N-pl-t'],\n",
      " 'stem': ['ытленъю', 'ытлянъё', 'ытлеңи', 'ытленъю'],\n",
      " 'trans_ru': 'младший брат'}\n",
      "2421\n",
      "{'lex': 'ытлывэ',\n",
      " 'paradigms': ['N-obl', 'N-nom-0', 'N-pl-t'],\n",
      " 'stem': ['ытлывъё', 'ытлывъё', 'ытлывэ', 'ытлывъё'],\n",
      " 'trans_ru': '1. племянник; 2. внук'}\n",
      "2427\n",
      "{'lex': 'ытля',\n",
      " 'paradigms': ['N-obl', 'N-nom-0', 'N-pl-t'],\n",
      " 'stem': ['ытльа', 'ытльа', 'ытля', 'ытльа'],\n",
      " 'trans_ru': 'мать'}\n",
      "2430\n",
      "{'lex': 'ычвакытлы',\n",
      " 'paradigms': ['N-obl', 'N-nom-0', 'N-pl-t'],\n",
      " 'stem': ['ычвакытльа', 'ычвакытльа', 'ычвакытлы', 'ычвакытльа'],\n",
      " 'trans_ru': 'годовалая отелившаяся важенка'}\n",
      "2451\n",
      "{'lex': \"ы'ттъыютльын\",\n",
      " 'paradigms': ['N-obl', 'N-nom-n', 'N-pl-t'],\n",
      " 'stem': [\"ы'ттъыютльэ\", \"ы'ттъыётльа\", \"ы'ттъыютль\", \"ы'ттъыютльэ\"],\n",
      " 'trans_ru': 'предки'}\n",
      "2454\n",
      "{'lex': \"ы'твъэт\",\n",
      " 'paradigms': ['N-obl', 'N-nom-0', 'N-pl-yt'],\n",
      " 'stem': [\"ы'тв\", \"ы'тв\", \"ы'твъэт\", \"ы'тв\"],\n",
      " 'trans_ru': '(2) байдара, лодка'}\n",
      "2464\n",
      "{'lex': \"ы'ттъыпаңы\",\n",
      " 'paradigms': ['N-obl', 'N-nom-0', 'N-pl-yt'],\n",
      " 'stem': [\"ы'ттъыпаң\", \"ы'ттъыпаң\", \"ы'ттъыпаңы\", \"ы'ттъыпаң\"],\n",
      " 'trans_ru': 'корм для собак (варево)'}\n",
      "2490\n",
      "{'lex': 'экык',\n",
      " 'paradigms': ['N-obl', 'N-nom-0', 'N-pl-t'],\n",
      " 'stem': ['эккэ', 'акка', 'экык', 'эккэ'],\n",
      " 'trans_ru': 'сын'}\n",
      "2494\n",
      "{'lex': 'эқычалгын',\n",
      " 'paradigms': ['N-obl', 'N-nom-lgyn', 'N-pl-t'],\n",
      " 'stem': ['иқыче', 'эқычя', 'эқыча', 'иқыче'],\n",
      " 'trans_ru': 'розовая чайка'}\n",
      "2497\n",
      "{'lex': 'элгар',\n",
      " 'paradigms': ['N-obl', 'N-nom-0', 'N-pl-te'],\n",
      " 'stem': ['элгат', 'элгат', 'элгар', 'элгат'],\n",
      " 'trans_ru': '1) песец; 2) олень белой масти'}\n",
      "2513\n",
      "{'lex': 'эмлёплякылгын',\n",
      " 'paradigms': ['N-obl', 'N-nom-lgyn', 'N-pl-yt'],\n",
      " 'stem': ['имлюплек', 'эмлёпляк', 'эмлёпляк', 'имлюплек'],\n",
      " 'trans_ru': 'непромокаемый сапог (торбаз) из ровдуги'}\n",
      "2519\n",
      "{'lex': 'эмңээм',\n",
      " 'paradigms': ['N-obl', 'N-nom-0', 'N-pl-t'],\n",
      " 'stem': ['эмңэ', 'амңа', 'эмңээм', 'эмңэ'],\n",
      " 'trans_ru': '(2) 1) турпан (утка); 2) гага (птица)'}\n",
      "2522\n",
      "{'lex': 'эмээм',\n",
      " 'paradigms': ['N-obl', 'N-nom-0', 'N-pl-t'],\n",
      " 'stem': ['эму', 'амо', 'эмээм', 'эму'],\n",
      " 'trans_ru': '(2) 1) сухостой; 2) корка (болячки)'}\n",
      "2546\n",
      "{'lex': 'энаныгъеватрылгытлыңын',\n",
      " 'paradigms': ['N-obl', 'N-nom-n', 'N-pl-yt'],\n",
      " 'stem': ['инэныгйивэтрылг',\n",
      "          'энаныгйэватрылг',\n",
      "          'энаныгъеватрылг',\n",
      "          'инэныгйивэтрылг'],\n",
      " 'trans_ru': 'указательный палец'}\n",
      "2561\n",
      "{'lex': 'энмээм',\n",
      " 'paradigms': ['N-obl', 'N-nom-0', 'N-pl-yt'],\n",
      " 'stem': ['энм', 'анм', 'энмээм', 'энм'],\n",
      " 'trans_ru': '(2) 1) скала, утёс; 2) обрыв'}\n",
      "2580\n",
      "{'lex': 'эпиқувыт',\n",
      " 'paradigms': ['N-obl', 'N-nom-0', 'N-pl-t'],\n",
      " 'stem': ['эпиқувтэ', 'апэқовта', 'эпиқувыт', 'эпиқувтэ'],\n",
      " 'trans_ru': 'подстилка на нарте'}\n",
      "2582\n",
      "{'lex': 'эпъэрат',\n",
      " 'paradigms': ['N-obl', 'N-nom-0', 'N-pl'],\n",
      " 'stem': ['эпъэра', 'эпъэра', 'эпъэра', 'эпъэра'],\n",
      " 'trans_ru': 'брызги'}\n",
      "2585\n",
      "{'lex': 'эпээпэй',\n",
      " 'paradigms': ['N-obl', 'N-nom-0', 'N-pl-ti'],\n",
      " 'stem': ['эпээпэг', 'апаапаг', 'эпээпэй./.эпээпэг', 'эпээпэг'],\n",
      " 'trans_ru': 'паук'}\n",
      "2594\n",
      "{'lex': 'эрым',\n",
      " 'paradigms': ['N-obl', 'N-nom-0', 'N-pl-t'],\n",
      " 'stem': ['эрмэ', 'арма', 'эрым', 'эрмэ'],\n",
      " 'trans_ru': 'начальник, староста'}\n",
      "2595\n",
      "{'lex': 'эрын',\n",
      " 'paradigms': ['N-obl', 'N-nom-n', 'N-pl-t'],\n",
      " 'stem': ['эръэ', 'аръа', 'эр', 'эръэ'],\n",
      " 'trans_ru': 'варёная еда'}\n",
      "2604\n",
      "{'lex': 'этъычьылгын',\n",
      " 'paradigms': ['N-obl', 'N-nom-0', 'N-pl-yt'],\n",
      " 'stem': ['итъычь', 'этъычь', 'этъычьылгын', 'итъычь'],\n",
      " 'trans_ru': 'мелкий голец (рыба)'}\n",
      "2615\n",
      "{'lex': 'ээкэлгын',\n",
      " 'paradigms': ['N-obl', 'N-nom-lgyn', 'N-pl-yt'],\n",
      " 'stem': ['иик', 'ээк', 'ээкэ', 'иик'],\n",
      " 'trans_ru': 'съедобный корень'}\n",
      "2628\n",
      "{'lex': \"э'йңэнэң\",\n",
      " 'paradigms': ['N-obl', 'N-nom-0', 'N-pl-t'],\n",
      " 'stem': ['эйңэнэңэ', 'айңанаңа', \"э'йңэнэң\", 'эйңэнэңэ'],\n",
      " 'trans_ru': 'музыкальный инструмент'}\n",
      "2629\n",
      "{'lex': \"э'йңэнэңилгын\",\n",
      " 'paradigms': ['N-obl', 'N-nom-lgyn', 'N-pl'],\n",
      " 'stem': [\"э'йңэнэңи\", \"а'йңанаңэ\", \"э'йңэнэңи\", \"э'йңэнэңи\"],\n",
      " 'trans_ru': 'струна'}\n",
      "2641\n",
      "{'lex': \"э'ливлилгын\",\n",
      " 'paradigms': ['N-obl', 'N-nom-lgyn', 'N-pl'],\n",
      " 'stem': [\"э'ливли\", \"а'лэвлэ\", \"э'ливли\", \"э'ливли\"],\n",
      " 'trans_ru': '1. цепь людей; 2. гуськом'}\n",
      "2648\n",
      "{'lex': \"э'нныргылгын\",\n",
      " 'paradigms': ['N-obl', 'N-nom-lgyn', 'N-pl-yt'],\n",
      " 'stem': [\"э'ннырг\", \"а'ннырг\", \"э'нныргы\", \"э'ннырг\"],\n",
      " 'trans_ru': '* грива'}\n",
      "2651\n",
      "{'lex': \"э'ңгыргылгын\",\n",
      " 'paradigms': ['N-obl', 'N-nom-lgyn', 'N-pl-yt'],\n",
      " 'stem': [\"э'ңгырг\", \"а'ңгырг\", \"э'ңгыргы\", \"э'ңгырг\"],\n",
      " 'trans_ru': 'передняя лопасть оленьих рогов '}\n",
      "2654\n",
      "{'lex': \"э'ңычьылгын\",\n",
      " 'paradigms': ['N-obl', 'N-nom-lgyn', 'N-pl'],\n",
      " 'stem': [\"э'ңычьы\", \"а'ңычьы\", \"э'ңычьы\", \"э'ңычьы\"],\n",
      " 'trans_ru': '(2) 1) наконечник; 2) пуля'}\n",
      "2659\n",
      "{'lex': \"э'ръэр\",\n",
      " 'paradigms': ['N-obl', 'N-nom-0', 'N-pl-t'],\n",
      " 'stem': [\"э'ръа\", \"э'ръа\", \"э'ръэр\", \"э'ръа\"],\n",
      " 'trans_ru': 'айсберг'}\n",
      "2671\n",
      "{'lex': 'юуткуннээн',\n",
      " 'paradigms': ['N-obl', 'N-nom-n', 'N-pl-yt'],\n",
      " 'stem': ['юуткунн', 'ёотконн', 'юуткуннээ', 'юуткунн'],\n",
      " 'trans_ru': 'щука'}\n",
      "2695\n",
      "{'lex': 'якготъёлгын',\n",
      " 'paradigms': ['N-obl', 'N-nom-lgyn', 'N-pl-t'],\n",
      " 'stem': ['екгутэ', 'якгота', 'якготъё', 'екгутэ'],\n",
      " 'trans_ru': 'уключина'}\n",
      "2708\n",
      "{'lex': 'яңааң',\n",
      " 'paradigms': ['N-obl', 'N-nom-0', 'N-pl-t'],\n",
      " 'stem': ['яңа', 'яңа', 'яңааң', 'яңа'],\n",
      " 'trans_ru': 'кладовая'}\n",
      "2712\n",
      "{'lex': 'ярагчек',\n",
      " 'paradigms': ['N-obl', 'N-nom-0', 'N-pl'],\n",
      " 'stem': ['ярагче', 'ярагче', 'ярагче', 'ярагче'],\n",
      " 'trans_ru': '* идти в ярангу соседа'}\n"
     ]
    }
   ],
   "source": [
    "for i in undone:\n",
    "    if len(chunks[i]['stem'])==4:\n",
    "        if chunks[i]['stem'][0]==chunks[i]['stem'][3]:\n",
    "            if '//' not in ''.join(chunks[i]['stem']):\n",
    "                print(i)\n",
    "                pprint(chunks[i])"
   ]
  },
  {
   "cell_type": "code",
   "execution_count": null,
   "metadata": {
    "collapsed": true
   },
   "outputs": [],
   "source": []
  },
  {
   "cell_type": "code",
   "execution_count": 68,
   "metadata": {
    "collapsed": false
   },
   "outputs": [
    {
     "name": "stdout",
     "output_type": "stream",
     "text": [
      "1001\n",
      "{'lex': 'қол',\n",
      " 'paradigms': ['N-obl', 'N-nom-0', 'N-pl-ti'],\n",
      " 'stem': ['қут', 'қот', 'қол', 'қут'],\n",
      " 'trans_ru': '1) другой; 2) один из...; қол итык однажды (употр. с неперех. '\n",
      "             'глаг.); қол рытык однажды (употр. с перех. глаг.)'}\n"
     ]
    }
   ],
   "source": [
    "for i in undone:\n",
    "    if len(chunks[i]['stem'])==4:\n",
    "        if chunks[i]['stem'][0].endswith('т') and chunks[i]['stem'][2].endswith('л'):\n",
    "            print(i)\n",
    "            pprint(chunks[i])"
   ]
  },
  {
   "cell_type": "code",
   "execution_count": 69,
   "metadata": {
    "collapsed": false
   },
   "outputs": [
    {
     "name": "stdout",
     "output_type": "stream",
     "text": [
      "['aa_or_class',\n",
      " 'first_a_class',\n",
      " 'first_a_g_j_class',\n",
      " 'first_a_y_class',\n",
      " 'first_a_y_n_to_ng_class',\n",
      " 'first_b_class',\n",
      " 'first_c_class',\n",
      " 'first_c_ng_to_n_class',\n",
      " 'first_n_ending_class',\n",
      " 'five_v_class',\n",
      " 'five_v_reduced_class',\n",
      " 'fourth_class',\n",
      " 'fourth_or_class',\n",
      " 'second_a_full_redup_class',\n",
      " 'second_b_redup_wo_last_letter_class',\n",
      " 'singulative_lgyn_class',\n",
      " 'singulative_lyng_class',\n",
      " 'singulative_lyng_g_j_class',\n",
      " 'strange_star_first_a_class',\n",
      " 'strange_star_singulative_class',\n",
      " 'strange_star_third_class',\n",
      " 'strange_yn_except_absolutive_class',\n",
      " 'third_class',\n",
      " 'third_or_five_v_class']\n"
     ]
    }
   ],
   "source": [
    "pprint(sorted(classes))"
   ]
  },
  {
   "cell_type": "code",
   "execution_count": 70,
   "metadata": {
    "collapsed": false
   },
   "outputs": [
    {
     "name": "stdout",
     "output_type": "stream",
     "text": [
      "{'lex': 'вырыткын',\n",
      " 'paradigms': ['N-obl', 'N-nom-n', 'N-pl-te'],\n",
      " 'stem': ['вырыткын', 'вырыткын', 'вырытк', 'вырыткын'],\n",
      " 'trans_ru': '(2) 1) верхушка; 2) верхние концы оленьих рогов'}\n"
     ]
    }
   ],
   "source": [
    "pprint(chunks[classes['strange_yn_except_absolutive_class'][2]])"
   ]
  },
  {
   "cell_type": "code",
   "execution_count": 71,
   "metadata": {
    "collapsed": false
   },
   "outputs": [
    {
     "data": {
      "text/plain": [
       "22"
      ]
     },
     "execution_count": 71,
     "metadata": {},
     "output_type": "execute_result"
    }
   ],
   "source": [
    "strange_third_class = []\n",
    "for i in undone:\n",
    "    if len(chunks[i]['stem'])==4:\n",
    "#         if 'N-nom-0' in chunks[i]['paradigms']:\n",
    "        if '//' not in ''.join(chunks[i]['stem']):\n",
    "            if chunks[i]['lex'].endswith('н'):\n",
    "                if chunks[i]['stem'][2]==chunks[i]['stem'][0] or chunks[i]['stem'][2]==chunks[i]['stem'][1]:\n",
    "                    if not chunks[i]['stem'][2].endswith('н'):\n",
    "                        if len(chunks[i]['lex'])-len(chunks[i]['stem'][0]) in [1, 2]:\n",
    "                            strange_third_class.append(i)\n",
    "\n",
    "classes['strange_third_class'] = strange_third_class\n",
    "len(strange_third_class)"
   ]
  },
  {
   "cell_type": "code",
   "execution_count": 72,
   "metadata": {
    "collapsed": false
   },
   "outputs": [
    {
     "data": {
      "text/plain": [
       "31"
      ]
     },
     "execution_count": 72,
     "metadata": {},
     "output_type": "execute_result"
    }
   ],
   "source": [
    "third_false_lgyn_class = []\n",
    "for i in undone:\n",
    "    if len(chunks[i]['stem'])==4:\n",
    "        if chunks[i]['stem'][0]==chunks[i]['stem'][3]:\n",
    "            if '//' not in ''.join(chunks[i]['stem']):\n",
    "                if 'N-nom-lgyn' in chunks[i]['paradigms']:\n",
    "                    if set(chunks[i]['stem'][2])&recessive:\n",
    "                        third_false_lgyn_class.append(i)\n",
    "\n",
    "classes['third_false_lgyn_class'] = third_false_lgyn_class\n",
    "len(third_false_lgyn_class)"
   ]
  },
  {
   "cell_type": "code",
   "execution_count": 73,
   "metadata": {
    "collapsed": false
   },
   "outputs": [
    {
     "name": "stdout",
     "output_type": "stream",
     "text": [
      "{'lex': 'вутилгын',\n",
      " 'paradigms': ['N-obl', 'N-nom-lgyn', 'N-pl'],\n",
      " 'stem': ['вути', 'вотэ', 'вути', 'вути'],\n",
      " 'trans_ru': 'верёвка для привязи собак'}\n"
     ]
    }
   ],
   "source": [
    "pprint(chunks[third_false_lgyn_class[0]])"
   ]
  },
  {
   "cell_type": "code",
   "execution_count": 74,
   "metadata": {
    "collapsed": false
   },
   "outputs": [
    {
     "name": "stdout",
     "output_type": "stream",
     "text": [
      "427\n"
     ]
    }
   ],
   "source": [
    "undone = sorted(set(undone)-set(third_false_lgyn_class)-set(strange_third_class))\n",
    "print(len(undone))"
   ]
  },
  {
   "cell_type": "markdown",
   "metadata": {},
   "source": [
    "# write"
   ]
  },
  {
   "cell_type": "code",
   "execution_count": 75,
   "metadata": {
    "collapsed": true
   },
   "outputs": [],
   "source": [
    "with open('dictionary.json', 'w') as f:\n",
    "    json.dump(chunks, f)"
   ]
  },
  {
   "cell_type": "code",
   "execution_count": 76,
   "metadata": {
    "collapsed": false
   },
   "outputs": [],
   "source": [
    "with open('classes_indices.json', 'w') as f:\n",
    "    json.dump(classes, f)"
   ]
  },
  {
   "cell_type": "code",
   "execution_count": 77,
   "metadata": {
    "collapsed": true
   },
   "outputs": [],
   "source": [
    "with open('undone.json', 'w') as f:\n",
    "    json.dump(undone, f)"
   ]
  },
  {
   "cell_type": "markdown",
   "metadata": {},
   "source": [
    "## general stranges"
   ]
  },
  {
   "cell_type": "code",
   "execution_count": 78,
   "metadata": {
    "collapsed": false
   },
   "outputs": [
    {
     "name": "stdout",
     "output_type": "stream",
     "text": [
      "{'paradigms': ['N-obl', 'N-nom-lgyn', 'N-pl-yt'], 'lex': 'амыпчакылгын', 'stem': ['эмыпчек', 'амыпчяк', 'амыпчакы', 'эмыпчек'], 'trans_ru': 'короткий сапог (торбаз) из нерпичьей шкуры '}\n",
      "{'paradigms': ['N-obl', 'N-nom-n', 'N-pl-ti'], 'lex': 'аңатлыңын', 'stem': ['эңэр', 'аңар', 'аңат', 'эңэр'], 'trans_ru': 'звезда'}\n",
      "{'paradigms': ['N-obl', 'N-nom-lgyn', 'N-pl-t'], 'lex': \"а'лёчелгын\", 'stem': [\"э'лючи\", \"а'лёчэ\", \"а'лёче\", \"э'лючи\"], 'trans_ru': 'кукла'}\n",
      "{'paradigms': ['N-obl', 'N-nom-n', 'N-pl-ti'], 'lex': \"а'рытлыңын\", 'stem': [\"э'т\", \"а'т\", \"а'р\", \"э'т\"], 'trans_ru': 'большой палец'}\n",
      "{'paradigms': ['N-obl', 'N-nom-n', 'N-pl-yt'], 'lex': 'валвыйңын', 'stem': ['вэлв', 'валв', 'валвыйң', 'вэлв'], 'trans_ru': 'ворон'}\n",
      "{'paradigms': ['N-obl', 'N-nom-n', 'N-pl-ti'], 'lex': 'валқытлыңын', 'stem': ['вэлқыл', 'валқыл', 'валқыт', 'вэлқыл'], 'trans_ru': '* нижняя челюсть'}\n",
      "{'paradigms': ['N-obl', 'N-nom-0', 'N-pl-t'], 'lex': 'вивыр', 'stem': ['виври', 'вэврэ', 'вивыр', 'виври'], 'trans_ru': '1) доска для выделки шкур; 2) доска для сидения в лодке, на нарте (собачьей упряжки)'}\n",
      "{'paradigms': ['N-obl', 'N-nom-0', 'N-pl-ti'], 'lex': 'вилвил', 'stem': ['вилыт//вил', 'вэлыт//вэл', 'вилвил', 'вилыт//вил'], 'trans_ru': '1) имущество; 2) товар; 3) цена; 4) плата'}\n",
      "{'paradigms': ['N-obl', 'N-nom-0', 'N-pl-t'], 'lex': 'виңыр', 'stem': ['винри', 'вэнрэ', 'виңыр', 'винри'], 'trans_ru': 'мотыга для выкапывания корней'}\n",
      "{'paradigms': ['N-obl', 'N-nom-0', 'N-pl-yt'], 'lex': 'витъывит', 'stem': ['витъ', 'вэтъ', 'витъывит.//.вить', 'витъ'], 'trans_ru': '1) белый болотный мох; 2) фитиль '}\n",
      "{'paradigms': ['N-obl', 'N-nom-0', 'N-pl-yt'], 'lex': 'вулвуттуут', 'stem': ['вулвутт', 'волвотт', 'вулвуттуут', 'вулвутт'], 'trans_ru': 'поперечная перекладина'}\n",
      "{'paradigms': ['N-obl', 'N-nom-0', 'N-pl-yt'], 'lex': 'въэйылвинэң', 'stem': ['вэйылвинэң', 'вайылвэнаң', 'въэйылвинэң', 'вэйылвинэң'], 'trans_ru': '1) коса'}\n",
      "{'paradigms': ['N-obl', 'N-nom-n', 'N-pl-yt'], 'lex': 'въэнывэн', 'stem': ['въэн', 'въан', 'въэнывэн', 'въэн'], 'trans_ru': '* навага'}\n",
      "{'paradigms': ['N-obl', 'N-nom-0', 'N-pl-t'], 'lex': 'выльинтывинэң', 'stem': ['выльинтывинэңэ', 'выльэнтывэнаңа', 'выльинтывинэң.//.выльинтывэчг', 'выльинтывинэңэ'], 'trans_ru': 'носовой платок'}\n",
      "{'paradigms': ['N-obl', 'N-nom-n', 'N-pl-yt'], 'lex': 'вэқын', 'stem': ['въэн', 'въан', 'вэқ', 'въэн'], 'trans_ru': 'навага'}\n",
      "{'paradigms': ['N-obl', 'N-nom-0', 'N-pl'], 'lex': 'вэлвыегыт', 'stem': ['вэлвыегыт', 'валвыягыт', 'вэлвыегыт', 'вэлгыег, валвыягылгын'], 'trans_ru': 'канадские лыжи'}\n",
      "{'paradigms': ['N-obl', 'N-nom-n', 'N-pl-t'], 'lex': 'вэнивэн', 'stem': ['вэни', 'ванэ', 'вэнивэ', 'вэни'], 'trans_ru': 'бубенчик'}\n",
      "{'paradigms': ['N-obl', 'N-nom-0', 'N-pl-yt'], 'lex': 'вэтлы', 'stem': ['вэлв', 'валв', 'вэтлы', 'вэлв'], 'trans_ru': 'ворон'}\n",
      "{'paradigms': ['N-obl', 'N-nom-0', 'N-pl-yt'], 'lex': 'гиңынгиң', 'stem': ['гиң', 'гэң', 'гиңынгиң', 'гиң'], 'trans_ru': 'рыболовная сеть'}\n",
      "{'paradigms': ['N-obl', 'N-nom-0', 'N-pl-yt'], 'lex': 'гытэв', 'stem': ['гытэв', 'гытав', 'гытэв.//.гытэвичг', 'гытэв'], 'trans_ru': '1) трава для вытирания 2) тряпка для вытирания'}\n",
      "{'paradigms': ['N-obl', 'N-nom-0', 'N-pl-ti'], 'lex': 'гэкэнрэт', 'stem': ['гэкэнрэт', 'гаканрат', 'гэкэнрэт.//.гэкэң', 'гэкэнрэт'], 'trans_ru': 'пара упряжных оленей'}\n",
      "{'paradigms': ['N-obl', 'N-nom-0', 'N-pl-yt'], 'lex': 'гээв', 'stem': ['гээв', 'гаав', 'гээв.//.тгээв', 'гээв'], 'trans_ru': 'лиственница'}\n",
      "{'paradigms': ['N-obl', 'N-nom-lgyn', 'N-pl-t'], 'lex': 'егъелгын', 'stem': ['йигйи', 'йэгйэ', 'егъе', 'йигйи'], 'trans_ru': 'тонкая кишка'}\n",
      "{'paradigms': ['N-obl', 'N-nom-0', 'N-pl-t'], 'lex': 'еңқиеқ', 'stem': ['еңқи', 'яңқэ', 'еңқиеқ', 'еңқи'], 'trans_ru': 'петля (для застегивания)'}\n",
      "{'paradigms': ['N-obl', 'N-nom-0', 'N-pl-yt'], 'lex': 'ергыер', 'stem': ['ерг', 'ярг', 'ергыер.//.ерг', 'ерг'], 'trans_ru': 'ровное место'}\n",
      "{'paradigms': ['N-obl', 'N-nom-n', 'N-pl-ti'], 'lex': 'ивтылин', 'stem': ['ивтыл', 'эвтыл', 'ивтыли', 'ивтыл'], 'trans_ru': '1) низ; 2) подножье '}\n",
      "{'paradigms': ['N-obl', 'N-nom-n', 'N-pl-t'], 'lex': 'иин', 'stem': ['ии', 'ээ', 'иин//иитылқыл', 'ии'], 'trans_ru': 'оленья шкура для пошива одежды'}\n",
      "{'paradigms': ['N-obl', 'N-nom-0', 'N-pl-yt'], 'lex': 'илиил', 'stem': ['ил', 'эл', 'илиил.//.илил', 'ил'], 'trans_ru': 'дождь'}\n",
      "{'paradigms': ['N-obl', 'N-nom-0', 'N-pl-t'], 'lex': 'имыт', 'stem': ['имти', 'эмтэ', 'имыт', 'имти'], 'trans_ru': 'ноша'}\n",
      "{'paradigms': ['N-obl', 'N-nom-n', 'N-pl-t'], 'lex': 'инуун', 'stem': ['ину', 'эно', 'инуу', 'ину'], 'trans_ru': 'часть оленьего окорока'}\n",
      "{'paradigms': ['N-obl', 'N-nom-0', 'N-pl-ti'], 'lex': 'инэнвучвэт', 'stem': ['инэнвучвэт', 'энанвочват', 'инэнвучвэт.//.инэнгучвэт', 'инэнвучвэт'], 'trans_ru': 'крючок, дверной запор'}\n",
      "{'paradigms': ['N-obl', 'N-nom-n', 'N-pl-t'], 'lex': 'ирвыпиңэпин', 'stem': ['ирвыпиңэ', 'эрвыпэңа', 'ирвыпиңэпи', 'ирвыпиңэ'], 'trans_ru': '1) колючий снег; 2) град'}\n",
      "{'paradigms': ['N-obl', 'N-nom-0', 'N-pl-t'], 'lex': \"и'мпыргук\", 'stem': [\"и'мпыргу\", \"э'мпырго\", \"и'мпыргук\", \"и'мпыргу\"], 'trans_ru': 'свинья'}\n",
      "{'paradigms': ['N-obl', 'N-nom-0', 'N-pl-t'], 'lex': \"и'тъуи'т\", 'stem': [\"и'тъут, и'ту\", \"э'тъот, э'то\", \"и'тъуи'т.//.и'туи'т\", \"и'тъут, и'ту\"], 'trans_ru': 'гусь'}\n",
      "{'paradigms': ['N-obl', 'N-nom-0', 'N-pl-t'], 'lex': 'йилыйил', 'stem': ['йилыт, йили', 'йэлыт, йэлэ', 'йилыйил.//.йилиил', 'йилыт, йили'], 'trans_ru': '1) язык (орган); 2) лопасть (весла)'}\n",
      "{'paradigms': ['N-obl', 'N-nom-0', 'N-pl-t'], 'lex': 'йильэйил', 'stem': ['йильэ', 'йэльа', 'йильэйил', 'йильэ'], 'trans_ru': 'евражка '}\n",
      "{'paradigms': ['N-obl', 'N-nom-0', 'N-pl-yt'], 'lex': 'йиңынйиң', 'stem': ['йиң', 'йэң', 'йиңынйиң', 'йиң'], 'trans_ru': 'рыболовная сеть'}\n",
      "{'paradigms': ['N-obl', 'N-nom-0', 'N-pl-ti'], 'lex': 'йитйит', 'stem': ['йитти, йитйит', 'йэттэ, йэтйэт', 'йитйит', 'йитти, йитйит'], 'trans_ru': 'капля'}\n",
      "{'paradigms': ['N-obl', 'N-nom-n', 'N-pl-ti'], 'lex': 'кагрэтлыңын', 'stem': ['кэгрил', 'кагрэл', 'кагрэт', 'кэгрил'], 'trans_ru': 'ладонь'}\n",
      "{'paradigms': ['N-obl', 'N-nom-lgyn', 'N-pl-t'], 'lex': 'калелгын', 'stem': ['кэли', 'калэ', 'кале', 'кэли'], 'trans_ru': 'узор вышивки'}\n",
      "{'paradigms': ['N-obl', 'N-nom-n', 'N-pl-t'], 'lex': 'каңэгыргын', 'stem': ['кэңи', 'каңэ', 'каңэгырг', 'кэңи'], 'trans_ru': 'извилина, изгиб'}\n",
      "{'paradigms': ['N-obl', 'N-nom-0', 'N-pl-t'], 'lex': 'кукыл', 'stem': ['кувле', 'ковля', 'кукыл', 'кувле'], 'trans_ru': 'кривой, одноглазый'}\n",
      "{'paradigms': ['N-obl', 'N-nom-0', 'N-pl-t'], 'lex': 'къоколгын', 'stem': ['къуку', 'къоко', 'къоколгын', 'къуку'], 'trans_ru': '1) бородавка; 2) нарост на дереве'}\n",
      "{'paradigms': ['N-obl', 'N-nom-lgyn', 'N-pl-t'], 'lex': 'кымлелгын', 'stem': ['кымли', 'кымлэ', 'кымле', 'кымли'], 'trans_ru': '1) вата; 2) слипшаяся шерсть (у собак)'}\n",
      "{'paradigms': ['N-obl', 'N-nom-0', 'N-pl-t'], 'lex': 'кымликым', 'stem': ['кымли', 'кымлэ', 'кымликым', 'кымли'], 'trans_ru': '1) одуванчик; 2) вата'}\n",
      "{'paradigms': ['N-obl', 'N-nom-0', 'N-pl-yt'], 'lex': 'кымчек', 'stem': ['кымчек', 'кымчяк', 'кымчек.//.кымчек', 'кымчек'], 'trans_ru': '(2) 1) съедобный корень; 2) картофель'}\n",
      "{'paradigms': ['N-obl', 'N-nom-0', 'N-pl-ti'], 'lex': 'кырвир', 'stem': ['кырвирти, кырвит', 'кырвэртэ, кырвэт', 'кырвир.//.кырвэтлың', 'кырвирти, кырвит'], 'trans_ru': 'волос'}\n",
      "{'paradigms': ['N-obl', 'N-nom-0', 'N-pl'], 'lex': 'кыргэп', 'stem': ['кыргэп', '', 'кыргэпыт//кыргыпчекыт'], 'trans_ru': '(2) летний сапог (торбаз) из короткошёрстных шкур'}\n",
      "{'paradigms': ['N-obl', 'N-nom-0', 'N-pl-t'], 'lex': 'кырымқулиқул', 'stem': ['кырымқули', 'кырымқолэ', 'кырымқулиқул', 'кырымқули'], 'trans_ru': '1) хриплый голос; 2) бас'}\n",
      "{'paradigms': ['N-obl', 'N-nom-n', 'N-pl-yt'], 'lex': 'кытвэн', 'stem': ['кытвэнтэ, кытвэнв', 'кытванта, кытванв', 'кытвэн', 'кытвэнтэ, кытвэнв'], 'trans_ru': '(2) тропа'}\n",
      "{'paradigms': ['N-obl', 'N-nom-lgyn', 'N-pl-t'], 'lex': 'кычалгын', 'stem': ['кыче', 'кычя', 'кыча', 'кыче'], 'trans_ru': '* шкура с оленьего лба'}\n",
      "{'paradigms': ['N-obl', 'N-nom-lgyn', 'N-pl-t'], 'lex': 'кычемалгын', 'stem': ['кычимэ', 'кычэма', 'кычема', 'кычимэ'], 'trans_ru': 'почка (орган)'}\n",
      "{'paradigms': ['N-obl', 'N-nom-n', 'N-pl-ti'], 'lex': 'кэлинңивын', 'stem': ['кэлинңивэт', 'калэнңэват', 'кэлинңив.//.кэлинңивэт', 'кэлинңивэт'], 'trans_ru': '1) письмо; 2) записка'}\n",
      "{'paradigms': ['N-obl', 'N-nom-0', 'N-pl-t'], 'lex': 'кэлы', 'stem': ['кэльэ', 'кальа', 'кэлы', 'кэльэ'], 'trans_ru': 'злой дух'}\n",
      "{'paradigms': ['N-obl', 'N-nom-0', 'N-pl-t'], 'lex': 'кэмгэкэм', 'stem': ['кэмгэ', 'камга', 'кэмгэкэм', 'кэмгэ'], 'trans_ru': 'олень с белой шерстью на задних ногах'}\n",
      "{'paradigms': ['N-obl', 'N-nom-0', 'N-pl-t'], 'lex': 'кэмкикэм', 'stem': ['кэмки', 'камкэ', 'кэмкикэм', 'кэмки'], 'trans_ru': 'нельма'}\n",
      "{'paradigms': ['N-obl', 'N-nom-n', 'N-pl-t'], 'lex': 'кэногыргын', 'stem': ['кину', 'кэно', 'кэногырг.//.кэно', 'кину'], 'trans_ru': 'шрам'}\n",
      "{'paradigms': ['N-obl', 'N-nom-0', 'N-pl-t'], 'lex': 'кэнтиқэй', 'stem': ['кэнти', 'кантэ', 'кэнтиқэй', 'кэнти'], 'trans_ru': 'конфета'}\n",
      "{'paradigms': ['N-obl', 'N-nom-n', 'N-pl-t'], 'lex': 'кэрватлыңын', 'stem': ['кирвэ', 'кэрва', 'кэрват', 'кирвэ'], 'trans_ru': 'локоть'}\n",
      "{'paradigms': ['N-obl', 'N-nom-lgyn', 'N-pl-t'], 'lex': 'қаңқолгын', 'stem': ['қэңқыт//қэңқу', 'қаңқыт//қаңқо', 'қаңқо', 'қэңқыт//қэңқу'], 'trans_ru': 'краб'}\n",
      "{'paradigms': ['N-obl', 'N-nom-0', 'N-pl-ti'], 'lex': 'қол', 'stem': ['қут', 'қот', 'қол', 'қут'], 'trans_ru': '1) другой; 2) один из...; қол итык однажды (употр. с неперех. глаг.); қол рытык однажды (употр. с перех. глаг.)'}\n",
      "{'paradigms': ['N-obl', 'N-nom-0', 'N-pl-yt'], 'lex': 'қувлик', 'stem': ['қувлик', 'қовлэк', 'қувлик.//.қувликыль', 'қувлик'], 'trans_ru': '1) одиночка (о человеке); 2) вдовец, вдова'}\n",
      "{'paradigms': ['N-obl', 'N-nom-0', 'N-pl-t'], 'lex': 'қуйвиқуй', 'stem': ['қуйви', 'қойвэ', 'қуйвиқуй', 'қуйви'], 'trans_ru': '1) наледь; 2) ледник; 3) ледяное пространство'}\n",
      "{'paradigms': ['N-obl', 'N-nom-0', 'N-pl-t'], 'lex': 'қуйым', 'stem': ['қуймэ', 'қойма', 'қуйым', 'қуймэ'], 'trans_ru': '1) задняя часть штанов; 2) залив, морская губа'}\n",
      "{'paradigms': ['N-obl', 'N-nom-0', 'N-pl-yt'], 'lex': 'қулгықул', 'stem': ['қулг', 'қолг', 'қулгықул.//.қулгы', 'қулг'], 'trans_ru': 'рыбья кожа'}\n",
      "{'paradigms': ['N-obl', 'N-nom-0', 'N-pl-t'], 'lex': 'қулинутэнут', 'stem': ['қулинутэ', 'қолэнота', 'қулинутэнут', 'қулинутэ'], 'trans_ru': '* другая страна'}\n",
      "{'paradigms': ['N-obl', 'N-nom-0', 'N-pl-t'], 'lex': 'қыеқий', 'stem': ['қые', 'қыя', 'қыеқий', 'қые'], 'trans_ru': '1) железное или роговое кольцо для аркана, узды; 2) блок'}\n",
      "{'paradigms': ['N-obl', 'N-nom-n', 'N-pl-ti'], 'lex': 'қынңатгыргын', 'stem': ['қынңэт', 'қынңат', 'қынңатгырг.//.қынңэт', 'қынңэт'], 'trans_ru': '1) стон; 2) кряхтение'}\n",
      "{'paradigms': ['N-obl', 'N-nom-0', 'N-pl-ti'], 'lex': 'қэймилгэр', 'stem': ['қэймилгэт', 'қаймэлгат', 'қэймилгэр', 'қэймилгэт'], 'trans_ru': 'пистолет'}\n",
      "{'paradigms': ['N-obl', 'N-nom-0', 'N-pl-yt'], 'lex': 'қэйъытвъэт', 'stem': ['қэйъытв', 'қайъытв', 'қэйъытвъэт', 'қэйъытв'], 'trans_ru': '1) байдарка; 2) вельбот'}\n",
      "{'paradigms': ['N-obl', 'N-nom-0', 'N-pl-yt'], 'lex': 'қэқук', 'stem': ['қэқукыт//қэккук', 'қақокыт//қаккок', 'қэқук//қэккуқ// қэқучьын', 'қэқукыт//қэккук'], 'trans_ru': 'кукушка'}\n",
      "{'paradigms': ['N-obl', 'N-nom-0', 'N-pl-t'], 'lex': 'қэлгиқэл', 'stem': ['қэлги', 'қалгэ', 'қэлгиқэл', 'қэлги'], 'trans_ru': '1) сцепление; 2) комната '}\n",
      "{'paradigms': ['N-obl', 'N-nom-0', 'N-pl-yt'], 'lex': 'қэпъуруттуут', 'stem': ['қэпъурутт', 'қапъоротт', 'қэпъуруттуут', 'қэпъурутт'], 'trans_ru': 'пень'}\n",
      "{'paradigms': ['N-obl', 'N-nom-lgyn', 'N-pl-t'], 'lex': 'лелелгын', 'stem': ['лили', 'лэлэ', 'леле', 'лили'], 'trans_ru': '(2) рукавица'}\n",
      "{'paradigms': ['N-obl', 'N-nom-0', 'N-pl-yt'], 'lex': 'лельутвъэт', 'stem': ['лельутв', 'ляльотв', 'лельутвъэт.//.лельутв', 'лельутв'], 'trans_ru': 'корабль'}\n",
      "{'paradigms': ['N-obl', 'N-nom-lgyn', 'N-pl-yt'], 'lex': 'ленлылгын', 'stem': ['линл', 'лэнл', 'ленлы', 'линл'], 'trans_ru': 'голубика'}\n",
      "{'paradigms': ['N-obl', 'N-nom-n', 'N-pl-yt'], 'lex': 'лыгиннээн', 'stem': ['лыгинн', 'лыгэнн', 'лыгиннээ', 'лыгинн'], 'trans_ru': 'голец (рыба)'}\n",
      "{'paradigms': ['N-obl', 'N-nom-0', 'N-pl-yt'], 'lex': 'лыгуттуут', 'stem': ['лыгутт', 'лыготт', 'лыгуттуут', 'лыгутт'], 'trans_ru': 'полярная ива'}\n",
      "{'paradigms': ['N-obl', 'N-nom-lgyn', 'N-pl-t'], 'lex': 'манеглелелгын', 'stem': ['мэнигли', 'манэглэ', 'манегле', 'мэнигли'], 'trans_ru': 'матерчатая рукавица, перчатка'}\n",
      "{'paradigms': ['N-obl', 'N-nom-0', 'N-pl-ti'], 'lex': 'милгэр', 'stem': ['милгэрти, милгэт', 'мэлгартэ, мэлгат', 'милгэр', 'милгэрти, милгэт'], 'trans_ru': 'ружьё'}\n",
      "{'paradigms': ['N-obl', 'N-nom-0', 'N-pl-t'], 'lex': 'милгэрмэқым', 'stem': ['милгэрмъэми', 'мэлгармъамэ', 'милгэрмэқым', 'милгэрмъэми'], 'trans_ru': '1) пуля; 2) патрон'}\n",
      "{'paradigms': ['N-obl', 'N-nom-0', 'N-pl-yt'], 'lex': 'мимыл', 'stem': ['мимл', 'мэмл', 'мимыл./.имыл', 'мимл'], 'trans_ru': 'вода'}\n",
      "{'paradigms': ['N-obl', 'N-nom-lgyn', 'N-pl-t'], 'lex': 'момкэлгын', 'stem': ['мумкэ', 'момка', 'момкэ', 'мумкэ'], 'trans_ru': 'обезьяна'}\n",
      "{'paradigms': ['N-obl', 'N-nom-0', 'N-pl-yt'], 'lex': 'мумқымул', 'stem': ['мумқ', 'момқ', 'мумқымул', 'мумқ'], 'trans_ru': 'последний весенний снег по ложбинам'}\n",
      "{'paradigms': ['N-obl', 'N-nom-0', 'N-pl-yt'], 'lex': 'мутлымул', 'stem': ['мутл', 'мотл', 'мутлымул', 'мутл'], 'trans_ru': 'кровь'}\n",
      "{'paradigms': ['N-obl', 'N-nom-0', 'N-pl-ti'], 'lex': 'мырмыр', 'stem': ['мырмырти, мырымыр', 'мырмыртэ, мырымыр', 'мырмыр.//.мырымыр', 'мырмырти, мырымыр'], 'trans_ru': '1) что-л. неприятное; 2)* мусор'}\n",
      "{'paradigms': ['N-obl', 'N-nom-0', 'N-pl-t'], 'lex': 'мэқым', 'stem': ['мъэми', 'мъамэ', 'мэқым', 'мъэми'], 'trans_ru': '1) стрела; 2) пуля'}\n",
      "{'paradigms': ['N-obl', 'N-nom-n', 'N-pl-t'], 'lex': 'мэнэмэн', 'stem': ['мэнэ', 'мана', 'мэнэмэ', 'мэнэ'], 'trans_ru': 'нажива для рыболовного крючка'}\n",
      "{'paradigms': ['N-obl', 'N-nom-n', 'N-pl-ti'], 'lex': 'мэңин', 'stem': ['микын', 'мэкын', 'мэңин', 'микын'], 'trans_ru': 'кто; ~ вай кто-то (в пределах видимости); ~ рай кто-то (невидимый для говорящего)'}\n",
      "{'paradigms': ['N-obl', 'N-nom-0', 'N-pl-t'], 'lex': 'нутэкэликэл', 'stem': ['нутэкэли', 'нотакалэ', 'нутэкэликэл', 'нутэкэли'], 'trans_ru': 'карта (геогр.)'}\n",
      "{'paradigms': ['N-obl', 'N-nom-0', 'N-pl-ti'], 'lex': 'ныкирит', 'stem': ['ныкит', 'ныкэт', 'ныкирит', 'ныкит'], 'trans_ru': 'ночь'}\n",
      "{'paradigms': ['N-obl', 'N-nom-n', 'N-pl-yt'], 'lex': 'ньмтэгын', 'stem': ['нымтэгн', 'нымтагн', 'ньмтэг', 'нымтэгн'], 'trans_ru': 'околица'}\n",
      "{'paradigms': ['N-obl', 'N-nom-0', 'N-pl-yt'], 'lex': 'ңэвъины', 'stem': ['ңэвъиг', 'ңавъэг', 'ңэвъины', 'ңэвъиг'], 'trans_ru': 'волчица'}\n",
      "{'paradigms': ['N-obl', 'N-nom-0', 'N-pl-yt'], 'lex': 'ңэлвыл', 'stem': ['ңэлвыль', 'ңалвыль', 'ңэлвыл', 'ңэлвыль'], 'trans_ru': 'табун'}\n",
      "{'paradigms': ['N-obl', 'N-nom-0', 'N-pl-t'], 'lex': 'ңээкык', 'stem': ['ңээккэ', 'ңаакка', 'ңээкык', 'ңээккэ'], 'trans_ru': 'дочь'}\n",
      "{'paradigms': ['N-obl', 'N-nom-0', 'N-pl-yt'], 'lex': 'пиқуттуут', 'stem': ['пиқутт', 'пэқотт', 'пиқуттуут', 'пиқутт'], 'trans_ru': 'нижняя рея паруса'}\n",
      "{'paradigms': ['N-obl', 'N-nom-0', 'N-pl-t'], 'lex': 'пилгыкук', 'stem': ['пилгыкукэ', 'пэлгыкока', 'пилгыкук.//.пилгыкукэ', 'пилгыкукэ'], 'trans_ru': '1) чайник; 2) кувшин'}\n",
      "{'paradigms': ['N-obl', 'N-nom-0', 'N-pl-t'], 'lex': 'пуйъэпуй', 'stem': ['пуйъэ', 'пойъа', 'пуйъэпуй', 'пуйъэ'], 'trans_ru': 'сажа'}\n",
      "{'paradigms': ['N-obl', 'N-nom-0', 'N-pl-yt'], 'lex': 'пуурэқ', 'stem': ['пуурэқыт//пурэқ', 'поорақыт//порақ', 'пуурэқ.//.пурэқ', 'пуурэқыт//пурэқ'], 'trans_ru': 'белуха '}\n",
      "{'paradigms': ['N-obl', 'N-nom-lgyn', 'N-pl-t'], 'lex': 'пчеқалгын', 'stem': ['пчиқэ', 'пчэқа', 'пчеқа', 'пчиқэ'], 'trans_ru': 'птичка'}\n",
      "{'paradigms': ['N-obl', 'N-nom-lgyn', 'N-pl-yt'], 'lex': 'пъопэқылгын', 'stem': ['пъупуқ', 'пъопоқ', 'пъопэқы', 'пъупуқ'], 'trans_ru': 'съедобный корень'}\n",
      "{'paradigms': ['N-obl', 'N-nom-0', 'N-pl-te'], 'lex': 'пылвынтыръэт', 'stem': ['пылвытнтыръэт', 'пылвытнтыръат', 'пылвынтыръэт', 'пылвытнтыръэт'], 'trans_ru': '(2) железная дорога'}\n",
      "{'paradigms': ['N-obl', 'N-nom-lgyn', 'N-pl-yt'], 'lex': 'пэкычьылгын', 'stem': ['пэкычь', 'пакычь', 'пэкычьы', 'пэкычь'], 'trans_ru': '(2) морской кулик («плавунчик»)'}\n",
      "{'paradigms': ['N-obl', 'N-nom-0', 'N-pl-ti'], 'lex': 'раис', 'stem': ['рис', 'рэс', 'раис', 'рис'], 'trans_ru': 'рис'}\n",
      "{'paradigms': ['N-obl', 'N-nom-lgyn', 'N-pl-t'], 'lex': 'ратамлелелгын', 'stem': ['рэтэмлит//рэтэмлили', 'ратамлэт//ратамлэлэ', 'ратамле', 'рэтэмлит//рэтэмлили'], 'trans_ru': 'рукавица из ровдуги'}\n",
      "{'paradigms': ['N-obl', 'N-nom-0', 'N-pl-ti'], 'lex': 'ритлит', 'stem': ['рытлит', 'рытлэт', 'ритлит', 'рытлит'], 'trans_ru': '1) груз на верёвке; 2) весовая единица, вес'}\n",
      "{'paradigms': ['N-obl', 'N-nom-0', 'N-pl-ti'], 'lex': 'рубль', 'stem': ['рубыль', 'робыль', 'рубль', 'рубыль'], 'trans_ru': 'рубль'}\n",
      "{'paradigms': ['N-obl', 'N-nom-0', 'N-pl-t'], 'lex': 'рывинэң', 'stem': ['ривинэңэ', 'рэвэнаңа', 'рывинэң', 'ривинэңэ'], 'trans_ru': 'один из опорных шестов яранги'}\n",
      "{'paradigms': ['N-obl', 'N-nom-lgyn', 'N-pl-t'], 'lex': 'рылгылелелгын', 'stem': ['рылгыли', 'рылгылэ', 'рылгылеле', 'рылгыли'], 'trans_ru': '* перчатка'}\n",
      "{'paradigms': [], 'lex': 'рынгыпченаң', 'stem': ['рынгыпченаң', '', 'рынгыпченаңат'], 'trans_ru': 'зубочистка'}\n",
      "{'paradigms': ['N-obl', 'N-nom-lgyn', 'N-pl'], 'lex': 'рыннылгын', 'stem': ['рынны', '', 'рынныт'], 'trans_ru': '1) зуб; 2) рог'}\n",
      "{'paradigms': ['N-obl', 'N-nom-0', 'N-pl'], 'lex': 'рынным', 'stem': ['рынным', '', 'рыннымыт'], 'trans_ru': 'десна'}\n",
      "{'paradigms': ['N-obl', 'N-nom-0', 'N-pl'], 'lex': 'рыннымай', 'stem': ['рыннымай', '', 'рыннымагтэ'], 'trans_ru': 'куча рогов в тундре'}\n",
      "{'paradigms': ['N-obl', 'N-nom-n', 'N-pl'], 'lex': 'рыновыргын', 'stem': ['рыновырг.//.рыногырг', '', 'рыновыргыт'], 'trans_ru': '* дымовое отверстие'}\n",
      "{'paradigms': ['N-obl', 'N-nom-0', 'N-pl-yt'], 'lex': 'рыпуттуут', 'stem': ['рыпутт', 'рыпотт', 'рыпуттуут', 'рыпутт'], 'trans_ru': 'столб, кол'}\n",
      "{'paradigms': ['N-obl', 'N-nom-n', 'N-pl-yt'], 'lex': 'рэывъитын', 'stem': ['рэвъинн', 'равъэнн', 'рэывъит', 'рэвъинн'], 'trans_ru': 'олень белой масти с чёрными пятнами на голове, шее'}\n",
      "{'paradigms': ['N-obl', 'N-nom-0', 'N-pl-yt'], 'lex': 'рэвымрэв', 'stem': ['рэвьшрэв', 'равьшрав', 'рэвымрэв', 'рэвьшрэв'], 'trans_ru': 'куропатка'}\n",
      "{'paradigms': ['N-obl', 'N-nom-0', 'N-pl-yt'], 'lex': 'рэқыр', 'stem': ['ръэқ', 'ръақ', 'рэқыр', 'ръэқ'], 'trans_ru': 'нос судна'}\n",
      "{'paradigms': ['N-obl', 'N-nom-n', 'N-pl-yt'], 'lex': 'рэлвытлыңын', 'stem': ['рилв', 'рэлв', 'рэлвы', 'рилв'], 'trans_ru': 'бровь'}\n",
      "{'paradigms': ['N-obl', 'N-nom-n', 'N-pl-yt'], 'lex': 'рэлпыквын', 'stem': ['рэлпыквыт//рилп', 'ралпыквыт//рэлп', 'рэлпыквы.//.рилпы', 'рэлпыквыт//рилп'], 'trans_ru': 'погон, наплечник'}\n",
      "{'paradigms': ['N-obl', 'N-nom-n', 'N-pl-yt'], 'lex': 'рэлпытлыңын', 'stem': ['рилп', 'рэлп', 'рэлпы', 'рилп'], 'trans_ru': '(2) плечо'}\n",
      "{'paradigms': ['N-obl', 'N-nom-0', 'N-pl-yt'], 'lex': 'рэңрэң', 'stem': ['рэңрэңыт, рэң', 'раңраңыт, раң', 'рэңрэң', 'рэңрэңыт, рэң'], 'trans_ru': 'корм'}\n",
      "{'paradigms': ['N-obl', 'N-nom-n', 'N-pl-yt'], 'lex': 'рэсқын', 'stem': ['рэсқ', 'расқ', 'рэсқ.//.рэсқырэ', 'рэсқ'], 'trans_ru': '1) крыша; 2) потолок'}\n",
      "{'paradigms': ['N-obl', 'N-nom-0', 'N-pl-yt'], 'lex': 'рэченныкват', 'stem': ['рэченныкв', 'рачянныкв', 'рэченныкват', 'рэченныкв'], 'trans_ru': 'пряжка'}\n",
      "{'paradigms': ['N-obl', 'N-nom-0', 'N-pl-t'], 'lex': 'тинпиңэпиң', 'stem': ['тинпиңэ', 'тэнпэңа', 'тинпиңэпиң', 'тинпиңэ'], 'trans_ru': '* град'}\n",
      "{'paradigms': ['N-obl', 'N-nom-0', 'N-pl-yt'], 'lex': 'тины', 'stem': ['тив', 'тэв', 'тины', 'тив'], 'trans_ru': 'хорей '}\n",
      "{'paradigms': ['N-obl', 'N-nom-0', 'N-pl-t'], 'lex': 'тиркэрым', 'stem': ['тиркэрмэ', 'тэркарма', 'тиркэрым', 'тиркэрмэ'], 'trans_ru': 'царь'}\n",
      "{'paradigms': ['N-obl', 'N-nom-0', 'N-pl-t'], 'lex': 'туйкэтуй', 'stem': ['туйкэ', 'тойка', 'туйкэтуй', 'туйкэ'], 'trans_ru': '* щука'}\n",
      "{'paradigms': ['N-obl', 'N-nom-n', 'N-pl-t'], 'lex': 'тыкэн', 'stem': ['тэкэ', 'така', 'тыкэ', 'тэкэ'], 'trans_ru': '(2) запах'}\n",
      "{'paradigms': ['N-obl', 'N-nom-0', 'N-pl-yt'], 'lex': 'тыленэңуттуут', 'stem': ['тыленэңутт', 'тылянаңотт', 'тыленэңуттуут', 'тыленэңутт'], 'trans_ru': 'мачта'}\n",
      "{'paradigms': ['N-obl', 'N-nom-0', 'N-pl-yt'], 'lex': 'тымкэв', 'stem': ['тымқэвыт, тымқэтйив', 'тымқавыт, тымқатйэв', 'тымкэв.//.тымкэтйив', 'тымқэвыт, тымқэтйив'], 'trans_ru': '1) пучок; 2) клубок'}\n",
      "{'paradigms': ['N-obl', 'N-nom-lgyn', 'N-pl-yt'], 'lex': 'тыңачьылгын', 'stem': ['тыңэчь', 'тыңачь', 'тыңачьы.//.тыңэчь', 'тыңэчь'], 'trans_ru': '1) растение; 2) цветок'}\n",
      "{'paradigms': ['N-obl', 'N-nom-0', 'N-pl-t'], 'lex': 'тэвыр', 'stem': ['тэври', 'таврэ', 'тэвыр', 'тэври'], 'trans_ru': 'один из трёх основных столбов яранги'}\n",
      "{'paradigms': ['N-obl', 'N-nom-n', 'N-pl-t'], 'lex': 'тэлгэрин', 'stem': ['тэлгэри', 'талгарэ', 'тэлгэри.//.тэлңэри', 'тэлгэри'], 'trans_ru': 'графит'}\n",
      "{'paradigms': ['N-obl', 'N-nom-0', 'N-pl-yt'], 'lex': 'тэнынның', 'stem': ['тэнынң', 'танынң', 'тэнынның', 'тэнынң'], 'trans_ru': 'подпись'}\n",
      "{'paradigms': ['N-obl', 'N-nom-0', 'N-pl-t'], 'lex': 'увикук', 'stem': ['увикукэ', 'овэкока', 'увикук.//.увикукэ', 'увикукэ'], 'trans_ru': 'посуда для варки мяса'}\n",
      "{'paradigms': ['N-obl', 'N-nom-0', 'N-pl-yt'], 'lex': 'умкуум', 'stem': ['умк', 'омк', 'умкуум', 'умк'], 'trans_ru': 'лес'}\n",
      "{'paradigms': ['N-obl', 'N-nom-0', 'N-pl-yt'], 'lex': 'уттуут', 'stem': ['утт', 'отт', 'уттуут', 'утт'], 'trans_ru': 'дерево'}\n",
      "{'paradigms': ['N-obl', 'N-nom-0', 'N-pl-t'], 'lex': 'уттынидю', 'stem': ['уттынилю', 'оттынэлё', 'уттынидю', 'уттынилю'], 'trans_ru': 'мелкокалиберное ружьё типа монте-кристо'}\n",
      "{'paradigms': ['N-obl', 'N-nom-lgyn', 'N-pl-t'], 'lex': 'чалқалгын', 'stem': ['челқэ', 'чялқа', 'чалқа', 'челқэ'], 'trans_ru': 'краб малого размера'}\n",
      "{'paradigms': ['N-obl', 'N-nom-lgyn', 'N-pl-t'], 'lex': 'чарыколгын', 'stem': ['черыку', 'чярыко', 'чарыко', 'черыку'], 'trans_ru': 'вальдшнеп'}\n",
      "{'paradigms': ['N-obl', 'N-nom-lgyn', 'N-pl-yt'], 'lex': 'чеквылгын', 'stem': ['чекв', 'чякв', 'чеквылгын//чеквычев', 'чекв'], 'trans_ru': 'оранжевый красильный камень'}\n",
      "{'paradigms': ['N-obl', 'N-nom-lgyn', 'N-pl-yt'], 'lex': 'чеквыргылгын', 'stem': ['чеквырг', 'чяквырг', 'чеквыргы', 'чеквырг'], 'trans_ru': '(2) жабра'}\n",
      "{'paradigms': ['N-obl', 'N-nom-lgyn', 'N-pl-t'], 'lex': 'челкалгын', 'stem': ['чилкэ', 'чэлка', 'челка', 'чилкэ'], 'trans_ru': 'бронх '}\n",
      "{'paradigms': ['N-obl', 'N-nom-n', 'N-pl-t'], 'lex': 'челкаомыткын', 'stem': ['чилкэ', 'чэлка', 'челка', 'чилкэ'], 'trans_ru': 'доля лёгкого (в организме)'}\n",
      "{'paradigms': ['N-obl', 'N-nom-lgyn', 'N-pl-yt'], 'lex': 'чемыквылгын', 'stem': ['чемыкв', 'чямыкв', 'чемыквы', 'чемыкв'], 'trans_ru': '(2) мелкий камешек'}\n",
      "{'paradigms': ['N-obl', 'N-nom-lgyn', 'N-pl-yt'], 'lex': 'чемынгылгын', 'stem': ['чемынг', 'чямынг', 'чемынгы', 'чемынг'], 'trans_ru': '(2) перчатка'}\n",
      "{'paradigms': ['N-obl', 'N-nom-0', 'N-pl-t'], 'lex': 'чеңыл', 'stem': ['ченле', 'чянля', 'чеңыл', 'ченле'], 'trans_ru': 'ящик'}\n",
      "{'paradigms': ['N-obl', 'N-nom-0', 'N-pl-t'], 'lex': 'чикыл', 'stem': ['чивлет//чигле', 'чэвлят//чэгля', 'чикыл', 'чивлет//чигле'], 'trans_ru': 'палка для дрессировки оленей'}\n",
      "{'paradigms': ['N-obl', 'N-nom-0', 'N-pl-t'], 'lex': 'чиңкэчиң', 'stem': ['чиңкэ', 'чэңка', 'чиңкэчиң.//.чеңка', 'чиңкэ'], 'trans_ru': 'слюна'}\n",
      "{'paradigms': ['N-obl', 'N-nom-0', 'N-pl-t'], 'lex': 'чиңқэчиң', 'stem': ['чиңқэ', 'чэңқа', 'чиңқэчиң', 'чиңқэ'], 'trans_ru': 'струя воды'}\n",
      "{'paradigms': ['N-obl', 'N-nom-0', 'N-pl-yt'], 'lex': 'чичгиң', 'stem': ['чичгиң', 'чэчгэң', 'чичгиң//чечгэң', 'чичгиң'], 'trans_ru': 'подмышка'}\n",
      "{'paradigms': ['N-obl', 'N-nom-0', 'N-pl-t'], 'lex': 'чыгэймэқым', 'stem': ['чыгэймъэми', 'чыгаймъамэ', 'чыгэймэқым', 'чыгэймъэми'], 'trans_ru': 'дробинка '}\n",
      "{'paradigms': ['N-obl', 'N-nom-0', 'N-pl-t'], 'lex': 'ылвылю', 'stem': ['ылвэт//ылвылю', 'ылват//ылвылё', 'ылвылю', 'ылвэт//ылвылю'], 'trans_ru': 'дикий олень '}\n",
      "{'paradigms': ['N-obl', 'N-nom-0', 'N-pl-t'], 'lex': 'ынпычьэкык', 'stem': ['ынпычьэккэ', 'ынпычьакка', 'ынпычьэкык', 'ынпычьэккэ'], 'trans_ru': 'старший сын'}\n",
      "{'paradigms': ['N-obl', 'N-nom-0', 'N-pl-t'], 'lex': 'ынтуулпыр', 'stem': ['ынтуулпырти, ынтуулпырэ', 'ынтоолпыртэ, ынтоолпыра', 'ынтуулпыр', 'ынтуулпырти, ынтуулпырэ'], 'trans_ru': 'зять'}\n",
      "{'paradigms': ['N-obl', 'N-nom-0', 'N-pl-t'], 'lex': 'ытлеңи', 'stem': ['ытленъю', 'ытлянъё', 'ытлеңи', 'ытленъю'], 'trans_ru': 'младший брат'}\n",
      "{'paradigms': ['N-obl', 'N-nom-n', 'N-pl-t'], 'lex': \"ы'ттъыютльын\", 'stem': [\"ы'ттъыютльэ\", \"ы'ттъыётльа\", \"ы'ттъыютль\", \"ы'ттъыютльэ\"], 'trans_ru': 'предки'}\n",
      "{'paradigms': ['N-obl', 'N-nom-0', 'N-pl-t'], 'lex': 'экык', 'stem': ['эккэ', 'акка', 'экык', 'эккэ'], 'trans_ru': 'сын'}\n",
      "{'paradigms': ['N-obl', 'N-nom-lgyn', 'N-pl-t'], 'lex': 'эқычалгын', 'stem': ['иқыче', 'эқычя', 'эқыча', 'иқыче'], 'trans_ru': 'розовая чайка'}\n",
      "{'paradigms': ['N-obl', 'N-nom-0', 'N-pl-t'], 'lex': 'эмңээм', 'stem': ['эмңэ', 'амңа', 'эмңээм', 'эмңэ'], 'trans_ru': '(2) 1) турпан (утка); 2) гага (птица)'}\n",
      "{'paradigms': ['N-obl', 'N-nom-0', 'N-pl-t'], 'lex': 'эмээм', 'stem': ['эму', 'амо', 'эмээм', 'эму'], 'trans_ru': '(2) 1) сухостой; 2) корка (болячки)'}\n",
      "{'paradigms': ['N-obl', 'N-nom-n', 'N-pl-yt'], 'lex': 'энаныгъеватрылгытлыңын', 'stem': ['инэныгйивэтрылг', 'энаныгйэватрылг', 'энаныгъеватрылг', 'инэныгйивэтрылг'], 'trans_ru': 'указательный палец'}\n",
      "{'paradigms': ['N-obl', 'N-nom-0', 'N-pl-yt'], 'lex': 'энмээм', 'stem': ['энм', 'анм', 'энмээм', 'энм'], 'trans_ru': '(2) 1) скала, утёс; 2) обрыв'}\n",
      "{'paradigms': ['N-obl', 'N-nom-0', 'N-pl-t'], 'lex': 'эпиқувыт', 'stem': ['эпиқувтэ', 'апэқовта', 'эпиқувыт', 'эпиқувтэ'], 'trans_ru': 'подстилка на нарте'}\n",
      "{'paradigms': ['N-obl', 'N-nom-0', 'N-pl-ti'], 'lex': 'эпээпэй', 'stem': ['эпээпэг', 'апаапаг', 'эпээпэй./.эпээпэг', 'эпээпэг'], 'trans_ru': 'паук'}\n",
      "{'paradigms': ['N-obl', 'N-nom-n', 'N-pl-yt'], 'lex': 'эпээпэгкупрэн', 'stem': ['эпээпэгкупрэт//эпээпэгиң', 'апаапагкопрат//апаапагэң', 'эпээпэгкупрэн//эпээпэгиңынгиң', 'эпээпэгкупрэт//эпээпэгиң'], 'trans_ru': 'паутина'}\n",
      "{'paradigms': ['N-obl', 'N-nom-0', 'N-pl-t'], 'lex': 'эрым', 'stem': ['эрмэ', 'арма', 'эрым', 'эрмэ'], 'trans_ru': 'начальник, староста'}\n",
      "{'paradigms': ['N-obl', 'N-nom-n', 'N-pl-t'], 'lex': 'эрын', 'stem': ['эръэ', 'аръа', 'эр', 'эръэ'], 'trans_ru': 'варёная еда'}\n",
      "{'paradigms': ['N-obl', 'N-nom-lgyn', 'N-pl-t'], 'lex': 'этролгын', 'stem': ['итрут//ирру', 'этрот//эрро', 'этро.//.эрро', 'итрут//ирру'], 'trans_ru': 'подстилка из хвои или ветвей тальника'}\n",
      "{'paradigms': ['N-obl', 'N-nom-0', 'N-pl-yt'], 'lex': 'этъычьылгын', 'stem': ['итъычь', 'этъычь', 'этъычьылгын', 'итъычь'], 'trans_ru': 'мелкий голец (рыба)'}\n",
      "{'paradigms': ['N-obl', 'N-nom-lgyn', 'N-pl-yt'], 'lex': 'ээкэлгын', 'stem': ['иик', 'ээк', 'ээкэ', 'иик'], 'trans_ru': 'съедобный корень'}\n",
      "{'paradigms': ['N-obl', 'N-nom-0', 'N-pl-t'], 'lex': \"э'йңэнэң\", 'stem': ['эйңэнэңэ', 'айңанаңа', \"э'йңэнэң\", 'эйңэнэңэ'], 'trans_ru': 'музыкальный инструмент'}\n",
      "{'paradigms': ['N-obl', 'N-nom-lgyn', 'N-pl-yt'], 'lex': \"э'нныргылгын\", 'stem': [\"э'ннырг\", \"а'ннырг\", \"э'нныргы\", \"э'ннырг\"], 'trans_ru': '* грива'}\n",
      "{'paradigms': ['N-obl', 'N-nom-lgyn', 'N-pl-yt'], 'lex': \"э'ңгыргылгын\", 'stem': [\"э'ңгырг\", \"а'ңгырг\", \"э'ңгыргы\", \"э'ңгырг\"], 'trans_ru': 'передняя лопасть оленьих рогов '}\n",
      "{'paradigms': ['N-obl', 'N-nom-n', 'N-pl-yt'], 'lex': \"э'ръян\", 'stem': [\"э'рынв\", \"а'рынв\", \"э'ръя.//.э'р\", \"э'рынв\"], 'trans_ru': '(2) 1) место переправы, 2) брод'}\n",
      "{'paradigms': ['N-obl', 'N-nom-n', 'N-pl-yt'], 'lex': 'юуткуннээн', 'stem': ['юуткунн', 'ёотконн', 'юуткуннээ', 'юуткунн'], 'trans_ru': 'щука'}\n",
      "{'paradigms': ['N-obl', 'N-nom-lgyn', 'N-pl-t'], 'lex': 'якготъёлгын', 'stem': ['екгутэ', 'якгота', 'якготъё', 'екгутэ'], 'trans_ru': 'уключина'}\n"
     ]
    }
   ],
   "source": [
    "for i in undone:\n",
    "    if len(set(chunks[i]['stem']))==3:\n",
    "        print(chunks[i])"
   ]
  },
  {
   "cell_type": "code",
   "execution_count": 79,
   "metadata": {
    "collapsed": false
   },
   "outputs": [
    {
     "data": {
      "text/plain": [
       "[{'lex': 'аатгыр',\n",
       "  'paradigms': ['N-obl', 'N-nom-0', 'N-pl-te'],\n",
       "  'stem': ['аатгыр', 'аатгыр', 'аатгыр', 'аатгыр'],\n",
       "  'trans_ru': '1) ручей в овраге; 2) овраг'},\n",
       " {'lex': 'август',\n",
       "  'paradigms': ['N-obl', 'N-nom-0', 'N-pl-yt'],\n",
       "  'stem': ['август', 'август', 'август', 'август'],\n",
       "  'trans_ru': 'август'},\n",
       " {'lex': 'авынральын',\n",
       "  'paradigms': ['N-obl', 'N-nom-n', 'N-pl-t'],\n",
       "  'stem': ['авынраль', 'авынраль', 'авынраль', 'авынраль'],\n",
       "  'trans_ru': 'хозяин'},\n",
       " {'lex': 'авээн',\n",
       "  'paradigms': ['N-obl', 'N-nom-0', 'N-pl-yt'],\n",
       "  'stem': ['авээнв', 'авээнв', 'авээн', 'авээнв'],\n",
       "  'trans_ru': 'пастбище'},\n",
       " {'lex': 'агнотваны',\n",
       "  'paradigms': ['N-obl', 'N-nom-0', 'N-pl-yt'],\n",
       "  'stem': ['агнотванв', 'агнотванв', 'агнотваны', 'агнотванв'],\n",
       "  'trans_ru': 'лежбище моржей'},\n",
       " {'lex': 'агротъым',\n",
       "  'paradigms': ['N-obl', 'N-nom-0', 'N-pl-yt'],\n",
       "  'stem': ['агротъым', 'агротъым', 'агротъым', 'агротъым'],\n",
       "  'trans_ru': '1) основная перекладина полога; 2) балка (строительная)'},\n",
       " {'lex': 'агтатван',\n",
       "  'paradigms': ['N-obl', 'N-nom-n', 'N-pl-yt'],\n",
       "  'stem': ['агтатванв', 'агтатванв', 'агтатван', 'агтатванв'],\n",
       "  'trans_ru': '1) огороженное место; 2) двор'},\n",
       " {'lex': 'агтатгыргын',\n",
       "  'paradigms': ['N-obl', 'N-nom-n', 'N-pl'],\n",
       "  'stem': ['агтатгырг', 'агтатгырг', 'агтатгырг', 'агтатгырг'],\n",
       "  'trans_ru': 'отгон, перегон (напр. стада)'},\n",
       " {'lex': 'агтачгын',\n",
       "  'paradigms': ['N-obl', 'N-nom-n', 'N-pl'],\n",
       "  'stem': ['агтачг', 'агтачг', 'агтачг', 'агтачг'],\n",
       "  'trans_ru': '1) загородка; 2) завеса; 3) щит'},\n",
       " {'lex': 'агъёляткэгыргын',\n",
       "  'paradigms': ['N-obl', 'N-nom-n', 'N-pl'],\n",
       "  'stem': ['агъёляткэгырг', 'агъёляткэгырг', 'агъёляткэгырг', 'агъёляткэгырг'],\n",
       "  'trans_ru': '1) невежество'},\n",
       " {'lex': 'аё',\n",
       "  'paradigms': ['N-obl', 'N-nom-0', 'N-pl-t'],\n",
       "  'stem': ['айва', 'айва', 'аё', 'айва'],\n",
       "  'trans_ru': 'головной мозг'},\n",
       " {'lex': 'аёпгыргын',\n",
       "  'paradigms': ['N-obl', 'N-nom-n', 'N-pl'],\n",
       "  'stem': ['аёпгырг', 'аёпгырг', 'аёпгырг', 'аёпгырг'],\n",
       "  'trans_ru': 'прокол'},\n",
       " {'lex': 'аёпычьылгын',\n",
       "  'paradigms': ['N-obl', 'N-nom-lgyn', 'N-pl-yt'],\n",
       "  'stem': ['эюпычь', 'аёпычь', 'аёпычьы', 'эюпычь'],\n",
       "  'trans_ru': 'колючка'},\n",
       " {'lex': 'айвал',\n",
       "  'paradigms': ['N-obl', 'N-nom-0', 'N-pl-te'],\n",
       "  'stem': ['айвал', 'айвал', 'айвал', 'айвал'],\n",
       "  'trans_ru': 'место, защищенное от ветра'},\n",
       " {'lex': 'айвалқыл',\n",
       "  'paradigms': ['N-obl', 'N-nom-0', 'N-pl-te'],\n",
       "  'stem': ['айвалқыл', 'айвалқыл', 'айвалқыл', 'айвалқыл'],\n",
       "  'trans_ru': 'теменная кость вместе с рогами'}]"
      ]
     },
     "execution_count": 79,
     "metadata": {},
     "output_type": "execute_result"
    }
   ],
   "source": [
    "chunks[:15]"
   ]
  },
  {
   "cell_type": "code",
   "execution_count": null,
   "metadata": {
    "collapsed": true
   },
   "outputs": [],
   "source": []
  }
 ],
 "metadata": {
  "anaconda-cloud": {},
  "kernelspec": {
   "display_name": "Python [conda root]",
   "language": "python",
   "name": "conda-root-py"
  },
  "language_info": {
   "codemirror_mode": {
    "name": "ipython",
    "version": 3
   },
   "file_extension": ".py",
   "mimetype": "text/x-python",
   "name": "python",
   "nbconvert_exporter": "python",
   "pygments_lexer": "ipython3",
   "version": "3.5.2"
  }
 },
 "nbformat": 4,
 "nbformat_minor": 1
}
