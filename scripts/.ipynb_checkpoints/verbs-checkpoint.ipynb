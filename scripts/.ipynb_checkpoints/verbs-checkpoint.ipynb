{
 "cells": [
  {
   "cell_type": "code",
   "execution_count": 1,
   "metadata": {
    "collapsed": true
   },
   "outputs": [],
   "source": [
    "import os, json\n",
    "from pprint import pprint"
   ]
  },
  {
   "cell_type": "code",
   "execution_count": 18,
   "metadata": {
    "collapsed": true
   },
   "outputs": [],
   "source": [
    "with open('verbs_unparsed.json') as f:\n",
    "    chunks = json.load(f)"
   ]
  },
  {
   "cell_type": "code",
   "execution_count": 19,
   "metadata": {
    "collapsed": true
   },
   "outputs": [],
   "source": [
    "for ch in chunks:\n",
    "    ch['stem'] = list(map(lambda x: x.strip('.,;*()[]:&?! '), ch['stem'].split('|')))\n",
    "    ch['lex'] = ch['lex'].strip('.,;*()[]:&?! ')"
   ]
  },
  {
   "cell_type": "code",
   "execution_count": 4,
   "metadata": {
    "collapsed": false
   },
   "outputs": [
    {
     "data": {
      "text/plain": [
       "1716"
      ]
     },
     "execution_count": 4,
     "metadata": {},
     "output_type": "execute_result"
    }
   ],
   "source": [
    "verbs = []\n",
    "undefined = []\n",
    "twos = []\n",
    "undef_twos = []\n",
    "for i in range(len(chunks)):\n",
    "    if chunks[i]['gramm'] == 'V':\n",
    "        if len(chunks[i]['stem'])<2:\n",
    "            if '/' not in ''.join(chunks[i]['stem']):\n",
    "                verbs.append(i)\n",
    "            else:\n",
    "                undefined.append(i)\n",
    "        else:\n",
    "            if '/' in ''.join(chunks[i]['stem']):\n",
    "                undef_twos.append(i)\n",
    "            else:\n",
    "                twos.append(i)\n",
    "\n",
    "\n",
    "len(verbs)"
   ]
  },
  {
   "cell_type": "code",
   "execution_count": 5,
   "metadata": {
    "collapsed": false
   },
   "outputs": [
    {
     "name": "stdout",
     "output_type": "stream",
     "text": [
      "156\n",
      "179\n",
      "64\n"
     ]
    }
   ],
   "source": [
    "print(len(twos))\n",
    "print(len(undef_twos))\n",
    "print(len(undefined))"
   ]
  },
  {
   "cell_type": "code",
   "execution_count": 20,
   "metadata": {
    "collapsed": false
   },
   "outputs": [
    {
     "name": "stdout",
     "output_type": "stream",
     "text": [
      "601\n",
      "{'gramm': 'V',\n",
      " 'lex': 'кылтыкыл',\n",
      " 'paradigms': [],\n",
      " 'stem': ['кылтыкыл//.кылт', 'кылтыт'],\n",
      " 'trans_ru': '1) связка; 2) воз'}\n",
      "1036\n",
      "{'gramm': 'V',\n",
      " 'lex': 'паннатъеқ',\n",
      " 'paradigms': ['V-tr', 'V-intr'],\n",
      " 'stem': ['паннатъеқ.//.паннэе', 'паннатъеқыт'],\n",
      " 'trans_ru': '* топорок (птица)'}\n",
      "1443\n",
      "{'gramm': 'V',\n",
      " 'lex': 'рымыркувык',\n",
      " 'paradigms': [],\n",
      " 'stem': ['рымыркув.//.рымыркэв', 'нмыркув', 'нмырков'],\n",
      " 'trans_ru': 'облегчить (ношу)'}\n"
     ]
    }
   ],
   "source": [
    "for i in undefined:\n",
    "    chunks[i]['stem'] = list(map(lambda x: x.strip('.'), chunks[i]['stem'][0].split('//')))\n",
    "\n",
    "\n",
    "for i in undef_twos:\n",
    "    chunks[i]['stem'] = [chunks[i]['stem'][0]] + chunks[i]['stem'][1].split('.//.')\n",
    "    if '//' in ''.join(chunks[i]['stem']):\n",
    "        print(i)\n",
    "        pprint(chunks[i])"
   ]
  },
  {
   "cell_type": "code",
   "execution_count": 21,
   "metadata": {
    "collapsed": false
   },
   "outputs": [],
   "source": [
    "for i in [601, 1036, 1443]:\n",
    "    chunks[i]['stem'] = list(map(lambda x: x.strip('.'), chunks[i]['stem'][0].split('//'))) + chunks[i]['stem'][1:]"
   ]
  },
  {
   "cell_type": "code",
   "execution_count": 22,
   "metadata": {
    "collapsed": false
   },
   "outputs": [],
   "source": [
    "for i in range(len(chunks)):\n",
    "    chunks[i]['lex'] = chunks[i]['lex'].replace('ң', 'ӈ')\n",
    "    chunks[i]['lex'] = chunks[i]['lex'].replace('қ', 'ӄ')\n",
    "    chunks[i]['lex'] = chunks[i]['lex'].replace('л', 'ԓ')\n",
    "    chunks[i]['lex'] = chunks[i]['lex'].replace(\"'\", 'ʼ')\n",
    "    chunks[i]['stem'] = list(map(lambda x: x.replace('ң', 'ӈ'), chunks[i]['stem']))\n",
    "    chunks[i]['stem'] = list(map(lambda x: x.replace('қ', 'ӄ'), chunks[i]['stem']))\n",
    "    chunks[i]['stem'] = list(map(lambda x: x.replace('л', 'ԓ'), chunks[i]['stem']))\n",
    "    chunks[i]['stem'] = list(map(lambda x: x.replace(\"'\", 'ʼ'), chunks[i]['stem']))\n",
    "    chunks[i]['stem'] = list(map(lambda x: x[:-1] if x[-1]=='ы' else x, chunks[i]['stem']))"
   ]
  },
  {
   "cell_type": "code",
   "execution_count": 10,
   "metadata": {
    "collapsed": true
   },
   "outputs": [],
   "source": [
    "folder = 'lexicons'\n",
    "if not os.path.exists(os.path.join('..', folder)):\n",
    "    os.mkdir(os.path.join('..', folder))\n",
    "\n",
    "dict_file = 'verbs.lexc'\n",
    "with open(os.path.join('..', folder, dict_file), 'w') as f:\n",
    "#     f.write(\"\"\"!!!!!!!!!!!!!!!!!!!!!!!!!!!!!!!!!!!!!!!!!!!!!!!!!!!!!!!!!!!!!!!!!!!!!!!!!!!!!!!\n",
    "# !!!                          L E X I C O N                                  !!!\n",
    "# !!!!!!!!!!!!!!!!!!!!!!!!!!!!!!!!!!!!!!!!!!!!!!!!!!!!!!!!!!!!!!!!!!!!!!!!!!!!!!!\n",
    "# \"\"\")\n",
    "    f.write(\"\"\"\n",
    "LEXICON Verbs \n",
    "\n",
    "\"\"\")"
   ]
  },
  {
   "cell_type": "code",
   "execution_count": 11,
   "metadata": {
    "collapsed": true
   },
   "outputs": [],
   "source": [
    "to_write = []\n",
    "for i in verbs:\n",
    "    x = chunks[i]\n",
    "    to_write.append('{}:{} V ;    ! {}'.format(x['lex'], x['stem'][0], x['trans_ru']))\n",
    "to_write.append('\\n')"
   ]
  },
  {
   "cell_type": "code",
   "execution_count": 12,
   "metadata": {
    "collapsed": true
   },
   "outputs": [],
   "source": [
    "with open(os.path.join('..', folder, dict_file), 'a') as f:\n",
    "    f.write('\\n'.join(to_write))"
   ]
  },
  {
   "cell_type": "code",
   "execution_count": 31,
   "metadata": {
    "collapsed": false
   },
   "outputs": [
    {
     "name": "stdout",
     "output_type": "stream",
     "text": [
      "0\n"
     ]
    },
    {
     "data": {
      "text/plain": [
       "399"
      ]
     },
     "execution_count": 31,
     "metadata": {},
     "output_type": "execute_result"
    }
   ],
   "source": [
    "to_write = []\n",
    "still_not = []\n",
    "nr = set('нр')\n",
    "tn = set('тн')\n",
    "for i in twos+undefined+undef_twos:\n",
    "    x = chunks[i]\n",
    "\n",
    "    if len(x['stem'][0])-len(x['stem'][1])==1 and x['stem'][0][1]=='ы':\n",
    "        for l in range(len(x['stem'])):\n",
    "            if x['stem'][l][1]!='ы':\n",
    "                x['stem'][l]==x['stem'][l][0]+'%{ы%}'+x['stem'][l][1:]\n",
    "            else:\n",
    "                x['stem'][l]==x['stem'][l][0]+'%{ы%}'+x['stem'][l][2:]\n",
    "                \n",
    "    if set(map(lambda y: y[1], x['stem'])) == set('ыъ'):\n",
    "        for l in range(len(x['stem'])):\n",
    "            if x['stem'][l][0]!='ы':\n",
    "                x['stem'][l]==x['stem'][l][0]+'%{ы%}'+x['stem'][l][1:]\n",
    "            else:\n",
    "                x['stem'][l]==x['stem'][l][0]+'%{ы%}'+x['stem'][l][2:]\n",
    "    \n",
    "    if set(map(lambda y: y[0], x['stem'])) == nr:\n",
    "        x['stem'] = list(map(lambda l: '%{R%}'+l[1:], x['stem']))\n",
    "    if set(map(lambda y: y[0], x['stem'])) == tn:\n",
    "        x['stem'] = list(map(lambda l: 'т'+l[1:], x['stem']))\n",
    "            \n",
    "    if set(x['stem']) == 0:\n",
    "        to_write.append('{}:{} V ;    ! {}'.format(x['lex'], x['stem'][0], x['trans_ru']))\n",
    "    else:\n",
    "        still_not.append(x)\n",
    "print(len(to_write))\n",
    "len(still_not)"
   ]
  },
  {
   "cell_type": "code",
   "execution_count": 32,
   "metadata": {
    "collapsed": false
   },
   "outputs": [
    {
     "name": "stdout",
     "output_type": "stream",
     "text": [
      "{'gramm': 'V',\n",
      " 'lex': 'рываԓёматык',\n",
      " 'paradigms': ['V-tr', 'V-intr'],\n",
      " 'stem': ['%{R%}ываԓёмат', '%{R%}ваԓёмат'],\n",
      " 'trans_ru': 'объяснять'}\n",
      "{'gramm': 'V',\n",
      " 'lex': 'рывантоӈатык',\n",
      " 'paradigms': ['V-tr', 'V-intr'],\n",
      " 'stem': ['%{R%}ывантоӈат', '%{R%}вантоӈат'],\n",
      " 'trans_ru': 'лишить места'}\n",
      "{'gramm': 'V',\n",
      " 'lex': 'рывиԓыткувык',\n",
      " 'paradigms': ['V-tr', 'V-intr'],\n",
      " 'stem': ['%{R%}ывиԓыткув', '%{R%}виԓыткув'],\n",
      " 'trans_ru': 'продавать'}\n",
      "{'gramm': 'V',\n",
      " 'lex': 'рывъёԓьавык',\n",
      " 'paradigms': ['V-tr', 'V-intr'],\n",
      " 'stem': ['%{R%}ывъёԓьав', '%{R%}ывъёԓьав'],\n",
      " 'trans_ru': 'поручать, заказывать'}\n",
      "{'gramm': 'V',\n",
      " 'lex': 'рывъянторавык',\n",
      " 'paradigms': ['V-tr', 'V-intr'],\n",
      " 'stem': ['%{R%}ывъянторав', '%{R%}ывъянторав'],\n",
      " 'trans_ru': 'распрягать'}\n",
      "{'gramm': 'V',\n",
      " 'lex': 'рывык',\n",
      " 'paradigms': ['V-tr', 'V-intr'],\n",
      " 'stem': ['%{R%}ыв', '%{R%}в'],\n",
      " 'trans_ru': '1) отодвигать; 2) резать вдоль; 3) колоть *'}\n",
      "{'gramm': 'V',\n",
      " 'lex': 'рывык',\n",
      " 'paradigms': ['V-tr', 'V-intr'],\n",
      " 'stem': ['%{R%}ыв', '%{R%}в'],\n",
      " 'trans_ru': '1) скоблить шкуры; 2) стругать'}\n",
      "{'gramm': 'V',\n",
      " 'lex': 'рывыԓгавык',\n",
      " 'paradigms': ['V-tr', 'V-intr'],\n",
      " 'stem': ['%{R%}ывыԓгав', '%{R%}выԓгав'],\n",
      " 'trans_ru': 'утончать, сплющивать'}\n",
      "{'gramm': 'V',\n",
      " 'lex': 'рывыԓгытковык',\n",
      " 'paradigms': ['V-tr', 'V-intr'],\n",
      " 'stem': ['%{R%}ывыԓгытков', '%{R%}выԓгытков'],\n",
      " 'trans_ru': 'бросать'}\n",
      "{'gramm': 'V',\n",
      " 'lex': 'рывэнӈык',\n",
      " 'paradigms': ['V-tr', 'V-intr'],\n",
      " 'stem': ['%{R%}ывэнӈ', '%{R%}вэнӈ'],\n",
      " 'trans_ru': 'свежевать'}\n",
      "{'gramm': 'V',\n",
      " 'lex': 'рывэтгавык',\n",
      " 'paradigms': ['V-tr', 'V-intr'],\n",
      " 'stem': ['%{R%}ывэтгав', '%{R%}вэтгав'],\n",
      " 'trans_ru': '1) выпрямлять; 2) разрешать (вопрос); 3) заставлять решиться '\n",
      "             '(кого-л.)'}\n",
      "{'gramm': 'V',\n",
      " 'lex': 'рывэтгыравык',\n",
      " 'paradigms': ['V-tr', 'V-intr'],\n",
      " 'stem': ['%{R%}ывэтгырав', '%{R%}вэтгырав'],\n",
      " 'trans_ru': 'равнять'}\n",
      "{'gramm': 'V',\n",
      " 'lex': 'рывэчепатык',\n",
      " 'paradigms': ['V-tr', 'V-intr'],\n",
      " 'stem': ['%{R%}ывэчепат', '%{R%}вэчепат'],\n",
      " 'trans_ru': 'злить, надоедать'}\n",
      "{'gramm': 'V',\n",
      " 'lex': 'рыгагчаватык',\n",
      " 'paradigms': ['V-tr', 'V-intr'],\n",
      " 'stem': ['%{R%}ыгагчават', '%{R%}гагчават'],\n",
      " 'trans_ru': 'торопить'}\n",
      "{'gramm': 'V',\n",
      " 'lex': 'рыгаԓык',\n",
      " 'paradigms': ['V-tr', 'V-intr'],\n",
      " 'stem': ['рыгаԓ', 'ргат'],\n",
      " 'trans_ru': 'ложиться для отдыха  '}\n",
      "{'gramm': 'V',\n",
      " 'lex': 'рыгаԓяӈатык',\n",
      " 'paradigms': ['V-tr', 'V-intr'],\n",
      " 'stem': ['%{R%}ыгаԓяӈат', '%{R%}гаԓяӈат'],\n",
      " 'trans_ru': 'провозить (мимо чего-л.)'}\n",
      "{'gramm': 'V',\n",
      " 'lex': 'рыгатык',\n",
      " 'paradigms': ['V-tr', 'V-intr'],\n",
      " 'stem': ['рыгат', 'ргаԓ'],\n",
      " 'trans_ru': '1) линять (о животных); 2) покрываться новой шерстью'}\n",
      "{'gramm': 'V',\n",
      " 'lex': 'рыгпиԓьэвык',\n",
      " 'paradigms': ['V-tr', 'V-intr'],\n",
      " 'stem': ['%{R%}ыгпиԓьэв', '%{R%}ыгпиԓьэв'],\n",
      " 'trans_ru': '1) заставлять хозяйничать в доме; 2) наводить порядок в доме; 3) '\n",
      "             'обрабатывать'}\n",
      "{'gramm': 'V',\n",
      " 'lex': 'рыгык',\n",
      " 'paradigms': ['V-tr', 'V-intr'],\n",
      " 'stem': ['рыг', 'рг'],\n",
      " 'trans_ru': '1) копать; 2) царапать'}\n",
      "{'gramm': 'V',\n",
      " 'lex': 'рыгынкойӈавык',\n",
      " 'paradigms': ['V-tr', 'V-intr'],\n",
      " 'stem': ['%{R%}ыгынкойӈав', '%{R%}гынкойӈав'],\n",
      " 'trans_ru': 'подбадривать'}\n"
     ]
    }
   ],
   "source": [
    "for i in still_not[50:70]:\n",
    "    pprint(i)"
   ]
  },
  {
   "cell_type": "code",
   "execution_count": 16,
   "metadata": {
    "collapsed": false
   },
   "outputs": [],
   "source": [
    "to_write = []\n",
    "for i in twos+undefined+undef_twos:\n",
    "    x = chunks[i]\n",
    "    for i in range(len(x['stem'])):\n",
    "        to_write.append('{}:{} V ;    ! {}'.format(x['lex'], x['stem'][i], x['trans_ru']))"
   ]
  },
  {
   "cell_type": "code",
   "execution_count": 17,
   "metadata": {
    "collapsed": true
   },
   "outputs": [],
   "source": [
    "with open(os.path.join('..', folder, 'verbt.lexc'), 'a') as f:\n",
    "    f.write('\\n'.join(to_write))"
   ]
  },
  {
   "cell_type": "code",
   "execution_count": null,
   "metadata": {
    "collapsed": true
   },
   "outputs": [],
   "source": []
  }
 ],
 "metadata": {
  "anaconda-cloud": {},
  "kernelspec": {
   "display_name": "Python [conda root]",
   "language": "python",
   "name": "conda-root-py"
  },
  "language_info": {
   "codemirror_mode": {
    "name": "ipython",
    "version": 3
   },
   "file_extension": ".py",
   "mimetype": "text/x-python",
   "name": "python",
   "nbconvert_exporter": "python",
   "pygments_lexer": "ipython3",
   "version": "3.5.2"
  }
 },
 "nbformat": 4,
 "nbformat_minor": 1
}
