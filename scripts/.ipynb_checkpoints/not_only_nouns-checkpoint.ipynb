{
 "cells": [
  {
   "cell_type": "code",
   "execution_count": 1,
   "metadata": {
    "collapsed": true
   },
   "outputs": [],
   "source": [
    "import os, json\n",
    "from pprint import pprint"
   ]
  },
  {
   "cell_type": "code",
   "execution_count": 14,
   "metadata": {
    "collapsed": true
   },
   "outputs": [],
   "source": [
    "with open('dictionary_all_unparsed.json') as f:\n",
    "    chunks = json.load(f)"
   ]
  },
  {
   "cell_type": "code",
   "execution_count": 15,
   "metadata": {
    "collapsed": false
   },
   "outputs": [
    {
     "data": {
      "text/plain": [
       "6278"
      ]
     },
     "execution_count": 15,
     "metadata": {},
     "output_type": "execute_result"
    }
   ],
   "source": [
    "len(chunks)"
   ]
  },
  {
   "cell_type": "code",
   "execution_count": 16,
   "metadata": {
    "collapsed": true
   },
   "outputs": [],
   "source": [
    "for ch in chunks:\n",
    "    ch['stem'] = list(map(lambda x: x.strip('.,;*()[]:&?! '), ch['stem'].split('|')))\n",
    "    ch['lex'] = ch['lex'].strip('.,;*()[]:&?! ')"
   ]
  },
  {
   "cell_type": "code",
   "execution_count": 24,
   "metadata": {
    "collapsed": true
   },
   "outputs": [],
   "source": [
    "poss = {}"
   ]
  },
  {
   "cell_type": "code",
   "execution_count": 35,
   "metadata": {
    "collapsed": false
   },
   "outputs": [
    {
     "data": {
      "text/plain": [
       "548"
      ]
     },
     "execution_count": 35,
     "metadata": {},
     "output_type": "execute_result"
    }
   ],
   "source": [
    "advs = []\n",
    "for i in range(len(chunks)):\n",
    "    if chunks[i]['gramm'] == 'ADV':\n",
    "        if len(chunks[i]['stem'])<2:\n",
    "            if '/' not in ''.join(chunks[i]['stem']):\n",
    "                advs.append(i)\n",
    "\n",
    "poss['adv'] = advs\n",
    "len(advs)"
   ]
  },
  {
   "cell_type": "code",
   "execution_count": 36,
   "metadata": {
    "collapsed": false
   },
   "outputs": [
    {
     "data": {
      "text/plain": [
       "30"
      ]
     },
     "execution_count": 36,
     "metadata": {},
     "output_type": "execute_result"
    }
   ],
   "source": [
    "intjs = []\n",
    "for i in range(len(chunks)):\n",
    "    if chunks[i]['gramm'] == 'INTJ':\n",
    "        if len(chunks[i]['stem'])<2:\n",
    "            if '/' not in ''.join(chunks[i]['stem']):\n",
    "                intjs.append(i)\n",
    "\n",
    "poss['intj'] = intjs\n",
    "len(intjs)"
   ]
  },
  {
   "cell_type": "code",
   "execution_count": 28,
   "metadata": {
    "collapsed": false
   },
   "outputs": [
    {
     "data": {
      "text/plain": [
       "2"
      ]
     },
     "execution_count": 28,
     "metadata": {},
     "output_type": "execute_result"
    }
   ],
   "source": [
    "ptcp = []\n",
    "for i in range(len(chunks)):\n",
    "    if chunks[i]['gramm'] == 'PTCP':\n",
    "        ptcp.append(i)\n",
    "\n",
    "poss['ptcp'] = ptcp\n",
    "len(ptcp)"
   ]
  },
  {
   "cell_type": "code",
   "execution_count": 37,
   "metadata": {
    "collapsed": false
   },
   "outputs": [
    {
     "data": {
      "text/plain": [
       "19"
      ]
     },
     "execution_count": 37,
     "metadata": {},
     "output_type": "execute_result"
    }
   ],
   "source": [
    "conj = []\n",
    "for i in range(len(chunks)):\n",
    "    if chunks[i]['gramm'] == 'CONJ':\n",
    "        if len(chunks[i]['stem'])<2:\n",
    "            if '/' not in ''.join(chunks[i]['stem']):\n",
    "                conj.append(i)\n",
    "\n",
    "poss['conj'] = conj\n",
    "len(conj)"
   ]
  },
  {
   "cell_type": "code",
   "execution_count": 38,
   "metadata": {
    "collapsed": false
   },
   "outputs": [
    {
     "data": {
      "text/plain": [
       "35"
      ]
     },
     "execution_count": 38,
     "metadata": {},
     "output_type": "execute_result"
    }
   ],
   "source": [
    "part = []\n",
    "for i in range(len(chunks)):\n",
    "    if chunks[i]['gramm'] == 'PART':\n",
    "        if len(chunks[i]['stem'])<2:\n",
    "            if '/' not in ''.join(chunks[i]['stem']):\n",
    "                part.append(i)\n",
    "\n",
    "poss['part'] = part\n",
    "len(part)"
   ]
  },
  {
   "cell_type": "code",
   "execution_count": 39,
   "metadata": {
    "collapsed": true
   },
   "outputs": [],
   "source": [
    "with open('misc.json', 'w') as f:\n",
    "    json.dump(poss, f)"
   ]
  },
  {
   "cell_type": "code",
   "execution_count": 40,
   "metadata": {
    "collapsed": true
   },
   "outputs": [],
   "source": [
    "for i in range(len(chunks)):\n",
    "    chunks[i]['lex'] = chunks[i]['lex'].replace('ң', 'ӈ')\n",
    "    chunks[i]['lex'] = chunks[i]['lex'].replace('қ', 'ӄ')"
   ]
  },
  {
   "cell_type": "code",
   "execution_count": 41,
   "metadata": {
    "collapsed": true
   },
   "outputs": [],
   "source": [
    "folder = 'lexicons'\n",
    "if not os.path.exists(os.path.join('..', folder)):\n",
    "    os.mkdir(os.path.join('..', folder))\n",
    "\n",
    "dict_file = 'misc.lexc'\n",
    "with open(os.path.join('..', folder, dict_file), 'w') as f:\n",
    "#     f.write(\"\"\"!!!!!!!!!!!!!!!!!!!!!!!!!!!!!!!!!!!!!!!!!!!!!!!!!!!!!!!!!!!!!!!!!!!!!!!!!!!!!!!\n",
    "# !!!                          L E X I C O N                                  !!!\n",
    "# !!!!!!!!!!!!!!!!!!!!!!!!!!!!!!!!!!!!!!!!!!!!!!!!!!!!!!!!!!!!!!!!!!!!!!!!!!!!!!!\n",
    "# \"\"\")\n",
    "    f.write(\"\"\"\n",
    "LEXICON Adverbs \n",
    "\n",
    "\"\"\")"
   ]
  },
  {
   "cell_type": "code",
   "execution_count": 42,
   "metadata": {
    "collapsed": true
   },
   "outputs": [],
   "source": [
    "to_write = []\n",
    "for i in poss['adv']:\n",
    "    x = chunks[i]\n",
    "    to_write.append('{0}:{0} ADV ;    ! {1}'.format(x['lex'], x['trans_ru']))\n",
    "to_write.append('\\n')\n",
    "\n",
    "\n",
    "to_write.append(\"\"\"\n",
    "LEXICON Interjections \n",
    "\n",
    "\"\"\")\n",
    "for i in poss['intj']:\n",
    "    x = chunks[i]\n",
    "    to_write.append('{0}:{0} INTJ ;    ! {1}'.format(x['lex'], x['trans_ru']))\n",
    "to_write.append('\\n')\n",
    "\n",
    "\n",
    "to_write.append(\"\"\"\n",
    "LEXICON Participles \n",
    "\n",
    "\"\"\")\n",
    "for i in poss['ptcp']:\n",
    "    x = chunks[i]\n",
    "    to_write.append('{0}:{0} PTCP ;    ! {1}'.format(x['lex'], x['trans_ru']))\n",
    "to_write.append('\\n')\n",
    "\n",
    "\n",
    "to_write.append(\"\"\"\n",
    "LEXICON Conjunctions \n",
    "\n",
    "\"\"\")\n",
    "for i in poss['conj']:\n",
    "    x = chunks[i]\n",
    "    to_write.append('{0}:{0} CONJ ;    ! {1}'.format(x['lex'], x['trans_ru']))\n",
    "to_write.append('\\n')\n",
    "\n",
    "\n",
    "to_write.append(\"\"\"\n",
    "LEXICON Particles \n",
    "\n",
    "\"\"\")\n",
    "for i in poss['part']:\n",
    "    x = chunks[i]\n",
    "    to_write.append('{0}:{0} PART ;    ! {1}'.format(x['lex'], x['trans_ru']))\n",
    "to_write.append('\\n')"
   ]
  },
  {
   "cell_type": "code",
   "execution_count": null,
   "metadata": {
    "collapsed": true
   },
   "outputs": [],
   "source": []
  }
 ],
 "metadata": {
  "anaconda-cloud": {},
  "kernelspec": {
   "display_name": "Python [conda root]",
   "language": "python",
   "name": "conda-root-py"
  },
  "language_info": {
   "codemirror_mode": {
    "name": "ipython",
    "version": 3
   },
   "file_extension": ".py",
   "mimetype": "text/x-python",
   "name": "python",
   "nbconvert_exporter": "python",
   "pygments_lexer": "ipython3",
   "version": "3.5.2"
  }
 },
 "nbformat": 4,
 "nbformat_minor": 1
}
