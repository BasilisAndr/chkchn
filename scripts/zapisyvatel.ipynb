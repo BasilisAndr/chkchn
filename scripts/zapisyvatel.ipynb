{
 "cells": [
  {
   "cell_type": "code",
   "execution_count": 1,
   "metadata": {
    "collapsed": true
   },
   "outputs": [],
   "source": [
    "import os\n",
    "import json\n",
    "from pprint import pprint"
   ]
  },
  {
   "cell_type": "code",
   "execution_count": 2,
   "metadata": {
    "collapsed": true
   },
   "outputs": [],
   "source": [
    "with open('dictionary.json') as f:\n",
    "    chunks = json.load(f)\n",
    "with open('classes_indices.json') as f:\n",
    "    classes = json.load(f)"
   ]
  },
  {
   "cell_type": "code",
   "execution_count": 3,
   "metadata": {
    "collapsed": false
   },
   "outputs": [
    {
     "name": "stdout",
     "output_type": "stream",
     "text": [
      "aa_or_class\n",
      "{'lex': 'ваңқасқор',\n",
      " 'paradigms': ['N-obl', 'N-nom-0', 'N-pl-t'],\n",
      " 'stem': ['ваңқасқаа', 'ваңқасқаа', 'ваңқасқор', 'ваңқасқаа'],\n",
      " 'trans_ru': 'важенка двух лет'}\n",
      "first_a_class\n",
      "{'lex': 'аатгыр',\n",
      " 'paradigms': ['N-obl', 'N-nom-0', 'N-pl-te'],\n",
      " 'stem': ['аатгыр', 'аатгыр', 'аатгыр', 'аатгыр'],\n",
      " 'trans_ru': '1) ручей в овраге; 2) овраг'}\n",
      "first_a_y_class\n",
      "{'lex': 'вивыт',\n",
      " 'paradigms': ['N-obl', 'N-nom-0', 'N-pl-yt'],\n",
      " 'stem': ['вивт', 'вэвт', 'вивыт', 'вивт'],\n",
      " 'trans_ru': 'китовый ус'}\n",
      "first_b_class\n",
      "{'lex': 'аңқы',\n",
      " 'paradigms': ['N-obl', 'N-nom-0', 'N-pl-t'],\n",
      " 'stem': ['аңқа', 'аңқа', 'аңқы', 'аңқа'],\n",
      " 'trans_ru': 'море'}\n",
      "first_c_class\n",
      "{'lex': 'айкол',\n",
      " 'paradigms': ['N-obl', 'N-nom-0', 'N-pl-t'],\n",
      " 'stem': ['айколя', 'айколя', 'айкол', 'айколя'],\n",
      " 'trans_ru': 'подстилка '}\n",
      "first_c_ng_to_n_class\n",
      "{'lex': \"э'йңэвыткунэн\",\n",
      " 'paradigms': ['N-obl', 'N-nom-n', 'N-pl-t'],\n",
      " 'stem': [\"э'йңэвыткунэңэ\",\n",
      "          \"а'йңавытконаңа\",\n",
      "          \"э'йңэвыткунэн\",\n",
      "          \"э'йңэвыткунэңэ\"],\n",
      " 'trans_ru': '* рожок; труба (музыкальный инструмент)'}\n",
      "first_g_j_class\n",
      "{'lex': 'ёмромкықай',\n",
      " 'paradigms': ['N-obl', 'N-nom-0', 'N-pl-te'],\n",
      " 'stem': ['ёмромкықаг', 'ёмромкықаг', 'ёмромкықай', 'ёмромкықаг'],\n",
      " 'trans_ru': 'куст'}\n",
      "first_n_ending_class\n",
      "{'lex': 'айголяткэгыргын',\n",
      " 'paradigms': ['N-obl', 'N-nom-n', 'N-pl'],\n",
      " 'stem': ['айголяткэгыргын',\n",
      "          'айголяткэгыргын',\n",
      "          'айголяткэгыргын',\n",
      "          'айголяткэгыргын'],\n",
      " 'trans_ru': 'невежество'}\n",
      "five_v_class\n",
      "{'lex': 'авээн',\n",
      " 'paradigms': ['N-obl', 'N-nom-0', 'N-pl-yt'],\n",
      " 'stem': ['авээнв', 'авээнв', 'авээн', 'авээнв'],\n",
      " 'trans_ru': 'пастбище'}\n",
      "five_v_reduced_class\n",
      "{'lex': 'агнотваны',\n",
      " 'paradigms': ['N-obl', 'N-nom-0', 'N-pl-yt'],\n",
      " 'stem': ['агнотванв', 'агнотванв', 'агнотваны', 'агнотванв'],\n",
      " 'trans_ru': 'лежбище моржей'}\n"
     ]
    }
   ],
   "source": [
    "cls_order = sorted(classes.keys())\n",
    "for cls in cls_order[:10]:\n",
    "    print(cls)\n",
    "    pprint(chunks[classes[cls][0]])"
   ]
  },
  {
   "cell_type": "code",
   "execution_count": 4,
   "metadata": {
    "collapsed": false
   },
   "outputs": [
    {
     "name": "stdout",
     "output_type": "stream",
     "text": [
      "['aa_or_class',\n",
      " 'first_a_class',\n",
      " 'first_a_y_class',\n",
      " 'first_b_class',\n",
      " 'first_c_class',\n",
      " 'first_c_ng_to_n_class',\n",
      " 'first_g_j_class',\n",
      " 'first_n_ending_class',\n",
      " 'five_v_class',\n",
      " 'five_v_reduced_class',\n",
      " 'lyngyn_class',\n",
      " 'lyngyn_g_j_class',\n",
      " 'ngy_class',\n",
      " 'qorangy_class',\n",
      " 'second_a_full_redup_class',\n",
      " 'second_b_redup_wo_last_letter_class',\n",
      " 'singulative_class',\n",
      " 'strange_star_first_a_class',\n",
      " 'strange_star_singulative_class',\n",
      " 'strange_star_third_class',\n",
      " 'strange_yn_except_absolutive_class',\n",
      " 'third_class',\n",
      " 'third_or_five_v_class']\n"
     ]
    }
   ],
   "source": [
    "pprint(cls_order)"
   ]
  },
  {
   "cell_type": "code",
   "execution_count": 5,
   "metadata": {
    "collapsed": false
   },
   "outputs": [],
   "source": [
    "folder = 'lexicons'\n",
    "if not os.path.exists(os.path.join('..', folder)):\n",
    "    os.mkdir(os.path.join('..', folder))\n",
    "\n",
    "dict_file = 'nominals.lexc'\n",
    "with open(os.path.join('..', folder, dict_file), 'w') as f:\n",
    "    f.write(\"\"\"!!!!!!!!!!!!!!!!!!!!!!!!!!!!!!!!!!!!!!!!!!!!!!!!!!!!!!!!!!!!!!!!!!!!!!!!!!!!!!!\n",
    "!!!                          L E X I C O N                                  !!!\n",
    "!!!!!!!!!!!!!!!!!!!!!!!!!!!!!!!!!!!!!!!!!!!!!!!!!!!!!!!!!!!!!!!!!!!!!!!!!!!!!!!\n",
    "\"\"\")\n",
    "    f.write(\"\"\"\n",
    "LEXICON Nouns \n",
    "\n",
    "\"\"\")"
   ]
  },
  {
   "cell_type": "code",
   "execution_count": 6,
   "metadata": {
    "collapsed": false
   },
   "outputs": [],
   "source": [
    "# разметить архифонемы и loan phonology\n",
    "# архифонемы - Æ и G\n",
    "# G в g_j, Æ везде\n",
    "\n",
    "# Æ\n",
    "recessive = set('уюи')\n",
    "\n",
    "for i in range(len(chunks)):\n",
    "    if set(chunks[i]['stem'][0])&recessive:\n",
    "        if 'э' in chunks[i]['stem'][0]:\n",
    "            chunks[i]['stem'][0] = chunks[i]['stem'][0].replace('э', '%{Æ%}') # 0 bcs i will take 0 as stem"
   ]
  },
  {
   "cell_type": "code",
   "execution_count": 7,
   "metadata": {
    "collapsed": true
   },
   "outputs": [],
   "source": [
    "# G\n",
    "for i in classes['first_g_j_class']+classes['lyngyn_g_j_class']:\n",
    "    chunks[i]['stem'][0] = chunks[i]['stem'][0][:-1]+'%{G%}'"
   ]
  },
  {
   "cell_type": "code",
   "execution_count": 12,
   "metadata": {
    "collapsed": false
   },
   "outputs": [],
   "source": [
    "with open('dictionary.json', 'w') as f:\n",
    "    chunks = json.dump(chunks, f)"
   ]
  },
  {
   "cell_type": "code",
   "execution_count": 8,
   "metadata": {
    "collapsed": true
   },
   "outputs": [],
   "source": [
    "tw_first_a = []\n",
    "for i in classes['first_a_class']:\n",
    "    x = chunks[i]\n",
    "    tw_first_a.append('{}:{} N-Ia-AATGYR ;    ! {}'.format(x['lex'], x['stem'][0], x['trans_ru']))"
   ]
  },
  {
   "cell_type": "code",
   "execution_count": 9,
   "metadata": {
    "collapsed": false
   },
   "outputs": [
    {
     "data": {
      "text/plain": [
       "['аатгыр:аатгыр N-Ia-AATGYR ;    ! 1) ручей в овраге; 2) овраг',\n",
       " 'август:август N-Ia-AATGYR ;    ! август',\n",
       " 'агротъым:агротъым N-Ia-AATGYR ;    ! 1) основная перекладина полога; 2) балка (строительная)',\n",
       " 'айвал:айвал N-Ia-AATGYR ;    ! место, защищенное от ветра',\n",
       " 'айвалқыл:айвалқыл N-Ia-AATGYR ;    ! теменная кость вместе с рогами']"
      ]
     },
     "execution_count": 9,
     "metadata": {},
     "output_type": "execute_result"
    }
   ],
   "source": [
    "tw_first_a[:5]"
   ]
  },
  {
   "cell_type": "code",
   "execution_count": 10,
   "metadata": {
    "collapsed": true
   },
   "outputs": [],
   "source": [
    "with open(os.path.join('..', folder, dict_file), 'a') as f:\n",
    "    f.write('\\n'.join(tw_first_a))"
   ]
  },
  {
   "cell_type": "code",
   "execution_count": null,
   "metadata": {
    "collapsed": true
   },
   "outputs": [],
   "source": []
  }
 ],
 "metadata": {
  "anaconda-cloud": {},
  "kernelspec": {
   "display_name": "Python [conda root]",
   "language": "python",
   "name": "conda-root-py"
  },
  "language_info": {
   "codemirror_mode": {
    "name": "ipython",
    "version": 3
   },
   "file_extension": ".py",
   "mimetype": "text/x-python",
   "name": "python",
   "nbconvert_exporter": "python",
   "pygments_lexer": "ipython3",
   "version": "3.5.2"
  }
 },
 "nbformat": 4,
 "nbformat_minor": 1
}
