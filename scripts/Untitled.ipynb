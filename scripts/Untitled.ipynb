{
 "cells": [
  {
   "cell_type": "code",
   "execution_count": 1,
   "metadata": {
    "collapsed": true
   },
   "outputs": [],
   "source": [
    "import os\n",
    "import json\n",
    "from pprint import pprint"
   ]
  },
  {
   "cell_type": "code",
   "execution_count": 2,
   "metadata": {
    "collapsed": true
   },
   "outputs": [],
   "source": [
    "with open('dictionary.json') as f:\n",
    "    chunks = json.load(f)\n",
    "with open('undone.json') as f:\n",
    "    undone = json.load(f)"
   ]
  },
  {
   "cell_type": "code",
   "execution_count": 4,
   "metadata": {
    "collapsed": false
   },
   "outputs": [
    {
     "data": {
      "text/plain": [
       "427"
      ]
     },
     "execution_count": 4,
     "metadata": {},
     "output_type": "execute_result"
    }
   ],
   "source": [
    "len(undone)"
   ]
  },
  {
   "cell_type": "code",
   "execution_count": 28,
   "metadata": {
    "collapsed": false
   },
   "outputs": [
    {
     "name": "stdout",
     "output_type": "stream",
     "text": [
      "{'lex': 'кыргэп',\n",
      " 'paradigms': ['N-obl', 'N-nom-0', 'N-pl'],\n",
      " 'stem': ['кыргэп', '', 'кыргэпыт//кыргыпчекыт'],\n",
      " 'trans_ru': '(2) летний сапог (торбаз) из короткошёрстных шкур'}\n",
      "{'lex': 'рынгыпченаӈ',\n",
      " 'paradigms': [],\n",
      " 'stem': ['рынгыпченаӈ', '', 'рынгыпченаӈат'],\n",
      " 'trans_ru': 'зубочистка'}\n",
      "{'lex': 'рынныԓгын',\n",
      " 'paradigms': ['N-obl', 'N-nom-lgyn', 'N-pl'],\n",
      " 'stem': ['рынны', '', 'рынныт'],\n",
      " 'trans_ru': '1) зуб; 2) рог'}\n",
      "{'lex': 'рынным',\n",
      " 'paradigms': ['N-obl', 'N-nom-0', 'N-pl'],\n",
      " 'stem': ['рынным', '', 'рыннымыт'],\n",
      " 'trans_ru': 'десна'}\n",
      "{'lex': 'рыннымай',\n",
      " 'paradigms': ['N-obl', 'N-nom-0', 'N-pl'],\n",
      " 'stem': ['рыннымай', '', 'рыннымагтэ'],\n",
      " 'trans_ru': 'куча рогов в тундре'}\n",
      "{'lex': 'рыновыргын',\n",
      " 'paradigms': ['N-obl', 'N-nom-n', 'N-pl'],\n",
      " 'stem': ['рыновырг.//.рыногырг', '', 'рыновыргыт'],\n",
      " 'trans_ru': '* дымовое отверстие'}\n"
     ]
    }
   ],
   "source": [
    "# tw = []\n",
    "for i in undone:\n",
    "#     print(len(set(chunks[i]['stem'])))\n",
    "    if len(chunks[i]['stem']) < 4:\n",
    "        pprint(chunks[i])\n",
    "#     if len(''.join(chunks[i]['stem']).split('//'))==5:\n",
    "#         tw.append(i)"
   ]
  },
  {
   "cell_type": "code",
   "execution_count": 11,
   "metadata": {
    "collapsed": false
   },
   "outputs": [
    {
     "data": {
      "text/plain": [
       "4"
      ]
     },
     "execution_count": 11,
     "metadata": {},
     "output_type": "execute_result"
    }
   ],
   "source": [
    "len(tw)"
   ]
  },
  {
   "cell_type": "code",
   "execution_count": 12,
   "metadata": {
    "collapsed": false
   },
   "outputs": [
    {
     "name": "stdout",
     "output_type": "stream",
     "text": [
      "{'lex': 'айватлён',\n",
      " 'paradigms': ['N-obl', 'N-nom-n', 'N-pl'],\n",
      " 'stem': ['айватлён//айватрон',\n",
      "          'айватлён//айватрон',\n",
      "          'айватлён//айватрон',\n",
      "          'айватлён//айватрон'],\n",
      " 'trans_ru': 'левая от входа сторона полога'}\n",
      "{'lex': 'алкылгыргын',\n",
      " 'paradigms': ['N-obl', 'N-nom-n', 'N-pl'],\n",
      " 'stem': ['алкылгыргын//алкыльёлгын',\n",
      "          'алкылгыргын//алкыльёлгын',\n",
      "          'алкылгыргын//алкыльёлгын',\n",
      "          'алкылгыргын//алкыльёлгын'],\n",
      " 'trans_ru': 'узнавание'}\n",
      "{'lex': 'аройвычьат',\n",
      " 'paradigms': ['N-obl', 'N-nom-0', 'N-pl'],\n",
      " 'stem': ['аройвычьат.//.аройвычьатгырг',\n",
      "          'аройвычьат.//.аройвычьатгырг',\n",
      "          'аройвычьат.//.аройвычьатгырг',\n",
      "          'аройвычьат.//.аройвычьатгырг'],\n",
      " 'trans_ru': '1) здоровье; 2) мужество'}\n",
      "{'lex': 'аттывэгыргын',\n",
      " 'paradigms': ['N-obl', 'N-nom-n', 'N-pl'],\n",
      " 'stem': ['аттывэгырг.//.артывэгырг',\n",
      "          'аттывэгырг.//.артывэгырг',\n",
      "          'аттывэгырг.//.артывэгырг',\n",
      "          'аттывэгырг.//.артывэгырг'],\n",
      " 'trans_ru': '1) узкое место реки, озера; 2) стремнина реки'}\n"
     ]
    }
   ],
   "source": [
    "for i in tw:\n",
    "    pprint(chunks[i])"
   ]
  },
  {
   "cell_type": "code",
   "execution_count": 3,
   "metadata": {
    "collapsed": true
   },
   "outputs": [],
   "source": [
    "for i in range(len(chunks)):\n",
    "    for key in ['lex', 'paradigms', 'stem']:\n",
    "        if chunks[i][key].__class__ == ''.__class__:\n",
    "            chunks[i][key] = chunks[i][key].replace('ң', 'ӈ').replace('қ', 'ӄ').replace('л', 'ԓ').replace(\"'\", 'ʼ')\n",
    "        else:\n",
    "            chunks[i][key] = list(map(lambda x: x.replace('ң', 'ӈ').replace('қ', 'ӄ').replace('л', 'ԓ').replace(\"'\", 'ʼ'), chunks[i][key]))"
   ]
  },
  {
   "cell_type": "code",
   "execution_count": 6,
   "metadata": {
    "collapsed": false
   },
   "outputs": [],
   "source": [
    "with open('../lexicons/nominalu.lexc', 'a') as f:\n",
    "    f.write('\\n\\n\\n')\n",
    "    for i in undone:\n",
    "        if len(chunks[i]['stem']) == 4:\n",
    "            if len(set(chunks[i]['stem'])) == 1:\n",
    "                pass\n",
    "    #             for st in list(map(lambda x: x.strip('.'), chunks[i]['stem'][0].split('//'))):\n",
    "    #                 f.write('{}:{} N-I-AATGYR       ! {}\\n'.format(chunks[i]['lex'], st, chunks[i]['trans_ru']))\n",
    "            else:\n",
    "                f.write('{}:{} N-I-AATGYR ;       ! {}\\n'.format(chunks[i]['lex'], chunks[i]['stem'][2], chunks[i]['trans_ru']))\n",
    "                for st in set(chunks[i]['stem'][:2]+[chunks[i]['stem'][3]]):\n",
    "                    f.write('{}:{} N-OBL ;       ! {}\\n'.format(chunks[i]['lex'], st, chunks[i]['trans_ru']))\n",
    "        else:\n",
    "            for st in chunks[i]['stem']:\n",
    "                f.write('{}:{} N-I-AATGYR ;       ! {}\\n'.format(chunks[i]['lex'], st, chunks[i]['trans_ru']))\n",
    "        f.write('!\\n')"
   ]
  },
  {
   "cell_type": "code",
   "execution_count": 10,
   "metadata": {
    "collapsed": false
   },
   "outputs": [
    {
     "data": {
      "text/plain": [
       "['v', 'h']"
      ]
     },
     "execution_count": 10,
     "metadata": {},
     "output_type": "execute_result"
    }
   ],
   "source": [
    "s = 'dh'\n",
    "list(map(lambda x: x.replace('d', 'v'), s))"
   ]
  },
  {
   "cell_type": "code",
   "execution_count": 15,
   "metadata": {
    "collapsed": false
   },
   "outputs": [
    {
     "data": {
      "text/plain": [
       "['lex', 'paradigms', 'trans_ru', 'stem']"
      ]
     },
     "execution_count": 15,
     "metadata": {},
     "output_type": "execute_result"
    }
   ],
   "source": [
    "list(chunks[i].keys())"
   ]
  },
  {
   "cell_type": "code",
   "execution_count": 16,
   "metadata": {
    "collapsed": false
   },
   "outputs": [
    {
     "data": {
      "text/plain": [
       "str"
      ]
     },
     "execution_count": 16,
     "metadata": {},
     "output_type": "execute_result"
    }
   ],
   "source": [
    "s.__class__"
   ]
  },
  {
   "cell_type": "code",
   "execution_count": null,
   "metadata": {
    "collapsed": true
   },
   "outputs": [],
   "source": []
  }
 ],
 "metadata": {
  "anaconda-cloud": {},
  "kernelspec": {
   "display_name": "Python [default]",
   "language": "python",
   "name": "python3"
  },
  "language_info": {
   "codemirror_mode": {
    "name": "ipython",
    "version": 3
   },
   "file_extension": ".py",
   "mimetype": "text/x-python",
   "name": "python",
   "nbconvert_exporter": "python",
   "pygments_lexer": "ipython3",
   "version": "3.5.2"
  }
 },
 "nbformat": 4,
 "nbformat_minor": 1
}
