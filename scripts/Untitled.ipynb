{
 "cells": [
  {
   "cell_type": "code",
   "execution_count": 1,
   "metadata": {
    "collapsed": true
   },
   "outputs": [],
   "source": [
    "import os\n",
    "import json\n",
    "from pprint import pprint"
   ]
  },
  {
   "cell_type": "code",
   "execution_count": 2,
   "metadata": {
    "collapsed": true
   },
   "outputs": [],
   "source": [
    "with open('dictionary.json') as f:\n",
    "    chunks = json.load(f)\n",
    "with open('undone.json') as f:\n",
    "    undone = json.load(f)"
   ]
  },
  {
   "cell_type": "code",
   "execution_count": 3,
   "metadata": {
    "collapsed": false
   },
   "outputs": [
    {
     "name": "stdout",
     "output_type": "stream",
     "text": [
      "{'lex': 'аё',\n",
      " 'paradigms': ['N-obl', 'N-nom-0', 'N-pl-t'],\n",
      " 'stem': ['айва', 'айва', 'аё', 'айва'],\n",
      " 'trans_ru': 'головной мозг'}\n",
      "{'lex': 'айван',\n",
      " 'paradigms': ['N-obl', 'N-nom-n', 'N-pl-yt'],\n",
      " 'stem': ['айваналь', 'айваналь', 'айва.//.айваналь', 'айваналь'],\n",
      " 'trans_ru': 'эскимос'}\n",
      "{'lex': 'айватлён',\n",
      " 'paradigms': ['N-obl', 'N-nom-n', 'N-pl'],\n",
      " 'stem': ['айватлён//айватрон',\n",
      "          'айватлён//айватрон',\n",
      "          'айватлён//айватрон',\n",
      "          'айватлён//айватрон'],\n",
      " 'trans_ru': 'левая от входа сторона полога'}\n",
      "{'lex': 'ақын',\n",
      " 'paradigms': ['N-obl', 'N-nom-n', 'N-pl-yt'],\n",
      " 'stem': [\"а'н\", \"а'н\", 'ақ', \"а'н\"],\n",
      " 'trans_ru': '1) удочка, леска, рыболовный крючок; 2) «закидушка» '\n",
      "             '(приспособление для поимки убитых нерп)'}\n",
      "{'lex': 'алкылгыргын',\n",
      " 'paradigms': ['N-obl', 'N-nom-n', 'N-pl'],\n",
      " 'stem': ['алкылгыргын//алкыльёлгын',\n",
      "          'алкылгыргын//алкыльёлгын',\n",
      "          'алкылгыргын//алкыльёлгын',\n",
      "          'алкылгыргын//алкыльёлгын'],\n",
      " 'trans_ru': 'узнавание'}\n",
      "{'lex': 'амыпчакылгын',\n",
      " 'paradigms': ['N-obl', 'N-nom-lgyn', 'N-pl-yt'],\n",
      " 'stem': ['эмыпчек', 'амыпчяк', 'амыпчакы', 'эмыпчек'],\n",
      " 'trans_ru': 'короткий сапог (торбаз) из нерпичьей шкуры '}\n",
      "{'lex': 'анңатъытвъат',\n",
      " 'paradigms': ['N-obl', 'N-nom-0', 'N-pl-yt'],\n",
      " 'stem': ['анңатъытв', 'анңатъытв', 'анңатъытвъат', 'анңатъытв'],\n",
      " 'trans_ru': 'подводная лодка'}\n",
      "{'lex': 'аңатлыңын',\n",
      " 'paradigms': ['N-obl', 'N-nom-n', 'N-pl-ti'],\n",
      " 'stem': ['эңэр', 'аңар', 'аңат', 'эңэр'],\n",
      " 'trans_ru': 'звезда'}\n",
      "{'lex': 'аңқароқыр',\n",
      " 'paradigms': ['N-obl', 'N-nom-0', 'N-pl-t'],\n",
      " 'stem': ['аңқаръора', 'аңқаръора', 'аңқароқыр', 'аңқаръора'],\n",
      " 'trans_ru': 'морской ёж'}\n",
      "{'lex': 'аркамак',\n",
      " 'paradigms': ['N-obl', 'N-nom-0', 'N-pl'],\n",
      " 'stem': ['аркама', 'аркама', 'аркама', 'аркама'],\n",
      " 'trans_ru': '1) выемка на нижнем конце мачты; 2) палка с вилкообразным '\n",
      "             'концом; 3) деревянное огниво'}\n",
      "{'lex': 'аройвычьат',\n",
      " 'paradigms': ['N-obl', 'N-nom-0', 'N-pl'],\n",
      " 'stem': ['аройвычьат.//.аройвычьатгырг',\n",
      "          'аройвычьат.//.аройвычьатгырг',\n",
      "          'аройвычьат.//.аройвычьатгырг',\n",
      "          'аройвычьат.//.аройвычьатгырг'],\n",
      " 'trans_ru': '1) здоровье; 2) мужество'}\n",
      "{'lex': 'арэқаңо',\n",
      " 'paradigms': ['N-obl', 'N-nom-0', 'N-pl-t'],\n",
      " 'stem': [\"а'рэқаңо\", \"а'рэқаңо\", 'арэқаңо', \"а'рэқаңо\"],\n",
      " 'trans_ru': 'олень с белой шерстью на брюхе'}\n",
      "{'lex': 'аттывэгыргын',\n",
      " 'paradigms': ['N-obl', 'N-nom-n', 'N-pl'],\n",
      " 'stem': ['аттывэгырг.//.артывэгырг',\n",
      "          'аттывэгырг.//.артывэгырг',\n",
      "          'аттывэгырг.//.артывэгырг',\n",
      "          'аттывэгырг.//.артывэгырг'],\n",
      " 'trans_ru': '1) узкое место реки, озера; 2) стремнина реки'}\n",
      "{'lex': 'атэ',\n",
      " 'paradigms': ['N-obl', 'N-nom-0', 'N-pl-te'],\n",
      " 'stem': ['атэн', 'атэн', 'атэ', 'атэн'],\n",
      " 'trans_ru': 'папа'}\n",
      "{'lex': 'ачьыквылгын',\n",
      " 'paradigms': ['N-obl', 'N-nom-lgyn', 'N-pl-yt'],\n",
      " 'stem': ['ачьыкв', 'ачьыкв', 'ачьыквы.//.ачьыкв', 'ачьыкв'],\n",
      " 'trans_ru': '1) кремень; 2) пёстрый камень'}\n"
     ]
    }
   ],
   "source": [
    "for i in undone[:15]:\n",
    "    pprint(chunks[i])"
   ]
  },
  {
   "cell_type": "code",
   "execution_count": 4,
   "metadata": {
    "collapsed": false
   },
   "outputs": [
    {
     "data": {
      "text/plain": [
       "427"
      ]
     },
     "execution_count": 4,
     "metadata": {},
     "output_type": "execute_result"
    }
   ],
   "source": [
    "len(undone)"
   ]
  },
  {
   "cell_type": "code",
   "execution_count": null,
   "metadata": {
    "collapsed": true
   },
   "outputs": [],
   "source": []
  }
 ],
 "metadata": {
  "anaconda-cloud": {},
  "kernelspec": {
   "display_name": "Python [default]",
   "language": "python",
   "name": "python3"
  },
  "language_info": {
   "codemirror_mode": {
    "name": "ipython",
    "version": 3
   },
   "file_extension": ".py",
   "mimetype": "text/x-python",
   "name": "python",
   "nbconvert_exporter": "python",
   "pygments_lexer": "ipython3",
   "version": "3.5.2"
  }
 },
 "nbformat": 4,
 "nbformat_minor": 1
}
