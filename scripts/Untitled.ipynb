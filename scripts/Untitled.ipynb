{
 "cells": [
  {
   "cell_type": "code",
   "execution_count": 1,
   "metadata": {
    "collapsed": true
   },
   "outputs": [],
   "source": [
    "import os\n",
    "import json\n",
    "from pprint import pprint"
   ]
  },
  {
   "cell_type": "code",
   "execution_count": 2,
   "metadata": {
    "collapsed": true
   },
   "outputs": [],
   "source": [
    "with open('dictionary.json') as f:\n",
    "    chunks = json.load(f)\n",
    "with open('undone.json') as f:\n",
    "    undone = json.load(f)"
   ]
  },
  {
   "cell_type": "code",
   "execution_count": 10,
   "metadata": {
    "collapsed": false
   },
   "outputs": [],
   "source": [
    "tw = []\n",
    "for i in undone[:15]:\n",
    "#     pprint(chunks[i])\n",
    "    if len(''.join(chunks[i]['stem']).split('//'))==5:\n",
    "        tw.append(i)"
   ]
  },
  {
   "cell_type": "code",
   "execution_count": 11,
   "metadata": {
    "collapsed": false
   },
   "outputs": [
    {
     "data": {
      "text/plain": [
       "4"
      ]
     },
     "execution_count": 11,
     "metadata": {},
     "output_type": "execute_result"
    }
   ],
   "source": [
    "len(tw)"
   ]
  },
  {
   "cell_type": "code",
   "execution_count": 12,
   "metadata": {
    "collapsed": false
   },
   "outputs": [
    {
     "name": "stdout",
     "output_type": "stream",
     "text": [
      "{'lex': 'айватлён',\n",
      " 'paradigms': ['N-obl', 'N-nom-n', 'N-pl'],\n",
      " 'stem': ['айватлён//айватрон',\n",
      "          'айватлён//айватрон',\n",
      "          'айватлён//айватрон',\n",
      "          'айватлён//айватрон'],\n",
      " 'trans_ru': 'левая от входа сторона полога'}\n",
      "{'lex': 'алкылгыргын',\n",
      " 'paradigms': ['N-obl', 'N-nom-n', 'N-pl'],\n",
      " 'stem': ['алкылгыргын//алкыльёлгын',\n",
      "          'алкылгыргын//алкыльёлгын',\n",
      "          'алкылгыргын//алкыльёлгын',\n",
      "          'алкылгыргын//алкыльёлгын'],\n",
      " 'trans_ru': 'узнавание'}\n",
      "{'lex': 'аройвычьат',\n",
      " 'paradigms': ['N-obl', 'N-nom-0', 'N-pl'],\n",
      " 'stem': ['аройвычьат.//.аройвычьатгырг',\n",
      "          'аройвычьат.//.аройвычьатгырг',\n",
      "          'аройвычьат.//.аройвычьатгырг',\n",
      "          'аройвычьат.//.аройвычьатгырг'],\n",
      " 'trans_ru': '1) здоровье; 2) мужество'}\n",
      "{'lex': 'аттывэгыргын',\n",
      " 'paradigms': ['N-obl', 'N-nom-n', 'N-pl'],\n",
      " 'stem': ['аттывэгырг.//.артывэгырг',\n",
      "          'аттывэгырг.//.артывэгырг',\n",
      "          'аттывэгырг.//.артывэгырг',\n",
      "          'аттывэгырг.//.артывэгырг'],\n",
      " 'trans_ru': '1) узкое место реки, озера; 2) стремнина реки'}\n"
     ]
    }
   ],
   "source": [
    "for i in tw:\n",
    "    pprint(chunks[i])"
   ]
  },
  {
   "cell_type": "code",
   "execution_count": null,
   "metadata": {
    "collapsed": true
   },
   "outputs": [],
   "source": []
  }
 ],
 "metadata": {
  "anaconda-cloud": {},
  "kernelspec": {
   "display_name": "Python [default]",
   "language": "python",
   "name": "python3"
  },
  "language_info": {
   "codemirror_mode": {
    "name": "ipython",
    "version": 3
   },
   "file_extension": ".py",
   "mimetype": "text/x-python",
   "name": "python",
   "nbconvert_exporter": "python",
   "pygments_lexer": "ipython3",
   "version": "3.5.2"
  }
 },
 "nbformat": 4,
 "nbformat_minor": 1
}
