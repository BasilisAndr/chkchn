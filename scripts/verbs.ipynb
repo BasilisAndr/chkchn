{
 "cells": [
  {
   "cell_type": "code",
   "execution_count": 1,
   "metadata": {
    "collapsed": true
   },
   "outputs": [],
   "source": [
    "import os, json\n",
    "from pprint import pprint"
   ]
  },
  {
   "cell_type": "code",
   "execution_count": 64,
   "metadata": {
    "collapsed": true
   },
   "outputs": [],
   "source": [
    "with open('verbs_unparsed.json') as f:\n",
    "    chunks = json.load(f)"
   ]
  },
  {
   "cell_type": "code",
   "execution_count": 65,
   "metadata": {
    "collapsed": true
   },
   "outputs": [],
   "source": [
    "for ch in chunks:\n",
    "    ch['stem'] = list(map(lambda x: x.strip('.,;*()[]:&?! '), ch['stem'].split('|')))\n",
    "    ch['lex'] = ch['lex'].strip('.,;*()[]:&?! ')"
   ]
  },
  {
   "cell_type": "code",
   "execution_count": 4,
   "metadata": {
    "collapsed": false
   },
   "outputs": [
    {
     "data": {
      "text/plain": [
       "1716"
      ]
     },
     "execution_count": 4,
     "metadata": {},
     "output_type": "execute_result"
    }
   ],
   "source": [
    "verbs = []\n",
    "undefined = []\n",
    "twos = []\n",
    "undef_twos = []\n",
    "for i in range(len(chunks)):\n",
    "    if chunks[i]['gramm'] == 'V':\n",
    "        if len(chunks[i]['stem'])<2:\n",
    "            if '/' not in ''.join(chunks[i]['stem']):\n",
    "                verbs.append(i)\n",
    "            else:\n",
    "                undefined.append(i)\n",
    "        else:\n",
    "            if '/' in ''.join(chunks[i]['stem']):\n",
    "                undef_twos.append(i)\n",
    "            else:\n",
    "                twos.append(i)\n",
    "\n",
    "\n",
    "len(verbs)"
   ]
  },
  {
   "cell_type": "code",
   "execution_count": 5,
   "metadata": {
    "collapsed": false
   },
   "outputs": [
    {
     "name": "stdout",
     "output_type": "stream",
     "text": [
      "156\n",
      "179\n",
      "64\n"
     ]
    }
   ],
   "source": [
    "print(len(twos))\n",
    "print(len(undef_twos))\n",
    "print(len(undefined))"
   ]
  },
  {
   "cell_type": "code",
   "execution_count": 66,
   "metadata": {
    "collapsed": false
   },
   "outputs": [
    {
     "name": "stdout",
     "output_type": "stream",
     "text": [
      "601\n",
      "{'gramm': 'V',\n",
      " 'lex': 'кылтыкыл',\n",
      " 'paradigms': [],\n",
      " 'stem': ['кылтыкыл//.кылт', 'кылтыт'],\n",
      " 'trans_ru': '1) связка; 2) воз'}\n",
      "1036\n",
      "{'gramm': 'V',\n",
      " 'lex': 'паннатъеқ',\n",
      " 'paradigms': ['V-tr', 'V-intr'],\n",
      " 'stem': ['паннатъеқ.//.паннэе', 'паннатъеқыт'],\n",
      " 'trans_ru': '* топорок (птица)'}\n",
      "1443\n",
      "{'gramm': 'V',\n",
      " 'lex': 'рымыркувык',\n",
      " 'paradigms': [],\n",
      " 'stem': ['рымыркув.//.рымыркэв', 'нмыркув', 'нмырков'],\n",
      " 'trans_ru': 'облегчить (ношу)'}\n"
     ]
    }
   ],
   "source": [
    "for i in undefined:\n",
    "    chunks[i]['stem'] = list(map(lambda x: x.strip('.'), chunks[i]['stem'][0].split('//')))\n",
    "\n",
    "\n",
    "for i in undef_twos:\n",
    "    chunks[i]['stem'] = [chunks[i]['stem'][0]] + chunks[i]['stem'][1].split('.//.')\n",
    "    if '//' in ''.join(chunks[i]['stem']):\n",
    "        print(i)\n",
    "        pprint(chunks[i])"
   ]
  },
  {
   "cell_type": "code",
   "execution_count": 67,
   "metadata": {
    "collapsed": false
   },
   "outputs": [],
   "source": [
    "for i in [601, 1036, 1443]:\n",
    "    chunks[i]['stem'] = list(map(lambda x: x.strip('.'), chunks[i]['stem'][0].split('//'))) + chunks[i]['stem'][1:]"
   ]
  },
  {
   "cell_type": "code",
   "execution_count": 68,
   "metadata": {
    "collapsed": false
   },
   "outputs": [],
   "source": [
    "for i in range(len(chunks)):\n",
    "    chunks[i]['lex'] = chunks[i]['lex'].replace('ң', 'ӈ')\n",
    "    chunks[i]['lex'] = chunks[i]['lex'].replace('қ', 'ӄ')\n",
    "    chunks[i]['lex'] = chunks[i]['lex'].replace('л', 'ԓ')\n",
    "    chunks[i]['lex'] = chunks[i]['lex'].replace(\"'\", 'ʼ')\n",
    "    chunks[i]['stem'] = list(map(lambda x: x.replace('ң', 'ӈ'), chunks[i]['stem']))\n",
    "    chunks[i]['stem'] = list(map(lambda x: x.replace('қ', 'ӄ'), chunks[i]['stem']))\n",
    "    chunks[i]['stem'] = list(map(lambda x: x.replace('л', 'ԓ'), chunks[i]['stem']))\n",
    "    chunks[i]['stem'] = list(map(lambda x: x.replace(\"'\", 'ʼ'), chunks[i]['stem']))\n",
    "    chunks[i]['stem'] = list(map(lambda x: x[:-1] if x[-1]=='ы' else x, chunks[i]['stem']))"
   ]
  },
  {
   "cell_type": "code",
   "execution_count": 10,
   "metadata": {
    "collapsed": true
   },
   "outputs": [],
   "source": [
    "folder = 'lexicons'\n",
    "if not os.path.exists(os.path.join('..', folder)):\n",
    "    os.mkdir(os.path.join('..', folder))\n",
    "\n",
    "dict_file = 'verbs.lexc'\n",
    "with open(os.path.join('..', folder, dict_file), 'w') as f:\n",
    "#     f.write(\"\"\"!!!!!!!!!!!!!!!!!!!!!!!!!!!!!!!!!!!!!!!!!!!!!!!!!!!!!!!!!!!!!!!!!!!!!!!!!!!!!!!\n",
    "# !!!                          L E X I C O N                                  !!!\n",
    "# !!!!!!!!!!!!!!!!!!!!!!!!!!!!!!!!!!!!!!!!!!!!!!!!!!!!!!!!!!!!!!!!!!!!!!!!!!!!!!!\n",
    "# \"\"\")\n",
    "    f.write(\"\"\"\n",
    "LEXICON Verbs \n",
    "\n",
    "\"\"\")"
   ]
  },
  {
   "cell_type": "code",
   "execution_count": 11,
   "metadata": {
    "collapsed": true
   },
   "outputs": [],
   "source": [
    "to_write = []\n",
    "for i in verbs:\n",
    "    x = chunks[i]\n",
    "    to_write.append('{}:{} V ;    ! {}'.format(x['lex'], x['stem'][0], x['trans_ru']))\n",
    "to_write.append('\\n')"
   ]
  },
  {
   "cell_type": "code",
   "execution_count": 12,
   "metadata": {
    "collapsed": true
   },
   "outputs": [],
   "source": [
    "with open(os.path.join('..', folder, dict_file), 'a') as f:\n",
    "    f.write('\\n'.join(to_write))"
   ]
  },
  {
   "cell_type": "code",
   "execution_count": 69,
   "metadata": {
    "collapsed": false
   },
   "outputs": [
    {
     "name": "stdout",
     "output_type": "stream",
     "text": [
      "114\n"
     ]
    },
    {
     "data": {
      "text/plain": [
       "285"
      ]
     },
     "execution_count": 69,
     "metadata": {},
     "output_type": "execute_result"
    }
   ],
   "source": [
    "to_write = []\n",
    "still_not = []\n",
    "nr = set('нр')\n",
    "tn = set('тн')\n",
    "for i in twos+undefined+undef_twos:\n",
    "    x = chunks[i]\n",
    "\n",
    "    if len(x['stem'][0])-len(x['stem'][1])==1 and x['stem'][0][1]=='ы':\n",
    "        x['stem'] = list(map(lambda l: l[0]+'%{ы%}'+l[1:] if l[1]!='ы' else l[0]+'%{ы%}'+l[2:], x['stem']))\n",
    "    if set(map(lambda y: y[1], x['stem'])) == set('ыъ'):\n",
    "        x['stem'] = list(map(lambda l: l[0]+'%{ы%}'+l[2:], x['stem']))\n",
    "    if set(map(lambda y: y[0], x['stem'])) == nr:\n",
    "        x['stem'] = list(map(lambda l: '%{R%}'+l[1:], x['stem']))\n",
    "    if set(map(lambda y: y[0], x['stem'])) == tn:\n",
    "        x['stem'] = list(map(lambda l: 'т'+l[1:], x['stem']))\n",
    "            \n",
    "    if len(set(x['stem'])) == 1:\n",
    "        to_write.append('{}:{} V ;    ! {}'.format(x['lex'], x['stem'][0], x['trans_ru']))\n",
    "    else:\n",
    "        still_not.append(x)\n",
    "print(len(to_write))\n",
    "len(still_not)"
   ]
  },
  {
   "cell_type": "code",
   "execution_count": 75,
   "metadata": {
    "collapsed": false
   },
   "outputs": [],
   "source": [
    "for x in still_not:\n",
    "    if 'ык' in list(map(lambda y: y[-2:], x['stem'])):\n",
    "        x['stem'] = list(map(lambda y: y.strip('ык'), x['stem']))"
   ]
  },
  {
   "cell_type": "code",
   "execution_count": 82,
   "metadata": {
    "collapsed": false
   },
   "outputs": [
    {
     "name": "stdout",
     "output_type": "stream",
     "text": [
      "no\n",
      "no\n",
      "no\n",
      "no\n",
      "no\n",
      "no\n",
      "no\n"
     ]
    }
   ],
   "source": [
    "for x in still_not:\n",
    "    for end in 'ԓьэт тку ԓьат тко ыԓьэт ытку ыԓьат ытко ръу ръо ыръу ыръо'.split():\n",
    "        if x['stem'][1]==x['stem'][0]+end:\n",
    "            x['stem']"
   ]
  },
  {
   "cell_type": "code",
   "execution_count": 76,
   "metadata": {
    "collapsed": false
   },
   "outputs": [
    {
     "name": "stdout",
     "output_type": "stream",
     "text": [
      "{'gramm': 'V',\n",
      " 'lex': 'гыпик',\n",
      " 'paradigms': ['V-tr', 'V-intr'],\n",
      " 'stem': ['гыпи', 'гыпиԓьэт'],\n",
      " 'trans_ru': '1) заниматься домашними делами; 2) работать дома'}\n",
      "2\n",
      "{'gramm': 'V',\n",
      " 'lex': 'ивыпэтык',\n",
      " 'paradigms': ['V-tr', 'V-intr'],\n",
      " 'stem': ['ивыпэт', 'игыпэт'],\n",
      " 'trans_ru': 'стесняться'}\n",
      "2\n",
      "{'gramm': 'V',\n",
      " 'lex': 'иткэк',\n",
      " 'paradigms': ['V-tr', 'V-intr'],\n",
      " 'stem': ['иткэ', 'иткэтку'],\n",
      " 'trans_ru': 'отнимать'}\n",
      "2\n",
      "{'gramm': 'V',\n",
      " 'lex': 'итчувйиӈэтык',\n",
      " 'paradigms': ['V-tr', 'V-intr'],\n",
      " 'stem': ['итчувйиӈэт', 'ичувчиӈэԓ'],\n",
      " 'trans_ru': 'вздохнуть'}\n",
      "2\n",
      "{'gramm': 'V',\n",
      " 'lex': 'йиԓюк',\n",
      " 'paradigms': ['V-tr', 'V-intr'],\n",
      " 'stem': ['йиԓю', 'йиԓютку'],\n",
      " 'trans_ru': '1) заступаться; 2) защищать'}\n",
      "2\n",
      "{'gramm': 'V',\n",
      " 'lex': 'йынатык',\n",
      " 'paradigms': ['V-tr', 'V-intr'],\n",
      " 'stem': ['йынат', 'йынатытко'],\n",
      " 'trans_ru': 'просить, требовать (что-л.)'}\n",
      "2\n",
      "{'gramm': 'V',\n",
      " 'lex': 'кагнотык',\n",
      " 'paradigms': ['V-tr', 'V-intr'],\n",
      " 'stem': ['агнот', 'агноткынат'],\n",
      " 'trans_ru': 'вставать на цыпочки'}\n",
      "2\n",
      "{'gramm': 'V',\n",
      " 'lex': 'кимыԓтэтык',\n",
      " 'paradigms': ['V-tr', 'V-intr'],\n",
      " 'stem': ['имыԓтэт', 'имычьэт', 'имэв'],\n",
      " 'trans_ru': ' задерживаться, опаздывать'}\n",
      "3\n",
      "{'gramm': 'V',\n",
      " 'lex': 'китчек',\n",
      " 'paradigms': ['V-tr', 'V-intr'],\n",
      " 'stem': ['китче', 'китчет'],\n",
      " 'trans_ru': 'бросать якорь'}\n",
      "2\n",
      "{'gramm': 'V',\n",
      " 'lex': 'кыёчгыткок',\n",
      " 'paradigms': ['V-tr', 'V-intr'],\n",
      " 'stem': ['кыёчгытко', 'кыёчгыткочьат'],\n",
      " 'trans_ru': 'пошатываться'}\n",
      "2\n",
      "{'gramm': 'V',\n",
      " 'lex': 'кэнчиӄык',\n",
      " 'paradigms': ['V-tr', 'V-intr'],\n",
      " 'stem': ['кэнчиӄ', 'кэнчьи'],\n",
      " 'trans_ru': 'бить хлыстом'}\n",
      "2\n",
      "{'gramm': 'V',\n",
      " 'lex': 'ӄытрирэк',\n",
      " 'paradigms': ['V-tr', 'V-intr'],\n",
      " 'stem': ['ӄытрирэ', 'ӄытчирэ'],\n",
      " 'trans_ru': 'надоедать'}\n",
      "2\n",
      "{'gramm': 'V',\n",
      " 'lex': 'ӄэвъячатык',\n",
      " 'paradigms': ['V-tr', 'V-intr'],\n",
      " 'stem': ['ӄэвъячат', 'ӄэвъят'],\n",
      " 'trans_ru': 'испаряться'}\n",
      "2\n",
      "{'gramm': 'V',\n",
      " 'lex': 'ӄэргытԓявык',\n",
      " 'paradigms': ['V-tr', 'V-intr'],\n",
      " 'stem': ['ӄэргытԓяв', 'ӄэргытԓят'],\n",
      " 'trans_ru': '1) ослеплять глаза; 2) засиять'}\n",
      "2\n",
      "{'gramm': 'V',\n",
      " 'lex': 'ԓеԓгыттъэтык',\n",
      " 'paradigms': ['V-tr', 'V-intr'],\n",
      " 'stem': ['ԓеԓгыттъэт', 'ԓеԓгытриԓ'],\n",
      " 'trans_ru': 'метать икру'}\n",
      "2\n",
      "{'gramm': 'V',\n",
      " 'lex': 'маравчетык',\n",
      " 'paradigms': ['V-tr', 'V-intr'],\n",
      " 'stem': ['маравчет', 'марав'],\n",
      " 'trans_ru': '1) воевать; 2) ссориться; 3) ругаться'}\n",
      "2\n",
      "{'gramm': 'V',\n",
      " 'lex': 'мыӈэпчитык',\n",
      " 'paradigms': ['V-tr', 'V-intr'],\n",
      " 'stem': ['м%{ы%}ӈэпчит', 'м%{ы%}ӈэпэт'],\n",
      " 'trans_ru': 'шутить'}\n",
      "2\n",
      "{'gramm': 'V',\n",
      " 'lex': 'нъэԓнычек',\n",
      " 'paradigms': ['V-tr', 'V-intr'],\n",
      " 'stem': ['нъэԓныче', 'нъэԓчыче'],\n",
      " 'trans_ru': 'становиться (кем-л., чем-л.) постепенно'}\n",
      "2\n",
      "{'gramm': 'V',\n",
      " 'lex': 'ӈыԓгыԓятык',\n",
      " 'paradigms': ['V-tr', 'V-intr'],\n",
      " 'stem': ['ӈыԓгыԓят', 'ӈыԓят'],\n",
      " 'trans_ru': 'дымить'}\n",
      "2\n",
      "{'gramm': 'V',\n",
      " 'lex': 'орватык',\n",
      " 'paradigms': ['V-tr', 'V-intr'],\n",
      " 'stem': ['орват', 'оттырват'],\n",
      " 'trans_ru': 'колоть дрова, лучинку'}\n",
      "2\n"
     ]
    }
   ],
   "source": [
    "for i in still_not[50:70]:\n",
    "    pprint(i)\n",
    "    print(len(set(i['stem'])))"
   ]
  },
  {
   "cell_type": "code",
   "execution_count": 16,
   "metadata": {
    "collapsed": false
   },
   "outputs": [],
   "source": [
    "to_write = []\n",
    "for i in twos+undefined+undef_twos:\n",
    "    x = chunks[i]\n",
    "    for i in range(len(x['stem'])):\n",
    "        to_write.append('{}:{} V ;    ! {}'.format(x['lex'], x['stem'][i], x['trans_ru']))"
   ]
  },
  {
   "cell_type": "code",
   "execution_count": 17,
   "metadata": {
    "collapsed": true
   },
   "outputs": [],
   "source": [
    "with open(os.path.join('..', folder, 'verbu.lexc'), 'a') as f:\n",
    "    f.write('\\n'.join(to_write))"
   ]
  },
  {
   "cell_type": "code",
   "execution_count": null,
   "metadata": {
    "collapsed": true
   },
   "outputs": [],
   "source": []
  }
 ],
 "metadata": {
  "anaconda-cloud": {},
  "kernelspec": {
   "display_name": "Python [conda root]",
   "language": "python",
   "name": "conda-root-py"
  },
  "language_info": {
   "codemirror_mode": {
    "name": "ipython",
    "version": 3
   },
   "file_extension": ".py",
   "mimetype": "text/x-python",
   "name": "python",
   "nbconvert_exporter": "python",
   "pygments_lexer": "ipython3",
   "version": "3.5.2"
  }
 },
 "nbformat": 4,
 "nbformat_minor": 1
}
